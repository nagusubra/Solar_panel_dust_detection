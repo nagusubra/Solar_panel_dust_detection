{
  "cells": [
    {
      "cell_type": "markdown",
      "metadata": {
        "id": "view-in-github",
        "colab_type": "text"
      },
      "source": [
        "<a href=\"https://colab.research.google.com/github/nagusubra/Solar_panel_dust_detection/blob/main/Final_report.ipynb\" target=\"_parent\"><img src=\"https://colab.research.google.com/assets/colab-badge.svg\" alt=\"Open In Colab\"/></a>"
      ]
    },
    {
      "cell_type": "markdown",
      "metadata": {
        "id": "SQAMdUOp9lRn"
      },
      "source": [
        "#Install libraries and modules"
      ]
    },
    {
      "cell_type": "code",
      "execution_count": null,
      "metadata": {
        "colab": {
          "base_uri": "https://localhost:8080/"
        },
        "id": "PLxJiY6u9Zh0",
        "outputId": "5932cf1d-0e44-48af-c55c-c13a33d55744"
      },
      "outputs": [
        {
          "output_type": "stream",
          "name": "stdout",
          "text": [
            "\u001b[2K     \u001b[90m━━━━━━━━━━━━━━━━━━━━━━━━━━━━━━━━━━━━━━\u001b[0m \u001b[32m240.6/240.6 kB\u001b[0m \u001b[31m11.9 MB/s\u001b[0m eta \u001b[36m0:00:00\u001b[0m\n",
            "\u001b[2K     \u001b[90m━━━━━━━━━━━━━━━━━━━━━━━━━━━━━━━━━━━━━━━━\u001b[0m \u001b[32m17.3/17.3 MB\u001b[0m \u001b[31m46.5 MB/s\u001b[0m eta \u001b[36m0:00:00\u001b[0m\n",
            "\u001b[?25h\u001b[31mERROR: pip's dependency resolver does not currently take into account all the packages that are installed. This behaviour is the source of the following dependency conflicts.\n",
            "tensorflow 2.12.0 requires numpy<1.24,>=1.22, but you have numpy 1.24.2 which is incompatible.\n",
            "numba 0.56.4 requires numpy<1.24,>=1.18, but you have numpy 1.24.2 which is incompatible.\u001b[0m\u001b[31m\n",
            "\u001b[0mLooking in indexes: https://pypi.org/simple, https://us-python.pkg.dev/colab-wheels/public/simple/\n",
            "Requirement already satisfied: openpyxl in /usr/local/lib/python3.9/dist-packages (3.0.10)\n",
            "Requirement already satisfied: et-xmlfile in /usr/local/lib/python3.9/dist-packages (from openpyxl) (1.1.0)\n",
            "Looking in indexes: https://pypi.org/simple, https://us-python.pkg.dev/colab-wheels/public/simple/\n",
            "Collecting xlsxwriter\n",
            "  Downloading XlsxWriter-3.1.0-py3-none-any.whl (152 kB)\n",
            "\u001b[2K     \u001b[90m━━━━━━━━━━━━━━━━━━━━━━━━━━━━━━━━━━━━━━\u001b[0m \u001b[32m152.7/152.7 kB\u001b[0m \u001b[31m10.6 MB/s\u001b[0m eta \u001b[36m0:00:00\u001b[0m\n",
            "\u001b[?25hInstalling collected packages: xlsxwriter\n",
            "Successfully installed xlsxwriter-3.1.0\n"
          ]
        }
      ],
      "source": [
        "!pip install -q tensorflow-model-optimization\n",
        "!pip install openpyxl\n",
        "!pip install xlsxwriter\n",
        "\n",
        "import xlsxwriter\n",
        "import openpyxl\n",
        "from openpyxl import Workbook\n",
        "from openpyxl.drawing.image import Image\n",
        "\n",
        "import tempfile\n",
        "from tensorflow import keras\n",
        "import tensorflow_model_optimization as tfmot\n",
        "\n",
        "from tqdm import tqdm_notebook as tqdm\n",
        "import os\n",
        "import time\n",
        "import pickle\n",
        "from matplotlib import pyplot as plt\n",
        "import numpy as np\n",
        "import pandas as pd\n",
        "import tensorflow as tf\n",
        "from tensorflow.keras import datasets, layers, models\n",
        "import matplotlib.pyplot as plt"
      ]
    },
    {
      "cell_type": "code",
      "execution_count": null,
      "metadata": {
        "id": "qeqtoyTCppFF"
      },
      "outputs": [],
      "source": [
        "import tensorflow as tf\n",
        "from tensorflow.keras.models import Model, load_model\n",
        "from tensorflow.keras.layers import Input, Conv2D, MaxPooling2D, Dense, Flatten, BatchNormalization, Dropout\n",
        "from tensorflow.keras.preprocessing import image_dataset_from_directory\n",
        "from tensorflow.keras.optimizers import Adam, SGD\n",
        "from tensorflow.keras.utils import plot_model\n",
        "from tensorflow.keras.losses import binary_crossentropy\n",
        "import tensorflow_datasets as tfds\n",
        "import zipfile"
      ]
    },
    {
      "cell_type": "code",
      "execution_count": null,
      "metadata": {
        "colab": {
          "base_uri": "https://localhost:8080/"
        },
        "id": "-WVnbwh-9x2l",
        "outputId": "ba8f2198-f279-45ce-e270-5789e4d15ff8"
      },
      "outputs": [
        {
          "output_type": "stream",
          "name": "stdout",
          "text": [
            "Mounted at /content/drive\n"
          ]
        }
      ],
      "source": [
        "# mounting google drive (if you are using Colab)\n",
        "from google.colab import drive\n",
        "drive.mount('/content/drive')"
      ]
    },
    {
      "cell_type": "markdown",
      "metadata": {
        "id": "YjpFrB77S6QU"
      },
      "source": [
        "# Evaluation functions"
      ]
    },
    {
      "cell_type": "code",
      "execution_count": null,
      "metadata": {
        "id": "oB55zL05S_Oe"
      },
      "outputs": [],
      "source": [
        "# Evaluate Model Size\n",
        "def get_gzipped_model_size(file):\n",
        "  # Returns size of gzipped model, in bytes.\n",
        "\n",
        "  _, zipped_file = tempfile.mkstemp('.zip')\n",
        "  with zipfile.ZipFile(zipped_file, 'w', compression=zipfile.ZIP_DEFLATED) as f:\n",
        "    f.write(file)\n",
        "  return os.path.getsize(zipped_file)\n",
        "\n",
        "\n",
        "def evaluate_model(model_path, model_info, val_dataset):\n",
        "\n",
        "  # Evaluate test accuracy and test loss\n",
        "  model = tf.keras.models.load_model(model_path)\n",
        "  test_loss, test_acc = model.evaluate(val_dataset, verbose=0)\n",
        "\n",
        "  # Evaluate Model Size\n",
        "  model_size = get_gzipped_model_size(model_path)\n",
        "\n",
        "  # Evaluate Inference Time\n",
        "  startTime = time.time()\n",
        "  prediction = model.predict(val_dataset)\n",
        "  executionTime = (time.time() - startTime)/len(val_dataset)\n",
        "\n",
        "  # Print\n",
        "  print('\\nModel Accuracy:', test_acc*100, '%')\n",
        "  print(\"Model Size: %.2f bytes\" % (model_size))\n",
        "  print(\"Inference Time is: \", executionTime, \"s\")\n",
        "\n",
        "  # Build Evalution dataframe\n",
        "  evulation_dict = {\n",
        "                      \"Evaluation type\": \"Evualation\",\n",
        "                      \"Model Information\": model_info,\n",
        "                      \"Accuracy\": str(test_acc*100) + \" %\",\n",
        "                      \"Loss\": str(test_loss*100) + \" %\",\n",
        "                      \"Model Size\": str(model_size) + \" bytes\",\n",
        "                      \"Inference Time\": str(executionTime) + \" sec\"\n",
        "                    }\n",
        "  \n",
        "  evulation_df = pd.DataFrame.from_dict(evulation_dict, orient='index').reset_index()\n",
        "\n",
        "\n",
        "  return test_acc, model_size, executionTime, evulation_df\n",
        "\n",
        "# function built for model evaluation\n",
        "def evaluate_model_without_saving_stats(model, model_path, model_info, val_dataset):\n",
        "\n",
        "  # Evaluate test accuracy and test loss\n",
        "  # model = tf.keras.models.load_model(model_path)\n",
        "  test_loss, test_acc = model.evaluate(val_dataset, verbose=0)\n",
        "\n",
        "  # Evaluate Model Size\n",
        "  model_size = get_gzipped_model_size(model_path)\n",
        "\n",
        "  # Evaluate Inference Time\n",
        "  startTime = time.time()\n",
        "  prediction = model.predict(val_dataset)\n",
        "  executionTime = (time.time() - startTime)/len(val_dataset)\n",
        "\n",
        "  # Print\n",
        "  print('\\nModel Accuracy:', test_acc*100, '%')\n",
        "  print(\"Model Size: %.2f bytes\" % (model_size))\n",
        "  print(\"Inference Time is: \", executionTime, \"s\")\n",
        "\n",
        "  # Build Evalution dataframe for better view of the metrics\n",
        "  evulation_dict = {\n",
        "                      \"Evaluation type\": \"Evualation\",\n",
        "                      \"Model Information\": model_info,\n",
        "                      \"Accuracy\": str(test_acc*100) + \" %\",\n",
        "                      \"Loss\": str(test_loss*100) + \" %\",\n",
        "                      \"Model Size\": str(float(model_size)/10**6) + \" Mega bytes\", # we want mega bytes\n",
        "                      \"Inference Time\": str(executionTime) + \" sec\"\n",
        "                    }\n",
        "  \n",
        "  evulation_df = pd.DataFrame.from_dict(evulation_dict, orient='index').reset_index()\n",
        "\n",
        "\n",
        "  return test_acc, model_size, executionTime, evulation_df\n",
        "\n",
        "# research paper's evaluation function\n",
        "def evaluate_research_paper_with_model_path(model_path):\n",
        "  # model_path = \"/content/models/solnet.hdf5\"\n",
        "  solnet = load_model(model_path, compile=False)\n",
        "  history = solnet.history()\n",
        "  plt.plot(history.history['loss'])\n",
        "  plt.plot(history.history['acc'])\n",
        "  plt.title('acc loss vs epoch')\n",
        "  plt.xlabel('epoch')\n",
        "  plt.legend(['loss', 'acc'], loc='upper left')\n",
        "  plt.show()\n",
        "\n",
        "# research paper's evaluation function\n",
        "def evaluate_research_paper_with_model(model):\n",
        "  history = model.history()\n",
        "  plt.plot(history.history['loss'])\n",
        "  plt.plot(history.history['acc'])\n",
        "  plt.title('acc loss vs epoch')\n",
        "  plt.xlabel('epoch')\n",
        "  plt.legend(['loss', 'acc'], loc='upper left')\n",
        "  plt.show()"
      ]
    },
    {
      "cell_type": "code",
      "source": [
        "# defining the iterative prunining function to be used for model compression\n",
        "def iterative_pruning(model, initial_sparsity, final_sparsity, begin_step, end_step, tdata_loader,vdata_loader, epochs):\n",
        "  prune_low_magnitude = tfmot.sparsity.keras.prune_low_magnitude\n",
        "\n",
        "  # Define model for pruning.\n",
        "  pruning_params = {\n",
        "      'pruning_schedule': tfmot.sparsity.keras.PolynomialDecay(initial_sparsity=initial_sparsity,\n",
        "          final_sparsity=final_sparsity, begin_step=begin_step, end_step=end_step, frequency=100)\n",
        "  }\n",
        "\n",
        "  pruned_model = prune_low_magnitude(model, **pruning_params)\n",
        "\n",
        "  # `prune_low_magnitude` requires a recompile.\n",
        "  optimizer = tf.keras.optimizers.Adam(learning_rate=1e-5)\n",
        "  pruned_model.compile(optimizer='adam',\n",
        "      loss=binary_crossentropy,\n",
        "      metrics=['accuracy'])\n",
        "\n",
        "  callbacks = [\n",
        "      tfmot.sparsity.keras.UpdatePruningStep(),\n",
        "  ]\n",
        "\n",
        "  pruned_model.fit(tdata_loader, epochs=epochs, validation_data=vdata_loader, callbacks=callbacks)\n",
        "\n",
        "  # Strip pruning wrappers\n",
        "  stripped_pruned_model = tfmot.sparsity.keras.strip_pruning(pruned_model)\n",
        "\n",
        "  return pruned_model, stripped_pruned_model"
      ],
      "metadata": {
        "id": "chNX2fP2qZe7"
      },
      "execution_count": null,
      "outputs": []
    },
    {
      "cell_type": "code",
      "source": [
        "# function to verify the sparsity level for a given model\n",
        "def print_model_weights_sparsity(model):\n",
        "\n",
        "    for layer in model.layers:\n",
        "        if isinstance(layer, tf.keras.layers.Wrapper):\n",
        "            weights = layer.trainable_weights\n",
        "        else:\n",
        "            weights = layer.weights\n",
        "        for weight in weights:\n",
        "            if \"kernel\" not in weight.name or \"centroid\" in weight.name:\n",
        "                continue\n",
        "            weight_size = weight.numpy().size\n",
        "            zero_num = np.count_nonzero(weight == 0)\n",
        "            print(\n",
        "                f\"{weight.name}: {zero_num/weight_size:.2%} sparsity \",\n",
        "                f\"({zero_num}/{weight_size})\",\n",
        "            )"
      ],
      "metadata": {
        "id": "SCpeLVkCksEu"
      },
      "execution_count": null,
      "outputs": []
    },
    {
      "cell_type": "markdown",
      "source": [
        "# Load data\n",
        "\n",
        "The Solar panel image dataset used for the project is acquired from the research paper​​. These images were taken manually with cameras from various solar farms in Bangladesh, captured by different cameras in various sizes. This dataset was linked in the paper to a public Google Drive folder and includes 1440 solar panel images, approximately 50% of which are dirty and clean. The dataset is labeled as “clean” and “dirty” providing a binary classification. The dataset contains 718 images of dirty solar panels and 722 images of clean solar panels, providing an equal distribution for the model training. To standardize the dataset the images are taken in random sizes and augmented to a uniform dimension of [227,227,3]​. "
      ],
      "metadata": {
        "id": "-X_8C-1ukM7P"
      }
    },
    {
      "cell_type": "code",
      "source": [
        "batch_size = 32\n",
        "#location = 'dataset/'\n",
        "location = \"/content/drive/MyDrive/Solar_panel_dust_detection/dataset_1\"\n",
        "label_mode = 'binary'\n",
        "seed = 10 #changed for each fold made manually\n",
        "\n",
        "class_names = ['clean', 'dirty']\n",
        "in_size = [227, 227, 3]\n",
        "\n",
        "tr_dataset = image_dataset_from_directory(directory=location, label_mode= label_mode, class_names=class_names,\n",
        "                                          seed=seed, labels='inferred', image_size=in_size[:-1], \n",
        "                                          subset = 'training', batch_size=batch_size, validation_split=.2)\n",
        "\n",
        "val_dataset = image_dataset_from_directory(directory=location, label_mode= label_mode, class_names=class_names,\n",
        "                                          seed=seed, labels='inferred', image_size=in_size[:-1],\n",
        "                                          subset = 'validation', batch_size=batch_size, validation_split=.2)"
      ],
      "metadata": {
        "colab": {
          "base_uri": "https://localhost:8080/"
        },
        "id": "P5QDb8c7kQxu",
        "outputId": "ed033879-251c-4c50-a7d7-379efe730193"
      },
      "execution_count": null,
      "outputs": [
        {
          "output_type": "stream",
          "name": "stdout",
          "text": [
            "Found 1440 files belonging to 2 classes.\n",
            "Using 1152 files for training.\n",
            "Found 1440 files belonging to 2 classes.\n",
            "Using 288 files for validation.\n"
          ]
        }
      ]
    },
    {
      "cell_type": "markdown",
      "source": [
        "# Load research paper model and Evaluate\n",
        "\n",
        "Since we are restrained by compute units, we had previously trained the research paper model in a seperate script and saved the model. For simplicity and project reporting purpose we are loading the model instead of training it in this notebook."
      ],
      "metadata": {
        "id": "qJBg6KR0A3D8"
      }
    },
    {
      "cell_type": "code",
      "source": [
        "research_paper_model_path = '/content/drive/MyDrive/Solar_panel_dust_detection/final_base_model/research_paper_model.h5'\n",
        "research_paper_model = tf.keras.models.load_model(research_paper_model_path)"
      ],
      "metadata": {
        "id": "jpfJ9qHJA2aG"
      },
      "execution_count": null,
      "outputs": []
    },
    {
      "cell_type": "code",
      "source": [
        "research_model_test_acc, research_model_model_size, research_model_executionTime, research_model_evulation_df = evaluate_model_without_saving_stats(research_paper_model, research_paper_model_path, \"#0\", val_dataset)"
      ],
      "metadata": {
        "id": "H3wpycEIBJYL",
        "colab": {
          "base_uri": "https://localhost:8080/"
        },
        "outputId": "1c394084-86bb-451d-8d67-8c175dd54ee4"
      },
      "execution_count": null,
      "outputs": [
        {
          "output_type": "stream",
          "name": "stdout",
          "text": [
            "9/9 [==============================] - 24s 38ms/step\n",
            "\n",
            "Model Accuracy: 52.77777910232544 %\n",
            "Model Size: 212498787.00 bytes\n",
            "Inference Time is:  2.640246311823527 s\n"
          ]
        }
      ]
    },
    {
      "cell_type": "code",
      "source": [
        "research_model_evulation_df"
      ],
      "metadata": {
        "id": "E3yGMF-DBKkT",
        "colab": {
          "base_uri": "https://localhost:8080/",
          "height": 237
        },
        "outputId": "65bd4213-ccf1-4a4e-f6e9-f115b491233a"
      },
      "execution_count": null,
      "outputs": [
        {
          "output_type": "execute_result",
          "data": {
            "text/plain": [
              "               index                      0\n",
              "0    Evaluation type             Evualation\n",
              "1  Model Information                     #0\n",
              "2           Accuracy    52.77777910232544 %\n",
              "3               Loss   1045.3117370605469 %\n",
              "4         Model Size  212.498787 Mega bytes\n",
              "5     Inference Time  2.640246311823527 sec"
            ],
            "text/html": [
              "\n",
              "  <div id=\"df-b20f9e98-2ce2-4c7a-a3a4-7e005b3dbda3\">\n",
              "    <div class=\"colab-df-container\">\n",
              "      <div>\n",
              "<style scoped>\n",
              "    .dataframe tbody tr th:only-of-type {\n",
              "        vertical-align: middle;\n",
              "    }\n",
              "\n",
              "    .dataframe tbody tr th {\n",
              "        vertical-align: top;\n",
              "    }\n",
              "\n",
              "    .dataframe thead th {\n",
              "        text-align: right;\n",
              "    }\n",
              "</style>\n",
              "<table border=\"1\" class=\"dataframe\">\n",
              "  <thead>\n",
              "    <tr style=\"text-align: right;\">\n",
              "      <th></th>\n",
              "      <th>index</th>\n",
              "      <th>0</th>\n",
              "    </tr>\n",
              "  </thead>\n",
              "  <tbody>\n",
              "    <tr>\n",
              "      <th>0</th>\n",
              "      <td>Evaluation type</td>\n",
              "      <td>Evualation</td>\n",
              "    </tr>\n",
              "    <tr>\n",
              "      <th>1</th>\n",
              "      <td>Model Information</td>\n",
              "      <td>#0</td>\n",
              "    </tr>\n",
              "    <tr>\n",
              "      <th>2</th>\n",
              "      <td>Accuracy</td>\n",
              "      <td>52.77777910232544 %</td>\n",
              "    </tr>\n",
              "    <tr>\n",
              "      <th>3</th>\n",
              "      <td>Loss</td>\n",
              "      <td>1045.3117370605469 %</td>\n",
              "    </tr>\n",
              "    <tr>\n",
              "      <th>4</th>\n",
              "      <td>Model Size</td>\n",
              "      <td>212.498787 Mega bytes</td>\n",
              "    </tr>\n",
              "    <tr>\n",
              "      <th>5</th>\n",
              "      <td>Inference Time</td>\n",
              "      <td>2.640246311823527 sec</td>\n",
              "    </tr>\n",
              "  </tbody>\n",
              "</table>\n",
              "</div>\n",
              "      <button class=\"colab-df-convert\" onclick=\"convertToInteractive('df-b20f9e98-2ce2-4c7a-a3a4-7e005b3dbda3')\"\n",
              "              title=\"Convert this dataframe to an interactive table.\"\n",
              "              style=\"display:none;\">\n",
              "        \n",
              "  <svg xmlns=\"http://www.w3.org/2000/svg\" height=\"24px\"viewBox=\"0 0 24 24\"\n",
              "       width=\"24px\">\n",
              "    <path d=\"M0 0h24v24H0V0z\" fill=\"none\"/>\n",
              "    <path d=\"M18.56 5.44l.94 2.06.94-2.06 2.06-.94-2.06-.94-.94-2.06-.94 2.06-2.06.94zm-11 1L8.5 8.5l.94-2.06 2.06-.94-2.06-.94L8.5 2.5l-.94 2.06-2.06.94zm10 10l.94 2.06.94-2.06 2.06-.94-2.06-.94-.94-2.06-.94 2.06-2.06.94z\"/><path d=\"M17.41 7.96l-1.37-1.37c-.4-.4-.92-.59-1.43-.59-.52 0-1.04.2-1.43.59L10.3 9.45l-7.72 7.72c-.78.78-.78 2.05 0 2.83L4 21.41c.39.39.9.59 1.41.59.51 0 1.02-.2 1.41-.59l7.78-7.78 2.81-2.81c.8-.78.8-2.07 0-2.86zM5.41 20L4 18.59l7.72-7.72 1.47 1.35L5.41 20z\"/>\n",
              "  </svg>\n",
              "      </button>\n",
              "      \n",
              "  <style>\n",
              "    .colab-df-container {\n",
              "      display:flex;\n",
              "      flex-wrap:wrap;\n",
              "      gap: 12px;\n",
              "    }\n",
              "\n",
              "    .colab-df-convert {\n",
              "      background-color: #E8F0FE;\n",
              "      border: none;\n",
              "      border-radius: 50%;\n",
              "      cursor: pointer;\n",
              "      display: none;\n",
              "      fill: #1967D2;\n",
              "      height: 32px;\n",
              "      padding: 0 0 0 0;\n",
              "      width: 32px;\n",
              "    }\n",
              "\n",
              "    .colab-df-convert:hover {\n",
              "      background-color: #E2EBFA;\n",
              "      box-shadow: 0px 1px 2px rgba(60, 64, 67, 0.3), 0px 1px 3px 1px rgba(60, 64, 67, 0.15);\n",
              "      fill: #174EA6;\n",
              "    }\n",
              "\n",
              "    [theme=dark] .colab-df-convert {\n",
              "      background-color: #3B4455;\n",
              "      fill: #D2E3FC;\n",
              "    }\n",
              "\n",
              "    [theme=dark] .colab-df-convert:hover {\n",
              "      background-color: #434B5C;\n",
              "      box-shadow: 0px 1px 3px 1px rgba(0, 0, 0, 0.15);\n",
              "      filter: drop-shadow(0px 1px 2px rgba(0, 0, 0, 0.3));\n",
              "      fill: #FFFFFF;\n",
              "    }\n",
              "  </style>\n",
              "\n",
              "      <script>\n",
              "        const buttonEl =\n",
              "          document.querySelector('#df-b20f9e98-2ce2-4c7a-a3a4-7e005b3dbda3 button.colab-df-convert');\n",
              "        buttonEl.style.display =\n",
              "          google.colab.kernel.accessAllowed ? 'block' : 'none';\n",
              "\n",
              "        async function convertToInteractive(key) {\n",
              "          const element = document.querySelector('#df-b20f9e98-2ce2-4c7a-a3a4-7e005b3dbda3');\n",
              "          const dataTable =\n",
              "            await google.colab.kernel.invokeFunction('convertToInteractive',\n",
              "                                                     [key], {});\n",
              "          if (!dataTable) return;\n",
              "\n",
              "          const docLinkHtml = 'Like what you see? Visit the ' +\n",
              "            '<a target=\"_blank\" href=https://colab.research.google.com/notebooks/data_table.ipynb>data table notebook</a>'\n",
              "            + ' to learn more about interactive tables.';\n",
              "          element.innerHTML = '';\n",
              "          dataTable['output_type'] = 'display_data';\n",
              "          await google.colab.output.renderOutput(dataTable, element);\n",
              "          const docLink = document.createElement('div');\n",
              "          docLink.innerHTML = docLinkHtml;\n",
              "          element.appendChild(docLink);\n",
              "        }\n",
              "      </script>\n",
              "    </div>\n",
              "  </div>\n",
              "  "
            ]
          },
          "metadata": {},
          "execution_count": 16
        }
      ]
    },
    {
      "cell_type": "markdown",
      "source": [
        "### Observation\n",
        "\n",
        "The reasearch paper model is ineffective with an accuracy of 53%, loss of 1045%, and inference time of 2.7 seconds. Fine-tuning was necessary to achieve improved results before compressing the model, since model compressions could on a bad performing model might worsen the final model performance. Trade-offs would need to be made, such as reducing accuracy to decrease the model size. Once appropriate metrics were achieved, we would report our findings and results."
      ],
      "metadata": {
        "id": "4QwQxfZVyDUo"
      }
    },
    {
      "cell_type": "markdown",
      "source": [
        "# Load base model and Evaluate\n",
        "\n",
        "Since we are restrained by compute units, we had previously trained the base model in a seperate script and saved the model. We have a seperate script to try various hyperparameter optmizations. For simplicity and project reporting purpose we are loading the model instead of training it in this notebook.\n",
        "\n",
        "\n",
        "As discussed, measuring the base SolNet model against our evaluation metrics produced inadequate results. Therefore, our first implementation step is to fine tune the model to produce better results. \n",
        "\n",
        "We focused on modifying the hyperparameters of the model and training process than changing the core architecture of SolNet itself. The rationale for this decision is due to the constrained limitations of the compute resources we possess and the time constraints due to academic commitments. We approached this problem through an iterative trial and error approach. By iterating through configurations of hyperparameters and recording suitable performance metrics, we were able to fine-tune the model without changing its core architecture. \n",
        "\n",
        "We lowered the learning rate to 0.00001 which is a 10x decrease from the research paper model.  As well as increasing the epoch count from 30 epochs to 40 epochs which is fitting for the lower learning rate.  We maintained the batch and image size as it did not provide better performance. Another modification we made was removing the beta parameters from the Adam optimizer of the model. These resulted in improved performance."
      ],
      "metadata": {
        "id": "LSh8r6pSvbTb"
      }
    },
    {
      "cell_type": "code",
      "source": [
        "base_model_path = '/content/drive/MyDrive/Solar_panel_dust_detection/final_base_model/final_base_model_2.h5'\n",
        "base_model = tf.keras.models.load_model(base_model_path)"
      ],
      "metadata": {
        "id": "PxxCx3C9vetW"
      },
      "execution_count": null,
      "outputs": []
    },
    {
      "cell_type": "code",
      "source": [
        "base_model_test_acc, base_model_model_size, base_model_executionTime, base_model_evulation_df = evaluate_model_without_saving_stats(base_model, base_model_path, \"#0\", val_dataset)"
      ],
      "metadata": {
        "id": "aV4ptHfowaOW",
        "colab": {
          "base_uri": "https://localhost:8080/"
        },
        "outputId": "c776e838-0860-47c2-823b-0a286859d0c8"
      },
      "execution_count": null,
      "outputs": [
        {
          "output_type": "stream",
          "name": "stdout",
          "text": [
            "9/9 [==============================] - 26s 42ms/step\n",
            "\n",
            "Model Accuracy: 94.44444179534912 %\n",
            "Model Size: 645039747.00 bytes\n",
            "Inference Time is:  2.8471626705593533 s\n"
          ]
        }
      ]
    },
    {
      "cell_type": "code",
      "source": [
        " base_model_evulation_df"
      ],
      "metadata": {
        "id": "4fTy3GU83zDO",
        "colab": {
          "base_uri": "https://localhost:8080/",
          "height": 237
        },
        "outputId": "64df8c49-732e-4944-b59c-494a6c8d3c21"
      },
      "execution_count": null,
      "outputs": [
        {
          "output_type": "execute_result",
          "data": {
            "text/plain": [
              "               index                       0\n",
              "0    Evaluation type              Evualation\n",
              "1  Model Information                      #0\n",
              "2           Accuracy     94.44444179534912 %\n",
              "3               Loss    17.469173669815063 %\n",
              "4         Model Size   645.039747 Mega bytes\n",
              "5     Inference Time  2.8471626705593533 sec"
            ],
            "text/html": [
              "\n",
              "  <div id=\"df-00c97b0d-94a3-49d1-af46-2bd53869cb7a\">\n",
              "    <div class=\"colab-df-container\">\n",
              "      <div>\n",
              "<style scoped>\n",
              "    .dataframe tbody tr th:only-of-type {\n",
              "        vertical-align: middle;\n",
              "    }\n",
              "\n",
              "    .dataframe tbody tr th {\n",
              "        vertical-align: top;\n",
              "    }\n",
              "\n",
              "    .dataframe thead th {\n",
              "        text-align: right;\n",
              "    }\n",
              "</style>\n",
              "<table border=\"1\" class=\"dataframe\">\n",
              "  <thead>\n",
              "    <tr style=\"text-align: right;\">\n",
              "      <th></th>\n",
              "      <th>index</th>\n",
              "      <th>0</th>\n",
              "    </tr>\n",
              "  </thead>\n",
              "  <tbody>\n",
              "    <tr>\n",
              "      <th>0</th>\n",
              "      <td>Evaluation type</td>\n",
              "      <td>Evualation</td>\n",
              "    </tr>\n",
              "    <tr>\n",
              "      <th>1</th>\n",
              "      <td>Model Information</td>\n",
              "      <td>#0</td>\n",
              "    </tr>\n",
              "    <tr>\n",
              "      <th>2</th>\n",
              "      <td>Accuracy</td>\n",
              "      <td>94.44444179534912 %</td>\n",
              "    </tr>\n",
              "    <tr>\n",
              "      <th>3</th>\n",
              "      <td>Loss</td>\n",
              "      <td>17.469173669815063 %</td>\n",
              "    </tr>\n",
              "    <tr>\n",
              "      <th>4</th>\n",
              "      <td>Model Size</td>\n",
              "      <td>645.039747 Mega bytes</td>\n",
              "    </tr>\n",
              "    <tr>\n",
              "      <th>5</th>\n",
              "      <td>Inference Time</td>\n",
              "      <td>2.8471626705593533 sec</td>\n",
              "    </tr>\n",
              "  </tbody>\n",
              "</table>\n",
              "</div>\n",
              "      <button class=\"colab-df-convert\" onclick=\"convertToInteractive('df-00c97b0d-94a3-49d1-af46-2bd53869cb7a')\"\n",
              "              title=\"Convert this dataframe to an interactive table.\"\n",
              "              style=\"display:none;\">\n",
              "        \n",
              "  <svg xmlns=\"http://www.w3.org/2000/svg\" height=\"24px\"viewBox=\"0 0 24 24\"\n",
              "       width=\"24px\">\n",
              "    <path d=\"M0 0h24v24H0V0z\" fill=\"none\"/>\n",
              "    <path d=\"M18.56 5.44l.94 2.06.94-2.06 2.06-.94-2.06-.94-.94-2.06-.94 2.06-2.06.94zm-11 1L8.5 8.5l.94-2.06 2.06-.94-2.06-.94L8.5 2.5l-.94 2.06-2.06.94zm10 10l.94 2.06.94-2.06 2.06-.94-2.06-.94-.94-2.06-.94 2.06-2.06.94z\"/><path d=\"M17.41 7.96l-1.37-1.37c-.4-.4-.92-.59-1.43-.59-.52 0-1.04.2-1.43.59L10.3 9.45l-7.72 7.72c-.78.78-.78 2.05 0 2.83L4 21.41c.39.39.9.59 1.41.59.51 0 1.02-.2 1.41-.59l7.78-7.78 2.81-2.81c.8-.78.8-2.07 0-2.86zM5.41 20L4 18.59l7.72-7.72 1.47 1.35L5.41 20z\"/>\n",
              "  </svg>\n",
              "      </button>\n",
              "      \n",
              "  <style>\n",
              "    .colab-df-container {\n",
              "      display:flex;\n",
              "      flex-wrap:wrap;\n",
              "      gap: 12px;\n",
              "    }\n",
              "\n",
              "    .colab-df-convert {\n",
              "      background-color: #E8F0FE;\n",
              "      border: none;\n",
              "      border-radius: 50%;\n",
              "      cursor: pointer;\n",
              "      display: none;\n",
              "      fill: #1967D2;\n",
              "      height: 32px;\n",
              "      padding: 0 0 0 0;\n",
              "      width: 32px;\n",
              "    }\n",
              "\n",
              "    .colab-df-convert:hover {\n",
              "      background-color: #E2EBFA;\n",
              "      box-shadow: 0px 1px 2px rgba(60, 64, 67, 0.3), 0px 1px 3px 1px rgba(60, 64, 67, 0.15);\n",
              "      fill: #174EA6;\n",
              "    }\n",
              "\n",
              "    [theme=dark] .colab-df-convert {\n",
              "      background-color: #3B4455;\n",
              "      fill: #D2E3FC;\n",
              "    }\n",
              "\n",
              "    [theme=dark] .colab-df-convert:hover {\n",
              "      background-color: #434B5C;\n",
              "      box-shadow: 0px 1px 3px 1px rgba(0, 0, 0, 0.15);\n",
              "      filter: drop-shadow(0px 1px 2px rgba(0, 0, 0, 0.3));\n",
              "      fill: #FFFFFF;\n",
              "    }\n",
              "  </style>\n",
              "\n",
              "      <script>\n",
              "        const buttonEl =\n",
              "          document.querySelector('#df-00c97b0d-94a3-49d1-af46-2bd53869cb7a button.colab-df-convert');\n",
              "        buttonEl.style.display =\n",
              "          google.colab.kernel.accessAllowed ? 'block' : 'none';\n",
              "\n",
              "        async function convertToInteractive(key) {\n",
              "          const element = document.querySelector('#df-00c97b0d-94a3-49d1-af46-2bd53869cb7a');\n",
              "          const dataTable =\n",
              "            await google.colab.kernel.invokeFunction('convertToInteractive',\n",
              "                                                     [key], {});\n",
              "          if (!dataTable) return;\n",
              "\n",
              "          const docLinkHtml = 'Like what you see? Visit the ' +\n",
              "            '<a target=\"_blank\" href=https://colab.research.google.com/notebooks/data_table.ipynb>data table notebook</a>'\n",
              "            + ' to learn more about interactive tables.';\n",
              "          element.innerHTML = '';\n",
              "          dataTable['output_type'] = 'display_data';\n",
              "          await google.colab.output.renderOutput(dataTable, element);\n",
              "          const docLink = document.createElement('div');\n",
              "          docLink.innerHTML = docLinkHtml;\n",
              "          element.appendChild(docLink);\n",
              "        }\n",
              "      </script>\n",
              "    </div>\n",
              "  </div>\n",
              "  "
            ]
          },
          "metadata": {},
          "execution_count": 10
        }
      ]
    },
    {
      "cell_type": "markdown",
      "source": [
        "# Iteratively prune model and Evaluate\n",
        "\n"
      ],
      "metadata": {
        "id": "WXdUVrbKq93n"
      }
    },
    {
      "cell_type": "code",
      "source": [
        "# Iterative pruning calculations: \n",
        "# frquency = 100\n",
        "# target sparsity = 75%\n",
        "# sparisty for each pruning tep = 75%/100 = 0.75%\n",
        "# Total Number of Training Samples = 1440\n",
        "# batch size = 32\n",
        "# epochs = 25\n",
        "\n",
        "# possible start and end for the iterative pruning schedule\n",
        "# Number of learning steps = (1440/32)*25 = 1125 (110, 1010) -> chosen epoch of 25 epochs\n",
        "\n",
        "# iterative_pruning(\n",
        "                  #     model, \n",
        "                  #     initial_sparsity = 0, \n",
        "                  #     final_sparsity   = 0.75, \n",
        "                  #     begin_step       = 0, 110  (~10% of 1440) # pruning early on the pruning schedule to get optimal model size\n",
        "                  #     end_step         = ?, 1010 (~90% of 1440) # pruning only till 90% so that model can still have enough leanring steps to learn and build networks for the data\n",
        "                  #     train_images, \n",
        "                  #     train_labels, \n",
        "                  #     epochs           = 25\n",
        "                  # )\n",
        "\n",
        "iteratively_pruned_model, iteratively_pruned_stripped_model = iterative_pruning(base_model, 0, 0.75, 110, 1010, tr_dataset, val_dataset, 25)"
      ],
      "metadata": {
        "colab": {
          "base_uri": "https://localhost:8080/"
        },
        "id": "TKrwkMAvq9Ka",
        "outputId": "35a55031-1567-4b21-f86a-f292f88c8d63"
      },
      "execution_count": null,
      "outputs": [
        {
          "output_type": "stream",
          "name": "stdout",
          "text": [
            "Epoch 1/25\n",
            "36/36 [==============================] - 179s 4s/step - loss: 11.0862 - accuracy: 0.7040 - val_loss: 3309.9558 - val_accuracy: 0.4722\n",
            "Epoch 2/25\n",
            "36/36 [==============================] - 120s 3s/step - loss: 3.2252 - accuracy: 0.7656 - val_loss: 365.0758 - val_accuracy: 0.4722\n",
            "Epoch 3/25\n",
            "36/36 [==============================] - 120s 3s/step - loss: 1.5562 - accuracy: 0.8359 - val_loss: 18.5284 - val_accuracy: 0.4236\n",
            "Epoch 4/25\n",
            "36/36 [==============================] - 122s 3s/step - loss: 1.1703 - accuracy: 0.8325 - val_loss: 12.0849 - val_accuracy: 0.6215\n",
            "Epoch 5/25\n",
            "36/36 [==============================] - 121s 3s/step - loss: 0.8665 - accuracy: 0.8594 - val_loss: 47.0867 - val_accuracy: 0.5556\n",
            "Epoch 6/25\n",
            "36/36 [==============================] - 122s 3s/step - loss: 0.7667 - accuracy: 0.8325 - val_loss: 1.6513 - val_accuracy: 0.5972\n",
            "Epoch 7/25\n",
            "36/36 [==============================] - 121s 3s/step - loss: 0.4741 - accuracy: 0.8628 - val_loss: 0.9617 - val_accuracy: 0.8958\n",
            "Epoch 8/25\n",
            "36/36 [==============================] - 123s 3s/step - loss: 0.5804 - accuracy: 0.8941 - val_loss: 1.1619 - val_accuracy: 0.6076\n",
            "Epoch 9/25\n",
            "36/36 [==============================] - 138s 3s/step - loss: 0.3503 - accuracy: 0.8976 - val_loss: 0.6845 - val_accuracy: 0.8368\n",
            "Epoch 10/25\n",
            "36/36 [==============================] - 120s 3s/step - loss: 0.4505 - accuracy: 0.8941 - val_loss: 1.3698 - val_accuracy: 0.5486\n",
            "Epoch 11/25\n",
            "36/36 [==============================] - 124s 3s/step - loss: 0.2520 - accuracy: 0.9184 - val_loss: 1.2957 - val_accuracy: 0.5903\n",
            "Epoch 12/25\n",
            "36/36 [==============================] - 123s 3s/step - loss: 0.3304 - accuracy: 0.9097 - val_loss: 0.4353 - val_accuracy: 0.8438\n",
            "Epoch 13/25\n",
            "36/36 [==============================] - 122s 3s/step - loss: 0.1756 - accuracy: 0.9401 - val_loss: 0.8900 - val_accuracy: 0.6667\n",
            "Epoch 14/25\n",
            "36/36 [==============================] - 122s 3s/step - loss: 0.2181 - accuracy: 0.9323 - val_loss: 0.3841 - val_accuracy: 0.8715\n",
            "Epoch 15/25\n",
            "36/36 [==============================] - 122s 3s/step - loss: 0.1903 - accuracy: 0.9288 - val_loss: 0.7584 - val_accuracy: 0.7014\n",
            "Epoch 16/25\n",
            "36/36 [==============================] - 125s 3s/step - loss: 0.1527 - accuracy: 0.9418 - val_loss: 0.5579 - val_accuracy: 0.8611\n",
            "Epoch 17/25\n",
            "36/36 [==============================] - 122s 3s/step - loss: 0.1115 - accuracy: 0.9583 - val_loss: 0.7858 - val_accuracy: 0.7257\n",
            "Epoch 18/25\n",
            "36/36 [==============================] - 122s 3s/step - loss: 0.1388 - accuracy: 0.9488 - val_loss: 0.4581 - val_accuracy: 0.8125\n",
            "Epoch 19/25\n",
            "36/36 [==============================] - 123s 3s/step - loss: 0.0803 - accuracy: 0.9731 - val_loss: 0.1807 - val_accuracy: 0.9583\n",
            "Epoch 20/25\n",
            "36/36 [==============================] - 122s 3s/step - loss: 0.1416 - accuracy: 0.9549 - val_loss: 0.2059 - val_accuracy: 0.9132\n",
            "Epoch 21/25\n",
            "36/36 [==============================] - 125s 3s/step - loss: 0.0997 - accuracy: 0.9661 - val_loss: 0.0994 - val_accuracy: 0.9618\n",
            "Epoch 22/25\n",
            "36/36 [==============================] - 137s 3s/step - loss: 0.0966 - accuracy: 0.9635 - val_loss: 1.6451 - val_accuracy: 0.6910\n",
            "Epoch 23/25\n",
            "36/36 [==============================] - 123s 3s/step - loss: 0.0803 - accuracy: 0.9792 - val_loss: 0.1737 - val_accuracy: 0.9410\n",
            "Epoch 24/25\n",
            "36/36 [==============================] - 141s 3s/step - loss: 0.0526 - accuracy: 0.9809 - val_loss: 0.1102 - val_accuracy: 0.9757\n",
            "Epoch 25/25\n",
            "36/36 [==============================] - 123s 3s/step - loss: 0.0342 - accuracy: 0.9905 - val_loss: 0.0921 - val_accuracy: 0.9688\n"
          ]
        }
      ]
    },
    {
      "cell_type": "code",
      "source": [
        "# saving the model\n",
        "\n",
        "iteratively_pruned_model_path = \"iteratively_pruned_model.h5\"\n",
        "iteratively_pruned_stripped_model.save(iteratively_pruned_model_path)\n",
        "\n",
        "\n",
        "iteratively_pruned_model.save('/content/drive/MyDrive/Solar_panel_dust_detection/final_base_model/iteratively_pruned_75_model.h5')\n",
        "iteratively_pruned_stripped_model.save('/content/drive/MyDrive/Solar_panel_dust_detection/final_base_model/iteratively_stripped_pruned_75_model.h5')"
      ],
      "metadata": {
        "id": "njz48R430wxw",
        "outputId": "1a052dd9-cc80-450c-e6f7-471d9892ccea",
        "colab": {
          "base_uri": "https://localhost:8080/"
        }
      },
      "execution_count": null,
      "outputs": [
        {
          "output_type": "stream",
          "name": "stderr",
          "text": [
            "WARNING:tensorflow:Compiled the loaded model, but the compiled metrics have yet to be built. `model.compile_metrics` will be empty until you train or evaluate the model.\n",
            "WARNING:tensorflow:Compiled the loaded model, but the compiled metrics have yet to be built. `model.compile_metrics` will be empty until you train or evaluate the model.\n"
          ]
        }
      ]
    },
    {
      "cell_type": "code",
      "source": [
        "pruned_test_acc, pruned_model_size, pruned_executionTime, pruned_evulation_df = evaluate_model_without_saving_stats(iteratively_pruned_model, iteratively_pruned_model_path, \"#1\", val_dataset)"
      ],
      "metadata": {
        "id": "-ECvSNb-jWRt",
        "outputId": "5058c5e7-1e46-4212-ae14-a68caeccde8e",
        "colab": {
          "base_uri": "https://localhost:8080/"
        }
      },
      "execution_count": null,
      "outputs": [
        {
          "output_type": "stream",
          "name": "stdout",
          "text": [
            "9/9 [==============================] - 26s 36ms/step\n",
            "\n",
            "Model Accuracy: 96.875 %\n",
            "Model Size: 80363019.00 bytes\n",
            "Inference Time is:  2.912324481540256 s\n"
          ]
        }
      ]
    },
    {
      "cell_type": "code",
      "source": [
        "# verifying the sparsity of the model after iterative pruning\n",
        "print_model_weights_sparsity(iteratively_pruned_model)"
      ],
      "metadata": {
        "id": "xevKRBmB09O5",
        "outputId": "50160fee-19b7-4912-8630-51f585d2742a",
        "colab": {
          "base_uri": "https://localhost:8080/"
        }
      },
      "execution_count": null,
      "outputs": [
        {
          "output_type": "stream",
          "name": "stdout",
          "text": [
            "conv2d/kernel:0: 74.18% sparsity  (25849/34848)\n",
            "conv2d_1/kernel:0: 74.18% sparsity  (455743/614400)\n",
            "conv2d_2/kernel:0: 74.18% sparsity  (656270/884736)\n",
            "conv2d_3/kernel:0: 74.18% sparsity  (984405/1327104)\n",
            "conv2d_4/kernel:0: 74.18% sparsity  (656270/884736)\n",
            "dense/kernel:0: 74.18% sparsity  (28000863/37748736)\n",
            "dense_1/kernel:0: 74.18% sparsity  (12444828/16777216)\n",
            "dense_2/kernel:0: 74.17% sparsity  (3038/4096)\n"
          ]
        }
      ]
    },
    {
      "cell_type": "code",
      "source": [
        "pruned_evulation_df"
      ],
      "metadata": {
        "id": "uBvDMVB2mkV7",
        "outputId": "b864638f-585d-40f3-f518-458b661b33fb",
        "colab": {
          "base_uri": "https://localhost:8080/",
          "height": 237
        }
      },
      "execution_count": null,
      "outputs": [
        {
          "output_type": "execute_result",
          "data": {
            "text/plain": [
              "               index                      0\n",
              "0    Evaluation type             Evualation\n",
              "1  Model Information                     #1\n",
              "2           Accuracy               96.875 %\n",
              "3               Loss    9.209202229976654 %\n",
              "4         Model Size   80.363019 Mega bytes\n",
              "5     Inference Time  2.912324481540256 sec"
            ],
            "text/html": [
              "\n",
              "  <div id=\"df-fee45712-f923-4b99-808b-9b4f74e99ef5\">\n",
              "    <div class=\"colab-df-container\">\n",
              "      <div>\n",
              "<style scoped>\n",
              "    .dataframe tbody tr th:only-of-type {\n",
              "        vertical-align: middle;\n",
              "    }\n",
              "\n",
              "    .dataframe tbody tr th {\n",
              "        vertical-align: top;\n",
              "    }\n",
              "\n",
              "    .dataframe thead th {\n",
              "        text-align: right;\n",
              "    }\n",
              "</style>\n",
              "<table border=\"1\" class=\"dataframe\">\n",
              "  <thead>\n",
              "    <tr style=\"text-align: right;\">\n",
              "      <th></th>\n",
              "      <th>index</th>\n",
              "      <th>0</th>\n",
              "    </tr>\n",
              "  </thead>\n",
              "  <tbody>\n",
              "    <tr>\n",
              "      <th>0</th>\n",
              "      <td>Evaluation type</td>\n",
              "      <td>Evualation</td>\n",
              "    </tr>\n",
              "    <tr>\n",
              "      <th>1</th>\n",
              "      <td>Model Information</td>\n",
              "      <td>#1</td>\n",
              "    </tr>\n",
              "    <tr>\n",
              "      <th>2</th>\n",
              "      <td>Accuracy</td>\n",
              "      <td>96.875 %</td>\n",
              "    </tr>\n",
              "    <tr>\n",
              "      <th>3</th>\n",
              "      <td>Loss</td>\n",
              "      <td>9.209202229976654 %</td>\n",
              "    </tr>\n",
              "    <tr>\n",
              "      <th>4</th>\n",
              "      <td>Model Size</td>\n",
              "      <td>80.363019 Mega bytes</td>\n",
              "    </tr>\n",
              "    <tr>\n",
              "      <th>5</th>\n",
              "      <td>Inference Time</td>\n",
              "      <td>2.912324481540256 sec</td>\n",
              "    </tr>\n",
              "  </tbody>\n",
              "</table>\n",
              "</div>\n",
              "      <button class=\"colab-df-convert\" onclick=\"convertToInteractive('df-fee45712-f923-4b99-808b-9b4f74e99ef5')\"\n",
              "              title=\"Convert this dataframe to an interactive table.\"\n",
              "              style=\"display:none;\">\n",
              "        \n",
              "  <svg xmlns=\"http://www.w3.org/2000/svg\" height=\"24px\"viewBox=\"0 0 24 24\"\n",
              "       width=\"24px\">\n",
              "    <path d=\"M0 0h24v24H0V0z\" fill=\"none\"/>\n",
              "    <path d=\"M18.56 5.44l.94 2.06.94-2.06 2.06-.94-2.06-.94-.94-2.06-.94 2.06-2.06.94zm-11 1L8.5 8.5l.94-2.06 2.06-.94-2.06-.94L8.5 2.5l-.94 2.06-2.06.94zm10 10l.94 2.06.94-2.06 2.06-.94-2.06-.94-.94-2.06-.94 2.06-2.06.94z\"/><path d=\"M17.41 7.96l-1.37-1.37c-.4-.4-.92-.59-1.43-.59-.52 0-1.04.2-1.43.59L10.3 9.45l-7.72 7.72c-.78.78-.78 2.05 0 2.83L4 21.41c.39.39.9.59 1.41.59.51 0 1.02-.2 1.41-.59l7.78-7.78 2.81-2.81c.8-.78.8-2.07 0-2.86zM5.41 20L4 18.59l7.72-7.72 1.47 1.35L5.41 20z\"/>\n",
              "  </svg>\n",
              "      </button>\n",
              "      \n",
              "  <style>\n",
              "    .colab-df-container {\n",
              "      display:flex;\n",
              "      flex-wrap:wrap;\n",
              "      gap: 12px;\n",
              "    }\n",
              "\n",
              "    .colab-df-convert {\n",
              "      background-color: #E8F0FE;\n",
              "      border: none;\n",
              "      border-radius: 50%;\n",
              "      cursor: pointer;\n",
              "      display: none;\n",
              "      fill: #1967D2;\n",
              "      height: 32px;\n",
              "      padding: 0 0 0 0;\n",
              "      width: 32px;\n",
              "    }\n",
              "\n",
              "    .colab-df-convert:hover {\n",
              "      background-color: #E2EBFA;\n",
              "      box-shadow: 0px 1px 2px rgba(60, 64, 67, 0.3), 0px 1px 3px 1px rgba(60, 64, 67, 0.15);\n",
              "      fill: #174EA6;\n",
              "    }\n",
              "\n",
              "    [theme=dark] .colab-df-convert {\n",
              "      background-color: #3B4455;\n",
              "      fill: #D2E3FC;\n",
              "    }\n",
              "\n",
              "    [theme=dark] .colab-df-convert:hover {\n",
              "      background-color: #434B5C;\n",
              "      box-shadow: 0px 1px 3px 1px rgba(0, 0, 0, 0.15);\n",
              "      filter: drop-shadow(0px 1px 2px rgba(0, 0, 0, 0.3));\n",
              "      fill: #FFFFFF;\n",
              "    }\n",
              "  </style>\n",
              "\n",
              "      <script>\n",
              "        const buttonEl =\n",
              "          document.querySelector('#df-fee45712-f923-4b99-808b-9b4f74e99ef5 button.colab-df-convert');\n",
              "        buttonEl.style.display =\n",
              "          google.colab.kernel.accessAllowed ? 'block' : 'none';\n",
              "\n",
              "        async function convertToInteractive(key) {\n",
              "          const element = document.querySelector('#df-fee45712-f923-4b99-808b-9b4f74e99ef5');\n",
              "          const dataTable =\n",
              "            await google.colab.kernel.invokeFunction('convertToInteractive',\n",
              "                                                     [key], {});\n",
              "          if (!dataTable) return;\n",
              "\n",
              "          const docLinkHtml = 'Like what you see? Visit the ' +\n",
              "            '<a target=\"_blank\" href=https://colab.research.google.com/notebooks/data_table.ipynb>data table notebook</a>'\n",
              "            + ' to learn more about interactive tables.';\n",
              "          element.innerHTML = '';\n",
              "          dataTable['output_type'] = 'display_data';\n",
              "          await google.colab.output.renderOutput(dataTable, element);\n",
              "          const docLink = document.createElement('div');\n",
              "          docLink.innerHTML = docLinkHtml;\n",
              "          element.appendChild(docLink);\n",
              "        }\n",
              "      </script>\n",
              "    </div>\n",
              "  </div>\n",
              "  "
            ]
          },
          "metadata": {},
          "execution_count": 15
        }
      ]
    },
    {
      "cell_type": "markdown",
      "source": [
        "## Observation\n",
        "\n",
        "\n",
        "| Base model | Iteratively pruned model|\n",
        "|------------|------------|\n",
        "| - Overall accuracy: 96.18%| - Overall accuracy: 96.87% (higher accuracy)|\n",
        "| - Overall model size: 648.7 MB | - Overall model size: 80.36 MB (smaller size)|\n",
        "| - Overall Inference time: 4.56 s | - Overall Inference time: 2.91 s (lower inference time)|\n",
        "| - Performance: Lower| - Performance: Higher|\n",
        "| - Key: It has a larger model size compared to iterative pruning,| - Key: Iterative pruning proves that we can fine tune our sparsity level, |\n",
        "|  and significanlty has higher inference time.| while maintaining our accuracy and inference time.|\n",
        "\n",
        "\n",
        "In terms of fine-tuning, after modifying the hyperparameters the best result we managed to achieve was an accuracy of 96 %. This is around a 44% boost from the 52% prior to research paper model tuning. We also had a model size of around 650 MB. This was much larger than the original model which was around 212 MB. We also halved the inference time, a reduction of around 4.5 seconds from the research paper model. Overall, we were content with these results as we fixed the primary issue of low accuracy. However, from here we knew some more work had to be done to compress the model to acceptable standards. "
      ],
      "metadata": {
        "id": "q4nPcgol6KdF"
      }
    },
    {
      "cell_type": "markdown",
      "source": [
        "![image.png](data:image/png;base64,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)"
      ],
      "metadata": {
        "id": "7hC0JbEC3MLp"
      }
    },
    {
      "cell_type": "markdown",
      "source": [
        "50% sparsity\n",
        "\n",
        "![image.png](data:image/png;base64,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)"
      ],
      "metadata": {
        "id": "LGbkmxIc2Te5"
      }
    },
    {
      "cell_type": "markdown",
      "source": [
        "70% sparsity:\n",
        "\n",
        "![image.png](data:image/png;base64,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)\n",
        "\n"
      ],
      "metadata": {
        "id": "3OqiE5572Ma3"
      }
    },
    {
      "cell_type": "markdown",
      "source": [
        "90 % sparsity\n",
        "\n",
        "![image.png](data:image/png;base64,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)"
      ],
      "metadata": {
        "id": "hGMsXX7A2Hmr"
      }
    },
    {
      "cell_type": "markdown",
      "source": [
        "# Quantization"
      ],
      "metadata": {
        "id": "TFNqDAak5AFg"
      }
    },
    {
      "cell_type": "code",
      "source": [
        "# A helper function to evaluate the TF Lite model using a test loader.\n",
        "def evaluate_tflite_model(interpreter, model_path, test_loader):\n",
        "  input_index = interpreter.get_input_details()[0][\"index\"]\n",
        "  output_index = interpreter.get_output_details()[0][\"index\"]\n",
        "\n",
        "  # Run predictions on every image in the test dataset.\n",
        "  prediction_digits = []\n",
        "  accurate_count = 0\n",
        "  total_images = 0\n",
        "  total_time = 0\n",
        "\n",
        "  for images, labels in val_dataset:\n",
        "    total_images += len(images)\n",
        "    for i in range(len(images)):\n",
        "      # Pre-processing: add batch dimension and convert to float32 to match with\n",
        "      # the model's input data format.\n",
        "      test_image = np.expand_dims(images[i].numpy(), axis=0).astype(np.float32)\n",
        "      interpreter.set_tensor(input_index, test_image)\n",
        "\n",
        "      # Run inference.\n",
        "      startTime = time.time()\n",
        "      interpreter.invoke()\n",
        "      executionTime = time.time() - startTime\n",
        "      total_time += executionTime\n",
        "\n",
        "      # Post-processing: remove batch dimension and find the digit with highest\n",
        "      # probability.\n",
        "      interpreter.invoke()\n",
        "      output = interpreter.get_tensor(output_index)\n",
        "\n",
        "      digit = np.round(output[0])\n",
        "      prediction_digits.append(digit)\n",
        "\n",
        "      # Compare prediction results with ground truth labels to calculate accuracy.\n",
        "      if digit == labels[i].numpy():\n",
        "        accurate_count += 1\n",
        "\n",
        "  accuracy = accurate_count * 1.0 / total_images\n",
        "  model_size = get_gzipped_model_size(model_path)\n",
        "\n",
        "  # Print\n",
        "  print('\\nModel Accuracy:', accuracy*100, '%')\n",
        "  print(\"Model Size: %.2f bytes\" % (model_size))\n",
        "  print(\"Average Inference Time per Image: %.5f s\" % (total_time/total_images))\n",
        "\n",
        "  # Build Evalution dataframe\n",
        "  evulation_dict = {\n",
        "                      \"Evaluation type\": \"Evualation\",\n",
        "                      \"Accuracy\": str(accuracy*100) + \" %\",\n",
        "                      \"Model Size\": str(float(model_size)/10**6) + \" Mega bytes\", # we want mega bytes\n",
        "                      \"Average Inference Time per Image\": str((total_time/total_images)) + \" sec\"\n",
        "                    }\n",
        "  \n",
        "  evulation_df = pd.DataFrame.from_dict(evulation_dict, orient='index').reset_index()\n",
        "  \n",
        "  return evulation_df"
      ],
      "metadata": {
        "id": "bB6tHpZq7TSw"
      },
      "execution_count": null,
      "outputs": []
    },
    {
      "cell_type": "markdown",
      "source": [
        "## Base model"
      ],
      "metadata": {
        "id": "jEHmEn2bbEWj"
      }
    },
    {
      "cell_type": "markdown",
      "source": [
        "### 32 bit quanitization"
      ],
      "metadata": {
        "id": "mQuQr2tFhMVM"
      }
    },
    {
      "cell_type": "code",
      "source": [
        "converter = tf.lite.TFLiteConverter.from_keras_model(base_model)\n",
        "converter.optimizations = [tf.lite.Optimize.DEFAULT]\n",
        "converter.target_spec.supported_types = [tf.float32]\n",
        "fp32_quantized_tflite_base_model = converter.convert()\n",
        "\n",
        "with open('fp32_quantized_tflite_base_model.tflite', 'wb') as f:\n",
        "  f.write(fp32_quantized_tflite_base_model)\n",
        "interpreter_fp32_quant_base_model = tf.lite.Interpreter(model_path=str('fp32_quantized_tflite_base_model.tflite'))\n",
        "interpreter_fp32_quant_base_model.allocate_tensors()"
      ],
      "metadata": {
        "colab": {
          "base_uri": "https://localhost:8080/"
        },
        "id": "y92cS010bOZx",
        "outputId": "c064e4d2-e0a7-437b-9851-8154d4771681"
      },
      "execution_count": null,
      "outputs": [
        {
          "output_type": "stream",
          "name": "stderr",
          "text": [
            "WARNING:absl:Found untraced functions such as _jit_compiled_convolution_op, _jit_compiled_convolution_op, _jit_compiled_convolution_op, _jit_compiled_convolution_op, _jit_compiled_convolution_op while saving (showing 5 of 6). These functions will not be directly callable after loading.\n"
          ]
        }
      ]
    },
    {
      "cell_type": "code",
      "source": [
        "quantized_32_bit_tflite_base_model_evulation_df = evaluate_tflite_model(interpreter_fp32_quant_base_model, 'fp32_quantized_tflite_base_model.tflite', val_dataset)\n",
        "quantized_32_bit_tflite_base_model_evulation_df"
      ],
      "metadata": {
        "colab": {
          "base_uri": "https://localhost:8080/"
        },
        "id": "ZT3H9pbxgKzf",
        "outputId": "54ec990c-a367-46ee-de29-4093a30259f1"
      },
      "execution_count": null,
      "outputs": [
        {
          "output_type": "stream",
          "name": "stdout",
          "text": [
            "\n",
            "Model Accuracy: 88.88888888888889 %\n",
            "Model Size: 78731271.00 bytes\n",
            "Average Inference Time per Image: 0.07895 s\n"
          ]
        },
        {
          "output_type": "execute_result",
          "data": {
            "text/plain": [
              "                              index                        0\n",
              "0                   Evaluation type               Evualation\n",
              "1                          Accuracy      88.88888888888889 %\n",
              "2                        Model Size     78.731271 Mega bytes\n",
              "3  Average Inference Time per Image  0.07895166012975904 sec"
            ],
            "text/html": [
              "\n",
              "  <div id=\"df-236fd713-965e-4ee7-ae67-0e7ba7713383\">\n",
              "    <div class=\"colab-df-container\">\n",
              "      <div>\n",
              "<style scoped>\n",
              "    .dataframe tbody tr th:only-of-type {\n",
              "        vertical-align: middle;\n",
              "    }\n",
              "\n",
              "    .dataframe tbody tr th {\n",
              "        vertical-align: top;\n",
              "    }\n",
              "\n",
              "    .dataframe thead th {\n",
              "        text-align: right;\n",
              "    }\n",
              "</style>\n",
              "<table border=\"1\" class=\"dataframe\">\n",
              "  <thead>\n",
              "    <tr style=\"text-align: right;\">\n",
              "      <th></th>\n",
              "      <th>index</th>\n",
              "      <th>0</th>\n",
              "    </tr>\n",
              "  </thead>\n",
              "  <tbody>\n",
              "    <tr>\n",
              "      <th>0</th>\n",
              "      <td>Evaluation type</td>\n",
              "      <td>Evualation</td>\n",
              "    </tr>\n",
              "    <tr>\n",
              "      <th>1</th>\n",
              "      <td>Accuracy</td>\n",
              "      <td>88.88888888888889 %</td>\n",
              "    </tr>\n",
              "    <tr>\n",
              "      <th>2</th>\n",
              "      <td>Model Size</td>\n",
              "      <td>78.731271 Mega bytes</td>\n",
              "    </tr>\n",
              "    <tr>\n",
              "      <th>3</th>\n",
              "      <td>Average Inference Time per Image</td>\n",
              "      <td>0.07895166012975904 sec</td>\n",
              "    </tr>\n",
              "  </tbody>\n",
              "</table>\n",
              "</div>\n",
              "      <button class=\"colab-df-convert\" onclick=\"convertToInteractive('df-236fd713-965e-4ee7-ae67-0e7ba7713383')\"\n",
              "              title=\"Convert this dataframe to an interactive table.\"\n",
              "              style=\"display:none;\">\n",
              "        \n",
              "  <svg xmlns=\"http://www.w3.org/2000/svg\" height=\"24px\"viewBox=\"0 0 24 24\"\n",
              "       width=\"24px\">\n",
              "    <path d=\"M0 0h24v24H0V0z\" fill=\"none\"/>\n",
              "    <path d=\"M18.56 5.44l.94 2.06.94-2.06 2.06-.94-2.06-.94-.94-2.06-.94 2.06-2.06.94zm-11 1L8.5 8.5l.94-2.06 2.06-.94-2.06-.94L8.5 2.5l-.94 2.06-2.06.94zm10 10l.94 2.06.94-2.06 2.06-.94-2.06-.94-.94-2.06-.94 2.06-2.06.94z\"/><path d=\"M17.41 7.96l-1.37-1.37c-.4-.4-.92-.59-1.43-.59-.52 0-1.04.2-1.43.59L10.3 9.45l-7.72 7.72c-.78.78-.78 2.05 0 2.83L4 21.41c.39.39.9.59 1.41.59.51 0 1.02-.2 1.41-.59l7.78-7.78 2.81-2.81c.8-.78.8-2.07 0-2.86zM5.41 20L4 18.59l7.72-7.72 1.47 1.35L5.41 20z\"/>\n",
              "  </svg>\n",
              "      </button>\n",
              "      \n",
              "  <style>\n",
              "    .colab-df-container {\n",
              "      display:flex;\n",
              "      flex-wrap:wrap;\n",
              "      gap: 12px;\n",
              "    }\n",
              "\n",
              "    .colab-df-convert {\n",
              "      background-color: #E8F0FE;\n",
              "      border: none;\n",
              "      border-radius: 50%;\n",
              "      cursor: pointer;\n",
              "      display: none;\n",
              "      fill: #1967D2;\n",
              "      height: 32px;\n",
              "      padding: 0 0 0 0;\n",
              "      width: 32px;\n",
              "    }\n",
              "\n",
              "    .colab-df-convert:hover {\n",
              "      background-color: #E2EBFA;\n",
              "      box-shadow: 0px 1px 2px rgba(60, 64, 67, 0.3), 0px 1px 3px 1px rgba(60, 64, 67, 0.15);\n",
              "      fill: #174EA6;\n",
              "    }\n",
              "\n",
              "    [theme=dark] .colab-df-convert {\n",
              "      background-color: #3B4455;\n",
              "      fill: #D2E3FC;\n",
              "    }\n",
              "\n",
              "    [theme=dark] .colab-df-convert:hover {\n",
              "      background-color: #434B5C;\n",
              "      box-shadow: 0px 1px 3px 1px rgba(0, 0, 0, 0.15);\n",
              "      filter: drop-shadow(0px 1px 2px rgba(0, 0, 0, 0.3));\n",
              "      fill: #FFFFFF;\n",
              "    }\n",
              "  </style>\n",
              "\n",
              "      <script>\n",
              "        const buttonEl =\n",
              "          document.querySelector('#df-236fd713-965e-4ee7-ae67-0e7ba7713383 button.colab-df-convert');\n",
              "        buttonEl.style.display =\n",
              "          google.colab.kernel.accessAllowed ? 'block' : 'none';\n",
              "\n",
              "        async function convertToInteractive(key) {\n",
              "          const element = document.querySelector('#df-236fd713-965e-4ee7-ae67-0e7ba7713383');\n",
              "          const dataTable =\n",
              "            await google.colab.kernel.invokeFunction('convertToInteractive',\n",
              "                                                     [key], {});\n",
              "          if (!dataTable) return;\n",
              "\n",
              "          const docLinkHtml = 'Like what you see? Visit the ' +\n",
              "            '<a target=\"_blank\" href=https://colab.research.google.com/notebooks/data_table.ipynb>data table notebook</a>'\n",
              "            + ' to learn more about interactive tables.';\n",
              "          element.innerHTML = '';\n",
              "          dataTable['output_type'] = 'display_data';\n",
              "          await google.colab.output.renderOutput(dataTable, element);\n",
              "          const docLink = document.createElement('div');\n",
              "          docLink.innerHTML = docLinkHtml;\n",
              "          element.appendChild(docLink);\n",
              "        }\n",
              "      </script>\n",
              "    </div>\n",
              "  </div>\n",
              "  "
            ]
          },
          "metadata": {},
          "execution_count": 21
        }
      ]
    },
    {
      "cell_type": "markdown",
      "source": [
        "### 16 bit quanitization"
      ],
      "metadata": {
        "id": "qDg1D938hQ8u"
      }
    },
    {
      "cell_type": "code",
      "source": [
        "converter = tf.lite.TFLiteConverter.from_keras_model(base_model)\n",
        "converter.optimizations = [tf.lite.Optimize.DEFAULT]\n",
        "converter.target_spec.supported_types = [tf.float16]\n",
        "fp16_quantized_tflite_base_model = converter.convert()\n",
        "\n",
        "with open('fp16_quantized_tflite_base_model.tflite', 'wb') as f:\n",
        "  f.write(fp16_quantized_tflite_base_model)\n",
        "interpreter_fp16_quant_base_model = tf.lite.Interpreter(model_path=str('fp16_quantized_tflite_base_model.tflite'))\n",
        "interpreter_fp16_quant_base_model.allocate_tensors()"
      ],
      "metadata": {
        "id": "6b44dStg5B4y",
        "colab": {
          "base_uri": "https://localhost:8080/"
        },
        "outputId": "36db594c-1d33-4371-d507-f363f3a36460"
      },
      "execution_count": null,
      "outputs": [
        {
          "output_type": "stream",
          "name": "stderr",
          "text": [
            "WARNING:absl:Found untraced functions such as _jit_compiled_convolution_op, _jit_compiled_convolution_op, _jit_compiled_convolution_op, _jit_compiled_convolution_op, _jit_compiled_convolution_op while saving (showing 5 of 6). These functions will not be directly callable after loading.\n"
          ]
        }
      ]
    },
    {
      "cell_type": "code",
      "source": [
        "quantized_16_bit_tflite_base_model_evulation_df = evaluate_tflite_model(interpreter_fp16_quant_base_model, 'fp16_quantized_tflite_base_model.tflite', val_dataset)\n",
        "quantized_16_bit_tflite_base_model_evulation_df"
      ],
      "metadata": {
        "colab": {
          "base_uri": "https://localhost:8080/"
        },
        "id": "vT2ORZZhZywN",
        "outputId": "60428b44-1824-46e7-b6d4-223689477c09"
      },
      "execution_count": null,
      "outputs": [
        {
          "output_type": "stream",
          "name": "stdout",
          "text": [
            "\n",
            "Model Accuracy: 88.88888888888889 %\n",
            "Model Size: 44957703.00 bytes\n",
            "Average Inference Time per Image: 0.07796 s\n"
          ]
        },
        {
          "output_type": "execute_result",
          "data": {
            "text/plain": [
              "                              index                        0\n",
              "0                   Evaluation type               Evualation\n",
              "1                          Accuracy      88.88888888888889 %\n",
              "2                        Model Size     44.957703 Mega bytes\n",
              "3  Average Inference Time per Image  0.07795967078871197 sec"
            ],
            "text/html": [
              "\n",
              "  <div id=\"df-7fd34db8-5fa3-4801-9b85-aac3fe1443da\">\n",
              "    <div class=\"colab-df-container\">\n",
              "      <div>\n",
              "<style scoped>\n",
              "    .dataframe tbody tr th:only-of-type {\n",
              "        vertical-align: middle;\n",
              "    }\n",
              "\n",
              "    .dataframe tbody tr th {\n",
              "        vertical-align: top;\n",
              "    }\n",
              "\n",
              "    .dataframe thead th {\n",
              "        text-align: right;\n",
              "    }\n",
              "</style>\n",
              "<table border=\"1\" class=\"dataframe\">\n",
              "  <thead>\n",
              "    <tr style=\"text-align: right;\">\n",
              "      <th></th>\n",
              "      <th>index</th>\n",
              "      <th>0</th>\n",
              "    </tr>\n",
              "  </thead>\n",
              "  <tbody>\n",
              "    <tr>\n",
              "      <th>0</th>\n",
              "      <td>Evaluation type</td>\n",
              "      <td>Evualation</td>\n",
              "    </tr>\n",
              "    <tr>\n",
              "      <th>1</th>\n",
              "      <td>Accuracy</td>\n",
              "      <td>88.88888888888889 %</td>\n",
              "    </tr>\n",
              "    <tr>\n",
              "      <th>2</th>\n",
              "      <td>Model Size</td>\n",
              "      <td>44.957703 Mega bytes</td>\n",
              "    </tr>\n",
              "    <tr>\n",
              "      <th>3</th>\n",
              "      <td>Average Inference Time per Image</td>\n",
              "      <td>0.07795967078871197 sec</td>\n",
              "    </tr>\n",
              "  </tbody>\n",
              "</table>\n",
              "</div>\n",
              "      <button class=\"colab-df-convert\" onclick=\"convertToInteractive('df-7fd34db8-5fa3-4801-9b85-aac3fe1443da')\"\n",
              "              title=\"Convert this dataframe to an interactive table.\"\n",
              "              style=\"display:none;\">\n",
              "        \n",
              "  <svg xmlns=\"http://www.w3.org/2000/svg\" height=\"24px\"viewBox=\"0 0 24 24\"\n",
              "       width=\"24px\">\n",
              "    <path d=\"M0 0h24v24H0V0z\" fill=\"none\"/>\n",
              "    <path d=\"M18.56 5.44l.94 2.06.94-2.06 2.06-.94-2.06-.94-.94-2.06-.94 2.06-2.06.94zm-11 1L8.5 8.5l.94-2.06 2.06-.94-2.06-.94L8.5 2.5l-.94 2.06-2.06.94zm10 10l.94 2.06.94-2.06 2.06-.94-2.06-.94-.94-2.06-.94 2.06-2.06.94z\"/><path d=\"M17.41 7.96l-1.37-1.37c-.4-.4-.92-.59-1.43-.59-.52 0-1.04.2-1.43.59L10.3 9.45l-7.72 7.72c-.78.78-.78 2.05 0 2.83L4 21.41c.39.39.9.59 1.41.59.51 0 1.02-.2 1.41-.59l7.78-7.78 2.81-2.81c.8-.78.8-2.07 0-2.86zM5.41 20L4 18.59l7.72-7.72 1.47 1.35L5.41 20z\"/>\n",
              "  </svg>\n",
              "      </button>\n",
              "      \n",
              "  <style>\n",
              "    .colab-df-container {\n",
              "      display:flex;\n",
              "      flex-wrap:wrap;\n",
              "      gap: 12px;\n",
              "    }\n",
              "\n",
              "    .colab-df-convert {\n",
              "      background-color: #E8F0FE;\n",
              "      border: none;\n",
              "      border-radius: 50%;\n",
              "      cursor: pointer;\n",
              "      display: none;\n",
              "      fill: #1967D2;\n",
              "      height: 32px;\n",
              "      padding: 0 0 0 0;\n",
              "      width: 32px;\n",
              "    }\n",
              "\n",
              "    .colab-df-convert:hover {\n",
              "      background-color: #E2EBFA;\n",
              "      box-shadow: 0px 1px 2px rgba(60, 64, 67, 0.3), 0px 1px 3px 1px rgba(60, 64, 67, 0.15);\n",
              "      fill: #174EA6;\n",
              "    }\n",
              "\n",
              "    [theme=dark] .colab-df-convert {\n",
              "      background-color: #3B4455;\n",
              "      fill: #D2E3FC;\n",
              "    }\n",
              "\n",
              "    [theme=dark] .colab-df-convert:hover {\n",
              "      background-color: #434B5C;\n",
              "      box-shadow: 0px 1px 3px 1px rgba(0, 0, 0, 0.15);\n",
              "      filter: drop-shadow(0px 1px 2px rgba(0, 0, 0, 0.3));\n",
              "      fill: #FFFFFF;\n",
              "    }\n",
              "  </style>\n",
              "\n",
              "      <script>\n",
              "        const buttonEl =\n",
              "          document.querySelector('#df-7fd34db8-5fa3-4801-9b85-aac3fe1443da button.colab-df-convert');\n",
              "        buttonEl.style.display =\n",
              "          google.colab.kernel.accessAllowed ? 'block' : 'none';\n",
              "\n",
              "        async function convertToInteractive(key) {\n",
              "          const element = document.querySelector('#df-7fd34db8-5fa3-4801-9b85-aac3fe1443da');\n",
              "          const dataTable =\n",
              "            await google.colab.kernel.invokeFunction('convertToInteractive',\n",
              "                                                     [key], {});\n",
              "          if (!dataTable) return;\n",
              "\n",
              "          const docLinkHtml = 'Like what you see? Visit the ' +\n",
              "            '<a target=\"_blank\" href=https://colab.research.google.com/notebooks/data_table.ipynb>data table notebook</a>'\n",
              "            + ' to learn more about interactive tables.';\n",
              "          element.innerHTML = '';\n",
              "          dataTable['output_type'] = 'display_data';\n",
              "          await google.colab.output.renderOutput(dataTable, element);\n",
              "          const docLink = document.createElement('div');\n",
              "          docLink.innerHTML = docLinkHtml;\n",
              "          element.appendChild(docLink);\n",
              "        }\n",
              "      </script>\n",
              "    </div>\n",
              "  </div>\n",
              "  "
            ]
          },
          "metadata": {},
          "execution_count": 23
        }
      ]
    },
    {
      "cell_type": "markdown",
      "source": [
        "### 8 bit quanitization"
      ],
      "metadata": {
        "id": "F93_zRuJhTsY"
      }
    },
    {
      "cell_type": "code",
      "source": [
        "converter = tf.lite.TFLiteConverter.from_keras_model(base_model)\n",
        "converter.optimizations = [tf.lite.Optimize.DEFAULT]\n",
        "# converter.target_spec.supported_types = [tf.float16]\n",
        "fp8_quantized_tflite_base_model = converter.convert()\n",
        "\n",
        "with open('fp8_quantized_tflite_base_model.tflite', 'wb') as f:\n",
        "  f.write(fp8_quantized_tflite_base_model)\n",
        "interpreter_fp8_quant_base_model = tf.lite.Interpreter(model_path=str('fp8_quantized_tflite_base_model.tflite'))\n",
        "interpreter_fp8_quant_base_model.allocate_tensors()"
      ],
      "metadata": {
        "colab": {
          "base_uri": "https://localhost:8080/"
        },
        "id": "m77IaOqehXbg",
        "outputId": "7757b127-d2b2-4231-da7b-aadca46fea10"
      },
      "execution_count": null,
      "outputs": [
        {
          "output_type": "stream",
          "name": "stderr",
          "text": [
            "WARNING:absl:Found untraced functions such as _jit_compiled_convolution_op, _jit_compiled_convolution_op, _jit_compiled_convolution_op, _jit_compiled_convolution_op, _jit_compiled_convolution_op while saving (showing 5 of 6). These functions will not be directly callable after loading.\n"
          ]
        }
      ]
    },
    {
      "cell_type": "code",
      "source": [
        "quantized_8_bit_tflite_base_model_evulation_df = evaluate_tflite_model(interpreter_fp8_quant_base_model, 'fp8_quantized_tflite_base_model.tflite', val_dataset)\n",
        "quantized_8_bit_tflite_base_model_evulation_df"
      ],
      "metadata": {
        "colab": {
          "base_uri": "https://localhost:8080/"
        },
        "id": "1_BGRZJnhacm",
        "outputId": "3a58a10d-30a4-4ba0-cad9-715d01a55d1d"
      },
      "execution_count": null,
      "outputs": [
        {
          "output_type": "stream",
          "name": "stdout",
          "text": [
            "\n",
            "Model Accuracy: 89.93055555555556 %\n",
            "Model Size: 22582982.00 bytes\n",
            "Average Inference Time per Image: 0.06260 s\n"
          ]
        },
        {
          "output_type": "execute_result",
          "data": {
            "text/plain": [
              "                              index                        0\n",
              "0                   Evaluation type               Evualation\n",
              "1                          Accuracy      89.93055555555556 %\n",
              "2                        Model Size     22.582982 Mega bytes\n",
              "3  Average Inference Time per Image  0.06260265823867586 sec"
            ],
            "text/html": [
              "\n",
              "  <div id=\"df-3a3f1e3e-b001-415b-b8d7-2f607710b565\">\n",
              "    <div class=\"colab-df-container\">\n",
              "      <div>\n",
              "<style scoped>\n",
              "    .dataframe tbody tr th:only-of-type {\n",
              "        vertical-align: middle;\n",
              "    }\n",
              "\n",
              "    .dataframe tbody tr th {\n",
              "        vertical-align: top;\n",
              "    }\n",
              "\n",
              "    .dataframe thead th {\n",
              "        text-align: right;\n",
              "    }\n",
              "</style>\n",
              "<table border=\"1\" class=\"dataframe\">\n",
              "  <thead>\n",
              "    <tr style=\"text-align: right;\">\n",
              "      <th></th>\n",
              "      <th>index</th>\n",
              "      <th>0</th>\n",
              "    </tr>\n",
              "  </thead>\n",
              "  <tbody>\n",
              "    <tr>\n",
              "      <th>0</th>\n",
              "      <td>Evaluation type</td>\n",
              "      <td>Evualation</td>\n",
              "    </tr>\n",
              "    <tr>\n",
              "      <th>1</th>\n",
              "      <td>Accuracy</td>\n",
              "      <td>89.93055555555556 %</td>\n",
              "    </tr>\n",
              "    <tr>\n",
              "      <th>2</th>\n",
              "      <td>Model Size</td>\n",
              "      <td>22.582982 Mega bytes</td>\n",
              "    </tr>\n",
              "    <tr>\n",
              "      <th>3</th>\n",
              "      <td>Average Inference Time per Image</td>\n",
              "      <td>0.06260265823867586 sec</td>\n",
              "    </tr>\n",
              "  </tbody>\n",
              "</table>\n",
              "</div>\n",
              "      <button class=\"colab-df-convert\" onclick=\"convertToInteractive('df-3a3f1e3e-b001-415b-b8d7-2f607710b565')\"\n",
              "              title=\"Convert this dataframe to an interactive table.\"\n",
              "              style=\"display:none;\">\n",
              "        \n",
              "  <svg xmlns=\"http://www.w3.org/2000/svg\" height=\"24px\"viewBox=\"0 0 24 24\"\n",
              "       width=\"24px\">\n",
              "    <path d=\"M0 0h24v24H0V0z\" fill=\"none\"/>\n",
              "    <path d=\"M18.56 5.44l.94 2.06.94-2.06 2.06-.94-2.06-.94-.94-2.06-.94 2.06-2.06.94zm-11 1L8.5 8.5l.94-2.06 2.06-.94-2.06-.94L8.5 2.5l-.94 2.06-2.06.94zm10 10l.94 2.06.94-2.06 2.06-.94-2.06-.94-.94-2.06-.94 2.06-2.06.94z\"/><path d=\"M17.41 7.96l-1.37-1.37c-.4-.4-.92-.59-1.43-.59-.52 0-1.04.2-1.43.59L10.3 9.45l-7.72 7.72c-.78.78-.78 2.05 0 2.83L4 21.41c.39.39.9.59 1.41.59.51 0 1.02-.2 1.41-.59l7.78-7.78 2.81-2.81c.8-.78.8-2.07 0-2.86zM5.41 20L4 18.59l7.72-7.72 1.47 1.35L5.41 20z\"/>\n",
              "  </svg>\n",
              "      </button>\n",
              "      \n",
              "  <style>\n",
              "    .colab-df-container {\n",
              "      display:flex;\n",
              "      flex-wrap:wrap;\n",
              "      gap: 12px;\n",
              "    }\n",
              "\n",
              "    .colab-df-convert {\n",
              "      background-color: #E8F0FE;\n",
              "      border: none;\n",
              "      border-radius: 50%;\n",
              "      cursor: pointer;\n",
              "      display: none;\n",
              "      fill: #1967D2;\n",
              "      height: 32px;\n",
              "      padding: 0 0 0 0;\n",
              "      width: 32px;\n",
              "    }\n",
              "\n",
              "    .colab-df-convert:hover {\n",
              "      background-color: #E2EBFA;\n",
              "      box-shadow: 0px 1px 2px rgba(60, 64, 67, 0.3), 0px 1px 3px 1px rgba(60, 64, 67, 0.15);\n",
              "      fill: #174EA6;\n",
              "    }\n",
              "\n",
              "    [theme=dark] .colab-df-convert {\n",
              "      background-color: #3B4455;\n",
              "      fill: #D2E3FC;\n",
              "    }\n",
              "\n",
              "    [theme=dark] .colab-df-convert:hover {\n",
              "      background-color: #434B5C;\n",
              "      box-shadow: 0px 1px 3px 1px rgba(0, 0, 0, 0.15);\n",
              "      filter: drop-shadow(0px 1px 2px rgba(0, 0, 0, 0.3));\n",
              "      fill: #FFFFFF;\n",
              "    }\n",
              "  </style>\n",
              "\n",
              "      <script>\n",
              "        const buttonEl =\n",
              "          document.querySelector('#df-3a3f1e3e-b001-415b-b8d7-2f607710b565 button.colab-df-convert');\n",
              "        buttonEl.style.display =\n",
              "          google.colab.kernel.accessAllowed ? 'block' : 'none';\n",
              "\n",
              "        async function convertToInteractive(key) {\n",
              "          const element = document.querySelector('#df-3a3f1e3e-b001-415b-b8d7-2f607710b565');\n",
              "          const dataTable =\n",
              "            await google.colab.kernel.invokeFunction('convertToInteractive',\n",
              "                                                     [key], {});\n",
              "          if (!dataTable) return;\n",
              "\n",
              "          const docLinkHtml = 'Like what you see? Visit the ' +\n",
              "            '<a target=\"_blank\" href=https://colab.research.google.com/notebooks/data_table.ipynb>data table notebook</a>'\n",
              "            + ' to learn more about interactive tables.';\n",
              "          element.innerHTML = '';\n",
              "          dataTable['output_type'] = 'display_data';\n",
              "          await google.colab.output.renderOutput(dataTable, element);\n",
              "          const docLink = document.createElement('div');\n",
              "          docLink.innerHTML = docLinkHtml;\n",
              "          element.appendChild(docLink);\n",
              "        }\n",
              "      </script>\n",
              "    </div>\n",
              "  </div>\n",
              "  "
            ]
          },
          "metadata": {},
          "execution_count": 25
        }
      ]
    },
    {
      "cell_type": "markdown",
      "source": [
        "## Pruned model"
      ],
      "metadata": {
        "id": "ZRPsl00Chbn2"
      }
    },
    {
      "cell_type": "markdown",
      "source": [
        "### 32 bit quantization"
      ],
      "metadata": {
        "id": "Jni0yxFYhgYm"
      }
    },
    {
      "cell_type": "code",
      "source": [
        "converter = tf.lite.TFLiteConverter.from_keras_model(iteratively_pruned_model)\n",
        "converter.optimizations = [tf.lite.Optimize.DEFAULT]\n",
        "converter.target_spec.supported_types = [tf.float32]\n",
        "fp16_quantized_tflite_iteratively_pruned_model = converter.convert()\n",
        "\n",
        "with open('fp32_quantized_tflite_iteratively_pruned_model.tflite', 'wb') as f:\n",
        "  f.write(fp16_quantized_tflite_iteratively_pruned_model)\n",
        "interpreter_fp32_quant_iteratively_pruned_model = tf.lite.Interpreter(model_path=str('fp32_quantized_tflite_iteratively_pruned_model.tflite'))\n",
        "interpreter_fp32_quant_iteratively_pruned_model.allocate_tensors()"
      ],
      "metadata": {
        "id": "IeajuvRUiHCk",
        "outputId": "08408941-6a7a-4f9f-8658-3952f0b3d016",
        "colab": {
          "base_uri": "https://localhost:8080/"
        }
      },
      "execution_count": null,
      "outputs": [
        {
          "output_type": "stream",
          "name": "stderr",
          "text": [
            "WARNING:absl:Found untraced functions such as conv2d_layer_call_fn, conv2d_layer_call_and_return_conditional_losses, _jit_compiled_convolution_op, conv2d_1_layer_call_fn, conv2d_1_layer_call_and_return_conditional_losses while saving (showing 5 of 27). These functions will not be directly callable after loading.\n"
          ]
        }
      ]
    },
    {
      "cell_type": "code",
      "source": [
        "quantized_32_bit_tflite_iteratively_pruned_model_evulation_df = evaluate_tflite_model(interpreter_fp32_quant_iteratively_pruned_model, 'fp32_quantized_tflite_iteratively_pruned_model.tflite', val_dataset)\n",
        "quantized_32_bit_tflite_iteratively_pruned_model_evulation_df"
      ],
      "metadata": {
        "id": "uw2xrd2MiN2k",
        "outputId": "502e3ab3-7915-4154-cb2a-5ab38b23f0f2",
        "colab": {
          "base_uri": "https://localhost:8080/",
          "height": 244
        }
      },
      "execution_count": null,
      "outputs": [
        {
          "output_type": "stream",
          "name": "stdout",
          "text": [
            "\n",
            "Model Accuracy: 96.875 %\n",
            "Model Size: 92709030.00 bytes\n",
            "Average Inference Time per Image: 0.41026 s\n"
          ]
        },
        {
          "output_type": "execute_result",
          "data": {
            "text/plain": [
              "                              index                       0\n",
              "0                   Evaluation type              Evualation\n",
              "1                          Accuracy                96.875 %\n",
              "2                        Model Size     92.70903 Mega bytes\n",
              "3  Average Inference Time per Image  0.4102597220076455 sec"
            ],
            "text/html": [
              "\n",
              "  <div id=\"df-c6a08bd6-1406-4574-83e7-d26f573e8ee2\">\n",
              "    <div class=\"colab-df-container\">\n",
              "      <div>\n",
              "<style scoped>\n",
              "    .dataframe tbody tr th:only-of-type {\n",
              "        vertical-align: middle;\n",
              "    }\n",
              "\n",
              "    .dataframe tbody tr th {\n",
              "        vertical-align: top;\n",
              "    }\n",
              "\n",
              "    .dataframe thead th {\n",
              "        text-align: right;\n",
              "    }\n",
              "</style>\n",
              "<table border=\"1\" class=\"dataframe\">\n",
              "  <thead>\n",
              "    <tr style=\"text-align: right;\">\n",
              "      <th></th>\n",
              "      <th>index</th>\n",
              "      <th>0</th>\n",
              "    </tr>\n",
              "  </thead>\n",
              "  <tbody>\n",
              "    <tr>\n",
              "      <th>0</th>\n",
              "      <td>Evaluation type</td>\n",
              "      <td>Evualation</td>\n",
              "    </tr>\n",
              "    <tr>\n",
              "      <th>1</th>\n",
              "      <td>Accuracy</td>\n",
              "      <td>96.875 %</td>\n",
              "    </tr>\n",
              "    <tr>\n",
              "      <th>2</th>\n",
              "      <td>Model Size</td>\n",
              "      <td>92.70903 Mega bytes</td>\n",
              "    </tr>\n",
              "    <tr>\n",
              "      <th>3</th>\n",
              "      <td>Average Inference Time per Image</td>\n",
              "      <td>0.4102597220076455 sec</td>\n",
              "    </tr>\n",
              "  </tbody>\n",
              "</table>\n",
              "</div>\n",
              "      <button class=\"colab-df-convert\" onclick=\"convertToInteractive('df-c6a08bd6-1406-4574-83e7-d26f573e8ee2')\"\n",
              "              title=\"Convert this dataframe to an interactive table.\"\n",
              "              style=\"display:none;\">\n",
              "        \n",
              "  <svg xmlns=\"http://www.w3.org/2000/svg\" height=\"24px\"viewBox=\"0 0 24 24\"\n",
              "       width=\"24px\">\n",
              "    <path d=\"M0 0h24v24H0V0z\" fill=\"none\"/>\n",
              "    <path d=\"M18.56 5.44l.94 2.06.94-2.06 2.06-.94-2.06-.94-.94-2.06-.94 2.06-2.06.94zm-11 1L8.5 8.5l.94-2.06 2.06-.94-2.06-.94L8.5 2.5l-.94 2.06-2.06.94zm10 10l.94 2.06.94-2.06 2.06-.94-2.06-.94-.94-2.06-.94 2.06-2.06.94z\"/><path d=\"M17.41 7.96l-1.37-1.37c-.4-.4-.92-.59-1.43-.59-.52 0-1.04.2-1.43.59L10.3 9.45l-7.72 7.72c-.78.78-.78 2.05 0 2.83L4 21.41c.39.39.9.59 1.41.59.51 0 1.02-.2 1.41-.59l7.78-7.78 2.81-2.81c.8-.78.8-2.07 0-2.86zM5.41 20L4 18.59l7.72-7.72 1.47 1.35L5.41 20z\"/>\n",
              "  </svg>\n",
              "      </button>\n",
              "      \n",
              "  <style>\n",
              "    .colab-df-container {\n",
              "      display:flex;\n",
              "      flex-wrap:wrap;\n",
              "      gap: 12px;\n",
              "    }\n",
              "\n",
              "    .colab-df-convert {\n",
              "      background-color: #E8F0FE;\n",
              "      border: none;\n",
              "      border-radius: 50%;\n",
              "      cursor: pointer;\n",
              "      display: none;\n",
              "      fill: #1967D2;\n",
              "      height: 32px;\n",
              "      padding: 0 0 0 0;\n",
              "      width: 32px;\n",
              "    }\n",
              "\n",
              "    .colab-df-convert:hover {\n",
              "      background-color: #E2EBFA;\n",
              "      box-shadow: 0px 1px 2px rgba(60, 64, 67, 0.3), 0px 1px 3px 1px rgba(60, 64, 67, 0.15);\n",
              "      fill: #174EA6;\n",
              "    }\n",
              "\n",
              "    [theme=dark] .colab-df-convert {\n",
              "      background-color: #3B4455;\n",
              "      fill: #D2E3FC;\n",
              "    }\n",
              "\n",
              "    [theme=dark] .colab-df-convert:hover {\n",
              "      background-color: #434B5C;\n",
              "      box-shadow: 0px 1px 3px 1px rgba(0, 0, 0, 0.15);\n",
              "      filter: drop-shadow(0px 1px 2px rgba(0, 0, 0, 0.3));\n",
              "      fill: #FFFFFF;\n",
              "    }\n",
              "  </style>\n",
              "\n",
              "      <script>\n",
              "        const buttonEl =\n",
              "          document.querySelector('#df-c6a08bd6-1406-4574-83e7-d26f573e8ee2 button.colab-df-convert');\n",
              "        buttonEl.style.display =\n",
              "          google.colab.kernel.accessAllowed ? 'block' : 'none';\n",
              "\n",
              "        async function convertToInteractive(key) {\n",
              "          const element = document.querySelector('#df-c6a08bd6-1406-4574-83e7-d26f573e8ee2');\n",
              "          const dataTable =\n",
              "            await google.colab.kernel.invokeFunction('convertToInteractive',\n",
              "                                                     [key], {});\n",
              "          if (!dataTable) return;\n",
              "\n",
              "          const docLinkHtml = 'Like what you see? Visit the ' +\n",
              "            '<a target=\"_blank\" href=https://colab.research.google.com/notebooks/data_table.ipynb>data table notebook</a>'\n",
              "            + ' to learn more about interactive tables.';\n",
              "          element.innerHTML = '';\n",
              "          dataTable['output_type'] = 'display_data';\n",
              "          await google.colab.output.renderOutput(dataTable, element);\n",
              "          const docLink = document.createElement('div');\n",
              "          docLink.innerHTML = docLinkHtml;\n",
              "          element.appendChild(docLink);\n",
              "        }\n",
              "      </script>\n",
              "    </div>\n",
              "  </div>\n",
              "  "
            ]
          },
          "metadata": {},
          "execution_count": 18
        }
      ]
    },
    {
      "cell_type": "markdown",
      "source": [
        "### 16 bit quantization"
      ],
      "metadata": {
        "id": "3sHV1WJMhkzn"
      }
    },
    {
      "cell_type": "code",
      "source": [
        "converter = tf.lite.TFLiteConverter.from_keras_model(iteratively_pruned_model)\n",
        "converter.optimizations = [tf.lite.Optimize.DEFAULT]\n",
        "converter.target_spec.supported_types = [tf.float16]\n",
        "fp16_quantized_tflite_iteratively_pruned_model = converter.convert()\n",
        "\n",
        "with open('fp16_quantized_tflite_iteratively_pruned_model.tflite', 'wb') as f:\n",
        "  f.write(fp16_quantized_tflite_iteratively_pruned_model)\n",
        "interpreter_fp16_quant_iteratively_pruned_model = tf.lite.Interpreter(model_path=str('fp16_quantized_tflite_iteratively_pruned_model.tflite'))\n",
        "interpreter_fp16_quant_iteratively_pruned_model.allocate_tensors()"
      ],
      "metadata": {
        "id": "9xmdth3nVmsM",
        "outputId": "20acac7f-027d-42c2-cd8c-be4e230636b4",
        "colab": {
          "base_uri": "https://localhost:8080/"
        }
      },
      "execution_count": null,
      "outputs": [
        {
          "output_type": "stream",
          "name": "stderr",
          "text": [
            "WARNING:absl:Found untraced functions such as conv2d_layer_call_fn, conv2d_layer_call_and_return_conditional_losses, _jit_compiled_convolution_op, conv2d_1_layer_call_fn, conv2d_1_layer_call_and_return_conditional_losses while saving (showing 5 of 27). These functions will not be directly callable after loading.\n"
          ]
        }
      ]
    },
    {
      "cell_type": "code",
      "source": [
        "quantized_16_bit_tflite_iteratively_pruned_model_evulation_df = evaluate_tflite_model(interpreter_fp16_quant_iteratively_pruned_model, 'fp16_quantized_tflite_iteratively_pruned_model.tflite', val_dataset)\n",
        "quantized_16_bit_tflite_iteratively_pruned_model_evulation_df"
      ],
      "metadata": {
        "id": "7tLNtbLsnsmv",
        "outputId": "6758b4ad-20f8-4289-eafe-3207a6ff67c2",
        "colab": {
          "base_uri": "https://localhost:8080/",
          "height": 244
        }
      },
      "execution_count": null,
      "outputs": [
        {
          "output_type": "stream",
          "name": "stdout",
          "text": [
            "\n",
            "Model Accuracy: 96.875 %\n",
            "Model Size: 56643550.00 bytes\n",
            "Average Inference Time per Image: 0.41989 s\n"
          ]
        },
        {
          "output_type": "execute_result",
          "data": {
            "text/plain": [
              "                              index                       0\n",
              "0                   Evaluation type              Evualation\n",
              "1                          Accuracy                96.875 %\n",
              "2                        Model Size     56.64355 Mega bytes\n",
              "3  Average Inference Time per Image  0.4198939460847113 sec"
            ],
            "text/html": [
              "\n",
              "  <div id=\"df-e2648aab-1f21-44fe-af91-9343b716f192\">\n",
              "    <div class=\"colab-df-container\">\n",
              "      <div>\n",
              "<style scoped>\n",
              "    .dataframe tbody tr th:only-of-type {\n",
              "        vertical-align: middle;\n",
              "    }\n",
              "\n",
              "    .dataframe tbody tr th {\n",
              "        vertical-align: top;\n",
              "    }\n",
              "\n",
              "    .dataframe thead th {\n",
              "        text-align: right;\n",
              "    }\n",
              "</style>\n",
              "<table border=\"1\" class=\"dataframe\">\n",
              "  <thead>\n",
              "    <tr style=\"text-align: right;\">\n",
              "      <th></th>\n",
              "      <th>index</th>\n",
              "      <th>0</th>\n",
              "    </tr>\n",
              "  </thead>\n",
              "  <tbody>\n",
              "    <tr>\n",
              "      <th>0</th>\n",
              "      <td>Evaluation type</td>\n",
              "      <td>Evualation</td>\n",
              "    </tr>\n",
              "    <tr>\n",
              "      <th>1</th>\n",
              "      <td>Accuracy</td>\n",
              "      <td>96.875 %</td>\n",
              "    </tr>\n",
              "    <tr>\n",
              "      <th>2</th>\n",
              "      <td>Model Size</td>\n",
              "      <td>56.64355 Mega bytes</td>\n",
              "    </tr>\n",
              "    <tr>\n",
              "      <th>3</th>\n",
              "      <td>Average Inference Time per Image</td>\n",
              "      <td>0.4198939460847113 sec</td>\n",
              "    </tr>\n",
              "  </tbody>\n",
              "</table>\n",
              "</div>\n",
              "      <button class=\"colab-df-convert\" onclick=\"convertToInteractive('df-e2648aab-1f21-44fe-af91-9343b716f192')\"\n",
              "              title=\"Convert this dataframe to an interactive table.\"\n",
              "              style=\"display:none;\">\n",
              "        \n",
              "  <svg xmlns=\"http://www.w3.org/2000/svg\" height=\"24px\"viewBox=\"0 0 24 24\"\n",
              "       width=\"24px\">\n",
              "    <path d=\"M0 0h24v24H0V0z\" fill=\"none\"/>\n",
              "    <path d=\"M18.56 5.44l.94 2.06.94-2.06 2.06-.94-2.06-.94-.94-2.06-.94 2.06-2.06.94zm-11 1L8.5 8.5l.94-2.06 2.06-.94-2.06-.94L8.5 2.5l-.94 2.06-2.06.94zm10 10l.94 2.06.94-2.06 2.06-.94-2.06-.94-.94-2.06-.94 2.06-2.06.94z\"/><path d=\"M17.41 7.96l-1.37-1.37c-.4-.4-.92-.59-1.43-.59-.52 0-1.04.2-1.43.59L10.3 9.45l-7.72 7.72c-.78.78-.78 2.05 0 2.83L4 21.41c.39.39.9.59 1.41.59.51 0 1.02-.2 1.41-.59l7.78-7.78 2.81-2.81c.8-.78.8-2.07 0-2.86zM5.41 20L4 18.59l7.72-7.72 1.47 1.35L5.41 20z\"/>\n",
              "  </svg>\n",
              "      </button>\n",
              "      \n",
              "  <style>\n",
              "    .colab-df-container {\n",
              "      display:flex;\n",
              "      flex-wrap:wrap;\n",
              "      gap: 12px;\n",
              "    }\n",
              "\n",
              "    .colab-df-convert {\n",
              "      background-color: #E8F0FE;\n",
              "      border: none;\n",
              "      border-radius: 50%;\n",
              "      cursor: pointer;\n",
              "      display: none;\n",
              "      fill: #1967D2;\n",
              "      height: 32px;\n",
              "      padding: 0 0 0 0;\n",
              "      width: 32px;\n",
              "    }\n",
              "\n",
              "    .colab-df-convert:hover {\n",
              "      background-color: #E2EBFA;\n",
              "      box-shadow: 0px 1px 2px rgba(60, 64, 67, 0.3), 0px 1px 3px 1px rgba(60, 64, 67, 0.15);\n",
              "      fill: #174EA6;\n",
              "    }\n",
              "\n",
              "    [theme=dark] .colab-df-convert {\n",
              "      background-color: #3B4455;\n",
              "      fill: #D2E3FC;\n",
              "    }\n",
              "\n",
              "    [theme=dark] .colab-df-convert:hover {\n",
              "      background-color: #434B5C;\n",
              "      box-shadow: 0px 1px 3px 1px rgba(0, 0, 0, 0.15);\n",
              "      filter: drop-shadow(0px 1px 2px rgba(0, 0, 0, 0.3));\n",
              "      fill: #FFFFFF;\n",
              "    }\n",
              "  </style>\n",
              "\n",
              "      <script>\n",
              "        const buttonEl =\n",
              "          document.querySelector('#df-e2648aab-1f21-44fe-af91-9343b716f192 button.colab-df-convert');\n",
              "        buttonEl.style.display =\n",
              "          google.colab.kernel.accessAllowed ? 'block' : 'none';\n",
              "\n",
              "        async function convertToInteractive(key) {\n",
              "          const element = document.querySelector('#df-e2648aab-1f21-44fe-af91-9343b716f192');\n",
              "          const dataTable =\n",
              "            await google.colab.kernel.invokeFunction('convertToInteractive',\n",
              "                                                     [key], {});\n",
              "          if (!dataTable) return;\n",
              "\n",
              "          const docLinkHtml = 'Like what you see? Visit the ' +\n",
              "            '<a target=\"_blank\" href=https://colab.research.google.com/notebooks/data_table.ipynb>data table notebook</a>'\n",
              "            + ' to learn more about interactive tables.';\n",
              "          element.innerHTML = '';\n",
              "          dataTable['output_type'] = 'display_data';\n",
              "          await google.colab.output.renderOutput(dataTable, element);\n",
              "          const docLink = document.createElement('div');\n",
              "          docLink.innerHTML = docLinkHtml;\n",
              "          element.appendChild(docLink);\n",
              "        }\n",
              "      </script>\n",
              "    </div>\n",
              "  </div>\n",
              "  "
            ]
          },
          "metadata": {},
          "execution_count": 20
        }
      ]
    },
    {
      "cell_type": "markdown",
      "source": [
        "### 8 bit quantization"
      ],
      "metadata": {
        "id": "9N3eZ6tCkZE_"
      }
    },
    {
      "cell_type": "code",
      "source": [
        "\n",
        "converter = tf.lite.TFLiteConverter.from_keras_model(iteratively_pruned_model)\n",
        "converter.optimizations = [tf.lite.Optimize.DEFAULT]\n",
        "# converter.target_spec.supported_types = [tf.float16]\n",
        "fp8_quantized_tflite_iteratively_pruned_model = converter.convert()\n",
        "\n",
        "with open('fp8_quantized_tflite_iteratively_pruned_model.tflite', 'wb') as f:\n",
        "  f.write(fp8_quantized_tflite_iteratively_pruned_model)\n",
        "interpreter_fp8_quant_iteratively_pruned_model = tf.lite.Interpreter(model_path=str('fp8_quantized_tflite_iteratively_pruned_model.tflite'))\n",
        "interpreter_fp8_quant_iteratively_pruned_model.allocate_tensors()"
      ],
      "metadata": {
        "id": "b83ecmlqkc2P",
        "outputId": "c2b402d9-1be0-4aec-d397-a851200a4e66",
        "colab": {
          "base_uri": "https://localhost:8080/"
        }
      },
      "execution_count": null,
      "outputs": [
        {
          "output_type": "stream",
          "name": "stderr",
          "text": [
            "WARNING:absl:Found untraced functions such as conv2d_layer_call_fn, conv2d_layer_call_and_return_conditional_losses, _jit_compiled_convolution_op, conv2d_1_layer_call_fn, conv2d_1_layer_call_and_return_conditional_losses while saving (showing 5 of 27). These functions will not be directly callable after loading.\n"
          ]
        }
      ]
    },
    {
      "cell_type": "code",
      "source": [
        "quantized_8_bit_tflite_iteratively_pruned_model_evulation_df = evaluate_tflite_model(interpreter_fp8_quant_iteratively_pruned_model, 'fp8_quantized_tflite_iteratively_pruned_model.tflite', val_dataset)\n",
        "quantized_8_bit_tflite_iteratively_pruned_model_evulation_df"
      ],
      "metadata": {
        "id": "pYyVTD-qlPkY",
        "colab": {
          "base_uri": "https://localhost:8080/",
          "height": 244
        },
        "outputId": "3ac5fa31-ca0a-4ae0-eca3-2a966955b191"
      },
      "execution_count": null,
      "outputs": [
        {
          "output_type": "stream",
          "name": "stdout",
          "text": [
            "\n",
            "Model Accuracy: 96.875 %\n",
            "Model Size: 92709052.00 bytes\n",
            "Average Inference Time per Image: 0.42671 s\n"
          ]
        },
        {
          "output_type": "execute_result",
          "data": {
            "text/plain": [
              "                              index                      0\n",
              "0                   Evaluation type             Evualation\n",
              "1                          Accuracy               96.875 %\n",
              "2                        Model Size   92.709052 Mega bytes\n",
              "3  Average Inference Time per Image  0.426711773706807 sec"
            ],
            "text/html": [
              "\n",
              "  <div id=\"df-33aecf23-8809-46a2-a469-c77a27e8bfdf\">\n",
              "    <div class=\"colab-df-container\">\n",
              "      <div>\n",
              "<style scoped>\n",
              "    .dataframe tbody tr th:only-of-type {\n",
              "        vertical-align: middle;\n",
              "    }\n",
              "\n",
              "    .dataframe tbody tr th {\n",
              "        vertical-align: top;\n",
              "    }\n",
              "\n",
              "    .dataframe thead th {\n",
              "        text-align: right;\n",
              "    }\n",
              "</style>\n",
              "<table border=\"1\" class=\"dataframe\">\n",
              "  <thead>\n",
              "    <tr style=\"text-align: right;\">\n",
              "      <th></th>\n",
              "      <th>index</th>\n",
              "      <th>0</th>\n",
              "    </tr>\n",
              "  </thead>\n",
              "  <tbody>\n",
              "    <tr>\n",
              "      <th>0</th>\n",
              "      <td>Evaluation type</td>\n",
              "      <td>Evualation</td>\n",
              "    </tr>\n",
              "    <tr>\n",
              "      <th>1</th>\n",
              "      <td>Accuracy</td>\n",
              "      <td>96.875 %</td>\n",
              "    </tr>\n",
              "    <tr>\n",
              "      <th>2</th>\n",
              "      <td>Model Size</td>\n",
              "      <td>92.709052 Mega bytes</td>\n",
              "    </tr>\n",
              "    <tr>\n",
              "      <th>3</th>\n",
              "      <td>Average Inference Time per Image</td>\n",
              "      <td>0.426711773706807 sec</td>\n",
              "    </tr>\n",
              "  </tbody>\n",
              "</table>\n",
              "</div>\n",
              "      <button class=\"colab-df-convert\" onclick=\"convertToInteractive('df-33aecf23-8809-46a2-a469-c77a27e8bfdf')\"\n",
              "              title=\"Convert this dataframe to an interactive table.\"\n",
              "              style=\"display:none;\">\n",
              "        \n",
              "  <svg xmlns=\"http://www.w3.org/2000/svg\" height=\"24px\"viewBox=\"0 0 24 24\"\n",
              "       width=\"24px\">\n",
              "    <path d=\"M0 0h24v24H0V0z\" fill=\"none\"/>\n",
              "    <path d=\"M18.56 5.44l.94 2.06.94-2.06 2.06-.94-2.06-.94-.94-2.06-.94 2.06-2.06.94zm-11 1L8.5 8.5l.94-2.06 2.06-.94-2.06-.94L8.5 2.5l-.94 2.06-2.06.94zm10 10l.94 2.06.94-2.06 2.06-.94-2.06-.94-.94-2.06-.94 2.06-2.06.94z\"/><path d=\"M17.41 7.96l-1.37-1.37c-.4-.4-.92-.59-1.43-.59-.52 0-1.04.2-1.43.59L10.3 9.45l-7.72 7.72c-.78.78-.78 2.05 0 2.83L4 21.41c.39.39.9.59 1.41.59.51 0 1.02-.2 1.41-.59l7.78-7.78 2.81-2.81c.8-.78.8-2.07 0-2.86zM5.41 20L4 18.59l7.72-7.72 1.47 1.35L5.41 20z\"/>\n",
              "  </svg>\n",
              "      </button>\n",
              "      \n",
              "  <style>\n",
              "    .colab-df-container {\n",
              "      display:flex;\n",
              "      flex-wrap:wrap;\n",
              "      gap: 12px;\n",
              "    }\n",
              "\n",
              "    .colab-df-convert {\n",
              "      background-color: #E8F0FE;\n",
              "      border: none;\n",
              "      border-radius: 50%;\n",
              "      cursor: pointer;\n",
              "      display: none;\n",
              "      fill: #1967D2;\n",
              "      height: 32px;\n",
              "      padding: 0 0 0 0;\n",
              "      width: 32px;\n",
              "    }\n",
              "\n",
              "    .colab-df-convert:hover {\n",
              "      background-color: #E2EBFA;\n",
              "      box-shadow: 0px 1px 2px rgba(60, 64, 67, 0.3), 0px 1px 3px 1px rgba(60, 64, 67, 0.15);\n",
              "      fill: #174EA6;\n",
              "    }\n",
              "\n",
              "    [theme=dark] .colab-df-convert {\n",
              "      background-color: #3B4455;\n",
              "      fill: #D2E3FC;\n",
              "    }\n",
              "\n",
              "    [theme=dark] .colab-df-convert:hover {\n",
              "      background-color: #434B5C;\n",
              "      box-shadow: 0px 1px 3px 1px rgba(0, 0, 0, 0.15);\n",
              "      filter: drop-shadow(0px 1px 2px rgba(0, 0, 0, 0.3));\n",
              "      fill: #FFFFFF;\n",
              "    }\n",
              "  </style>\n",
              "\n",
              "      <script>\n",
              "        const buttonEl =\n",
              "          document.querySelector('#df-33aecf23-8809-46a2-a469-c77a27e8bfdf button.colab-df-convert');\n",
              "        buttonEl.style.display =\n",
              "          google.colab.kernel.accessAllowed ? 'block' : 'none';\n",
              "\n",
              "        async function convertToInteractive(key) {\n",
              "          const element = document.querySelector('#df-33aecf23-8809-46a2-a469-c77a27e8bfdf');\n",
              "          const dataTable =\n",
              "            await google.colab.kernel.invokeFunction('convertToInteractive',\n",
              "                                                     [key], {});\n",
              "          if (!dataTable) return;\n",
              "\n",
              "          const docLinkHtml = 'Like what you see? Visit the ' +\n",
              "            '<a target=\"_blank\" href=https://colab.research.google.com/notebooks/data_table.ipynb>data table notebook</a>'\n",
              "            + ' to learn more about interactive tables.';\n",
              "          element.innerHTML = '';\n",
              "          dataTable['output_type'] = 'display_data';\n",
              "          await google.colab.output.renderOutput(dataTable, element);\n",
              "          const docLink = document.createElement('div');\n",
              "          docLink.innerHTML = docLinkHtml;\n",
              "          element.appendChild(docLink);\n",
              "        }\n",
              "      </script>\n",
              "    </div>\n",
              "  </div>\n",
              "  "
            ]
          },
          "metadata": {},
          "execution_count": 22
        }
      ]
    },
    {
      "cell_type": "markdown",
      "source": [
        "## Observation\n",
        "\n",
        "Based on the results, we can observe that the quantization with 32-bit, 16-bit and 8-bit effectively maintains the accuracy of the model prior to quantization. We do notice that the base model suffers around 8% loss in accuracy due to 32/16/8-bit quantization. We observed that the size reduction of the 32-bit base model is 87.9% smaller than the base model and 8-bit base model is 96.6% smaller than the base model. The pruned model results in much better accuracy, the accuracy is almost equivalent to the base model at 96.9%. We observed that the 32-bit and 8-bit pruned model is around 14.4% larger than the 75% pruned model and 8-bit pruned model is about 30% smaller than the 75% pruned model.  \n",
        "\n",
        "Hence, we will be choosing the 16-bit, 75% pruned model as our final model since it resulted in a smaller size than the other quantization levels while maintaining the accuracy. "
      ],
      "metadata": {
        "id": "oydlGRgg6-HQ"
      }
    },
    {
      "cell_type": "markdown",
      "source": [
        "![image.png](data:image/png;base64,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)"
      ],
      "metadata": {
        "id": "33Q3KGU43B6i"
      }
    },
    {
      "cell_type": "markdown",
      "source": [
        "![image.png](data:image/png;base64,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)"
      ],
      "metadata": {
        "id": "MdBcUbJ_3G3V"
      }
    },
    {
      "cell_type": "markdown",
      "source": [
        "## Conclusion\n",
        "\n",
        "The 16-bit quantization of the model produced the smallest model size without a significant reduction in accuracy. Through this all our metrics stayed around the same except for our model size which went down to just 56 MB.\n",
        "\n",
        "Table 4: Model comparison table\n",
        "\n",
        "| **Evaluation** | **Research paper model (SolNet model)** | **Tuned Model** | **Final Model** |\n",
        "| --- | --- | --- | --- |\n",
        "| **Accuracy** | 52.77 % | **96.18 %** | **96.88 %** |\n",
        "| **Model Size** | 212.5 MB | **648.7 MB** | **56.5 MB** |\n",
        "| **Inference Time** | 9.12 sec | **4.56 sec** | **0.42 sec** |\n",
        "\n",
        "We can see our final model's performance metrics are 96% accuracy, 56 MB model size, and 0.42 seconds inference time. These are significant improvements from the model we started off with. Overall, we have achieved our goals for this project based on these metrics.\n"
      ],
      "metadata": {
        "id": "_hrtEEXa0eIY"
      }
    }
  ],
  "metadata": {
    "accelerator": "GPU",
    "colab": {
      "provenance": [],
      "toc_visible": true,
      "include_colab_link": true
    },
    "gpuClass": "standard",
    "kernelspec": {
      "display_name": "Python 3",
      "name": "python3"
    },
    "language_info": {
      "name": "python"
    }
  },
  "nbformat": 4,
  "nbformat_minor": 0
}