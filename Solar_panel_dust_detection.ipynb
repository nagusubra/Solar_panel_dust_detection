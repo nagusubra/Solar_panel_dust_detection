{
  "nbformat": 4,
  "nbformat_minor": 0,
  "metadata": {
    "colab": {
      "provenance": [],
      "authorship_tag": "ABX9TyOrEMo3mbAYO72X23A72GzH",
      "include_colab_link": true
    },
    "kernelspec": {
      "name": "python3",
      "display_name": "Python 3"
    },
    "language_info": {
      "name": "python"
    },
    "accelerator": "GPU",
    "gpuClass": "standard"
  },
  "cells": [
    {
      "cell_type": "markdown",
      "metadata": {
        "id": "view-in-github",
        "colab_type": "text"
      },
      "source": [
        "<a href=\"https://colab.research.google.com/github/nagusubra/Solar_panel_dust_detection/blob/main/Solar_panel_dust_detection.ipynb\" target=\"_parent\"><img src=\"https://colab.research.google.com/assets/colab-badge.svg\" alt=\"Open In Colab\"/></a>"
      ]
    },
    {
      "cell_type": "markdown",
      "source": [
        "#Install libraries and modules"
      ],
      "metadata": {
        "id": "SQAMdUOp9lRn"
      }
    },
    {
      "cell_type": "code",
      "execution_count": 1,
      "metadata": {
        "id": "PLxJiY6u9Zh0",
        "colab": {
          "base_uri": "https://localhost:8080/"
        },
        "outputId": "d83d51e8-8100-4472-bc80-dcde4ab42093"
      },
      "outputs": [
        {
          "output_type": "stream",
          "name": "stdout",
          "text": [
            "Looking in indexes: https://pypi.org/simple, https://us-python.pkg.dev/colab-wheels/public/simple/\n",
            "Requirement already satisfied: openpyxl in /usr/local/lib/python3.8/dist-packages (3.0.10)\n",
            "Requirement already satisfied: et-xmlfile in /usr/local/lib/python3.8/dist-packages (from openpyxl) (1.1.0)\n",
            "Looking in indexes: https://pypi.org/simple, https://us-python.pkg.dev/colab-wheels/public/simple/\n",
            "Requirement already satisfied: xlsxwriter in /usr/local/lib/python3.8/dist-packages (3.0.8)\n"
          ]
        }
      ],
      "source": [
        "!pip install -q tensorflow-model-optimization\n",
        "!pip install openpyxl\n",
        "!pip install xlsxwriter\n",
        "\n",
        "import xlsxwriter\n",
        "import openpyxl\n",
        "from openpyxl import Workbook\n",
        "from openpyxl.drawing.image import Image\n",
        "\n",
        "import tempfile\n",
        "from tensorflow import keras\n",
        "import tensorflow_model_optimization as tfmot\n",
        "\n",
        "from tqdm import tqdm_notebook as tqdm\n",
        "import os\n",
        "import time\n",
        "import pickle\n",
        "from matplotlib import pyplot as plt\n",
        "import numpy as np\n",
        "import pandas as pd\n",
        "import tensorflow as tf\n",
        "from tensorflow.keras import datasets, layers, models\n",
        "import matplotlib.pyplot as plt"
      ]
    },
    {
      "cell_type": "code",
      "source": [
        "import tensorflow as tf\n",
        "from tensorflow.keras.models import Model, load_model\n",
        "from tensorflow.keras.layers import Input, Conv2D, MaxPooling2D, Dense, Flatten, BatchNormalization, Dropout\n",
        "from tensorflow.keras.preprocessing import image_dataset_from_directory\n",
        "from tensorflow.keras.optimizers import Adam, SGD\n",
        "from tensorflow.keras.utils import plot_model\n",
        "from tensorflow.keras.losses import binary_crossentropy\n",
        "from sklearn.model_selection import cross_val_score\n",
        "\n",
        "import seaborn as sn\n",
        "import pandas as pd\n",
        "import matplotlib.pyplot as plt\n",
        "import tensorflow as tf\n",
        "import datetime\n",
        "\n",
        "import os\n",
        "import zipfile"
      ],
      "metadata": {
        "id": "qeqtoyTCppFF"
      },
      "execution_count": 2,
      "outputs": []
    },
    {
      "cell_type": "code",
      "source": [
        "# mounting google drive (if you are using Colab)\n",
        "from google.colab import drive\n",
        "drive.mount('/content/drive')"
      ],
      "metadata": {
        "colab": {
          "base_uri": "https://localhost:8080/"
        },
        "id": "-WVnbwh-9x2l",
        "outputId": "4676a68d-d5f7-40b4-d4a9-b2c25432be4f"
      },
      "execution_count": 3,
      "outputs": [
        {
          "output_type": "stream",
          "name": "stdout",
          "text": [
            "Drive already mounted at /content/drive; to attempt to forcibly remount, call drive.mount(\"/content/drive\", force_remount=True).\n"
          ]
        }
      ]
    },
    {
      "cell_type": "code",
      "source": [
        "# from os import listdir\n",
        "# from os.path import isfile, join\n",
        "\n",
        "# mypath = '/content/drive/MyDrive/Solar_panel_dust_detection/dataset_2/dirty'\n",
        "\n",
        "# onlyfiles = [ f  for f in listdir(mypath) if isfile(join(mypath, f))]\n",
        "\n",
        "# onlyfiles"
      ],
      "metadata": {
        "id": "z1LwhLkSBQ3u"
      },
      "execution_count": 4,
      "outputs": []
    },
    {
      "cell_type": "code",
      "source": [
        "# from os import listdir\n",
        "# from os.path import isfile, join\n",
        "\n",
        "# mypath = '/content/drive/MyDrive/Solar_panel_dust_detection/dataset_2/dirty'\n",
        "\n",
        "# onlyfiles = [ os.rename(join(mypath, f), join(mypath, f.split(\".\")[0] + \"_dirty\" + \".jpg\"))  for f in listdir(mypath) if isfile(join(mypath, f))]\n",
        "\n",
        "# onlyfiles"
      ],
      "metadata": {
        "id": "bwArxFhKADwi"
      },
      "execution_count": 5,
      "outputs": []
    },
    {
      "cell_type": "markdown",
      "source": [
        "# Evaluation function"
      ],
      "metadata": {
        "id": "YjpFrB77S6QU"
      }
    },
    {
      "cell_type": "code",
      "source": [
        "# Evaluate Model Size\n",
        "def get_gzipped_model_size(file):\n",
        "  # Returns size of gzipped model, in bytes.\n",
        "\n",
        "  _, zipped_file = tempfile.mkstemp('.zip')\n",
        "  with zipfile.ZipFile(zipped_file, 'w', compression=zipfile.ZIP_DEFLATED) as f:\n",
        "    f.write(file)\n",
        "  return os.path.getsize(zipped_file)\n",
        "\n",
        "def evaluate_model(model_path, model_info, val_dataset):\n",
        "\n",
        "  # Evaluate test accuracy and test loss\n",
        "  model = tf.keras.models.load_model(model_path)\n",
        "  test_loss, test_acc = model.evaluate(val_dataset, verbose=0)\n",
        "\n",
        "  # Evaluate Model Size\n",
        "  model_size = get_gzipped_model_size(model_path)\n",
        "\n",
        "  # Evaluate Inference Time\n",
        "  startTime = time.time()\n",
        "  prediction = model.predict(val_dataset)\n",
        "  executionTime = (time.time() - startTime)/len(val_dataset)\n",
        "\n",
        "  # Print\n",
        "  print('\\nModel Accuracy:', test_acc*100, '%')\n",
        "  print(\"Model Size: %.2f bytes\" % (model_size))\n",
        "  print(\"Inference Time is: \", executionTime, \"s\")\n",
        "\n",
        "  # Build Evalution dataframe\n",
        "  evulation_dict = {\n",
        "                      \"Evaluation type\": \"Evualation\",\n",
        "                      \"Model Information\": model_info,\n",
        "                      \"Accuracy\": str(test_acc*100) + \" %\",\n",
        "                      \"Loss\": str(test_loss*100) + \" %\",\n",
        "                      \"Model Size\": str(model_size) + \" bytes\",\n",
        "                      \"Inference Time\": str(executionTime) + \" sec\"\n",
        "                    }\n",
        "  \n",
        "  evulation_df = pd.DataFrame.from_dict(evulation_dict, orient='index').reset_index()\n",
        "\n",
        "\n",
        "  return test_acc, model_size, executionTime, evulation_df"
      ],
      "metadata": {
        "id": "oB55zL05S_Oe"
      },
      "execution_count": 6,
      "outputs": []
    },
    {
      "cell_type": "markdown",
      "source": [
        "# Build base model"
      ],
      "metadata": {
        "id": "vfkTB4_DiYTF"
      }
    },
    {
      "cell_type": "code",
      "source": [
        "def SolNet(in_size):\n",
        "  i = Input(in_size)\n",
        "  r = Conv2D(filters=96, kernel_size=(11,11), strides=(4,4), activation='relu', input_shape=(227,227,3))(i)\n",
        "  r = BatchNormalization()(r)\n",
        "  r = MaxPooling2D(pool_size=(3,3), strides=(2,2))(r)\n",
        "  r = Conv2D(filters=256, kernel_size=(5,5), strides=(1,1), activation='relu', padding=\"same\")(r)\n",
        "  r = BatchNormalization()(r)\n",
        "  r = MaxPooling2D(pool_size=(3,3), strides=(2,2))(r)\n",
        "  r = Conv2D(filters=384, kernel_size=(3,3), strides=(1,1), activation='relu', padding=\"same\")(r)\n",
        "  r = BatchNormalization()(r)\n",
        "  r = Conv2D(filters=384, kernel_size=(3,3), strides=(1,1), activation='relu', padding=\"same\")(r)\n",
        "  r = BatchNormalization()(r)\n",
        "  r = Conv2D(filters=256, kernel_size=(3,3), strides=(1,1), activation='relu', padding=\"same\")(r)\n",
        "  r = BatchNormalization()(r)\n",
        "  r = MaxPooling2D(pool_size=(3,3), strides=(2,2))(r)\n",
        "  r = Flatten()(r)\n",
        "  r = Dense(4096, activation='relu')(r)\n",
        "  r = Dropout(0.5)(r)\n",
        "  r = Dense(4096, activation='relu')(r)\n",
        "  r = Dropout(0.5)(r)\n",
        "  o = Dense(1, activation='sigmoid')(r)\n",
        "  SolNet = Model(i, o)\n",
        "  SolNet.save('models/solnet.hdf5')\n",
        "  SolNet.compile(optimizer=Adam(.0001, .8, .9), loss=binary_crossentropy, metrics=['acc'])\n",
        "  SolNet.summary()\n",
        "  return SolNet"
      ],
      "metadata": {
        "id": "4gVkkz__icfY"
      },
      "execution_count": null,
      "outputs": []
    },
    {
      "cell_type": "markdown",
      "source": [
        "#Base Model"
      ],
      "metadata": {
        "id": "4ZeT32zWUEnd"
      }
    },
    {
      "cell_type": "code",
      "source": [
        "def SolNet(in_size):\n",
        "  i = Input(in_size)\n",
        "  r = Conv2D(filters=96, kernel_size=(11,11), strides=(4,4), activation='relu', input_shape=(227,227,3))(i)\n",
        "  r = BatchNormalization()(r)\n",
        "  r = MaxPooling2D(pool_size=(3,3), strides=(2,2))(r)\n",
        "  r = Conv2D(filters=256, kernel_size=(5,5), strides=(1,1), activation='relu', padding=\"same\")(r)\n",
        "  r = BatchNormalization()(r)\n",
        "  r = MaxPooling2D(pool_size=(3,3), strides=(2,2))(r)\n",
        "  r = Conv2D(filters=384, kernel_size=(3,3), strides=(1,1), activation='relu', padding=\"same\")(r)\n",
        "  r = BatchNormalization()(r)\n",
        "  r = Conv2D(filters=384, kernel_size=(3,3), strides=(1,1), activation='relu', padding=\"same\")(r)\n",
        "  r = BatchNormalization()(r)\n",
        "  r = Conv2D(filters=256, kernel_size=(3,3), strides=(1,1), activation='relu', padding=\"same\")(r)\n",
        "  r = BatchNormalization()(r)\n",
        "  r = MaxPooling2D(pool_size=(3,3), strides=(2,2))(r)\n",
        "  r = Flatten()(r)\n",
        "  r = Dense(4096, activation='relu')(r)\n",
        "  r = Dropout(0.5)(r)\n",
        "  r = Dense(4096, activation='relu')(r)\n",
        "  r = Dropout(0.5)(r)\n",
        "  o = Dense(1, activation='sigmoid')(r)\n",
        "  SolNet = Model(i, o)\n",
        "  SolNet.save('models/solnet.hdf5')\n",
        "  SolNet.save('/content/drive/MyDrive/Solar_panel_dust_detection/models/solnet'+str(datetime.datetime.today().date())+'.hdf5')\n",
        "  SolNet.save('/content/drive/MyDrive/Solar_panel_dust_detection/models/solnet'+str(datetime.datetime.today().date())+'.h5')\n",
        "  SolNet.compile(optimizer=Adam(.0001, .8, .9), loss=binary_crossentropy, metrics=['acc'])\n",
        "  SolNet.summary()\n",
        "  return SolNet"
      ],
      "metadata": {
        "id": "8nc6lZnKUixz"
      },
      "execution_count": null,
      "outputs": []
    },
    {
      "cell_type": "code",
      "source": [
        "def evaluate():\n",
        "  path = \"/content/models/solnet.hdf5\"\n",
        "  solnet = load_model(path, compile=False)\n",
        "  # history = solnet.history()\n",
        "  plt.plot(history.history['loss'])\n",
        "  plt.plot(history.history['acc'])\n",
        "  plt.title('acc loss vs epoch')\n",
        "  plt.xlabel('epoch')\n",
        "  plt.legend(['loss', 'acc'], loc='upper left')\n",
        "  plt.show()"
      ],
      "metadata": {
        "id": "dnGGfkkgUo63"
      },
      "execution_count": null,
      "outputs": []
    },
    {
      "cell_type": "code",
      "source": [
        "# Evaluate Model Size\n",
        "def get_gzipped_model_size(file):\n",
        "  # Returns size of gzipped model, in bytes.\n",
        "  import os\n",
        "  import zipfile\n",
        "\n",
        "  _, zipped_file = tempfile.mkstemp('.zip')\n",
        "  with zipfile.ZipFile(zipped_file, 'w', compression=zipfile.ZIP_DEFLATED) as f:\n",
        "    f.write(file)\n",
        "\n",
        "  return os.path.getsize(zipped_file)"
      ],
      "metadata": {
        "id": "QA55ZOpsaMiR"
      },
      "execution_count": null,
      "outputs": []
    },
    {
      "cell_type": "code",
      "source": [
        "batch_size = 32\n",
        "#location = 'dataset/'\n",
        "location = \"/content/drive/MyDrive/Solar_panel_dust_detection/dataset_1\"\n",
        "label_mode = 'binary'\n",
        "seed = 10 #changed for each fold made manually\n",
        "epochs=30\n",
        "#epochs=5\n",
        "\n",
        "\n",
        "class_names = ['clean', 'dirty']\n",
        "in_size = [227, 227, 3]\n",
        "\n",
        "tr_dataset = image_dataset_from_directory(directory=location, label_mode= label_mode, class_names=class_names,\n",
        "                                          seed=seed, labels='inferred', image_size=in_size[:-1], \n",
        "                                          subset = 'training', batch_size=batch_size, validation_split=.2)\n",
        "\n",
        "val_dataset = image_dataset_from_directory(directory=location, label_mode= label_mode, class_names=class_names,\n",
        "                                          seed=seed, labels='inferred', image_size=in_size[:-1],\n",
        "                                          subset = 'validation', batch_size=batch_size, validation_split=.2)\n",
        "\n",
        "in_size = [227, 227, 3]\n",
        "SolNet = SolNet(in_size)\n",
        "\n",
        "\n",
        "\n",
        "startTime = time.time()\n",
        "history = SolNet.fit(tr_dataset, validation_data=val_dataset, epochs=epochs, batch_size=batch_size)\n",
        "executionTime = (time.time() - startTime)"
      ],
      "metadata": {
        "colab": {
          "base_uri": "https://localhost:8080/"
        },
        "id": "fNHot2r1TJdo",
        "outputId": "f92614a9-136b-4e8e-9553-99119cd8b259"
      },
      "execution_count": null,
      "outputs": [
        {
          "output_type": "stream",
          "name": "stdout",
          "text": [
            "Found 1440 files belonging to 2 classes.\n",
            "Using 1152 files for training.\n",
            "Found 1440 files belonging to 2 classes.\n",
            "Using 288 files for validation.\n"
          ]
        },
        {
          "output_type": "stream",
          "name": "stderr",
          "text": [
            "WARNING:tensorflow:Compiled the loaded model, but the compiled metrics have yet to be built. `model.compile_metrics` will be empty until you train or evaluate the model.\n",
            "WARNING:tensorflow:Compiled the loaded model, but the compiled metrics have yet to be built. `model.compile_metrics` will be empty until you train or evaluate the model.\n",
            "WARNING:tensorflow:Compiled the loaded model, but the compiled metrics have yet to be built. `model.compile_metrics` will be empty until you train or evaluate the model.\n"
          ]
        },
        {
          "output_type": "stream",
          "name": "stdout",
          "text": [
            "Model: \"model_2\"\n",
            "_________________________________________________________________\n",
            " Layer (type)                Output Shape              Param #   \n",
            "=================================================================\n",
            " input_3 (InputLayer)        [(None, 227, 227, 3)]     0         \n",
            "                                                                 \n",
            " conv2d_10 (Conv2D)          (None, 55, 55, 96)        34944     \n",
            "                                                                 \n",
            " batch_normalization_10 (Bat  (None, 55, 55, 96)       384       \n",
            " chNormalization)                                                \n",
            "                                                                 \n",
            " max_pooling2d_6 (MaxPooling  (None, 27, 27, 96)       0         \n",
            " 2D)                                                             \n",
            "                                                                 \n",
            " conv2d_11 (Conv2D)          (None, 27, 27, 256)       614656    \n",
            "                                                                 \n",
            " batch_normalization_11 (Bat  (None, 27, 27, 256)      1024      \n",
            " chNormalization)                                                \n",
            "                                                                 \n",
            " max_pooling2d_7 (MaxPooling  (None, 13, 13, 256)      0         \n",
            " 2D)                                                             \n",
            "                                                                 \n",
            " conv2d_12 (Conv2D)          (None, 13, 13, 384)       885120    \n",
            "                                                                 \n",
            " batch_normalization_12 (Bat  (None, 13, 13, 384)      1536      \n",
            " chNormalization)                                                \n",
            "                                                                 \n",
            " conv2d_13 (Conv2D)          (None, 13, 13, 384)       1327488   \n",
            "                                                                 \n",
            " batch_normalization_13 (Bat  (None, 13, 13, 384)      1536      \n",
            " chNormalization)                                                \n",
            "                                                                 \n",
            " conv2d_14 (Conv2D)          (None, 13, 13, 256)       884992    \n",
            "                                                                 \n",
            " batch_normalization_14 (Bat  (None, 13, 13, 256)      1024      \n",
            " chNormalization)                                                \n",
            "                                                                 \n",
            " max_pooling2d_8 (MaxPooling  (None, 6, 6, 256)        0         \n",
            " 2D)                                                             \n",
            "                                                                 \n",
            " flatten_2 (Flatten)         (None, 9216)              0         \n",
            "                                                                 \n",
            " dense_6 (Dense)             (None, 4096)              37752832  \n",
            "                                                                 \n",
            " dropout_4 (Dropout)         (None, 4096)              0         \n",
            "                                                                 \n",
            " dense_7 (Dense)             (None, 4096)              16781312  \n",
            "                                                                 \n",
            " dropout_5 (Dropout)         (None, 4096)              0         \n",
            "                                                                 \n",
            " dense_8 (Dense)             (None, 1)                 4097      \n",
            "                                                                 \n",
            "=================================================================\n",
            "Total params: 58,290,945\n",
            "Trainable params: 58,288,193\n",
            "Non-trainable params: 2,752\n",
            "_________________________________________________________________\n",
            "Epoch 1/30\n",
            "36/36 [==============================] - 136s 3s/step - loss: 1.3287 - acc: 0.7509 - val_loss: 8.5201 - val_acc: 0.5278\n",
            "Epoch 2/30\n",
            "36/36 [==============================] - 123s 3s/step - loss: 0.5634 - acc: 0.8681 - val_loss: 7.3613 - val_acc: 0.5278\n",
            "Epoch 3/30\n",
            "36/36 [==============================] - 123s 3s/step - loss: 0.5111 - acc: 0.8872 - val_loss: 7.3834 - val_acc: 0.5347\n",
            "Epoch 4/30\n",
            "36/36 [==============================] - 124s 3s/step - loss: 0.4732 - acc: 0.8932 - val_loss: 2.7895 - val_acc: 0.5764\n",
            "Epoch 5/30\n",
            "36/36 [==============================] - 125s 3s/step - loss: 0.4033 - acc: 0.9167 - val_loss: 10.7058 - val_acc: 0.5694\n",
            "Epoch 6/30\n",
            "36/36 [==============================] - 140s 3s/step - loss: 0.3882 - acc: 0.9297 - val_loss: 4.1673 - val_acc: 0.5868\n",
            "Epoch 7/30\n",
            "36/36 [==============================] - 123s 3s/step - loss: 0.3192 - acc: 0.9349 - val_loss: 3.8223 - val_acc: 0.5972\n",
            "Epoch 8/30\n",
            "36/36 [==============================] - 125s 3s/step - loss: 0.1705 - acc: 0.9618 - val_loss: 6.1910 - val_acc: 0.5868\n",
            "Epoch 9/30\n",
            "36/36 [==============================] - 124s 3s/step - loss: 0.1363 - acc: 0.9714 - val_loss: 1.5333 - val_acc: 0.8576\n",
            "Epoch 10/30\n",
            "36/36 [==============================] - 125s 3s/step - loss: 0.1833 - acc: 0.9670 - val_loss: 0.5103 - val_acc: 0.9167\n",
            "Epoch 11/30\n",
            "36/36 [==============================] - 124s 3s/step - loss: 0.1321 - acc: 0.9705 - val_loss: 0.8718 - val_acc: 0.8819\n",
            "Epoch 12/30\n",
            "36/36 [==============================] - 125s 3s/step - loss: 0.2389 - acc: 0.9609 - val_loss: 0.4121 - val_acc: 0.9340\n",
            "Epoch 13/30\n",
            "36/36 [==============================] - 140s 3s/step - loss: 0.1387 - acc: 0.9826 - val_loss: 0.6678 - val_acc: 0.9583\n",
            "Epoch 14/30\n",
            "36/36 [==============================] - 139s 3s/step - loss: 0.1340 - acc: 0.9705 - val_loss: 7.4928 - val_acc: 0.6319\n",
            "Epoch 15/30\n",
            "36/36 [==============================] - 122s 3s/step - loss: 0.2673 - acc: 0.9722 - val_loss: 0.3442 - val_acc: 0.9549\n",
            "Epoch 16/30\n",
            "36/36 [==============================] - 124s 3s/step - loss: 0.1086 - acc: 0.9809 - val_loss: 0.3892 - val_acc: 0.9583\n",
            "Epoch 17/30\n",
            "36/36 [==============================] - 139s 3s/step - loss: 0.1046 - acc: 0.9809 - val_loss: 0.9088 - val_acc: 0.9132\n",
            "Epoch 18/30\n",
            "36/36 [==============================] - 122s 3s/step - loss: 0.2180 - acc: 0.9661 - val_loss: 1.0480 - val_acc: 0.8854\n",
            "Epoch 19/30\n",
            "36/36 [==============================] - 124s 3s/step - loss: 0.1899 - acc: 0.9800 - val_loss: 1.2210 - val_acc: 0.8229\n",
            "Epoch 20/30\n",
            "36/36 [==============================] - 122s 3s/step - loss: 0.1377 - acc: 0.9792 - val_loss: 1.9532 - val_acc: 0.7604\n",
            "Epoch 21/30\n",
            "36/36 [==============================] - 139s 3s/step - loss: 0.0598 - acc: 0.9852 - val_loss: 0.9626 - val_acc: 0.9271\n",
            "Epoch 22/30\n",
            "36/36 [==============================] - 124s 3s/step - loss: 0.1309 - acc: 0.9731 - val_loss: 3.9112 - val_acc: 0.6389\n",
            "Epoch 23/30\n",
            "36/36 [==============================] - 122s 3s/step - loss: 0.0810 - acc: 0.9878 - val_loss: 1.4010 - val_acc: 0.8854\n",
            "Epoch 24/30\n",
            "36/36 [==============================] - 120s 3s/step - loss: 0.1481 - acc: 0.9792 - val_loss: 3.0901 - val_acc: 0.7326\n",
            "Epoch 25/30\n",
            "36/36 [==============================] - 124s 3s/step - loss: 0.1644 - acc: 0.9835 - val_loss: 0.5830 - val_acc: 0.9444\n",
            "Epoch 26/30\n",
            "36/36 [==============================] - 121s 3s/step - loss: 0.0762 - acc: 0.9861 - val_loss: 4.4218 - val_acc: 0.6389\n",
            "Epoch 27/30\n",
            "36/36 [==============================] - 123s 3s/step - loss: 0.0837 - acc: 0.9792 - val_loss: 2.0026 - val_acc: 0.7917\n",
            "Epoch 28/30\n",
            "36/36 [==============================] - 124s 3s/step - loss: 0.0452 - acc: 0.9913 - val_loss: 1.2121 - val_acc: 0.8993\n",
            "Epoch 29/30\n",
            "36/36 [==============================] - 123s 3s/step - loss: 0.0694 - acc: 0.9818 - val_loss: 8.5187 - val_acc: 0.6319\n",
            "Epoch 30/30\n",
            "36/36 [==============================] - 125s 3s/step - loss: 0.0666 - acc: 0.9870 - val_loss: 1.8293 - val_acc: 0.8264\n"
          ]
        }
      ]
    },
    {
      "cell_type": "code",
      "source": [
        "print(history.history)"
      ],
      "metadata": {
        "colab": {
          "base_uri": "https://localhost:8080/"
        },
        "id": "d4C6_Bb-Yi7w",
        "outputId": "30c81687-c373-49e2-8ebb-6e9411113b92"
      },
      "execution_count": null,
      "outputs": [
        {
          "output_type": "stream",
          "name": "stdout",
          "text": [
            "{'loss': [1.3287363052368164, 0.5634193420410156, 0.5111455321311951, 0.4731604754924774, 0.4032560884952545, 0.3881598711013794, 0.31916534900665283, 0.17050495743751526, 0.13634862005710602, 0.18331176042556763, 0.13211464881896973, 0.2388705164194107, 0.13867801427841187, 0.13399434089660645, 0.26728636026382446, 0.10856659710407257, 0.1045788899064064, 0.21800419688224792, 0.18994426727294922, 0.13771790266036987, 0.05984649434685707, 0.13090425729751587, 0.08103565126657486, 0.14808224141597748, 0.16438354551792145, 0.07622100412845612, 0.0836929902434349, 0.04517742618918419, 0.0693543553352356, 0.06658089905977249], 'acc': [0.7508680820465088, 0.8680555820465088, 0.8871527910232544, 0.8932291865348816, 0.9166666865348816, 0.9296875, 0.9348958134651184, 0.9618055820465088, 0.9713541865348816, 0.9670138955116272, 0.9704861044883728, 0.9609375, 0.9826388955116272, 0.9704861044883728, 0.9722222089767456, 0.9809027910232544, 0.9809027910232544, 0.9661458134651184, 0.9800347089767456, 0.9791666865348816, 0.9852430820465088, 0.9730902910232544, 0.9878472089767456, 0.9791666865348816, 0.9835069179534912, 0.9861111044883728, 0.9791666865348816, 0.9913194179534912, 0.9817708134651184, 0.9869791865348816], 'val_loss': [8.52010440826416, 7.361338138580322, 7.383418560028076, 2.789459466934204, 10.705753326416016, 4.16728401184082, 3.822296619415283, 6.191023826599121, 1.5332815647125244, 0.5103074312210083, 0.8718014359474182, 0.41206830739974976, 0.6678481698036194, 7.492780685424805, 0.3441919982433319, 0.38924723863601685, 0.9088354110717773, 1.048040509223938, 1.220988154411316, 1.9532119035720825, 0.9626182913780212, 3.9111812114715576, 1.4010354280471802, 3.0900540351867676, 0.5830243825912476, 4.421757221221924, 2.002596616744995, 1.2120826244354248, 8.51870346069336, 1.8292909860610962], 'val_acc': [0.5277777910232544, 0.5277777910232544, 0.5347222089767456, 0.5763888955116272, 0.5694444179534912, 0.5868055820465088, 0.5972222089767456, 0.5868055820465088, 0.8576388955116272, 0.9166666865348816, 0.8819444179534912, 0.9340277910232544, 0.9583333134651184, 0.6319444179534912, 0.9548611044883728, 0.9583333134651184, 0.9131944179534912, 0.8854166865348816, 0.8229166865348816, 0.7604166865348816, 0.9270833134651184, 0.6388888955116272, 0.8854166865348816, 0.7326388955116272, 0.9444444179534912, 0.6388888955116272, 0.7916666865348816, 0.8993055820465088, 0.6319444179534912, 0.8263888955116272]}\n"
          ]
        }
      ]
    },
    {
      "cell_type": "code",
      "source": [
        "evaluate()"
      ],
      "metadata": {
        "colab": {
          "base_uri": "https://localhost:8080/",
          "height": 295
        },
        "id": "IJOz2CyMbpef",
        "outputId": "02c34663-95f2-4396-cfb0-3b2c32d5fa36"
      },
      "execution_count": null,
      "outputs": [
        {
          "output_type": "display_data",
          "data": {
            "text/plain": [
              "<Figure size 432x288 with 1 Axes>"
            ],
            "image/png": "[encoded data removed]"
          },
          "metadata": {
            "needs_background": "light"
          }
        }
      ]
    },
    {
      "cell_type": "code",
      "source": [
        "plt.plot(history.history['acc'], label='accuracy')\n",
        "plt.plot(history.history['val_acc'], label = 'val_accuracy')\n",
        "plt.title('model accuracy plot')\n",
        "plt.xlabel('Epoch')\n",
        "plt.ylabel('Accuracy')\n",
        "plt.legend(loc='best')\n",
        "plt.show()\n",
        "\n",
        "plt.plot(history.history['loss'])\n",
        "plt.plot(history.history['val_loss'])\n",
        "plt.title('model loss plot')\n",
        "plt.ylabel('loss')\n",
        "plt.xlabel('epoch')\n",
        "plt.legend(['train', 'val'], loc='best')\n",
        "plt.show()"
      ],
      "metadata": {
        "colab": {
          "base_uri": "https://localhost:8080/",
          "height": 573
        },
        "id": "ei6SYOpNYk0n",
        "outputId": "2a5d456b-7924-4a71-a491-e4ed9033544a"
      },
      "execution_count": null,
      "outputs": [
        {
          "output_type": "display_data",
          "data": {
            "text/plain": [
              "<Figure size 432x288 with 1 Axes>"
            ],
            "image/png": "[encoded data removed]"
          },
          "metadata": {
            "needs_background": "light"
          }
        },
        {
          "output_type": "display_data",
          "data": {
            "text/plain": [
              "<Figure size 432x288 with 1 Axes>"
            ],
            "image/png": "[encoded data removed]"
          },
          "metadata": {
            "needs_background": "light"
          }
        }
      ]
    },
    {
      "cell_type": "code",
      "source": [
        "print(\"Inference Time is\", executionTime/60, \"mins\")"
      ],
      "metadata": {
        "colab": {
          "base_uri": "https://localhost:8080/"
        },
        "id": "4lFSom8Hg-ut",
        "outputId": "bbaa891d-6624-4f28-e738-70ec5b781aa2"
      },
      "execution_count": null,
      "outputs": [
        {
          "output_type": "stream",
          "name": "stdout",
          "text": [
            "Inference Time is 65.25891411304474 mins\n"
          ]
        }
      ]
    },
    {
      "cell_type": "markdown",
      "source": [
        "# Updated Solnet model"
      ],
      "metadata": {
        "id": "khzhvYrY2KLt"
      }
    },
    {
      "cell_type": "code",
      "source": [
        "def SolNet_updated(in_size, learning_rate, model_path):\n",
        "  i = Input(in_size)\n",
        "  r = Conv2D(filters=96, kernel_size=(11,11), strides=(4,4), activation='relu', input_shape=(227,227,3))(i)\n",
        "  r = BatchNormalization()(r)\n",
        "  r = MaxPooling2D(pool_size=(3,3), strides=(2,2))(r)\n",
        "  r = Conv2D(filters=256, kernel_size=(5,5), strides=(1,1), activation='relu', padding=\"same\")(r)\n",
        "  r = BatchNormalization()(r)\n",
        "  r = MaxPooling2D(pool_size=(3,3), strides=(2,2))(r)\n",
        "  r = Conv2D(filters=384, kernel_size=(3,3), strides=(1,1), activation='relu', padding=\"same\")(r)\n",
        "  r = BatchNormalization()(r)\n",
        "  r = Conv2D(filters=384, kernel_size=(3,3), strides=(1,1), activation='relu', padding=\"same\")(r)\n",
        "  r = BatchNormalization()(r)\n",
        "  r = Conv2D(filters=256, kernel_size=(3,3), strides=(1,1), activation='relu', padding=\"same\")(r)\n",
        "  r = BatchNormalization()(r)\n",
        "  r = MaxPooling2D(pool_size=(3,3), strides=(2,2))(r)\n",
        "  r = Flatten()(r)\n",
        "  r = Dense(4096, activation='relu')(r)\n",
        "  r = Dropout(0.5)(r)\n",
        "  r = Dense(4096, activation='relu')(r)\n",
        "  r = Dropout(0.5)(r)\n",
        "  o = Dense(1, activation='sigmoid')(r)\n",
        "\n",
        "\n",
        "  SolNet = Model(inputs = i, outputs = o)\n",
        "\n",
        "\n",
        "\n",
        "  # SolNet.save('models/solnet.hdf5')\n",
        "  # SolNet.save('/content/drive/MyDrive/Solar_panel_dust_detection/models/solnet_updated_'+str(datetime.datetime.today().date())+'.hdf5')\n",
        "  SolNet.compile(optimizer=Adam(learning_rate), loss=binary_crossentropy, metrics=['acc'])\n",
        "  SolNet.save(model_path)\n",
        "  SolNet.summary()\n",
        "  return SolNet"
      ],
      "metadata": {
        "id": "ZeVlShut2Rsc"
      },
      "execution_count": 5,
      "outputs": []
    },
    {
      "cell_type": "code",
      "source": [
        "model_path = '/content/drive/MyDrive/Solar_panel_dust_detection/models/solnet_updated_'+ str(datetime.datetime.today().date()) + '.h5'\n",
        "model_plot_path = '/content/drive/MyDrive/Solar_panel_dust_detection/plots/'+ str(datetime.datetime.today().date())\n",
        "model_excel_file_path = '/content/drive/MyDrive/Solar_panel_dust_detection/evaluation/'+ str(datetime.datetime.today().date())\n",
        "location = \"/content/drive/MyDrive/Solar_panel_dust_detection/dataset_1\"\n",
        "\n",
        "batch_size = 32\n",
        "label_mode = 'binary'\n",
        "seed = 10 #changed for each fold made manually\n",
        "epochs= 2\n",
        "in_size = [227, 227, 3]\n",
        "\n",
        "class_names = ['clean', 'dirty']\n",
        "test_labels = class_names\n",
        "\n",
        "tr_dataset = image_dataset_from_directory(directory=location, label_mode= label_mode, class_names=class_names,\n",
        "                                          seed=seed, labels='inferred', image_size=in_size[:-1], \n",
        "                                          subset = 'training', batch_size=batch_size, validation_split=.2)\n",
        "\n",
        "val_dataset = image_dataset_from_directory(directory=location, label_mode= label_mode, class_names=class_names,\n",
        "                                          seed=seed, labels='inferred', image_size=in_size[:-1],\n",
        "                                          subset = 'validation', batch_size=batch_size, validation_split=.2)\n",
        "\n",
        "# in_size = [227, 227, 3]\n",
        "SolNet_model = SolNet_updated(in_size, 0.00001, model_path)\n",
        "\n",
        "\n",
        "\n",
        "startTime = time.time()\n",
        "history = SolNet_model.fit(tr_dataset, validation_data=val_dataset, epochs=epochs, batch_size=batch_size)\n",
        "executionTime = (time.time() - startTime)"
      ],
      "metadata": {
        "colab": {
          "base_uri": "https://localhost:8080/",
          "height": 0
        },
        "id": "WChxOJSP8OYD",
        "outputId": "529259fb-089c-4933-a44b-2e41b0247d7d"
      },
      "execution_count": 6,
      "outputs": [
        {
          "output_type": "stream",
          "name": "stdout",
          "text": [
            "Found 1440 files belonging to 2 classes.\n",
            "Using 1152 files for training.\n"
          ]
        },
        {
          "output_type": "error",
          "ename": "KeyboardInterrupt",
          "evalue": "ignored",
          "traceback": [
            "\u001b[0;31m---------------------------------------------------------------------------\u001b[0m",
            "\u001b[0;31mKeyboardInterrupt\u001b[0m                         Traceback (most recent call last)",
            "\u001b[0;32m<ipython-input-6-7880dc11ebdd>\u001b[0m in \u001b[0;36m<module>\u001b[0;34m\u001b[0m\n\u001b[1;32m     17\u001b[0m                                           subset = 'training', batch_size=batch_size, validation_split=.2)\n\u001b[1;32m     18\u001b[0m \u001b[0;34m\u001b[0m\u001b[0m\n\u001b[0;32m---> 19\u001b[0;31m val_dataset = image_dataset_from_directory(directory=location, label_mode= label_mode, class_names=class_names,\n\u001b[0m\u001b[1;32m     20\u001b[0m                                           \u001b[0mseed\u001b[0m\u001b[0;34m=\u001b[0m\u001b[0mseed\u001b[0m\u001b[0;34m,\u001b[0m \u001b[0mlabels\u001b[0m\u001b[0;34m=\u001b[0m\u001b[0;34m'inferred'\u001b[0m\u001b[0;34m,\u001b[0m \u001b[0mimage_size\u001b[0m\u001b[0;34m=\u001b[0m\u001b[0min_size\u001b[0m\u001b[0;34m[\u001b[0m\u001b[0;34m:\u001b[0m\u001b[0;34m-\u001b[0m\u001b[0;36m1\u001b[0m\u001b[0;34m]\u001b[0m\u001b[0;34m,\u001b[0m\u001b[0;34m\u001b[0m\u001b[0;34m\u001b[0m\u001b[0m\n\u001b[1;32m     21\u001b[0m                                           subset = 'validation', batch_size=batch_size, validation_split=.2)\n",
            "\u001b[0;32m/usr/local/lib/python3.8/dist-packages/keras/utils/image_dataset.py\u001b[0m in \u001b[0;36mimage_dataset_from_directory\u001b[0;34m(directory, labels, label_mode, class_names, color_mode, batch_size, image_size, shuffle, seed, validation_split, subset, interpolation, follow_links, crop_to_aspect_ratio, **kwargs)\u001b[0m\n\u001b[1;32m    205\u001b[0m     \u001b[0;32mif\u001b[0m \u001b[0mseed\u001b[0m \u001b[0;32mis\u001b[0m \u001b[0;32mNone\u001b[0m\u001b[0;34m:\u001b[0m\u001b[0;34m\u001b[0m\u001b[0;34m\u001b[0m\u001b[0m\n\u001b[1;32m    206\u001b[0m         \u001b[0mseed\u001b[0m \u001b[0;34m=\u001b[0m \u001b[0mnp\u001b[0m\u001b[0;34m.\u001b[0m\u001b[0mrandom\u001b[0m\u001b[0;34m.\u001b[0m\u001b[0mrandint\u001b[0m\u001b[0;34m(\u001b[0m\u001b[0;36m1e6\u001b[0m\u001b[0;34m)\u001b[0m\u001b[0;34m\u001b[0m\u001b[0;34m\u001b[0m\u001b[0m\n\u001b[0;32m--> 207\u001b[0;31m     image_paths, labels, class_names = dataset_utils.index_directory(\n\u001b[0m\u001b[1;32m    208\u001b[0m         \u001b[0mdirectory\u001b[0m\u001b[0;34m,\u001b[0m\u001b[0;34m\u001b[0m\u001b[0;34m\u001b[0m\u001b[0m\n\u001b[1;32m    209\u001b[0m         \u001b[0mlabels\u001b[0m\u001b[0;34m,\u001b[0m\u001b[0;34m\u001b[0m\u001b[0;34m\u001b[0m\u001b[0m\n",
            "\u001b[0;32m/usr/local/lib/python3.8/dist-packages/keras/utils/dataset_utils.py\u001b[0m in \u001b[0;36mindex_directory\u001b[0;34m(directory, labels, formats, class_names, shuffle, seed, follow_links)\u001b[0m\n\u001b[1;32m    563\u001b[0m     \u001b[0mlabels_list\u001b[0m \u001b[0;34m=\u001b[0m \u001b[0;34m[\u001b[0m\u001b[0;34m]\u001b[0m\u001b[0;34m\u001b[0m\u001b[0;34m\u001b[0m\u001b[0m\n\u001b[1;32m    564\u001b[0m     \u001b[0;32mfor\u001b[0m \u001b[0mres\u001b[0m \u001b[0;32min\u001b[0m \u001b[0mresults\u001b[0m\u001b[0;34m:\u001b[0m\u001b[0;34m\u001b[0m\u001b[0;34m\u001b[0m\u001b[0m\n\u001b[0;32m--> 565\u001b[0;31m         \u001b[0mpartial_filenames\u001b[0m\u001b[0;34m,\u001b[0m \u001b[0mpartial_labels\u001b[0m \u001b[0;34m=\u001b[0m \u001b[0mres\u001b[0m\u001b[0;34m.\u001b[0m\u001b[0mget\u001b[0m\u001b[0;34m(\u001b[0m\u001b[0;34m)\u001b[0m\u001b[0;34m\u001b[0m\u001b[0;34m\u001b[0m\u001b[0m\n\u001b[0m\u001b[1;32m    566\u001b[0m         \u001b[0mlabels_list\u001b[0m\u001b[0;34m.\u001b[0m\u001b[0mappend\u001b[0m\u001b[0;34m(\u001b[0m\u001b[0mpartial_labels\u001b[0m\u001b[0;34m)\u001b[0m\u001b[0;34m\u001b[0m\u001b[0;34m\u001b[0m\u001b[0m\n\u001b[1;32m    567\u001b[0m         \u001b[0mfilenames\u001b[0m \u001b[0;34m+=\u001b[0m \u001b[0mpartial_filenames\u001b[0m\u001b[0;34m\u001b[0m\u001b[0;34m\u001b[0m\u001b[0m\n",
            "\u001b[0;32m/usr/lib/python3.8/multiprocessing/pool.py\u001b[0m in \u001b[0;36mget\u001b[0;34m(self, timeout)\u001b[0m\n\u001b[1;32m    763\u001b[0m \u001b[0;34m\u001b[0m\u001b[0m\n\u001b[1;32m    764\u001b[0m     \u001b[0;32mdef\u001b[0m \u001b[0mget\u001b[0m\u001b[0;34m(\u001b[0m\u001b[0mself\u001b[0m\u001b[0;34m,\u001b[0m \u001b[0mtimeout\u001b[0m\u001b[0;34m=\u001b[0m\u001b[0;32mNone\u001b[0m\u001b[0;34m)\u001b[0m\u001b[0;34m:\u001b[0m\u001b[0;34m\u001b[0m\u001b[0;34m\u001b[0m\u001b[0m\n\u001b[0;32m--> 765\u001b[0;31m         \u001b[0mself\u001b[0m\u001b[0;34m.\u001b[0m\u001b[0mwait\u001b[0m\u001b[0;34m(\u001b[0m\u001b[0mtimeout\u001b[0m\u001b[0;34m)\u001b[0m\u001b[0;34m\u001b[0m\u001b[0;34m\u001b[0m\u001b[0m\n\u001b[0m\u001b[1;32m    766\u001b[0m         \u001b[0;32mif\u001b[0m \u001b[0;32mnot\u001b[0m \u001b[0mself\u001b[0m\u001b[0;34m.\u001b[0m\u001b[0mready\u001b[0m\u001b[0;34m(\u001b[0m\u001b[0;34m)\u001b[0m\u001b[0;34m:\u001b[0m\u001b[0;34m\u001b[0m\u001b[0;34m\u001b[0m\u001b[0m\n\u001b[1;32m    767\u001b[0m             \u001b[0;32mraise\u001b[0m \u001b[0mTimeoutError\u001b[0m\u001b[0;34m\u001b[0m\u001b[0;34m\u001b[0m\u001b[0m\n",
            "\u001b[0;32m/usr/lib/python3.8/multiprocessing/pool.py\u001b[0m in \u001b[0;36mwait\u001b[0;34m(self, timeout)\u001b[0m\n\u001b[1;32m    760\u001b[0m \u001b[0;34m\u001b[0m\u001b[0m\n\u001b[1;32m    761\u001b[0m     \u001b[0;32mdef\u001b[0m \u001b[0mwait\u001b[0m\u001b[0;34m(\u001b[0m\u001b[0mself\u001b[0m\u001b[0;34m,\u001b[0m \u001b[0mtimeout\u001b[0m\u001b[0;34m=\u001b[0m\u001b[0;32mNone\u001b[0m\u001b[0;34m)\u001b[0m\u001b[0;34m:\u001b[0m\u001b[0;34m\u001b[0m\u001b[0;34m\u001b[0m\u001b[0m\n\u001b[0;32m--> 762\u001b[0;31m         \u001b[0mself\u001b[0m\u001b[0;34m.\u001b[0m\u001b[0m_event\u001b[0m\u001b[0;34m.\u001b[0m\u001b[0mwait\u001b[0m\u001b[0;34m(\u001b[0m\u001b[0mtimeout\u001b[0m\u001b[0;34m)\u001b[0m\u001b[0;34m\u001b[0m\u001b[0;34m\u001b[0m\u001b[0m\n\u001b[0m\u001b[1;32m    763\u001b[0m \u001b[0;34m\u001b[0m\u001b[0m\n\u001b[1;32m    764\u001b[0m     \u001b[0;32mdef\u001b[0m \u001b[0mget\u001b[0m\u001b[0;34m(\u001b[0m\u001b[0mself\u001b[0m\u001b[0;34m,\u001b[0m \u001b[0mtimeout\u001b[0m\u001b[0;34m=\u001b[0m\u001b[0;32mNone\u001b[0m\u001b[0;34m)\u001b[0m\u001b[0;34m:\u001b[0m\u001b[0;34m\u001b[0m\u001b[0;34m\u001b[0m\u001b[0m\n",
            "\u001b[0;32m/usr/lib/python3.8/threading.py\u001b[0m in \u001b[0;36mwait\u001b[0;34m(self, timeout)\u001b[0m\n\u001b[1;32m    556\u001b[0m             \u001b[0msignaled\u001b[0m \u001b[0;34m=\u001b[0m \u001b[0mself\u001b[0m\u001b[0;34m.\u001b[0m\u001b[0m_flag\u001b[0m\u001b[0;34m\u001b[0m\u001b[0;34m\u001b[0m\u001b[0m\n\u001b[1;32m    557\u001b[0m             \u001b[0;32mif\u001b[0m \u001b[0;32mnot\u001b[0m \u001b[0msignaled\u001b[0m\u001b[0;34m:\u001b[0m\u001b[0;34m\u001b[0m\u001b[0;34m\u001b[0m\u001b[0m\n\u001b[0;32m--> 558\u001b[0;31m                 \u001b[0msignaled\u001b[0m \u001b[0;34m=\u001b[0m \u001b[0mself\u001b[0m\u001b[0;34m.\u001b[0m\u001b[0m_cond\u001b[0m\u001b[0;34m.\u001b[0m\u001b[0mwait\u001b[0m\u001b[0;34m(\u001b[0m\u001b[0mtimeout\u001b[0m\u001b[0;34m)\u001b[0m\u001b[0;34m\u001b[0m\u001b[0;34m\u001b[0m\u001b[0m\n\u001b[0m\u001b[1;32m    559\u001b[0m             \u001b[0;32mreturn\u001b[0m \u001b[0msignaled\u001b[0m\u001b[0;34m\u001b[0m\u001b[0;34m\u001b[0m\u001b[0m\n\u001b[1;32m    560\u001b[0m \u001b[0;34m\u001b[0m\u001b[0m\n",
            "\u001b[0;32m/usr/lib/python3.8/threading.py\u001b[0m in \u001b[0;36mwait\u001b[0;34m(self, timeout)\u001b[0m\n\u001b[1;32m    300\u001b[0m         \u001b[0;32mtry\u001b[0m\u001b[0;34m:\u001b[0m    \u001b[0;31m# restore state no matter what (e.g., KeyboardInterrupt)\u001b[0m\u001b[0;34m\u001b[0m\u001b[0;34m\u001b[0m\u001b[0m\n\u001b[1;32m    301\u001b[0m             \u001b[0;32mif\u001b[0m \u001b[0mtimeout\u001b[0m \u001b[0;32mis\u001b[0m \u001b[0;32mNone\u001b[0m\u001b[0;34m:\u001b[0m\u001b[0;34m\u001b[0m\u001b[0;34m\u001b[0m\u001b[0m\n\u001b[0;32m--> 302\u001b[0;31m                 \u001b[0mwaiter\u001b[0m\u001b[0;34m.\u001b[0m\u001b[0macquire\u001b[0m\u001b[0;34m(\u001b[0m\u001b[0;34m)\u001b[0m\u001b[0;34m\u001b[0m\u001b[0;34m\u001b[0m\u001b[0m\n\u001b[0m\u001b[1;32m    303\u001b[0m                 \u001b[0mgotit\u001b[0m \u001b[0;34m=\u001b[0m \u001b[0;32mTrue\u001b[0m\u001b[0;34m\u001b[0m\u001b[0;34m\u001b[0m\u001b[0m\n\u001b[1;32m    304\u001b[0m             \u001b[0;32melse\u001b[0m\u001b[0;34m:\u001b[0m\u001b[0;34m\u001b[0m\u001b[0;34m\u001b[0m\u001b[0m\n",
            "\u001b[0;31mKeyboardInterrupt\u001b[0m: "
          ]
        }
      ]
    },
    {
      "cell_type": "code",
      "source": [
        "model_info = \"batch_size: \" + str(batch_size) + \" and epochs: \" + str(epochs) + \" and in_size: \" + str(in_size)\n",
        "print(model_info)\n",
        "print(\"Inference Time is\", executionTime/60, \"mins\")"
      ],
      "metadata": {
        "id": "AMm00dJYTyZb"
      },
      "execution_count": null,
      "outputs": []
    },
    {
      "cell_type": "code",
      "source": [
        "plt.plot(history.history['acc'], label='accuracy')\n",
        "plt.plot(history.history['val_acc'], label = 'val_accuracy')\n",
        "plt.title('model accuracy plot')\n",
        "plt.xlabel('Epoch')\n",
        "plt.ylabel('Accuracy')\n",
        "plt.legend(loc='best')\n",
        "plt.savefig(model_plot_path + '_model_accuracy_plot.png')\n",
        "plt.show()\n",
        "\n",
        "plt.plot(history.history['loss'])\n",
        "plt.plot(history.history['val_loss'])\n",
        "plt.title('model loss plot')\n",
        "plt.ylabel('loss')\n",
        "plt.xlabel('epoch')\n",
        "plt.legend(['train', 'val'], loc='best')\n",
        "plt.savefig(model_plot_path + '_model_loss_plot.png')\n",
        "plt.show()"
      ],
      "metadata": {
        "id": "kPHxMTjn8byV"
      },
      "execution_count": null,
      "outputs": []
    },
    {
      "cell_type": "code",
      "source": [
        "# Evaluate Inference Time\n",
        "startTime = time.time()\n",
        "model = tf.keras.models.load_model(model_path)\n",
        "test_loss, test_acc = model.evaluate(val_dataset, verbose=0)\n",
        "prediction = model.predict(val_dataset)\n",
        "executionTime = (time.time() - startTime)/len(val_dataset)\n",
        "print(executionTime)\n",
        "print(test_acc)"
      ],
      "metadata": {
        "colab": {
          "base_uri": "https://localhost:8080/"
        },
        "id": "-ImC5vO8jfyh",
        "outputId": "d109d062-bc1b-479b-9377-f0e0ec912bd7"
      },
      "execution_count": null,
      "outputs": [
        {
          "output_type": "stream",
          "name": "stdout",
          "text": [
            "9/9 [==============================] - 22s 34ms/step\n",
            "5.197857062021892\n",
            "0.4722222089767456\n"
          ]
        }
      ]
    },
    {
      "cell_type": "code",
      "source": [
        "test_acc, model_size, executionTime, evulation_df = evaluate_model(model_path, model_info, val_dataset)"
      ],
      "metadata": {
        "id": "Lc9thO3I1sQn",
        "colab": {
          "base_uri": "https://localhost:8080/"
        },
        "outputId": "1c69a9f3-c7ad-40e3-86fd-ae1b428fb484"
      },
      "execution_count": null,
      "outputs": [
        {
          "output_type": "stream",
          "name": "stdout",
          "text": [
            "9/9 [==============================] - 24s 36ms/step\n",
            "\n",
            "Model Accuracy: 52.77777910232544 %\n",
            "Model Size: 212499172.00 bytes\n",
            "Inference Time is:  2.6470077302720814 s\n"
          ]
        }
      ]
    },
    {
      "cell_type": "code",
      "source": [
        "evulation_df"
      ],
      "metadata": {
        "colab": {
          "base_uri": "https://localhost:8080/",
          "height": 238
        },
        "id": "qmzX6SNIsDwy",
        "outputId": "bf8dba90-c886-4e9c-8280-5530e9610eb5"
      },
      "execution_count": null,
      "outputs": [
        {
          "output_type": "execute_result",
          "data": {
            "text/plain": [
              "               index                                                  0\n",
              "0    Evaluation type                                         Evualation\n",
              "1  Model Information  batch_size: 32 and epochs: 2 and in_size: [227...\n",
              "2           Accuracy                                52.77777910232544 %\n",
              "3               Loss                               333.86545181274414 %\n",
              "4         Model Size                                    212499172 bytes\n",
              "5     Inference Time                             2.6470077302720814 sec"
            ],
            "text/html": [
              "\n",
              "  <div id=\"df-e8fe7217-1d5b-418f-99af-6fd1583d663c\">\n",
              "    <div class=\"colab-df-container\">\n",
              "      <div>\n",
              "<style scoped>\n",
              "    .dataframe tbody tr th:only-of-type {\n",
              "        vertical-align: middle;\n",
              "    }\n",
              "\n",
              "    .dataframe tbody tr th {\n",
              "        vertical-align: top;\n",
              "    }\n",
              "\n",
              "    .dataframe thead th {\n",
              "        text-align: right;\n",
              "    }\n",
              "</style>\n",
              "<table border=\"1\" class=\"dataframe\">\n",
              "  <thead>\n",
              "    <tr style=\"text-align: right;\">\n",
              "      <th></th>\n",
              "      <th>index</th>\n",
              "      <th>0</th>\n",
              "    </tr>\n",
              "  </thead>\n",
              "  <tbody>\n",
              "    <tr>\n",
              "      <th>0</th>\n",
              "      <td>Evaluation type</td>\n",
              "      <td>Evualation</td>\n",
              "    </tr>\n",
              "    <tr>\n",
              "      <th>1</th>\n",
              "      <td>Model Information</td>\n",
              "      <td>batch_size: 32 and epochs: 2 and in_size: [227...</td>\n",
              "    </tr>\n",
              "    <tr>\n",
              "      <th>2</th>\n",
              "      <td>Accuracy</td>\n",
              "      <td>52.77777910232544 %</td>\n",
              "    </tr>\n",
              "    <tr>\n",
              "      <th>3</th>\n",
              "      <td>Loss</td>\n",
              "      <td>333.86545181274414 %</td>\n",
              "    </tr>\n",
              "    <tr>\n",
              "      <th>4</th>\n",
              "      <td>Model Size</td>\n",
              "      <td>212499172 bytes</td>\n",
              "    </tr>\n",
              "    <tr>\n",
              "      <th>5</th>\n",
              "      <td>Inference Time</td>\n",
              "      <td>2.6470077302720814 sec</td>\n",
              "    </tr>\n",
              "  </tbody>\n",
              "</table>\n",
              "</div>\n",
              "      <button class=\"colab-df-convert\" onclick=\"convertToInteractive('df-e8fe7217-1d5b-418f-99af-6fd1583d663c')\"\n",
              "              title=\"Convert this dataframe to an interactive table.\"\n",
              "              style=\"display:none;\">\n",
              "        \n",
              "  <svg xmlns=\"http://www.w3.org/2000/svg\" height=\"24px\"viewBox=\"0 0 24 24\"\n",
              "       width=\"24px\">\n",
              "    <path d=\"M0 0h24v24H0V0z\" fill=\"none\"/>\n",
              "    <path d=\"M18.56 5.44l.94 2.06.94-2.06 2.06-.94-2.06-.94-.94-2.06-.94 2.06-2.06.94zm-11 1L8.5 8.5l.94-2.06 2.06-.94-2.06-.94L8.5 2.5l-.94 2.06-2.06.94zm10 10l.94 2.06.94-2.06 2.06-.94-2.06-.94-.94-2.06-.94 2.06-2.06.94z\"/><path d=\"M17.41 7.96l-1.37-1.37c-.4-.4-.92-.59-1.43-.59-.52 0-1.04.2-1.43.59L10.3 9.45l-7.72 7.72c-.78.78-.78 2.05 0 2.83L4 21.41c.39.39.9.59 1.41.59.51 0 1.02-.2 1.41-.59l7.78-7.78 2.81-2.81c.8-.78.8-2.07 0-2.86zM5.41 20L4 18.59l7.72-7.72 1.47 1.35L5.41 20z\"/>\n",
              "  </svg>\n",
              "      </button>\n",
              "      \n",
              "  <style>\n",
              "    .colab-df-container {\n",
              "      display:flex;\n",
              "      flex-wrap:wrap;\n",
              "      gap: 12px;\n",
              "    }\n",
              "\n",
              "    .colab-df-convert {\n",
              "      background-color: #E8F0FE;\n",
              "      border: none;\n",
              "      border-radius: 50%;\n",
              "      cursor: pointer;\n",
              "      display: none;\n",
              "      fill: #1967D2;\n",
              "      height: 32px;\n",
              "      padding: 0 0 0 0;\n",
              "      width: 32px;\n",
              "    }\n",
              "\n",
              "    .colab-df-convert:hover {\n",
              "      background-color: #E2EBFA;\n",
              "      box-shadow: 0px 1px 2px rgba(60, 64, 67, 0.3), 0px 1px 3px 1px rgba(60, 64, 67, 0.15);\n",
              "      fill: #174EA6;\n",
              "    }\n",
              "\n",
              "    [theme=dark] .colab-df-convert {\n",
              "      background-color: #3B4455;\n",
              "      fill: #D2E3FC;\n",
              "    }\n",
              "\n",
              "    [theme=dark] .colab-df-convert:hover {\n",
              "      background-color: #434B5C;\n",
              "      box-shadow: 0px 1px 3px 1px rgba(0, 0, 0, 0.15);\n",
              "      filter: drop-shadow(0px 1px 2px rgba(0, 0, 0, 0.3));\n",
              "      fill: #FFFFFF;\n",
              "    }\n",
              "  </style>\n",
              "\n",
              "      <script>\n",
              "        const buttonEl =\n",
              "          document.querySelector('#df-e8fe7217-1d5b-418f-99af-6fd1583d663c button.colab-df-convert');\n",
              "        buttonEl.style.display =\n",
              "          google.colab.kernel.accessAllowed ? 'block' : 'none';\n",
              "\n",
              "        async function convertToInteractive(key) {\n",
              "          const element = document.querySelector('#df-e8fe7217-1d5b-418f-99af-6fd1583d663c');\n",
              "          const dataTable =\n",
              "            await google.colab.kernel.invokeFunction('convertToInteractive',\n",
              "                                                     [key], {});\n",
              "          if (!dataTable) return;\n",
              "\n",
              "          const docLinkHtml = 'Like what you see? Visit the ' +\n",
              "            '<a target=\"_blank\" href=https://colab.research.google.com/notebooks/data_table.ipynb>data table notebook</a>'\n",
              "            + ' to learn more about interactive tables.';\n",
              "          element.innerHTML = '';\n",
              "          dataTable['output_type'] = 'display_data';\n",
              "          await google.colab.output.renderOutput(dataTable, element);\n",
              "          const docLink = document.createElement('div');\n",
              "          docLink.innerHTML = docLinkHtml;\n",
              "          element.appendChild(docLink);\n",
              "        }\n",
              "      </script>\n",
              "    </div>\n",
              "  </div>\n",
              "  "
            ]
          },
          "metadata": {},
          "execution_count": 81
        }
      ]
    },
    {
      "cell_type": "code",
      "source": [
        "path = model_excel_file_path + '_model_evaluation.xlsx'\n",
        "\n",
        "with pd.ExcelWriter(path) as writer:\n",
        "  # writer.book = openpyxl.load_workbook(path)\n",
        "  evulation_df.to_excel(writer, sheet_name='Model_evaluation')\n",
        "  pd.DataFrame().to_excel(writer, sheet_name='Plots')\n",
        "  \n",
        "\n",
        "  worksheet = writer.sheets['Plots']\n",
        "  worksheet.insert_image('A1', model_plot_path + '_model_accuracy_plot.png')\n",
        "  worksheet.insert_image('K1', model_plot_path + '_model_loss_plot.png')\n",
        "  writer.save()"
      ],
      "metadata": {
        "id": "tQ0Lf3_2b7Fu"
      },
      "execution_count": null,
      "outputs": []
    },
    {
      "cell_type": "markdown",
      "source": [
        "#Loop based hyperparameter optimization"
      ],
      "metadata": {
        "id": "6RZntO1mdEGr"
      }
    },
    {
      "cell_type": "code",
      "source": [
        "def SolNet_updated_for_loop(in_size, learning_rate, model_path):\n",
        "  i = Input(in_size)\n",
        "  r = Conv2D(filters=96, kernel_size=(11,11), strides=(4,4), activation='relu', input_shape=(227,227,3))(i)\n",
        "  r = BatchNormalization()(r)\n",
        "  r = MaxPooling2D(pool_size=(3,3), strides=(2,2))(r)\n",
        "  r = Conv2D(filters=256, kernel_size=(5,5), strides=(1,1), activation='relu', padding=\"same\")(r)\n",
        "  r = BatchNormalization()(r)\n",
        "  r = MaxPooling2D(pool_size=(3,3), strides=(2,2))(r)\n",
        "  r = Conv2D(filters=384, kernel_size=(3,3), strides=(1,1), activation='relu', padding=\"same\")(r)\n",
        "  r = BatchNormalization()(r)\n",
        "  r = Conv2D(filters=384, kernel_size=(3,3), strides=(1,1), activation='relu', padding=\"same\")(r)\n",
        "  r = BatchNormalization()(r)\n",
        "  r = Conv2D(filters=256, kernel_size=(3,3), strides=(1,1), activation='relu', padding=\"same\")(r)\n",
        "  r = BatchNormalization()(r)\n",
        "  r = MaxPooling2D(pool_size=(3,3), strides=(2,2))(r)\n",
        "  r = Flatten()(r)\n",
        "  r = Dense(4096, activation='relu')(r)\n",
        "  r = Dropout(0.5)(r)\n",
        "  r = Dense(4096, activation='relu')(r)\n",
        "  r = Dropout(0.5)(r)\n",
        "  o = Dense(1, activation='sigmoid')(r)\n",
        "\n",
        "\n",
        "  SolNet = Model(inputs = i, outputs = o)\n",
        "\n",
        "\n",
        "\n",
        "  # SolNet.save('models/solnet.hdf5')\n",
        "  # SolNet.save('/content/drive/MyDrive/Solar_panel_dust_detection/models/solnet_updated_'+str(datetime.datetime.today().date())+'.hdf5')\n",
        "  SolNet.compile(optimizer=Adam(learning_rate), loss=binary_crossentropy, metrics=['acc'])\n",
        "  SolNet.save(model_path)\n",
        "  SolNet.summary()\n",
        "  return SolNet"
      ],
      "metadata": {
        "id": "5ILEZZhbDSCe"
      },
      "execution_count": 7,
      "outputs": []
    },
    {
      "cell_type": "code",
      "source": [
        "def plot_history(history, model_plot_path, iteration_number):\n",
        "  \n",
        "  model_accuracy_plot_modified = model_plot_path + \"_model_iteration_\" + str(iteration_number) + \"_model_accuracy_plot.png\"\n",
        "  model_loss_plot_modified = model_plot_path + \"_model_iteration_\" + str(iteration_number) + \"_model_loss_plot.png\"\n",
        "  \n",
        "  plt.plot(history.history['acc'], label='accuracy')\n",
        "  plt.plot(history.history['val_acc'], label = 'val_accuracy')\n",
        "  plt.title('model accuracy plot')\n",
        "  plt.xlabel('Epoch')\n",
        "  plt.ylabel('Accuracy')\n",
        "  plt.legend(loc='best')\n",
        "  \n",
        "  plt.savefig(model_accuracy_plot_modified)\n",
        "  plt.show()\n",
        "\n",
        "  plt.plot(history.history['loss'])\n",
        "  plt.plot(history.history['val_loss'])\n",
        "  plt.title('model loss plot')\n",
        "  plt.ylabel('loss')\n",
        "  plt.xlabel('epoch')\n",
        "  plt.legend(['train', 'val'], loc='best')\n",
        "  plt.savefig(model_loss_plot_modified)\n",
        "  plt.show()\n",
        "\n",
        "  return model_accuracy_plot_modified, model_loss_plot_modified"
      ],
      "metadata": {
        "id": "QX-m2bZe9HQX"
      },
      "execution_count": 8,
      "outputs": []
    },
    {
      "cell_type": "code",
      "source": [
        "def save_execution_trial(evluation_df, model_excel_file_path, model_accuracy_plot_modified, model_loss_plot_modified, iteration_number):\n",
        "  path = model_excel_file_path + \"_model_iteration_\" + str(iteration_number) + '_model_evaluation.xlsx'\n",
        "\n",
        "  with pd.ExcelWriter(path) as writer:\n",
        "    # writer.book = openpyxl.load_workbook(path)\n",
        "    evluation_df.to_excel(writer, sheet_name='Model_evaluation')\n",
        "    pd.DataFrame().to_excel(writer, sheet_name='Plots')\n",
        "    \n",
        "\n",
        "    worksheet = writer.sheets['Plots']\n",
        "    worksheet.insert_image('A1', model_accuracy_plot_modified)\n",
        "    worksheet.insert_image('K1', model_loss_plot_modified)\n",
        "    writer.save()"
      ],
      "metadata": {
        "id": "z-IHWYoWAOYF"
      },
      "execution_count": 9,
      "outputs": []
    },
    {
      "cell_type": "code",
      "source": [
        "model_path = '/content/drive/MyDrive/Solar_panel_dust_detection/models/solnet_updated_'+ str(datetime.datetime.today().date())\n",
        "model_plot_path = '/content/drive/MyDrive/Solar_panel_dust_detection/plots/'+ str(datetime.datetime.today().date())\n",
        "model_excel_file_path = '/content/drive/MyDrive/Solar_panel_dust_detection/evaluation/'+ str(datetime.datetime.today().date())\n",
        "location = \"/content/drive/MyDrive/Solar_panel_dust_detection/dataset_1\"\n",
        "\n",
        "\n",
        "\n",
        "# batch_sizes = [16,32,64,128]\n",
        "batch_sizes = [32,64]\n",
        "\n",
        "# epoch_list = [10, 15, 20, 30]\n",
        "epoch_list = [10, 20]\n",
        "\n",
        "# learning_rates = [0.001, 0.0001 , 0.00001, 0.000001]\n",
        "learning_rates = [0.0001 , 0.00001]\n",
        "\n",
        "# in_sizes =  [\n",
        "#                 [100, 100, 3],\n",
        "#                 [136, 136, 3],\n",
        "#                 [204, 204, 3],\n",
        "#                 [227, 227, 3],\n",
        "#             ]\n",
        "\n",
        "in_sizes =  [\n",
        "                [136, 136, 3],\n",
        "                [227, 227, 3],\n",
        "            ]\n",
        "\n",
        "label_mode = 'binary'\n",
        "seed = 10 #changed for each fold made manually\n",
        "class_names = ['clean', 'dirty']\n",
        "\n",
        "cnt = 0\n",
        "for batch_size in batch_sizes:\n",
        "  for epoch in epoch_list:\n",
        "    for learning_rate in learning_rates:\n",
        "      for in_size in in_sizes:\n",
        "\n",
        "        tr_dataset = image_dataset_from_directory(directory=location, label_mode= label_mode, class_names=class_names,\n",
        "                                          seed=seed, labels='inferred', image_size=in_size[:-1], \n",
        "                                          subset = 'training', batch_size=batch_size, validation_split=.2)\n",
        "\n",
        "        val_dataset = image_dataset_from_directory(directory=location, label_mode= label_mode, class_names=class_names,\n",
        "                                                  seed=seed, labels='inferred', image_size=in_size[:-1],\n",
        "                                                  subset = 'validation', batch_size=batch_size, validation_split=.2)\n",
        "        \n",
        "        model_path_modified = model_path + \"_model_iteration_\" + str(cnt) + \".h5\"\n",
        "        model_info = \"batch_size: \" + str(batch_size) + \" and epochs: \" + str(epoch) + \" and in_size: \" + str(in_size) + \" and lr: \" + str(learning_rate)\n",
        "        print(\"The model info: \", model_info)\n",
        "\n",
        "        SolNet_model = SolNet_updated_for_loop(in_size, learning_rate, model_path_modified)\n",
        "        \n",
        "        history = SolNet_model.fit(tr_dataset, validation_data=val_dataset, epochs=epoch, batch_size=batch_size)\n",
        "        model_accuracy_plot_modified, model_loss_plot_modified = plot_history(history, model_plot_path, cnt)\n",
        "\n",
        "        test_acc, model_size, executionTime, evluation_df = evaluate_model(model_path_modified, model_info, val_dataset)\n",
        "        print(\"The evaluation df: \\n\", evluation_df, \"\\n\")\n",
        "\n",
        "        save_execution_trial(evluation_df, model_excel_file_path, model_accuracy_plot_modified, model_loss_plot_modified, cnt)\n",
        "\n",
        "        cnt += 1"
      ],
      "metadata": {
        "id": "Rbkgdo7SdF5S",
        "colab": {
          "base_uri": "https://localhost:8080/",
          "height": 1000
        },
        "outputId": "f158a849-02ae-44c2-a09a-2c0aa1144205"
      },
      "execution_count": null,
      "outputs": [
        {
          "metadata": {
            "tags": null
          },
          "name": "stdout",
          "output_type": "stream",
          "text": [
            "Found 1440 files belonging to 2 classes.\n",
            "Using 1152 files for training.\n",
            "Found 1440 files belonging to 2 classes.\n",
            "Using 288 files for validation.\n",
            "The model info:  batch_size: 16 and epochs: 10 and in_size: [100, 100, 3] and lr: 0.001\n",
            "Model: \"model\"\n",
            "_________________________________________________________________\n",
            " Layer (type)                Output Shape              Param #   \n",
            "=================================================================\n",
            " input_1 (InputLayer)        [(None, 100, 100, 3)]     0         \n",
            "                                                                 \n",
            " conv2d (Conv2D)             (None, 23, 23, 96)        34944     \n",
            "                                                                 \n",
            " batch_normalization (BatchN  (None, 23, 23, 96)       384       \n",
            " ormalization)                                                   \n",
            "                                                                 \n",
            " max_pooling2d (MaxPooling2D  (None, 11, 11, 96)       0         \n",
            " )                                                               \n",
            "                                                                 \n",
            " conv2d_1 (Conv2D)           (None, 11, 11, 256)       614656    \n",
            "                                                                 \n",
            " batch_normalization_1 (Batc  (None, 11, 11, 256)      1024      \n",
            " hNormalization)                                                 \n",
            "                                                                 \n",
            " max_pooling2d_1 (MaxPooling  (None, 5, 5, 256)        0         \n",
            " 2D)                                                             \n",
            "                                                                 \n",
            " conv2d_2 (Conv2D)           (None, 5, 5, 384)         885120    \n",
            "                                                                 \n",
            " batch_normalization_2 (Batc  (None, 5, 5, 384)        1536      \n",
            " hNormalization)                                                 \n",
            "                                                                 \n",
            " conv2d_3 (Conv2D)           (None, 5, 5, 384)         1327488   \n",
            "                                                                 \n",
            " batch_normalization_3 (Batc  (None, 5, 5, 384)        1536      \n",
            " hNormalization)                                                 \n",
            "                                                                 \n",
            " conv2d_4 (Conv2D)           (None, 5, 5, 256)         884992    \n",
            "                                                                 \n",
            " batch_normalization_4 (Batc  (None, 5, 5, 256)        1024      \n",
            " hNormalization)                                                 \n",
            "                                                                 \n",
            " max_pooling2d_2 (MaxPooling  (None, 2, 2, 256)        0         \n",
            " 2D)                                                             \n",
            "                                                                 \n",
            " flatten (Flatten)           (None, 1024)              0         \n",
            "                                                                 \n",
            " dense (Dense)               (None, 4096)              4198400   \n",
            "                                                                 \n",
            " dropout (Dropout)           (None, 4096)              0         \n",
            "                                                                 \n",
            " dense_1 (Dense)             (None, 4096)              16781312  \n",
            "                                                                 \n",
            " dropout_1 (Dropout)         (None, 4096)              0         \n",
            "                                                                 \n",
            " dense_2 (Dense)             (None, 1)                 4097      \n",
            "                                                                 \n",
            "=================================================================\n",
            "Total params: 24,736,513\n",
            "Trainable params: 24,733,761\n",
            "Non-trainable params: 2,752\n",
            "_________________________________________________________________\n",
            "Epoch 1/10\n",
            "72/72 [==============================] - 153s 2s/step - loss: 2.4907 - acc: 0.6510 - val_loss: 113.0110 - val_acc: 0.5278\n",
            "Epoch 2/10\n",
            "72/72 [==============================] - 140s 2s/step - loss: 0.6652 - acc: 0.7561 - val_loss: 3.1598 - val_acc: 0.5486\n",
            "Epoch 3/10\n",
            "72/72 [==============================] - 136s 2s/step - loss: 0.4641 - acc: 0.8377 - val_loss: 0.6743 - val_acc: 0.7292\n",
            "Epoch 4/10\n",
            "72/72 [==============================] - 144s 2s/step - loss: 0.4334 - acc: 0.8220 - val_loss: 6.8995 - val_acc: 0.4896\n",
            "Epoch 5/10\n",
            "72/72 [==============================] - 133s 2s/step - loss: 0.2989 - acc: 0.8793 - val_loss: 0.5966 - val_acc: 0.8229\n",
            "Epoch 6/10\n",
            "72/72 [==============================] - 131s 2s/step - loss: 0.3802 - acc: 0.8646 - val_loss: 0.3847 - val_acc: 0.7986\n",
            "Epoch 7/10\n",
            "72/72 [==============================] - 132s 2s/step - loss: 0.3332 - acc: 0.8733 - val_loss: 0.6147 - val_acc: 0.7188\n",
            "Epoch 8/10\n",
            "72/72 [==============================] - 146s 2s/step - loss: 0.3813 - acc: 0.8733 - val_loss: 0.3121 - val_acc: 0.8750\n",
            "Epoch 9/10\n",
            "72/72 [==============================] - 132s 2s/step - loss: 0.3770 - acc: 0.8750 - val_loss: 0.6711 - val_acc: 0.8160\n",
            "Epoch 10/10\n",
            "72/72 [==============================] - 134s 2s/step - loss: 0.2693 - acc: 0.9019 - val_loss: 0.8353 - val_acc: 0.7500\n"
          ]
        },
        {
          "data": {
            "image/png": "[encoded data removed]",
            "text/plain": [
              "<Figure size 432x288 with 1 Axes>"
            ]
          },
          "metadata": {},
          "output_type": "display_data"
        },
        {
          "data": {
            "image/png": "[encoded data removed]",
            "text/plain": [
              "<Figure size 432x288 with 1 Axes>"
            ]
          },
          "metadata": {},
          "output_type": "display_data"
        },
        {
          "metadata": {
            "tags": null
          },
          "name": "stdout",
          "output_type": "stream",
          "text": [
            "18/18 [==============================] - 20s 648ms/step\n",
            "\n",
            "Model Accuracy: 55.55555820465088 %\n",
            "Model Size: 90201289.00 bytes\n",
            "Inference Time is:  1.1475220388836331 s\n",
            "The evaluation df: \n",
            "                index                                                  0\n",
            "0    Evaluation type                                         Evualation\n",
            "1  Model Information  batch_size: 16 and epochs: 10 and in_size: [10...\n",
            "2           Accuracy                                55.55555820465088 %\n",
            "3               Loss                                68.58421564102173 %\n",
            "4         Model Size                                     90201289 bytes\n",
            "5     Inference Time                             1.1475220388836331 sec \n",
            "\n"
          ]
        },
        {
          "metadata": {
            "tags": null
          },
          "name": "stderr",
          "output_type": "stream",
          "text": [
            "/usr/local/lib/python3.8/dist-packages/xlsxwriter/workbook.py:339: UserWarning: Calling close() on already closed file.\n",
            "  warn(\"Calling close() on already closed file.\")\n"
          ]
        },
        {
          "metadata": {
            "tags": null
          },
          "name": "stdout",
          "output_type": "stream",
          "text": [
            "Found 1440 files belonging to 2 classes.\n",
            "Using 1152 files for training.\n",
            "Found 1440 files belonging to 2 classes.\n",
            "Using 288 files for validation.\n",
            "The model info:  batch_size: 16 and epochs: 10 and in_size: [136, 136, 3] and lr: 0.001\n",
            "Model: \"model_1\"\n",
            "_________________________________________________________________\n",
            " Layer (type)                Output Shape              Param #   \n",
            "=================================================================\n",
            " input_2 (InputLayer)        [(None, 136, 136, 3)]     0         \n",
            "                                                                 \n",
            " conv2d_5 (Conv2D)           (None, 32, 32, 96)        34944     \n",
            "                                                                 \n",
            " batch_normalization_5 (Batc  (None, 32, 32, 96)       384       \n",
            " hNormalization)                                                 \n",
            "                                                                 \n",
            " max_pooling2d_3 (MaxPooling  (None, 15, 15, 96)       0         \n",
            " 2D)                                                             \n",
            "                                                                 \n",
            " conv2d_6 (Conv2D)           (None, 15, 15, 256)       614656    \n",
            "                                                                 \n",
            " batch_normalization_6 (Batc  (None, 15, 15, 256)      1024      \n",
            " hNormalization)                                                 \n",
            "                                                                 \n",
            " max_pooling2d_4 (MaxPooling  (None, 7, 7, 256)        0         \n",
            " 2D)                                                             \n",
            "                                                                 \n",
            " conv2d_7 (Conv2D)           (None, 7, 7, 384)         885120    \n",
            "                                                                 \n",
            " batch_normalization_7 (Batc  (None, 7, 7, 384)        1536      \n",
            " hNormalization)                                                 \n",
            "                                                                 \n",
            " conv2d_8 (Conv2D)           (None, 7, 7, 384)         1327488   \n",
            "                                                                 \n",
            " batch_normalization_8 (Batc  (None, 7, 7, 384)        1536      \n",
            " hNormalization)                                                 \n",
            "                                                                 \n",
            " conv2d_9 (Conv2D)           (None, 7, 7, 256)         884992    \n",
            "                                                                 \n",
            " batch_normalization_9 (Batc  (None, 7, 7, 256)        1024      \n",
            " hNormalization)                                                 \n",
            "                                                                 \n",
            " max_pooling2d_5 (MaxPooling  (None, 3, 3, 256)        0         \n",
            " 2D)                                                             \n",
            "                                                                 \n",
            " flatten_1 (Flatten)         (None, 2304)              0         \n",
            "                                                                 \n",
            " dense_3 (Dense)             (None, 4096)              9441280   \n",
            "                                                                 \n",
            " dropout_2 (Dropout)         (None, 4096)              0         \n",
            "                                                                 \n",
            " dense_4 (Dense)             (None, 4096)              16781312  \n",
            "                                                                 \n",
            " dropout_3 (Dropout)         (None, 4096)              0         \n",
            "                                                                 \n",
            " dense_5 (Dense)             (None, 1)                 4097      \n",
            "                                                                 \n",
            "=================================================================\n",
            "Total params: 29,979,393\n",
            "Trainable params: 29,976,641\n",
            "Non-trainable params: 2,752\n",
            "_________________________________________________________________\n",
            "Epoch 1/10\n",
            "72/72 [==============================] - 166s 2s/step - loss: 5.1497 - acc: 0.6892 - val_loss: 4.8615 - val_acc: 0.6250\n",
            "Epoch 2/10\n",
            "72/72 [==============================] - 166s 2s/step - loss: 2.0699 - acc: 0.6884 - val_loss: 96.8756 - val_acc: 0.4722\n",
            "Epoch 3/10\n",
            "72/72 [==============================] - 180s 2s/step - loss: 1.2384 - acc: 0.7786 - val_loss: 20.6577 - val_acc: 0.6285\n",
            "Epoch 4/10\n",
            "72/72 [==============================] - 158s 2s/step - loss: 1.1259 - acc: 0.8021 - val_loss: 2.7081 - val_acc: 0.6076\n",
            "Epoch 5/10\n",
            "72/72 [==============================] - 164s 2s/step - loss: 0.6476 - acc: 0.8420 - val_loss: 42.7045 - val_acc: 0.4688\n",
            "Epoch 6/10\n",
            "72/72 [==============================] - 159s 2s/step - loss: 0.4765 - acc: 0.8533 - val_loss: 1.3799 - val_acc: 0.8542\n",
            "Epoch 7/10\n",
            "72/72 [==============================] - 158s 2s/step - loss: 0.5364 - acc: 0.8585 - val_loss: 0.3346 - val_acc: 0.8715\n",
            "Epoch 8/10\n",
            "72/72 [==============================] - 181s 2s/step - loss: 0.8236 - acc: 0.8264 - val_loss: 1.2077 - val_acc: 0.8576\n",
            "Epoch 9/10\n",
            "72/72 [==============================] - 166s 2s/step - loss: 0.6083 - acc: 0.8533 - val_loss: 0.3252 - val_acc: 0.8611\n",
            "Epoch 10/10\n",
            "72/72 [==============================] - 176s 2s/step - loss: 0.4058 - acc: 0.8438 - val_loss: 1.5133 - val_acc: 0.8229\n"
          ]
        },
        {
          "data": {
            "image/png": "[encoded data removed]",
            "text/plain": [
              "<Figure size 432x288 with 1 Axes>"
            ]
          },
          "metadata": {},
          "output_type": "display_data"
        },
        {
          "data": {
            "image/png": "[encoded data removed]",
            "text/plain": [
              "<Figure size 432x288 with 1 Axes>"
            ]
          },
          "metadata": {},
          "output_type": "display_data"
        },
        {
          "metadata": {
            "tags": null
          },
          "name": "stdout",
          "output_type": "stream",
          "text": [
            "18/18 [==============================] - 21s 715ms/step\n",
            "\n",
            "Model Accuracy: 47.22222089767456 %\n",
            "Model Size: 109298214.00 bytes\n",
            "Inference Time is:  2.2827785677380033 s\n",
            "The evaluation df: \n",
            "                index                                                  0\n",
            "0    Evaluation type                                         Evualation\n",
            "1  Model Information  batch_size: 16 and epochs: 10 and in_size: [13...\n",
            "2           Accuracy                                47.22222089767456 %\n",
            "3               Loss                                746.3394165039062 %\n",
            "4         Model Size                                    109298214 bytes\n",
            "5     Inference Time                             2.2827785677380033 sec \n",
            "\n"
          ]
        },
        {
          "metadata": {
            "tags": null
          },
          "name": "stderr",
          "output_type": "stream",
          "text": [
            "/usr/local/lib/python3.8/dist-packages/xlsxwriter/workbook.py:339: UserWarning: Calling close() on already closed file.\n",
            "  warn(\"Calling close() on already closed file.\")\n"
          ]
        },
        {
          "metadata": {
            "tags": null
          },
          "name": "stdout",
          "output_type": "stream",
          "text": [
            "Found 1440 files belonging to 2 classes.\n",
            "Using 1152 files for training.\n",
            "Found 1440 files belonging to 2 classes.\n",
            "Using 288 files for validation.\n",
            "The model info:  batch_size: 16 and epochs: 10 and in_size: [204, 204, 3] and lr: 0.001\n",
            "Model: \"model_2\"\n",
            "_________________________________________________________________\n",
            " Layer (type)                Output Shape              Param #   \n",
            "=================================================================\n",
            " input_3 (InputLayer)        [(None, 204, 204, 3)]     0         \n",
            "                                                                 \n",
            " conv2d_10 (Conv2D)          (None, 49, 49, 96)        34944     \n",
            "                                                                 \n",
            " batch_normalization_10 (Bat  (None, 49, 49, 96)       384       \n",
            " chNormalization)                                                \n",
            "                                                                 \n",
            " max_pooling2d_6 (MaxPooling  (None, 24, 24, 96)       0         \n",
            " 2D)                                                             \n",
            "                                                                 \n",
            " conv2d_11 (Conv2D)          (None, 24, 24, 256)       614656    \n",
            "                                                                 \n",
            " batch_normalization_11 (Bat  (None, 24, 24, 256)      1024      \n",
            " chNormalization)                                                \n",
            "                                                                 \n",
            " max_pooling2d_7 (MaxPooling  (None, 11, 11, 256)      0         \n",
            " 2D)                                                             \n",
            "                                                                 \n",
            " conv2d_12 (Conv2D)          (None, 11, 11, 384)       885120    \n",
            "                                                                 \n",
            " batch_normalization_12 (Bat  (None, 11, 11, 384)      1536      \n",
            " chNormalization)                                                \n",
            "                                                                 \n",
            " conv2d_13 (Conv2D)          (None, 11, 11, 384)       1327488   \n",
            "                                                                 \n",
            " batch_normalization_13 (Bat  (None, 11, 11, 384)      1536      \n",
            " chNormalization)                                                \n",
            "                                                                 \n",
            " conv2d_14 (Conv2D)          (None, 11, 11, 256)       884992    \n",
            "                                                                 \n",
            " batch_normalization_14 (Bat  (None, 11, 11, 256)      1024      \n",
            " chNormalization)                                                \n",
            "                                                                 \n",
            " max_pooling2d_8 (MaxPooling  (None, 5, 5, 256)        0         \n",
            " 2D)                                                             \n",
            "                                                                 \n",
            " flatten_2 (Flatten)         (None, 6400)              0         \n",
            "                                                                 \n",
            " dense_6 (Dense)             (None, 4096)              26218496  \n",
            "                                                                 \n",
            " dropout_4 (Dropout)         (None, 4096)              0         \n",
            "                                                                 \n",
            " dense_7 (Dense)             (None, 4096)              16781312  \n",
            "                                                                 \n",
            " dropout_5 (Dropout)         (None, 4096)              0         \n",
            "                                                                 \n",
            " dense_8 (Dense)             (None, 1)                 4097      \n",
            "                                                                 \n",
            "=================================================================\n",
            "Total params: 46,756,609\n",
            "Trainable params: 46,753,857\n",
            "Non-trainable params: 2,752\n",
            "_________________________________________________________________\n",
            "Epoch 1/10\n",
            "72/72 [==============================] - 249s 3s/step - loss: 8.7391 - acc: 0.6337 - val_loss: 483.6014 - val_acc: 0.5278\n",
            "Epoch 2/10\n",
            "72/72 [==============================] - 240s 3s/step - loss: 2.5430 - acc: 0.7205 - val_loss: 87.4049 - val_acc: 0.5278\n",
            "Epoch 3/10\n",
            "72/72 [==============================] - 252s 3s/step - loss: 1.2864 - acc: 0.7665 - val_loss: 5.2757 - val_acc: 0.5625\n",
            "Epoch 4/10\n",
            "72/72 [==============================] - 264s 4s/step - loss: 0.6807 - acc: 0.7995 - val_loss: 0.4290 - val_acc: 0.8194\n",
            "Epoch 5/10\n",
            "72/72 [==============================] - 257s 3s/step - loss: 0.4288 - acc: 0.8359 - val_loss: 0.3156 - val_acc: 0.8958\n",
            "Epoch 6/10\n",
            "72/72 [==============================] - 247s 3s/step - loss: 0.4188 - acc: 0.8498 - val_loss: 0.3857 - val_acc: 0.8056\n",
            "Epoch 7/10\n",
            "72/72 [==============================] - 239s 3s/step - loss: 0.4013 - acc: 0.8472 - val_loss: 0.7629 - val_acc: 0.7292\n",
            "Epoch 8/10\n",
            "72/72 [==============================] - 245s 3s/step - loss: 0.4106 - acc: 0.8620 - val_loss: 0.5965 - val_acc: 0.7882\n",
            "Epoch 9/10\n",
            "72/72 [==============================] - 239s 3s/step - loss: 0.3517 - acc: 0.8689 - val_loss: 0.7402 - val_acc: 0.8333\n",
            "Epoch 10/10\n",
            "72/72 [==============================] - 235s 3s/step - loss: 0.4846 - acc: 0.8611 - val_loss: 13.8530 - val_acc: 0.5451\n"
          ]
        },
        {
          "data": {
            "image/png": "[encoded data removed]",
            "text/plain": [
              "<Figure size 432x288 with 1 Axes>"
            ]
          },
          "metadata": {},
          "output_type": "display_data"
        },
        {
          "data": {
            "image/png": "[encoded data removed]",
            "text/plain": [
              "<Figure size 432x288 with 1 Axes>"
            ]
          },
          "metadata": {},
          "output_type": "display_data"
        },
        {
          "metadata": {
            "tags": null
          },
          "name": "stdout",
          "output_type": "stream",
          "text": [
            "18/18 [==============================] - 28s 972ms/step\n",
            "\n",
            "Model Accuracy: 52.77777910232544 %\n",
            "Model Size: 170691534.00 bytes\n",
            "Inference Time is:  1.5727844370736017 s\n",
            "The evaluation df: \n",
            "                index                                                  0\n",
            "0    Evaluation type                                         Evualation\n",
            "1  Model Information  batch_size: 16 and epochs: 10 and in_size: [20...\n",
            "2           Accuracy                                52.77777910232544 %\n",
            "3               Loss                                264.0308141708374 %\n",
            "4         Model Size                                    170691534 bytes\n",
            "5     Inference Time                             1.5727844370736017 sec \n",
            "\n"
          ]
        },
        {
          "metadata": {
            "tags": null
          },
          "name": "stderr",
          "output_type": "stream",
          "text": [
            "/usr/local/lib/python3.8/dist-packages/xlsxwriter/workbook.py:339: UserWarning: Calling close() on already closed file.\n",
            "  warn(\"Calling close() on already closed file.\")\n"
          ]
        },
        {
          "output_type": "stream",
          "name": "stdout",
          "text": [
            "Found 1440 files belonging to 2 classes.\n",
            "Using 1152 files for training.\n",
            "Found 1440 files belonging to 2 classes.\n",
            "Using 288 files for validation.\n",
            "The model info:  batch_size: 16 and epochs: 10 and in_size: [227, 227, 3] and lr: 0.001\n",
            "Model: \"model_3\"\n",
            "_________________________________________________________________\n",
            " Layer (type)                Output Shape              Param #   \n",
            "=================================================================\n",
            " input_4 (InputLayer)        [(None, 227, 227, 3)]     0         \n",
            "                                                                 \n",
            " conv2d_15 (Conv2D)          (None, 55, 55, 96)        34944     \n",
            "                                                                 \n",
            " batch_normalization_15 (Bat  (None, 55, 55, 96)       384       \n",
            " chNormalization)                                                \n",
            "                                                                 \n",
            " max_pooling2d_9 (MaxPooling  (None, 27, 27, 96)       0         \n",
            " 2D)                                                             \n",
            "                                                                 \n",
            " conv2d_16 (Conv2D)          (None, 27, 27, 256)       614656    \n",
            "                                                                 \n",
            " batch_normalization_16 (Bat  (None, 27, 27, 256)      1024      \n",
            " chNormalization)                                                \n",
            "                                                                 \n",
            " max_pooling2d_10 (MaxPoolin  (None, 13, 13, 256)      0         \n",
            " g2D)                                                            \n",
            "                                                                 \n",
            " conv2d_17 (Conv2D)          (None, 13, 13, 384)       885120    \n",
            "                                                                 \n",
            " batch_normalization_17 (Bat  (None, 13, 13, 384)      1536      \n",
            " chNormalization)                                                \n",
            "                                                                 \n",
            " conv2d_18 (Conv2D)          (None, 13, 13, 384)       1327488   \n",
            "                                                                 \n",
            " batch_normalization_18 (Bat  (None, 13, 13, 384)      1536      \n",
            " chNormalization)                                                \n",
            "                                                                 \n",
            " conv2d_19 (Conv2D)          (None, 13, 13, 256)       884992    \n",
            "                                                                 \n",
            " batch_normalization_19 (Bat  (None, 13, 13, 256)      1024      \n",
            " chNormalization)                                                \n",
            "                                                                 \n",
            " max_pooling2d_11 (MaxPoolin  (None, 6, 6, 256)        0         \n",
            " g2D)                                                            \n",
            "                                                                 \n",
            " flatten_3 (Flatten)         (None, 9216)              0         \n",
            "                                                                 \n",
            " dense_9 (Dense)             (None, 4096)              37752832  \n",
            "                                                                 \n",
            " dropout_6 (Dropout)         (None, 4096)              0         \n",
            "                                                                 \n",
            " dense_10 (Dense)            (None, 4096)              16781312  \n",
            "                                                                 \n",
            " dropout_7 (Dropout)         (None, 4096)              0         \n",
            "                                                                 \n",
            " dense_11 (Dense)            (None, 1)                 4097      \n",
            "                                                                 \n",
            "=================================================================\n",
            "Total params: 58,290,945\n",
            "Trainable params: 58,288,193\n",
            "Non-trainable params: 2,752\n",
            "_________________________________________________________________\n",
            "Epoch 1/10\n",
            "72/72 [==============================] - 272s 4s/step - loss: 10.9804 - acc: 0.6406 - val_loss: 124.5642 - val_acc: 0.5278\n",
            "Epoch 2/10\n",
            "72/72 [==============================] - 269s 4s/step - loss: 1.6341 - acc: 0.7552 - val_loss: 4.4336 - val_acc: 0.5139\n",
            "Epoch 3/10\n",
            "72/72 [==============================] - 271s 4s/step - loss: 1.0816 - acc: 0.8099 - val_loss: 0.7777 - val_acc: 0.8125\n",
            "Epoch 4/10\n",
            "72/72 [==============================] - 273s 4s/step - loss: 0.9215 - acc: 0.8082 - val_loss: 3.7777 - val_acc: 0.5069\n",
            "Epoch 5/10\n",
            "72/72 [==============================] - 273s 4s/step - loss: 1.0092 - acc: 0.8316 - val_loss: 1.3891 - val_acc: 0.7014\n"
          ]
        }
      ]
    },
    {
      "cell_type": "code",
      "source": [],
      "metadata": {
        "id": "4afO8t4XDJr9"
      },
      "execution_count": null,
      "outputs": []
    }
  ]
}