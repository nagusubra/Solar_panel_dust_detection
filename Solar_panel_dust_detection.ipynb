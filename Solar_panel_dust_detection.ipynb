{
  "nbformat": 4,
  "nbformat_minor": 0,
  "metadata": {
    "colab": {
      "provenance": [],
      "authorship_tag": "ABX9TyPuV8Iaf2treHR/SnVMDLDu",
      "include_colab_link": true
    },
    "kernelspec": {
      "name": "python3",
      "display_name": "Python 3"
    },
    "language_info": {
      "name": "python"
    },
    "accelerator": "GPU",
    "gpuClass": "standard"
  },
  "cells": [
    {
      "cell_type": "markdown",
      "metadata": {
        "id": "view-in-github",
        "colab_type": "text"
      },
      "source": [
        "<a href=\"https://colab.research.google.com/github/nagusubra/Solar_panel_dust_detection/blob/main/Solar_panel_dust_detection.ipynb\" target=\"_parent\"><img src=\"https://colab.research.google.com/assets/colab-badge.svg\" alt=\"Open In Colab\"/></a>"
      ]
    },
    {
      "cell_type": "markdown",
      "source": [
        "#Install libraries and modules"
      ],
      "metadata": {
        "id": "SQAMdUOp9lRn"
      }
    },
    {
      "cell_type": "code",
      "execution_count": 11,
      "metadata": {
        "id": "PLxJiY6u9Zh0"
      },
      "outputs": [],
      "source": [
        "!pip install -q tensorflow-model-optimization\n",
        "\n",
        "import tempfile\n",
        "from tensorflow import keras\n",
        "import tensorflow_model_optimization as tfmot\n",
        "\n",
        "from tqdm import tqdm_notebook as tqdm\n",
        "import os\n",
        "import time\n",
        "import pickle\n",
        "from matplotlib import pyplot as plt\n",
        "import numpy as np\n",
        "import pandas as pd\n",
        "import tensorflow as tf\n",
        "from tensorflow.keras import datasets, layers, models\n",
        "import matplotlib.pyplot as plt"
      ]
    },
    {
      "cell_type": "code",
      "source": [
        "import tensorflow as tf\n",
        "from tensorflow.keras.models import Model, load_model\n",
        "from tensorflow.keras.layers import Input, Conv2D, MaxPooling2D, Dense, Flatten, BatchNormalization, Dropout\n",
        "from tensorflow.keras.preprocessing import image_dataset_from_directory\n",
        "from tensorflow.keras.optimizers import Adam, SGD\n",
        "from tensorflow.keras.utils import plot_model\n",
        "from tensorflow.keras.losses import binary_crossentropy\n",
        "from sklearn.model_selection import cross_val_score\n",
        "\n",
        "import seaborn as sn\n",
        "import pandas as pd\n",
        "import matplotlib.pyplot as plt\n",
        "import tensorflow as tf\n",
        "import datetime"
      ],
      "metadata": {
        "id": "qeqtoyTCppFF"
      },
      "execution_count": 12,
      "outputs": []
    },
    {
      "cell_type": "code",
      "source": [
        "# mounting google drive (if you are using Colab)\n",
        "from google.colab import drive\n",
        "drive.mount('/content/drive')"
      ],
      "metadata": {
        "colab": {
          "base_uri": "https://localhost:8080/"
        },
        "id": "-WVnbwh-9x2l",
        "outputId": "87b05a8a-d838-420d-c653-97bb35303bdf"
      },
      "execution_count": 13,
      "outputs": [
        {
          "output_type": "stream",
          "name": "stdout",
          "text": [
            "Drive already mounted at /content/drive; to attempt to forcibly remount, call drive.mount(\"/content/drive\", force_remount=True).\n"
          ]
        }
      ]
    },
    {
      "cell_type": "code",
      "source": [
        "# from os import listdir\n",
        "# from os.path import isfile, join\n",
        "\n",
        "# mypath = '/content/drive/MyDrive/Solar_panel_dust_detection/dataset_2/dirty'\n",
        "\n",
        "# onlyfiles = [ f  for f in listdir(mypath) if isfile(join(mypath, f))]\n",
        "\n",
        "# onlyfiles"
      ],
      "metadata": {
        "id": "z1LwhLkSBQ3u"
      },
      "execution_count": 14,
      "outputs": []
    },
    {
      "cell_type": "code",
      "source": [
        "# from os import listdir\n",
        "# from os.path import isfile, join\n",
        "\n",
        "# mypath = '/content/drive/MyDrive/Solar_panel_dust_detection/dataset_2/dirty'\n",
        "\n",
        "# onlyfiles = [ os.rename(join(mypath, f), join(mypath, f.split(\".\")[0] + \"_dirty\" + \".jpg\"))  for f in listdir(mypath) if isfile(join(mypath, f))]\n",
        "\n",
        "# onlyfiles"
      ],
      "metadata": {
        "id": "bwArxFhKADwi"
      },
      "execution_count": 15,
      "outputs": []
    },
    {
      "cell_type": "markdown",
      "source": [
        "# Build base model"
      ],
      "metadata": {
        "id": "vfkTB4_DiYTF"
      }
    },
    {
      "cell_type": "code",
      "source": [
        "def SolNet(in_size):\n",
        "  i = Input(in_size)\n",
        "  r = Conv2D(filters=96, kernel_size=(11,11), strides=(4,4), activation='relu', input_shape=(227,227,3))(i)\n",
        "  r = BatchNormalization()(r)\n",
        "  r = MaxPooling2D(pool_size=(3,3), strides=(2,2))(r)\n",
        "  r = Conv2D(filters=256, kernel_size=(5,5), strides=(1,1), activation='relu', padding=\"same\")(r)\n",
        "  r = BatchNormalization()(r)\n",
        "  r = MaxPooling2D(pool_size=(3,3), strides=(2,2))(r)\n",
        "  r = Conv2D(filters=384, kernel_size=(3,3), strides=(1,1), activation='relu', padding=\"same\")(r)\n",
        "  r = BatchNormalization()(r)\n",
        "  r = Conv2D(filters=384, kernel_size=(3,3), strides=(1,1), activation='relu', padding=\"same\")(r)\n",
        "  r = BatchNormalization()(r)\n",
        "  r = Conv2D(filters=256, kernel_size=(3,3), strides=(1,1), activation='relu', padding=\"same\")(r)\n",
        "  r = BatchNormalization()(r)\n",
        "  r = MaxPooling2D(pool_size=(3,3), strides=(2,2))(r)\n",
        "  r = Flatten()(r)\n",
        "  r = Dense(4096, activation='relu')(r)\n",
        "  r = Dropout(0.5)(r)\n",
        "  r = Dense(4096, activation='relu')(r)\n",
        "  r = Dropout(0.5)(r)\n",
        "  o = Dense(1, activation='sigmoid')(r)\n",
        "  SolNet = Model(i, o)\n",
        "  SolNet.save('models/solnet.hdf5')\n",
        "  SolNet.compile(optimizer=Adam(.0001, .8, .9), loss=binary_crossentropy, metrics=['acc'])\n",
        "  SolNet.summary()\n",
        "  return SolNet"
      ],
      "metadata": {
        "id": "4gVkkz__icfY"
      },
      "execution_count": 16,
      "outputs": []
    },
    {
      "cell_type": "markdown",
      "source": [
        "#Base Model"
      ],
      "metadata": {
        "id": "4ZeT32zWUEnd"
      }
    },
    {
      "cell_type": "code",
      "source": [
        "def SolNet(in_size):\n",
        "  i = Input(in_size)\n",
        "  r = Conv2D(filters=96, kernel_size=(11,11), strides=(4,4), activation='relu', input_shape=(227,227,3))(i)\n",
        "  r = BatchNormalization()(r)\n",
        "  r = MaxPooling2D(pool_size=(3,3), strides=(2,2))(r)\n",
        "  r = Conv2D(filters=256, kernel_size=(5,5), strides=(1,1), activation='relu', padding=\"same\")(r)\n",
        "  r = BatchNormalization()(r)\n",
        "  r = MaxPooling2D(pool_size=(3,3), strides=(2,2))(r)\n",
        "  r = Conv2D(filters=384, kernel_size=(3,3), strides=(1,1), activation='relu', padding=\"same\")(r)\n",
        "  r = BatchNormalization()(r)\n",
        "  r = Conv2D(filters=384, kernel_size=(3,3), strides=(1,1), activation='relu', padding=\"same\")(r)\n",
        "  r = BatchNormalization()(r)\n",
        "  r = Conv2D(filters=256, kernel_size=(3,3), strides=(1,1), activation='relu', padding=\"same\")(r)\n",
        "  r = BatchNormalization()(r)\n",
        "  r = MaxPooling2D(pool_size=(3,3), strides=(2,2))(r)\n",
        "  r = Flatten()(r)\n",
        "  r = Dense(4096, activation='relu')(r)\n",
        "  r = Dropout(0.5)(r)\n",
        "  r = Dense(4096, activation='relu')(r)\n",
        "  r = Dropout(0.5)(r)\n",
        "  o = Dense(1, activation='sigmoid')(r)\n",
        "  SolNet = Model(i, o)\n",
        "  SolNet.save('models/solnet.hdf5')\n",
        "  SolNet.save('/content/drive/MyDrive/Solar_panel_dust_detection/models/solnet'+str(datetime.datetime.today().date())+'.hdf5')\n",
        "  SolNet.save('/content/drive/MyDrive/Solar_panel_dust_detection/models/solnet'+str(datetime.datetime.today().date())+'.h5')\n",
        "  SolNet.compile(optimizer=Adam(.0001, .8, .9), loss=binary_crossentropy, metrics=['acc'])\n",
        "  SolNet.summary()\n",
        "  return SolNet"
      ],
      "metadata": {
        "id": "8nc6lZnKUixz"
      },
      "execution_count": 17,
      "outputs": []
    },
    {
      "cell_type": "code",
      "source": [
        "def evaluate():\n",
        "  path = \"/content/models/solnet.hdf5\"\n",
        "  solnet = load_model(path, compile=False)\n",
        "  # history = solnet.history()\n",
        "  plt.plot(history.history['loss'])\n",
        "  plt.plot(history.history['acc'])\n",
        "  plt.title('acc loss vs epoch')\n",
        "  plt.xlabel('epoch')\n",
        "  plt.legend(['loss', 'acc'], loc='upper left')\n",
        "  plt.show()"
      ],
      "metadata": {
        "id": "dnGGfkkgUo63"
      },
      "execution_count": 18,
      "outputs": []
    },
    {
      "cell_type": "code",
      "source": [
        "# Evaluate Model Size\n",
        "def get_gzipped_model_size(file):\n",
        "  # Returns size of gzipped model, in bytes.\n",
        "  import os\n",
        "  import zipfile\n",
        "\n",
        "  _, zipped_file = tempfile.mkstemp('.zip')\n",
        "  with zipfile.ZipFile(zipped_file, 'w', compression=zipfile.ZIP_DEFLATED) as f:\n",
        "    f.write(file)\n",
        "\n",
        "  return os.path.getsize(zipped_file)"
      ],
      "metadata": {
        "id": "QA55ZOpsaMiR"
      },
      "execution_count": 19,
      "outputs": []
    },
    {
      "cell_type": "code",
      "source": [
        "batch_size = 32\n",
        "#location = 'dataset/'\n",
        "location = \"/content/drive/MyDrive/Solar_panel_dust_detection/dataset_1\"\n",
        "label_mode = 'binary'\n",
        "seed = 10 #changed for each fold made manually\n",
        "epochs=30\n",
        "#epochs=5\n",
        "\n",
        "\n",
        "class_names = ['clean', 'dirty']\n",
        "in_size = [227, 227, 3]\n",
        "\n",
        "tr_dataset = image_dataset_from_directory(directory=location, label_mode= label_mode, class_names=class_names,\n",
        "                                          seed=seed, labels='inferred', image_size=in_size[:-1], \n",
        "                                          subset = 'training', batch_size=batch_size, validation_split=.2)\n",
        "\n",
        "val_dataset = image_dataset_from_directory(directory=location, label_mode= label_mode, class_names=class_names,\n",
        "                                          seed=seed, labels='inferred', image_size=in_size[:-1],\n",
        "                                          subset = 'validation', batch_size=batch_size, validation_split=.2)\n",
        "\n",
        "in_size = [227, 227, 3]\n",
        "SolNet = SolNet(in_size)\n",
        "\n",
        "\n",
        "\n",
        "startTime = time.time()\n",
        "history = SolNet.fit(tr_dataset, validation_data=val_dataset, epochs=epochs, batch_size=batch_size)\n",
        "executionTime = (time.time() - startTime)"
      ],
      "metadata": {
        "colab": {
          "base_uri": "https://localhost:8080/"
        },
        "id": "fNHot2r1TJdo",
        "outputId": "f92614a9-136b-4e8e-9553-99119cd8b259"
      },
      "execution_count": 20,
      "outputs": [
        {
          "output_type": "stream",
          "name": "stdout",
          "text": [
            "Found 1440 files belonging to 2 classes.\n",
            "Using 1152 files for training.\n",
            "Found 1440 files belonging to 2 classes.\n",
            "Using 288 files for validation.\n"
          ]
        },
        {
          "output_type": "stream",
          "name": "stderr",
          "text": [
            "WARNING:tensorflow:Compiled the loaded model, but the compiled metrics have yet to be built. `model.compile_metrics` will be empty until you train or evaluate the model.\n",
            "WARNING:tensorflow:Compiled the loaded model, but the compiled metrics have yet to be built. `model.compile_metrics` will be empty until you train or evaluate the model.\n",
            "WARNING:tensorflow:Compiled the loaded model, but the compiled metrics have yet to be built. `model.compile_metrics` will be empty until you train or evaluate the model.\n"
          ]
        },
        {
          "output_type": "stream",
          "name": "stdout",
          "text": [
            "Model: \"model_2\"\n",
            "_________________________________________________________________\n",
            " Layer (type)                Output Shape              Param #   \n",
            "=================================================================\n",
            " input_3 (InputLayer)        [(None, 227, 227, 3)]     0         \n",
            "                                                                 \n",
            " conv2d_10 (Conv2D)          (None, 55, 55, 96)        34944     \n",
            "                                                                 \n",
            " batch_normalization_10 (Bat  (None, 55, 55, 96)       384       \n",
            " chNormalization)                                                \n",
            "                                                                 \n",
            " max_pooling2d_6 (MaxPooling  (None, 27, 27, 96)       0         \n",
            " 2D)                                                             \n",
            "                                                                 \n",
            " conv2d_11 (Conv2D)          (None, 27, 27, 256)       614656    \n",
            "                                                                 \n",
            " batch_normalization_11 (Bat  (None, 27, 27, 256)      1024      \n",
            " chNormalization)                                                \n",
            "                                                                 \n",
            " max_pooling2d_7 (MaxPooling  (None, 13, 13, 256)      0         \n",
            " 2D)                                                             \n",
            "                                                                 \n",
            " conv2d_12 (Conv2D)          (None, 13, 13, 384)       885120    \n",
            "                                                                 \n",
            " batch_normalization_12 (Bat  (None, 13, 13, 384)      1536      \n",
            " chNormalization)                                                \n",
            "                                                                 \n",
            " conv2d_13 (Conv2D)          (None, 13, 13, 384)       1327488   \n",
            "                                                                 \n",
            " batch_normalization_13 (Bat  (None, 13, 13, 384)      1536      \n",
            " chNormalization)                                                \n",
            "                                                                 \n",
            " conv2d_14 (Conv2D)          (None, 13, 13, 256)       884992    \n",
            "                                                                 \n",
            " batch_normalization_14 (Bat  (None, 13, 13, 256)      1024      \n",
            " chNormalization)                                                \n",
            "                                                                 \n",
            " max_pooling2d_8 (MaxPooling  (None, 6, 6, 256)        0         \n",
            " 2D)                                                             \n",
            "                                                                 \n",
            " flatten_2 (Flatten)         (None, 9216)              0         \n",
            "                                                                 \n",
            " dense_6 (Dense)             (None, 4096)              37752832  \n",
            "                                                                 \n",
            " dropout_4 (Dropout)         (None, 4096)              0         \n",
            "                                                                 \n",
            " dense_7 (Dense)             (None, 4096)              16781312  \n",
            "                                                                 \n",
            " dropout_5 (Dropout)         (None, 4096)              0         \n",
            "                                                                 \n",
            " dense_8 (Dense)             (None, 1)                 4097      \n",
            "                                                                 \n",
            "=================================================================\n",
            "Total params: 58,290,945\n",
            "Trainable params: 58,288,193\n",
            "Non-trainable params: 2,752\n",
            "_________________________________________________________________\n",
            "Epoch 1/30\n",
            "36/36 [==============================] - 136s 3s/step - loss: 1.3287 - acc: 0.7509 - val_loss: 8.5201 - val_acc: 0.5278\n",
            "Epoch 2/30\n",
            "36/36 [==============================] - 123s 3s/step - loss: 0.5634 - acc: 0.8681 - val_loss: 7.3613 - val_acc: 0.5278\n",
            "Epoch 3/30\n",
            "36/36 [==============================] - 123s 3s/step - loss: 0.5111 - acc: 0.8872 - val_loss: 7.3834 - val_acc: 0.5347\n",
            "Epoch 4/30\n",
            "36/36 [==============================] - 124s 3s/step - loss: 0.4732 - acc: 0.8932 - val_loss: 2.7895 - val_acc: 0.5764\n",
            "Epoch 5/30\n",
            "36/36 [==============================] - 125s 3s/step - loss: 0.4033 - acc: 0.9167 - val_loss: 10.7058 - val_acc: 0.5694\n",
            "Epoch 6/30\n",
            "36/36 [==============================] - 140s 3s/step - loss: 0.3882 - acc: 0.9297 - val_loss: 4.1673 - val_acc: 0.5868\n",
            "Epoch 7/30\n",
            "36/36 [==============================] - 123s 3s/step - loss: 0.3192 - acc: 0.9349 - val_loss: 3.8223 - val_acc: 0.5972\n",
            "Epoch 8/30\n",
            "36/36 [==============================] - 125s 3s/step - loss: 0.1705 - acc: 0.9618 - val_loss: 6.1910 - val_acc: 0.5868\n",
            "Epoch 9/30\n",
            "36/36 [==============================] - 124s 3s/step - loss: 0.1363 - acc: 0.9714 - val_loss: 1.5333 - val_acc: 0.8576\n",
            "Epoch 10/30\n",
            "36/36 [==============================] - 125s 3s/step - loss: 0.1833 - acc: 0.9670 - val_loss: 0.5103 - val_acc: 0.9167\n",
            "Epoch 11/30\n",
            "36/36 [==============================] - 124s 3s/step - loss: 0.1321 - acc: 0.9705 - val_loss: 0.8718 - val_acc: 0.8819\n",
            "Epoch 12/30\n",
            "36/36 [==============================] - 125s 3s/step - loss: 0.2389 - acc: 0.9609 - val_loss: 0.4121 - val_acc: 0.9340\n",
            "Epoch 13/30\n",
            "36/36 [==============================] - 140s 3s/step - loss: 0.1387 - acc: 0.9826 - val_loss: 0.6678 - val_acc: 0.9583\n",
            "Epoch 14/30\n",
            "36/36 [==============================] - 139s 3s/step - loss: 0.1340 - acc: 0.9705 - val_loss: 7.4928 - val_acc: 0.6319\n",
            "Epoch 15/30\n",
            "36/36 [==============================] - 122s 3s/step - loss: 0.2673 - acc: 0.9722 - val_loss: 0.3442 - val_acc: 0.9549\n",
            "Epoch 16/30\n",
            "36/36 [==============================] - 124s 3s/step - loss: 0.1086 - acc: 0.9809 - val_loss: 0.3892 - val_acc: 0.9583\n",
            "Epoch 17/30\n",
            "36/36 [==============================] - 139s 3s/step - loss: 0.1046 - acc: 0.9809 - val_loss: 0.9088 - val_acc: 0.9132\n",
            "Epoch 18/30\n",
            "36/36 [==============================] - 122s 3s/step - loss: 0.2180 - acc: 0.9661 - val_loss: 1.0480 - val_acc: 0.8854\n",
            "Epoch 19/30\n",
            "36/36 [==============================] - 124s 3s/step - loss: 0.1899 - acc: 0.9800 - val_loss: 1.2210 - val_acc: 0.8229\n",
            "Epoch 20/30\n",
            "36/36 [==============================] - 122s 3s/step - loss: 0.1377 - acc: 0.9792 - val_loss: 1.9532 - val_acc: 0.7604\n",
            "Epoch 21/30\n",
            "36/36 [==============================] - 139s 3s/step - loss: 0.0598 - acc: 0.9852 - val_loss: 0.9626 - val_acc: 0.9271\n",
            "Epoch 22/30\n",
            "36/36 [==============================] - 124s 3s/step - loss: 0.1309 - acc: 0.9731 - val_loss: 3.9112 - val_acc: 0.6389\n",
            "Epoch 23/30\n",
            "36/36 [==============================] - 122s 3s/step - loss: 0.0810 - acc: 0.9878 - val_loss: 1.4010 - val_acc: 0.8854\n",
            "Epoch 24/30\n",
            "36/36 [==============================] - 120s 3s/step - loss: 0.1481 - acc: 0.9792 - val_loss: 3.0901 - val_acc: 0.7326\n",
            "Epoch 25/30\n",
            "36/36 [==============================] - 124s 3s/step - loss: 0.1644 - acc: 0.9835 - val_loss: 0.5830 - val_acc: 0.9444\n",
            "Epoch 26/30\n",
            "36/36 [==============================] - 121s 3s/step - loss: 0.0762 - acc: 0.9861 - val_loss: 4.4218 - val_acc: 0.6389\n",
            "Epoch 27/30\n",
            "36/36 [==============================] - 123s 3s/step - loss: 0.0837 - acc: 0.9792 - val_loss: 2.0026 - val_acc: 0.7917\n",
            "Epoch 28/30\n",
            "36/36 [==============================] - 124s 3s/step - loss: 0.0452 - acc: 0.9913 - val_loss: 1.2121 - val_acc: 0.8993\n",
            "Epoch 29/30\n",
            "36/36 [==============================] - 123s 3s/step - loss: 0.0694 - acc: 0.9818 - val_loss: 8.5187 - val_acc: 0.6319\n",
            "Epoch 30/30\n",
            "36/36 [==============================] - 125s 3s/step - loss: 0.0666 - acc: 0.9870 - val_loss: 1.8293 - val_acc: 0.8264\n"
          ]
        }
      ]
    },
    {
      "cell_type": "code",
      "source": [
        "print(history.history)"
      ],
      "metadata": {
        "colab": {
          "base_uri": "https://localhost:8080/"
        },
        "id": "d4C6_Bb-Yi7w",
        "outputId": "30c81687-c373-49e2-8ebb-6e9411113b92"
      },
      "execution_count": 21,
      "outputs": [
        {
          "output_type": "stream",
          "name": "stdout",
          "text": [
            "{'loss': [1.3287363052368164, 0.5634193420410156, 0.5111455321311951, 0.4731604754924774, 0.4032560884952545, 0.3881598711013794, 0.31916534900665283, 0.17050495743751526, 0.13634862005710602, 0.18331176042556763, 0.13211464881896973, 0.2388705164194107, 0.13867801427841187, 0.13399434089660645, 0.26728636026382446, 0.10856659710407257, 0.1045788899064064, 0.21800419688224792, 0.18994426727294922, 0.13771790266036987, 0.05984649434685707, 0.13090425729751587, 0.08103565126657486, 0.14808224141597748, 0.16438354551792145, 0.07622100412845612, 0.0836929902434349, 0.04517742618918419, 0.0693543553352356, 0.06658089905977249], 'acc': [0.7508680820465088, 0.8680555820465088, 0.8871527910232544, 0.8932291865348816, 0.9166666865348816, 0.9296875, 0.9348958134651184, 0.9618055820465088, 0.9713541865348816, 0.9670138955116272, 0.9704861044883728, 0.9609375, 0.9826388955116272, 0.9704861044883728, 0.9722222089767456, 0.9809027910232544, 0.9809027910232544, 0.9661458134651184, 0.9800347089767456, 0.9791666865348816, 0.9852430820465088, 0.9730902910232544, 0.9878472089767456, 0.9791666865348816, 0.9835069179534912, 0.9861111044883728, 0.9791666865348816, 0.9913194179534912, 0.9817708134651184, 0.9869791865348816], 'val_loss': [8.52010440826416, 7.361338138580322, 7.383418560028076, 2.789459466934204, 10.705753326416016, 4.16728401184082, 3.822296619415283, 6.191023826599121, 1.5332815647125244, 0.5103074312210083, 0.8718014359474182, 0.41206830739974976, 0.6678481698036194, 7.492780685424805, 0.3441919982433319, 0.38924723863601685, 0.9088354110717773, 1.048040509223938, 1.220988154411316, 1.9532119035720825, 0.9626182913780212, 3.9111812114715576, 1.4010354280471802, 3.0900540351867676, 0.5830243825912476, 4.421757221221924, 2.002596616744995, 1.2120826244354248, 8.51870346069336, 1.8292909860610962], 'val_acc': [0.5277777910232544, 0.5277777910232544, 0.5347222089767456, 0.5763888955116272, 0.5694444179534912, 0.5868055820465088, 0.5972222089767456, 0.5868055820465088, 0.8576388955116272, 0.9166666865348816, 0.8819444179534912, 0.9340277910232544, 0.9583333134651184, 0.6319444179534912, 0.9548611044883728, 0.9583333134651184, 0.9131944179534912, 0.8854166865348816, 0.8229166865348816, 0.7604166865348816, 0.9270833134651184, 0.6388888955116272, 0.8854166865348816, 0.7326388955116272, 0.9444444179534912, 0.6388888955116272, 0.7916666865348816, 0.8993055820465088, 0.6319444179534912, 0.8263888955116272]}\n"
          ]
        }
      ]
    },
    {
      "cell_type": "code",
      "source": [
        "evaluate()"
      ],
      "metadata": {
        "colab": {
          "base_uri": "https://localhost:8080/",
          "height": 295
        },
        "id": "IJOz2CyMbpef",
        "outputId": "02c34663-95f2-4396-cfb0-3b2c32d5fa36"
      },
      "execution_count": 22,
      "outputs": [
        {
          "output_type": "display_data",
          "data": {
            "text/plain": [
              "<Figure size 432x288 with 1 Axes>"
            ],
            "image/png": "[encoded data removed]"
          },
          "metadata": {
            "needs_background": "light"
          }
        }
      ]
    },
    {
      "cell_type": "code",
      "source": [
        "plt.plot(history.history['acc'], label='accuracy')\n",
        "plt.plot(history.history['val_acc'], label = 'val_accuracy')\n",
        "plt.title('model accuracy plot')\n",
        "plt.xlabel('Epoch')\n",
        "plt.ylabel('Accuracy')\n",
        "plt.legend(loc='best')\n",
        "plt.show()\n",
        "\n",
        "plt.plot(history.history['loss'])\n",
        "plt.plot(history.history['val_loss'])\n",
        "plt.title('model loss plot')\n",
        "plt.ylabel('loss')\n",
        "plt.xlabel('epoch')\n",
        "plt.legend(['train', 'val'], loc='best')\n",
        "plt.show()"
      ],
      "metadata": {
        "colab": {
          "base_uri": "https://localhost:8080/",
          "height": 573
        },
        "id": "ei6SYOpNYk0n",
        "outputId": "2a5d456b-7924-4a71-a491-e4ed9033544a"
      },
      "execution_count": 23,
      "outputs": [
        {
          "output_type": "display_data",
          "data": {
            "text/plain": [
              "<Figure size 432x288 with 1 Axes>"
            ],
            "image/png": "[encoded data removed]"
          },
          "metadata": {
            "needs_background": "light"
          }
        },
        {
          "output_type": "display_data",
          "data": {
            "text/plain": [
              "<Figure size 432x288 with 1 Axes>"
            ],
            "image/png": "[encoded data removed]"
          },
          "metadata": {
            "needs_background": "light"
          }
        }
      ]
    },
    {
      "cell_type": "code",
      "source": [
        "print(\"Inference Time is\", executionTime/60, \"mins\")"
      ],
      "metadata": {
        "colab": {
          "base_uri": "https://localhost:8080/"
        },
        "id": "4lFSom8Hg-ut",
        "outputId": "bbaa891d-6624-4f28-e738-70ec5b781aa2"
      },
      "execution_count": 24,
      "outputs": [
        {
          "output_type": "stream",
          "name": "stdout",
          "text": [
            "Inference Time is 65.25891411304474 mins\n"
          ]
        }
      ]
    },
    {
      "cell_type": "markdown",
      "source": [
        "# Updated Solnet model"
      ],
      "metadata": {
        "id": "khzhvYrY2KLt"
      }
    },
    {
      "cell_type": "code",
      "source": [
        "def SolNet_updated(in_size):\n",
        "  i = Input(in_size)\n",
        "  r = Conv2D(filters=96, kernel_size=(11,11), strides=(4,4), activation='relu', input_shape=(227,227,3))(i)\n",
        "  r = BatchNormalization()(r)\n",
        "  r = MaxPooling2D(pool_size=(3,3), strides=(2,2))(r)\n",
        "  r = Conv2D(filters=256, kernel_size=(5,5), strides=(1,1), activation='relu', padding=\"same\")(r)\n",
        "  r = BatchNormalization()(r)\n",
        "  r = MaxPooling2D(pool_size=(3,3), strides=(2,2))(r)\n",
        "  r = Conv2D(filters=384, kernel_size=(3,3), strides=(1,1), activation='relu', padding=\"same\")(r)\n",
        "  r = BatchNormalization()(r)\n",
        "  r = Conv2D(filters=384, kernel_size=(3,3), strides=(1,1), activation='relu', padding=\"same\")(r)\n",
        "  r = BatchNormalization()(r)\n",
        "  r = Conv2D(filters=256, kernel_size=(3,3), strides=(1,1), activation='relu', padding=\"same\")(r)\n",
        "  r = BatchNormalization()(r)\n",
        "  r = MaxPooling2D(pool_size=(3,3), strides=(2,2))(r)\n",
        "  r = Flatten()(r)\n",
        "  r = Dense(4096, activation='relu')(r)\n",
        "  r = Dropout(0.5)(r)\n",
        "  r = Dense(4096, activation='relu')(r)\n",
        "  r = Dropout(0.5)(r)\n",
        "  o = Dense(1, activation='sigmoid')(r)\n",
        "\n",
        "\n",
        "  SolNet = Model(inputs = i, outputs = o)\n",
        "\n",
        "\n",
        "\n",
        "  SolNet.save('models/solnet.hdf5')\n",
        "  SolNet.save('/content/drive/MyDrive/Solar_panel_dust_detection/models/solnet_updated_'+str(datetime.datetime.today().date())+'.hdf5')\n",
        "  SolNet.save('/content/drive/MyDrive/Solar_panel_dust_detection/models/solnet_updated_'+str(datetime.datetime.today().date())+'.h5')\n",
        "  SolNet.compile(optimizer=Adam(.00001), loss=binary_crossentropy, metrics=['acc'])\n",
        "  SolNet.summary()\n",
        "  return SolNet"
      ],
      "metadata": {
        "id": "ZeVlShut2Rsc"
      },
      "execution_count": 25,
      "outputs": []
    },
    {
      "cell_type": "code",
      "source": [
        "batch_size = 32\n",
        "#location = 'dataset/'\n",
        "location = \"/content/drive/MyDrive/Solar_panel_dust_detection/dataset_1\"\n",
        "label_mode = 'binary'\n",
        "seed = 10 #changed for each fold made manually\n",
        "epochs=20\n",
        "#epochs=5\n",
        "\n",
        "\n",
        "class_names = ['clean', 'dirty']\n",
        "in_size = [227, 227, 3]\n",
        "\n",
        "tr_dataset = image_dataset_from_directory(directory=location, label_mode= label_mode, class_names=class_names,\n",
        "                                          seed=seed, labels='inferred', image_size=in_size[:-1], \n",
        "                                          subset = 'training', batch_size=batch_size, validation_split=.2)\n",
        "\n",
        "val_dataset = image_dataset_from_directory(directory=location, label_mode= label_mode, class_names=class_names,\n",
        "                                          seed=seed, labels='inferred', image_size=in_size[:-1],\n",
        "                                          subset = 'validation', batch_size=batch_size, validation_split=.2)\n",
        "\n",
        "in_size = [227, 227, 3]\n",
        "SolNet = SolNet_updated(in_size)\n",
        "\n",
        "\n",
        "\n",
        "startTime = time.time()\n",
        "history = SolNet.fit(tr_dataset, validation_data=val_dataset, epochs=epochs, batch_size=batch_size)\n",
        "executionTime = (time.time() - startTime)"
      ],
      "metadata": {
        "colab": {
          "base_uri": "https://localhost:8080/"
        },
        "id": "WChxOJSP8OYD",
        "outputId": "83345f16-801b-460f-91db-ff04bdbfdffe"
      },
      "execution_count": 26,
      "outputs": [
        {
          "output_type": "stream",
          "name": "stdout",
          "text": [
            "Found 1440 files belonging to 2 classes.\n",
            "Using 1152 files for training.\n"
          ]
        },
        {
          "output_type": "stream",
          "name": "stderr",
          "text": [
            "WARNING:tensorflow:Compiled the loaded model, but the compiled metrics have yet to be built. `model.compile_metrics` will be empty until you train or evaluate the model.\n"
          ]
        },
        {
          "output_type": "stream",
          "name": "stdout",
          "text": [
            "Found 1440 files belonging to 2 classes.\n",
            "Using 288 files for validation.\n"
          ]
        },
        {
          "output_type": "stream",
          "name": "stderr",
          "text": [
            "WARNING:tensorflow:Compiled the loaded model, but the compiled metrics have yet to be built. `model.compile_metrics` will be empty until you train or evaluate the model.\n",
            "WARNING:tensorflow:Compiled the loaded model, but the compiled metrics have yet to be built. `model.compile_metrics` will be empty until you train or evaluate the model.\n"
          ]
        },
        {
          "output_type": "stream",
          "name": "stdout",
          "text": [
            "Model: \"model_3\"\n",
            "_________________________________________________________________\n",
            " Layer (type)                Output Shape              Param #   \n",
            "=================================================================\n",
            " input_4 (InputLayer)        [(None, 227, 227, 3)]     0         \n",
            "                                                                 \n",
            " conv2d_15 (Conv2D)          (None, 55, 55, 96)        34944     \n",
            "                                                                 \n",
            " batch_normalization_15 (Bat  (None, 55, 55, 96)       384       \n",
            " chNormalization)                                                \n",
            "                                                                 \n",
            " max_pooling2d_9 (MaxPooling  (None, 27, 27, 96)       0         \n",
            " 2D)                                                             \n",
            "                                                                 \n",
            " conv2d_16 (Conv2D)          (None, 27, 27, 256)       614656    \n",
            "                                                                 \n",
            " batch_normalization_16 (Bat  (None, 27, 27, 256)      1024      \n",
            " chNormalization)                                                \n",
            "                                                                 \n",
            " max_pooling2d_10 (MaxPoolin  (None, 13, 13, 256)      0         \n",
            " g2D)                                                            \n",
            "                                                                 \n",
            " conv2d_17 (Conv2D)          (None, 13, 13, 384)       885120    \n",
            "                                                                 \n",
            " batch_normalization_17 (Bat  (None, 13, 13, 384)      1536      \n",
            " chNormalization)                                                \n",
            "                                                                 \n",
            " conv2d_18 (Conv2D)          (None, 13, 13, 384)       1327488   \n",
            "                                                                 \n",
            " batch_normalization_18 (Bat  (None, 13, 13, 384)      1536      \n",
            " chNormalization)                                                \n",
            "                                                                 \n",
            " conv2d_19 (Conv2D)          (None, 13, 13, 256)       884992    \n",
            "                                                                 \n",
            " batch_normalization_19 (Bat  (None, 13, 13, 256)      1024      \n",
            " chNormalization)                                                \n",
            "                                                                 \n",
            " max_pooling2d_11 (MaxPoolin  (None, 6, 6, 256)        0         \n",
            " g2D)                                                            \n",
            "                                                                 \n",
            " flatten_3 (Flatten)         (None, 9216)              0         \n",
            "                                                                 \n",
            " dense_9 (Dense)             (None, 4096)              37752832  \n",
            "                                                                 \n",
            " dropout_6 (Dropout)         (None, 4096)              0         \n",
            "                                                                 \n",
            " dense_10 (Dense)            (None, 4096)              16781312  \n",
            "                                                                 \n",
            " dropout_7 (Dropout)         (None, 4096)              0         \n",
            "                                                                 \n",
            " dense_11 (Dense)            (None, 1)                 4097      \n",
            "                                                                 \n",
            "=================================================================\n",
            "Total params: 58,290,945\n",
            "Trainable params: 58,288,193\n",
            "Non-trainable params: 2,752\n",
            "_________________________________________________________________\n",
            "Epoch 1/20\n",
            "36/36 [==============================] - 132s 3s/step - loss: 0.9146 - acc: 0.6545 - val_loss: 1.4885 - val_acc: 0.5278\n",
            "Epoch 2/20\n",
            "36/36 [==============================] - 123s 3s/step - loss: 0.5940 - acc: 0.7856 - val_loss: 1.0510 - val_acc: 0.5278\n",
            "Epoch 3/20\n",
            "36/36 [==============================] - 122s 3s/step - loss: 0.3943 - acc: 0.8411 - val_loss: 0.7579 - val_acc: 0.5833\n",
            "Epoch 4/20\n",
            "36/36 [==============================] - 123s 3s/step - loss: 0.3445 - acc: 0.8724 - val_loss: 0.6607 - val_acc: 0.6840\n",
            "Epoch 5/20\n",
            "36/36 [==============================] - 125s 3s/step - loss: 0.3013 - acc: 0.8941 - val_loss: 0.3696 - val_acc: 0.8576\n",
            "Epoch 6/20\n",
            "36/36 [==============================] - 124s 3s/step - loss: 0.2216 - acc: 0.9227 - val_loss: 0.2250 - val_acc: 0.8993\n",
            "Epoch 7/20\n",
            "36/36 [==============================] - 122s 3s/step - loss: 0.1793 - acc: 0.9306 - val_loss: 0.1932 - val_acc: 0.9201\n",
            "Epoch 8/20\n",
            "36/36 [==============================] - 123s 3s/step - loss: 0.1645 - acc: 0.9314 - val_loss: 0.1954 - val_acc: 0.9201\n",
            "Epoch 9/20\n",
            "36/36 [==============================] - 123s 3s/step - loss: 0.0954 - acc: 0.9705 - val_loss: 0.1888 - val_acc: 0.9236\n",
            "Epoch 10/20\n",
            "36/36 [==============================] - 123s 3s/step - loss: 0.1015 - acc: 0.9609 - val_loss: 0.1673 - val_acc: 0.9271\n",
            "Epoch 11/20\n",
            "36/36 [==============================] - 123s 3s/step - loss: 0.0752 - acc: 0.9748 - val_loss: 0.1506 - val_acc: 0.9514\n",
            "Epoch 12/20\n",
            "36/36 [==============================] - 122s 3s/step - loss: 0.0676 - acc: 0.9783 - val_loss: 0.1630 - val_acc: 0.9549\n",
            "Epoch 13/20\n",
            "36/36 [==============================] - 122s 3s/step - loss: 0.0364 - acc: 0.9922 - val_loss: 0.1335 - val_acc: 0.9618\n",
            "Epoch 14/20\n",
            "36/36 [==============================] - 120s 3s/step - loss: 0.0431 - acc: 0.9844 - val_loss: 0.1555 - val_acc: 0.9688\n",
            "Epoch 15/20\n",
            "36/36 [==============================] - 121s 3s/step - loss: 0.0460 - acc: 0.9783 - val_loss: 0.1469 - val_acc: 0.9583\n",
            "Epoch 16/20\n",
            "36/36 [==============================] - 122s 3s/step - loss: 0.0280 - acc: 0.9896 - val_loss: 0.1751 - val_acc: 0.9549\n",
            "Epoch 17/20\n",
            "36/36 [==============================] - 122s 3s/step - loss: 0.0257 - acc: 0.9913 - val_loss: 0.1163 - val_acc: 0.9653\n",
            "Epoch 18/20\n",
            "36/36 [==============================] - 122s 3s/step - loss: 0.0202 - acc: 0.9922 - val_loss: 0.1188 - val_acc: 0.9653\n",
            "Epoch 19/20\n",
            "36/36 [==============================] - 139s 3s/step - loss: 0.0283 - acc: 0.9913 - val_loss: 0.1361 - val_acc: 0.9549\n",
            "Epoch 20/20\n",
            "36/36 [==============================] - 122s 3s/step - loss: 0.0209 - acc: 0.9948 - val_loss: 0.1176 - val_acc: 0.9618\n"
          ]
        }
      ]
    },
    {
      "cell_type": "code",
      "source": [
        "print(\"Inference Time is\", executionTime/60, \"mins\")"
      ],
      "metadata": {
        "id": "AMm00dJYTyZb",
        "outputId": "5b90a266-b4c8-41ca-dc97-1e4af3cc2647",
        "colab": {
          "base_uri": "https://localhost:8080/"
        }
      },
      "execution_count": 27,
      "outputs": [
        {
          "output_type": "stream",
          "name": "stdout",
          "text": [
            "Inference Time is 42.89770320256551 mins\n"
          ]
        }
      ]
    },
    {
      "cell_type": "code",
      "source": [
        "plt.plot(history.history['acc'], label='accuracy')\n",
        "plt.plot(history.history['val_acc'], label = 'val_accuracy')\n",
        "plt.title('model accuracy plot')\n",
        "plt.xlabel('Epoch')\n",
        "plt.ylabel('Accuracy')\n",
        "plt.legend(loc='best')\n",
        "plt.show()\n",
        "\n",
        "plt.plot(history.history['loss'])\n",
        "plt.plot(history.history['val_loss'])\n",
        "plt.title('model loss plot')\n",
        "plt.ylabel('loss')\n",
        "plt.xlabel('epoch')\n",
        "plt.legend(['train', 'val'], loc='best')\n",
        "plt.show()"
      ],
      "metadata": {
        "colab": {
          "base_uri": "https://localhost:8080/",
          "height": 573
        },
        "id": "kPHxMTjn8byV",
        "outputId": "ee9853de-47ed-49e6-9d90-637a9b5a74f1"
      },
      "execution_count": 28,
      "outputs": [
        {
          "output_type": "display_data",
          "data": {
            "text/plain": [
              "<Figure size 432x288 with 1 Axes>"
            ],
            "image/png": "[encoded data removed]"
          },
          "metadata": {
            "needs_background": "light"
          }
        },
        {
          "output_type": "display_data",
          "data": {
            "text/plain": [
              "<Figure size 432x288 with 1 Axes>"
            ],
            "image/png": "[encoded data removed]"
          },
          "metadata": {
            "needs_background": "light"
          }
        }
      ]
    },
    {
      "cell_type": "code",
      "source": [],
      "metadata": {
        "id": "Lc9thO3I1sQn"
      },
      "execution_count": 28,
      "outputs": []
    }
  ]
}