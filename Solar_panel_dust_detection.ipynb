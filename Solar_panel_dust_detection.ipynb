{
  "nbformat": 4,
  "nbformat_minor": 0,
  "metadata": {
    "colab": {
      "provenance": [],
      "authorship_tag": "ABX9TyPo/OKij9fTJOPN9KTZiCYI",
      "include_colab_link": true
    },
    "kernelspec": {
      "name": "python3",
      "display_name": "Python 3"
    },
    "language_info": {
      "name": "python"
    },
    "accelerator": "GPU",
    "gpuClass": "standard"
  },
  "cells": [
    {
      "cell_type": "markdown",
      "metadata": {
        "id": "view-in-github",
        "colab_type": "text"
      },
      "source": [
        "<a href=\"https://colab.research.google.com/github/nagusubra/Solar_panel_dust_detection/blob/main/Solar_panel_dust_detection.ipynb\" target=\"_parent\"><img src=\"https://colab.research.google.com/assets/colab-badge.svg\" alt=\"Open In Colab\"/></a>"
      ]
    },
    {
      "cell_type": "markdown",
      "source": [
        "#Install libraries and modules"
      ],
      "metadata": {
        "id": "SQAMdUOp9lRn"
      }
    },
    {
      "cell_type": "code",
      "execution_count": 1,
      "metadata": {
        "id": "PLxJiY6u9Zh0"
      },
      "outputs": [],
      "source": [
        "!pip install -q tensorflow-model-optimization\n",
        "\n",
        "import tempfile\n",
        "from tensorflow import keras\n",
        "import tensorflow_model_optimization as tfmot\n",
        "\n",
        "from tqdm import tqdm_notebook as tqdm\n",
        "import os\n",
        "import time\n",
        "import pickle\n",
        "from matplotlib import pyplot as plt\n",
        "import numpy as np\n",
        "import pandas as pd\n",
        "import tensorflow as tf\n",
        "from tensorflow.keras import datasets, layers, models\n",
        "import matplotlib.pyplot as plt"
      ]
    },
    {
      "cell_type": "code",
      "source": [
        "import tensorflow as tf\n",
        "from tensorflow.keras.models import Model, load_model\n",
        "from tensorflow.keras.layers import Input, Conv2D, MaxPooling2D, Dense, Flatten, BatchNormalization, Dropout\n",
        "from tensorflow.keras.preprocessing import image_dataset_from_directory\n",
        "from tensorflow.keras.optimizers import Adam, SGD\n",
        "from tensorflow.keras.utils import plot_model\n",
        "from tensorflow.keras.losses import binary_crossentropy\n",
        "from sklearn.model_selection import cross_val_score\n",
        "\n",
        "import seaborn as sn\n",
        "import pandas as pd\n",
        "import matplotlib.pyplot as plt\n",
        "import tensorflow as tf\n",
        "import datetime"
      ],
      "metadata": {
        "id": "qeqtoyTCppFF"
      },
      "execution_count": 2,
      "outputs": []
    },
    {
      "cell_type": "code",
      "source": [
        "# mounting google drive (if you are using Colab)\n",
        "from google.colab import drive\n",
        "drive.mount('/content/drive')"
      ],
      "metadata": {
        "colab": {
          "base_uri": "https://localhost:8080/"
        },
        "id": "-WVnbwh-9x2l",
        "outputId": "d9b63306-bcb9-4581-d335-686820d486ea"
      },
      "execution_count": 3,
      "outputs": [
        {
          "output_type": "stream",
          "name": "stdout",
          "text": [
            "Drive already mounted at /content/drive; to attempt to forcibly remount, call drive.mount(\"/content/drive\", force_remount=True).\n"
          ]
        }
      ]
    },
    {
      "cell_type": "code",
      "source": [
        "# from os import listdir\n",
        "# from os.path import isfile, join\n",
        "\n",
        "# mypath = '/content/drive/MyDrive/Solar_panel_dust_detection/dataset_2/dirty'\n",
        "\n",
        "# onlyfiles = [ f  for f in listdir(mypath) if isfile(join(mypath, f))]\n",
        "\n",
        "# onlyfiles"
      ],
      "metadata": {
        "id": "z1LwhLkSBQ3u"
      },
      "execution_count": null,
      "outputs": []
    },
    {
      "cell_type": "code",
      "source": [
        "# from os import listdir\n",
        "# from os.path import isfile, join\n",
        "\n",
        "# mypath = '/content/drive/MyDrive/Solar_panel_dust_detection/dataset_2/dirty'\n",
        "\n",
        "# onlyfiles = [ os.rename(join(mypath, f), join(mypath, f.split(\".\")[0] + \"_dirty\" + \".jpg\"))  for f in listdir(mypath) if isfile(join(mypath, f))]\n",
        "\n",
        "# onlyfiles"
      ],
      "metadata": {
        "id": "bwArxFhKADwi"
      },
      "execution_count": null,
      "outputs": []
    },
    {
      "cell_type": "markdown",
      "source": [
        "# Build base model"
      ],
      "metadata": {
        "id": "vfkTB4_DiYTF"
      }
    },
    {
      "cell_type": "code",
      "source": [
        "def SolNet(in_size):\n",
        "  i = Input(in_size)\n",
        "  r = Conv2D(filters=96, kernel_size=(11,11), strides=(4,4), activation='relu', input_shape=(227,227,3))(i)\n",
        "  r = BatchNormalization()(r)\n",
        "  r = MaxPooling2D(pool_size=(3,3), strides=(2,2))(r)\n",
        "  r = Conv2D(filters=256, kernel_size=(5,5), strides=(1,1), activation='relu', padding=\"same\")(r)\n",
        "  r = BatchNormalization()(r)\n",
        "  r = MaxPooling2D(pool_size=(3,3), strides=(2,2))(r)\n",
        "  r = Conv2D(filters=384, kernel_size=(3,3), strides=(1,1), activation='relu', padding=\"same\")(r)\n",
        "  r = BatchNormalization()(r)\n",
        "  r = Conv2D(filters=384, kernel_size=(3,3), strides=(1,1), activation='relu', padding=\"same\")(r)\n",
        "  r = BatchNormalization()(r)\n",
        "  r = Conv2D(filters=256, kernel_size=(3,3), strides=(1,1), activation='relu', padding=\"same\")(r)\n",
        "  r = BatchNormalization()(r)\n",
        "  r = MaxPooling2D(pool_size=(3,3), strides=(2,2))(r)\n",
        "  r = Flatten()(r)\n",
        "  r = Dense(4096, activation='relu')(r)\n",
        "  r = Dropout(0.5)(r)\n",
        "  r = Dense(4096, activation='relu')(r)\n",
        "  r = Dropout(0.5)(r)\n",
        "  o = Dense(1, activation='sigmoid')(r)\n",
        "  SolNet = Model(i, o)\n",
        "  SolNet.save('models/solnet.hdf5')\n",
        "  SolNet.compile(optimizer=Adam(.0001, .8, .9), loss=binary_crossentropy, metrics=['acc'])\n",
        "  SolNet.summary()\n",
        "  return SolNet"
      ],
      "metadata": {
        "id": "4gVkkz__icfY"
      },
      "execution_count": null,
      "outputs": []
    },
    {
      "cell_type": "markdown",
      "source": [
        "#Base Model"
      ],
      "metadata": {
        "id": "4ZeT32zWUEnd"
      }
    },
    {
      "cell_type": "code",
      "source": [
        "def SolNet(in_size):\n",
        "  i = Input(in_size)\n",
        "  r = Conv2D(filters=96, kernel_size=(11,11), strides=(4,4), activation='relu', input_shape=(227,227,3))(i)\n",
        "  r = BatchNormalization()(r)\n",
        "  r = MaxPooling2D(pool_size=(3,3), strides=(2,2))(r)\n",
        "  r = Conv2D(filters=256, kernel_size=(5,5), strides=(1,1), activation='relu', padding=\"same\")(r)\n",
        "  r = BatchNormalization()(r)\n",
        "  r = MaxPooling2D(pool_size=(3,3), strides=(2,2))(r)\n",
        "  r = Conv2D(filters=384, kernel_size=(3,3), strides=(1,1), activation='relu', padding=\"same\")(r)\n",
        "  r = BatchNormalization()(r)\n",
        "  r = Conv2D(filters=384, kernel_size=(3,3), strides=(1,1), activation='relu', padding=\"same\")(r)\n",
        "  r = BatchNormalization()(r)\n",
        "  r = Conv2D(filters=256, kernel_size=(3,3), strides=(1,1), activation='relu', padding=\"same\")(r)\n",
        "  r = BatchNormalization()(r)\n",
        "  r = MaxPooling2D(pool_size=(3,3), strides=(2,2))(r)\n",
        "  r = Flatten()(r)\n",
        "  r = Dense(4096, activation='relu')(r)\n",
        "  r = Dropout(0.5)(r)\n",
        "  r = Dense(4096, activation='relu')(r)\n",
        "  r = Dropout(0.5)(r)\n",
        "  o = Dense(1, activation='sigmoid')(r)\n",
        "  SolNet = Model(i, o)\n",
        "  SolNet.save('models/solnet.hdf5')\n",
        "  SolNet.save('/content/drive/MyDrive/Solar_panel_dust_detection/models/solnet'+str(datetime.datetime.today().date())+'.hdf5')\n",
        "  SolNet.save('/content/drive/MyDrive/Solar_panel_dust_detection/models/solnet'+str(datetime.datetime.today().date())+'.h5')\n",
        "  SolNet.compile(optimizer=Adam(.0001, .8, .9), loss=binary_crossentropy, metrics=['acc'])\n",
        "  SolNet.summary()\n",
        "  return SolNet"
      ],
      "metadata": {
        "id": "8nc6lZnKUixz"
      },
      "execution_count": null,
      "outputs": []
    },
    {
      "cell_type": "code",
      "source": [
        "def evaluate():\n",
        "  path = \"/content/models/solnet.hdf5\"\n",
        "  solnet = load_model(path, compile=False)\n",
        "  # history = solnet.history()\n",
        "  plt.plot(history.history['loss'])\n",
        "  plt.plot(history.history['acc'])\n",
        "  plt.title('acc loss vs epoch')\n",
        "  plt.xlabel('epoch')\n",
        "  plt.legend(['loss', 'acc'], loc='upper left')\n",
        "  plt.show()"
      ],
      "metadata": {
        "id": "dnGGfkkgUo63"
      },
      "execution_count": null,
      "outputs": []
    },
    {
      "cell_type": "code",
      "source": [
        "# Evaluate Model Size\n",
        "def get_gzipped_model_size(file):\n",
        "  # Returns size of gzipped model, in bytes.\n",
        "  import os\n",
        "  import zipfile\n",
        "\n",
        "  _, zipped_file = tempfile.mkstemp('.zip')\n",
        "  with zipfile.ZipFile(zipped_file, 'w', compression=zipfile.ZIP_DEFLATED) as f:\n",
        "    f.write(file)\n",
        "\n",
        "  return os.path.getsize(zipped_file)"
      ],
      "metadata": {
        "id": "QA55ZOpsaMiR"
      },
      "execution_count": null,
      "outputs": []
    },
    {
      "cell_type": "code",
      "source": [
        "batch_size = 32\n",
        "#location = 'dataset/'\n",
        "location = \"/content/drive/MyDrive/Solar_panel_dust_detection/dataset_1\"\n",
        "label_mode = 'binary'\n",
        "seed = 10 #changed for each fold made manually\n",
        "epochs=30\n",
        "#epochs=5\n",
        "\n",
        "\n",
        "class_names = ['clean', 'dirty']\n",
        "in_size = [227, 227, 3]\n",
        "\n",
        "tr_dataset = image_dataset_from_directory(directory=location, label_mode= label_mode, class_names=class_names,\n",
        "                                          seed=seed, labels='inferred', image_size=in_size[:-1], \n",
        "                                          subset = 'training', batch_size=batch_size, validation_split=.2)\n",
        "\n",
        "val_dataset = image_dataset_from_directory(directory=location, label_mode= label_mode, class_names=class_names,\n",
        "                                          seed=seed, labels='inferred', image_size=in_size[:-1],\n",
        "                                          subset = 'validation', batch_size=batch_size, validation_split=.2)\n",
        "\n",
        "in_size = [227, 227, 3]\n",
        "SolNet = SolNet(in_size)\n",
        "\n",
        "\n",
        "\n",
        "startTime = time.time()\n",
        "history = SolNet.fit(tr_dataset, validation_data=val_dataset, epochs=epochs, batch_size=batch_size)\n",
        "executionTime = (time.time() - startTime)"
      ],
      "metadata": {
        "colab": {
          "base_uri": "https://localhost:8080/"
        },
        "id": "fNHot2r1TJdo",
        "outputId": "bddd5916-e5e7-4eb2-b843-a42841598d43"
      },
      "execution_count": null,
      "outputs": [
        {
          "output_type": "stream",
          "name": "stdout",
          "text": [
            "Found 788 files belonging to 2 classes.\n",
            "Using 631 files for training.\n",
            "Found 788 files belonging to 2 classes.\n",
            "Using 157 files for validation.\n"
          ]
        },
        {
          "output_type": "stream",
          "name": "stderr",
          "text": [
            "WARNING:tensorflow:Compiled the loaded model, but the compiled metrics have yet to be built. `model.compile_metrics` will be empty until you train or evaluate the model.\n",
            "WARNING:tensorflow:Compiled the loaded model, but the compiled metrics have yet to be built. `model.compile_metrics` will be empty until you train or evaluate the model.\n",
            "WARNING:tensorflow:Compiled the loaded model, but the compiled metrics have yet to be built. `model.compile_metrics` will be empty until you train or evaluate the model.\n"
          ]
        },
        {
          "output_type": "stream",
          "name": "stdout",
          "text": [
            "Model: \"model\"\n",
            "_________________________________________________________________\n",
            " Layer (type)                Output Shape              Param #   \n",
            "=================================================================\n",
            " input_1 (InputLayer)        [(None, 227, 227, 3)]     0         \n",
            "                                                                 \n",
            " conv2d (Conv2D)             (None, 55, 55, 96)        34944     \n",
            "                                                                 \n",
            " batch_normalization (BatchN  (None, 55, 55, 96)       384       \n",
            " ormalization)                                                   \n",
            "                                                                 \n",
            " max_pooling2d (MaxPooling2D  (None, 27, 27, 96)       0         \n",
            " )                                                               \n",
            "                                                                 \n",
            " conv2d_1 (Conv2D)           (None, 27, 27, 256)       614656    \n",
            "                                                                 \n",
            " batch_normalization_1 (Batc  (None, 27, 27, 256)      1024      \n",
            " hNormalization)                                                 \n",
            "                                                                 \n",
            " max_pooling2d_1 (MaxPooling  (None, 13, 13, 256)      0         \n",
            " 2D)                                                             \n",
            "                                                                 \n",
            " conv2d_2 (Conv2D)           (None, 13, 13, 384)       885120    \n",
            "                                                                 \n",
            " batch_normalization_2 (Batc  (None, 13, 13, 384)      1536      \n",
            " hNormalization)                                                 \n",
            "                                                                 \n",
            " conv2d_3 (Conv2D)           (None, 13, 13, 384)       1327488   \n",
            "                                                                 \n",
            " batch_normalization_3 (Batc  (None, 13, 13, 384)      1536      \n",
            " hNormalization)                                                 \n",
            "                                                                 \n",
            " conv2d_4 (Conv2D)           (None, 13, 13, 256)       884992    \n",
            "                                                                 \n",
            " batch_normalization_4 (Batc  (None, 13, 13, 256)      1024      \n",
            " hNormalization)                                                 \n",
            "                                                                 \n",
            " max_pooling2d_2 (MaxPooling  (None, 6, 6, 256)        0         \n",
            " 2D)                                                             \n",
            "                                                                 \n",
            " flatten (Flatten)           (None, 9216)              0         \n",
            "                                                                 \n",
            " dense (Dense)               (None, 4096)              37752832  \n",
            "                                                                 \n",
            " dropout (Dropout)           (None, 4096)              0         \n",
            "                                                                 \n",
            " dense_1 (Dense)             (None, 4096)              16781312  \n",
            "                                                                 \n",
            " dropout_1 (Dropout)         (None, 4096)              0         \n",
            "                                                                 \n",
            " dense_2 (Dense)             (None, 1)                 4097      \n",
            "                                                                 \n",
            "=================================================================\n",
            "Total params: 58,290,945\n",
            "Trainable params: 58,288,193\n",
            "Non-trainable params: 2,752\n",
            "_________________________________________________________________\n",
            "Epoch 1/30\n",
            "20/20 [==============================] - 279s 10s/step - loss: 2.5959 - acc: 0.6719 - val_loss: 10.1486 - val_acc: 0.3631\n",
            "Epoch 2/30\n",
            "20/20 [==============================] - 231s 10s/step - loss: 0.6836 - acc: 0.8257 - val_loss: 8.3118 - val_acc: 0.3631\n",
            "Epoch 3/30\n",
            "20/20 [==============================] - 231s 10s/step - loss: 0.2986 - acc: 0.9160 - val_loss: 8.7400 - val_acc: 0.3631\n",
            "Epoch 4/30\n",
            "20/20 [==============================] - 230s 10s/step - loss: 0.4516 - acc: 0.8843 - val_loss: 14.1604 - val_acc: 0.3694\n",
            "Epoch 5/30\n",
            "20/20 [==============================] - 213s 9s/step - loss: 0.4713 - acc: 0.9033 - val_loss: 19.5265 - val_acc: 0.3822\n",
            "Epoch 6/30\n",
            "20/20 [==============================] - 210s 9s/step - loss: 0.2248 - acc: 0.9414 - val_loss: 16.6597 - val_acc: 0.3758\n",
            "Epoch 7/30\n",
            "20/20 [==============================] - 230s 10s/step - loss: 0.2052 - acc: 0.9477 - val_loss: 10.2284 - val_acc: 0.3822\n",
            "Epoch 8/30\n",
            "20/20 [==============================] - 234s 10s/step - loss: 0.0739 - acc: 0.9731 - val_loss: 6.5876 - val_acc: 0.4331\n",
            "Epoch 9/30\n",
            "20/20 [==============================] - 229s 10s/step - loss: 0.1924 - acc: 0.9667 - val_loss: 8.0823 - val_acc: 0.4013\n",
            "Epoch 10/30\n",
            "20/20 [==============================] - 230s 10s/step - loss: 0.2030 - acc: 0.9604 - val_loss: 28.3860 - val_acc: 0.3949\n",
            "Epoch 11/30\n",
            "20/20 [==============================] - 219s 9s/step - loss: 0.3591 - acc: 0.9635 - val_loss: 5.5419 - val_acc: 0.4841\n",
            "Epoch 12/30\n",
            "20/20 [==============================] - 208s 9s/step - loss: 0.1121 - acc: 0.9731 - val_loss: 16.6268 - val_acc: 0.3949\n",
            "Epoch 13/30\n",
            "20/20 [==============================] - 234s 10s/step - loss: 0.1209 - acc: 0.9731 - val_loss: 0.9083 - val_acc: 0.8535\n",
            "Epoch 14/30\n",
            "20/20 [==============================] - 229s 10s/step - loss: 0.1291 - acc: 0.9731 - val_loss: 0.7675 - val_acc: 0.8854\n",
            "Epoch 15/30\n",
            "20/20 [==============================] - 213s 9s/step - loss: 0.2076 - acc: 0.9731 - val_loss: 1.1277 - val_acc: 0.8535\n",
            "Epoch 16/30\n",
            "20/20 [==============================] - 226s 10s/step - loss: 0.1033 - acc: 0.9715 - val_loss: 8.2032 - val_acc: 0.5414\n",
            "Epoch 17/30\n",
            "20/20 [==============================] - 208s 9s/step - loss: 0.2400 - acc: 0.9620 - val_loss: 1.8686 - val_acc: 0.7962\n",
            "Epoch 18/30\n",
            "20/20 [==============================] - 235s 10s/step - loss: 0.0490 - acc: 0.9905 - val_loss: 0.8035 - val_acc: 0.9045\n",
            "Epoch 19/30\n",
            "20/20 [==============================] - 209s 9s/step - loss: 0.0613 - acc: 0.9857 - val_loss: 0.7039 - val_acc: 0.8790\n",
            "Epoch 20/30\n",
            "20/20 [==============================] - 228s 10s/step - loss: 0.2070 - acc: 0.9762 - val_loss: 7.0724 - val_acc: 0.6497\n",
            "Epoch 21/30\n",
            "20/20 [==============================] - 228s 10s/step - loss: 0.2601 - acc: 0.9762 - val_loss: 2.6105 - val_acc: 0.7771\n",
            "Epoch 22/30\n",
            "20/20 [==============================] - 225s 10s/step - loss: 0.1063 - acc: 0.9826 - val_loss: 0.6351 - val_acc: 0.9363\n",
            "Epoch 23/30\n",
            "20/20 [==============================] - 234s 10s/step - loss: 0.1198 - acc: 0.9826 - val_loss: 1.0207 - val_acc: 0.8599\n",
            "Epoch 24/30\n",
            "20/20 [==============================] - 228s 10s/step - loss: 0.0428 - acc: 0.9889 - val_loss: 5.4017 - val_acc: 0.5732\n",
            "Epoch 25/30\n",
            "20/20 [==============================] - 232s 10s/step - loss: 0.0548 - acc: 0.9826 - val_loss: 1.3173 - val_acc: 0.8408\n",
            "Epoch 26/30\n",
            "20/20 [==============================] - 228s 10s/step - loss: 0.0519 - acc: 0.9889 - val_loss: 8.9736 - val_acc: 0.5605\n",
            "Epoch 27/30\n",
            "20/20 [==============================] - 207s 9s/step - loss: 0.0726 - acc: 0.9873 - val_loss: 4.8839 - val_acc: 0.6624\n",
            "Epoch 28/30\n",
            "20/20 [==============================] - 236s 10s/step - loss: 0.0897 - acc: 0.9842 - val_loss: 8.2447 - val_acc: 0.4904\n",
            "Epoch 29/30\n",
            "20/20 [==============================] - 229s 10s/step - loss: 0.0340 - acc: 0.9921 - val_loss: 1.1347 - val_acc: 0.9108\n",
            "Epoch 30/30\n",
            "20/20 [==============================] - 234s 10s/step - loss: 0.1563 - acc: 0.9842 - val_loss: 0.7752 - val_acc: 0.9108\n"
          ]
        }
      ]
    },
    {
      "cell_type": "code",
      "source": [
        "print(history.history)"
      ],
      "metadata": {
        "colab": {
          "base_uri": "https://localhost:8080/"
        },
        "id": "d4C6_Bb-Yi7w",
        "outputId": "4c766cc6-3362-4f9f-85ac-49185a66e0fb"
      },
      "execution_count": null,
      "outputs": [
        {
          "output_type": "stream",
          "name": "stdout",
          "text": [
            "{'loss': [2.5959057807922363, 0.6835933923721313, 0.298556923866272, 0.45162466168403625, 0.47134149074554443, 0.22479404509067535, 0.2051597684621811, 0.07389119267463684, 0.19244995713233948, 0.20296409726142883, 0.3591190278530121, 0.11211977154016495, 0.12087040394544601, 0.12910637259483337, 0.20762622356414795, 0.10328759998083115, 0.23998288810253143, 0.048991162329912186, 0.061343494802713394, 0.20702184736728668, 0.2600783407688141, 0.1062643826007843, 0.11978738009929657, 0.042757678776979446, 0.05476139485836029, 0.05188288912177086, 0.07262593507766724, 0.0896797627210617, 0.03401360660791397, 0.15629446506500244], 'acc': [0.6719492673873901, 0.825673520565033, 0.916006326675415, 0.8843106031417847, 0.9033280611038208, 0.9413629174232483, 0.9477020502090454, 0.9730586409568787, 0.9667195081710815, 0.9603803753852844, 0.9635499119758606, 0.9730586409568787, 0.9730586409568787, 0.9730586409568787, 0.9730586409568787, 0.9714738726615906, 0.9619651436805725, 0.9904912710189819, 0.9857369065284729, 0.9762282371520996, 0.9762282371520996, 0.9825673699378967, 0.9825673699378967, 0.9889065027236938, 0.9825673699378967, 0.9889065027236938, 0.9873217344284058, 0.9841521382331848, 0.9920760989189148, 0.9841521382331848], 'val_loss': [10.148567199707031, 8.311751365661621, 8.739967346191406, 14.16039752960205, 19.526498794555664, 16.659740447998047, 10.228373527526855, 6.5876054763793945, 8.082306861877441, 28.38600730895996, 5.541884422302246, 16.626781463623047, 0.9083499908447266, 0.7675046324729919, 1.1277260780334473, 8.203248977661133, 1.86862051486969, 0.8034771680831909, 0.7038635611534119, 7.072449684143066, 2.61045503616333, 0.6351068019866943, 1.020682454109192, 5.401681900024414, 1.317315697669983, 8.973551750183105, 4.883921146392822, 8.244693756103516, 1.1347103118896484, 0.7752315998077393], 'val_acc': [0.36305731534957886, 0.36305731534957886, 0.36305731534957886, 0.36942675709724426, 0.3821656107902527, 0.3757961690425873, 0.3821656107902527, 0.4331210255622864, 0.4012738764286041, 0.3949044644832611, 0.48407644033432007, 0.3949044644832611, 0.8535031676292419, 0.8853503465652466, 0.8535031676292419, 0.5414012670516968, 0.7961783409118652, 0.9044585824012756, 0.8789808750152588, 0.6496815085411072, 0.7770700454711914, 0.9363057613372803, 0.8598726391792297, 0.5732483863830566, 0.8407643437385559, 0.5605095624923706, 0.662420392036438, 0.4904458522796631, 0.9108280539512634, 0.9108280539512634]}\n"
          ]
        }
      ]
    },
    {
      "cell_type": "code",
      "source": [
        "evaluate()"
      ],
      "metadata": {
        "colab": {
          "base_uri": "https://localhost:8080/"
        },
        "id": "IJOz2CyMbpef",
        "outputId": "7cd89d05-caeb-4a65-ff91-2651b3c860c5"
      },
      "execution_count": null,
      "outputs": [
        {
          "output_type": "display_data",
          "data": {
            "text/plain": [
              "<Figure size 432x288 with 1 Axes>"
            ],
            "image/png": "[encoded data removed]"
          },
          "metadata": {
            "needs_background": "light"
          }
        }
      ]
    },
    {
      "cell_type": "code",
      "source": [
        "plt.plot(history.history['acc'], label='accuracy')\n",
        "plt.plot(history.history['val_acc'], label = 'val_accuracy')\n",
        "plt.title('model accuracy plot')\n",
        "plt.xlabel('Epoch')\n",
        "plt.ylabel('Accuracy')\n",
        "plt.legend(loc='best')\n",
        "plt.show()\n",
        "\n",
        "plt.plot(history.history['loss'])\n",
        "plt.plot(history.history['val_loss'])\n",
        "plt.title('model loss plot')\n",
        "plt.ylabel('loss')\n",
        "plt.xlabel('epoch')\n",
        "plt.legend(['train', 'val'], loc='best')\n",
        "plt.show()"
      ],
      "metadata": {
        "colab": {
          "base_uri": "https://localhost:8080/"
        },
        "id": "ei6SYOpNYk0n",
        "outputId": "727824c1-c32f-46c1-b0cc-769331f83e27"
      },
      "execution_count": null,
      "outputs": [
        {
          "output_type": "display_data",
          "data": {
            "text/plain": [
              "<Figure size 432x288 with 1 Axes>"
            ],
            "image/png": "[encoded data removed]"
          },
          "metadata": {
            "needs_background": "light"
          }
        },
        {
          "output_type": "display_data",
          "data": {
            "text/plain": [
              "<Figure size 432x288 with 1 Axes>"
            ],
            "image/png": "[encoded data removed]"
          },
          "metadata": {
            "needs_background": "light"
          }
        }
      ]
    },
    {
      "cell_type": "code",
      "source": [
        "print(\"Inference Time is\", executionTime/60, \"mins\")"
      ],
      "metadata": {
        "colab": {
          "base_uri": "https://localhost:8080/"
        },
        "id": "4lFSom8Hg-ut",
        "outputId": "1a99d0bf-4c1d-407f-e4bb-7d41e1ed829d"
      },
      "execution_count": null,
      "outputs": [
        {
          "output_type": "stream",
          "name": "stdout",
          "text": [
            "Inference Time is 124.57488828102747 mins\n"
          ]
        }
      ]
    },
    {
      "cell_type": "markdown",
      "source": [
        "# Updated Solnet model"
      ],
      "metadata": {
        "id": "khzhvYrY2KLt"
      }
    },
    {
      "cell_type": "code",
      "source": [
        "def SolNet_updated(in_size):\n",
        "  i = Input(in_size)\n",
        "  r = Conv2D(filters=96, kernel_size=(11,11), strides=(4,4), activation='relu', input_shape=(227,227,3))(i)\n",
        "  r = BatchNormalization()(r)\n",
        "  r = MaxPooling2D(pool_size=(3,3), strides=(2,2))(r)\n",
        "  r = Conv2D(filters=256, kernel_size=(5,5), strides=(1,1), activation='relu', padding=\"same\")(r)\n",
        "  r = BatchNormalization()(r)\n",
        "  r = MaxPooling2D(pool_size=(3,3), strides=(2,2))(r)\n",
        "  r = Conv2D(filters=384, kernel_size=(3,3), strides=(1,1), activation='relu', padding=\"same\")(r)\n",
        "  r = BatchNormalization()(r)\n",
        "  r = Conv2D(filters=384, kernel_size=(3,3), strides=(1,1), activation='relu', padding=\"same\")(r)\n",
        "  r = BatchNormalization()(r)\n",
        "  r = Conv2D(filters=256, kernel_size=(3,3), strides=(1,1), activation='relu', padding=\"same\")(r)\n",
        "  r = BatchNormalization()(r)\n",
        "  r = MaxPooling2D(pool_size=(3,3), strides=(2,2))(r)\n",
        "  r = Flatten()(r)\n",
        "  r = Dense(4096, activation='relu')(r)\n",
        "  r = Dropout(0.5)(r)\n",
        "  r = Dense(4096, activation='relu')(r)\n",
        "  r = Dropout(0.5)(r)\n",
        "  o = Dense(1, activation='sigmoid')(r)\n",
        "\n",
        "\n",
        "  SolNet = Model(inputs = i, outputs = o)\n",
        "\n",
        "\n",
        "\n",
        "  SolNet.save('models/solnet.hdf5')\n",
        "  SolNet.save('/content/drive/MyDrive/Solar_panel_dust_detection/models/solnet_updated_'+str(datetime.datetime.today().date())+'.hdf5')\n",
        "  SolNet.save('/content/drive/MyDrive/Solar_panel_dust_detection/models/solnet_updated_'+str(datetime.datetime.today().date())+'.h5')\n",
        "  SolNet.compile(optimizer=Adam(.00001), loss=binary_crossentropy, metrics=['acc'])\n",
        "  SolNet.summary()\n",
        "  return SolNet"
      ],
      "metadata": {
        "id": "ZeVlShut2Rsc"
      },
      "execution_count": 4,
      "outputs": []
    },
    {
      "cell_type": "code",
      "source": [
        "batch_size = 128\n",
        "#location = 'dataset/'\n",
        "location = \"/content/drive/MyDrive/Solar_panel_dust_detection/dataset_1\"\n",
        "label_mode = 'binary'\n",
        "seed = 10 #changed for each fold made manually\n",
        "epochs=20\n",
        "#epochs=5\n",
        "\n",
        "\n",
        "class_names = ['clean', 'dirty']\n",
        "in_size = [227, 227, 3]\n",
        "\n",
        "tr_dataset = image_dataset_from_directory(directory=location, label_mode= label_mode, class_names=class_names,\n",
        "                                          seed=seed, labels='inferred', image_size=in_size[:-1], \n",
        "                                          subset = 'training', batch_size=batch_size, validation_split=.2)\n",
        "\n",
        "val_dataset = image_dataset_from_directory(directory=location, label_mode= label_mode, class_names=class_names,\n",
        "                                          seed=seed, labels='inferred', image_size=in_size[:-1],\n",
        "                                          subset = 'validation', batch_size=batch_size, validation_split=.2)\n",
        "\n",
        "in_size = [227, 227, 3]\n",
        "SolNet = SolNet_updated(in_size)\n",
        "\n",
        "\n",
        "\n",
        "startTime = time.time()\n",
        "history = SolNet.fit(tr_dataset, validation_data=val_dataset, epochs=epochs, batch_size=batch_size)\n",
        "executionTime = (time.time() - startTime)"
      ],
      "metadata": {
        "colab": {
          "base_uri": "https://localhost:8080/"
        },
        "id": "WChxOJSP8OYD",
        "outputId": "598927f6-031d-402a-9c2b-d0898fa64216"
      },
      "execution_count": 5,
      "outputs": [
        {
          "output_type": "stream",
          "name": "stdout",
          "text": [
            "Found 1440 files belonging to 2 classes.\n",
            "Using 1152 files for training.\n",
            "Found 1440 files belonging to 2 classes.\n",
            "Using 288 files for validation.\n"
          ]
        },
        {
          "output_type": "stream",
          "name": "stderr",
          "text": [
            "WARNING:tensorflow:Compiled the loaded model, but the compiled metrics have yet to be built. `model.compile_metrics` will be empty until you train or evaluate the model.\n",
            "WARNING:tensorflow:Compiled the loaded model, but the compiled metrics have yet to be built. `model.compile_metrics` will be empty until you train or evaluate the model.\n",
            "WARNING:tensorflow:Compiled the loaded model, but the compiled metrics have yet to be built. `model.compile_metrics` will be empty until you train or evaluate the model.\n"
          ]
        },
        {
          "output_type": "stream",
          "name": "stdout",
          "text": [
            "Model: \"model\"\n",
            "_________________________________________________________________\n",
            " Layer (type)                Output Shape              Param #   \n",
            "=================================================================\n",
            " input_1 (InputLayer)        [(None, 227, 227, 3)]     0         \n",
            "                                                                 \n",
            " conv2d (Conv2D)             (None, 55, 55, 96)        34944     \n",
            "                                                                 \n",
            " batch_normalization (BatchN  (None, 55, 55, 96)       384       \n",
            " ormalization)                                                   \n",
            "                                                                 \n",
            " max_pooling2d (MaxPooling2D  (None, 27, 27, 96)       0         \n",
            " )                                                               \n",
            "                                                                 \n",
            " conv2d_1 (Conv2D)           (None, 27, 27, 256)       614656    \n",
            "                                                                 \n",
            " batch_normalization_1 (Batc  (None, 27, 27, 256)      1024      \n",
            " hNormalization)                                                 \n",
            "                                                                 \n",
            " max_pooling2d_1 (MaxPooling  (None, 13, 13, 256)      0         \n",
            " 2D)                                                             \n",
            "                                                                 \n",
            " conv2d_2 (Conv2D)           (None, 13, 13, 384)       885120    \n",
            "                                                                 \n",
            " batch_normalization_2 (Batc  (None, 13, 13, 384)      1536      \n",
            " hNormalization)                                                 \n",
            "                                                                 \n",
            " conv2d_3 (Conv2D)           (None, 13, 13, 384)       1327488   \n",
            "                                                                 \n",
            " batch_normalization_3 (Batc  (None, 13, 13, 384)      1536      \n",
            " hNormalization)                                                 \n",
            "                                                                 \n",
            " conv2d_4 (Conv2D)           (None, 13, 13, 256)       884992    \n",
            "                                                                 \n",
            " batch_normalization_4 (Batc  (None, 13, 13, 256)      1024      \n",
            " hNormalization)                                                 \n",
            "                                                                 \n",
            " max_pooling2d_2 (MaxPooling  (None, 6, 6, 256)        0         \n",
            " 2D)                                                             \n",
            "                                                                 \n",
            " flatten (Flatten)           (None, 9216)              0         \n",
            "                                                                 \n",
            " dense (Dense)               (None, 4096)              37752832  \n",
            "                                                                 \n",
            " dropout (Dropout)           (None, 4096)              0         \n",
            "                                                                 \n",
            " dense_1 (Dense)             (None, 4096)              16781312  \n",
            "                                                                 \n",
            " dropout_1 (Dropout)         (None, 4096)              0         \n",
            "                                                                 \n",
            " dense_2 (Dense)             (None, 1)                 4097      \n",
            "                                                                 \n",
            "=================================================================\n",
            "Total params: 58,290,945\n",
            "Trainable params: 58,288,193\n",
            "Non-trainable params: 2,752\n",
            "_________________________________________________________________\n",
            "Epoch 1/20\n",
            "9/9 [==============================] - 199s 5s/step - loss: 1.0621 - acc: 0.5972 - val_loss: 3.0179 - val_acc: 0.5278\n",
            "Epoch 2/20\n",
            "9/9 [==============================] - 120s 3s/step - loss: 0.7314 - acc: 0.7326 - val_loss: 3.1138 - val_acc: 0.5278\n",
            "Epoch 3/20\n",
            "9/9 [==============================] - 120s 3s/step - loss: 0.6304 - acc: 0.7769 - val_loss: 2.0917 - val_acc: 0.5278\n",
            "Epoch 4/20\n",
            "9/9 [==============================] - 138s 5s/step - loss: 0.4863 - acc: 0.8090 - val_loss: 1.8181 - val_acc: 0.5278\n",
            "Epoch 5/20\n",
            "9/9 [==============================] - 119s 3s/step - loss: 0.4036 - acc: 0.8316 - val_loss: 1.9229 - val_acc: 0.5278\n",
            "Epoch 6/20\n",
            "9/9 [==============================] - 137s 5s/step - loss: 0.4004 - acc: 0.8490 - val_loss: 1.6092 - val_acc: 0.5278\n",
            "Epoch 7/20\n",
            "9/9 [==============================] - 120s 3s/step - loss: 0.3417 - acc: 0.8663 - val_loss: 1.5638 - val_acc: 0.5278\n",
            "Epoch 8/20\n",
            "9/9 [==============================] - 138s 5s/step - loss: 0.2726 - acc: 0.8898 - val_loss: 1.3435 - val_acc: 0.5312\n",
            "Epoch 9/20\n",
            "9/9 [==============================] - 120s 3s/step - loss: 0.2912 - acc: 0.8872 - val_loss: 1.1764 - val_acc: 0.5312\n",
            "Epoch 10/20\n",
            "9/9 [==============================] - 122s 3s/step - loss: 0.2274 - acc: 0.9158 - val_loss: 1.0708 - val_acc: 0.5417\n",
            "Epoch 11/20\n",
            "9/9 [==============================] - 120s 3s/step - loss: 0.1923 - acc: 0.9332 - val_loss: 1.0102 - val_acc: 0.5451\n",
            "Epoch 12/20\n",
            "9/9 [==============================] - 119s 3s/step - loss: 0.1406 - acc: 0.9453 - val_loss: 0.9671 - val_acc: 0.5556\n",
            "Epoch 13/20\n",
            "9/9 [==============================] - 123s 3s/step - loss: 0.1408 - acc: 0.9462 - val_loss: 0.8064 - val_acc: 0.5833\n",
            "Epoch 14/20\n",
            "9/9 [==============================] - 120s 3s/step - loss: 0.1174 - acc: 0.9540 - val_loss: 0.6386 - val_acc: 0.6354\n",
            "Epoch 15/20\n",
            "9/9 [==============================] - 114s 3s/step - loss: 0.0938 - acc: 0.9705 - val_loss: 0.5623 - val_acc: 0.6910\n",
            "Epoch 16/20\n",
            "9/9 [==============================] - 119s 3s/step - loss: 0.0959 - acc: 0.9705 - val_loss: 0.4281 - val_acc: 0.8021\n",
            "Epoch 17/20\n",
            "9/9 [==============================] - 115s 3s/step - loss: 0.0923 - acc: 0.9661 - val_loss: 0.4551 - val_acc: 0.7917\n",
            "Epoch 18/20\n",
            "9/9 [==============================] - 121s 3s/step - loss: 0.0760 - acc: 0.9722 - val_loss: 0.3560 - val_acc: 0.8438\n",
            "Epoch 19/20\n",
            "9/9 [==============================] - 122s 3s/step - loss: 0.0820 - acc: 0.9688 - val_loss: 0.3511 - val_acc: 0.8472\n",
            "Epoch 20/20\n",
            "9/9 [==============================] - 121s 3s/step - loss: 0.0557 - acc: 0.9818 - val_loss: 0.2629 - val_acc: 0.8854\n"
          ]
        }
      ]
    },
    {
      "cell_type": "code",
      "source": [
        "plt.plot(history.history['acc'], label='accuracy')\n",
        "plt.plot(history.history['val_acc'], label = 'val_accuracy')\n",
        "plt.title('model accuracy plot')\n",
        "plt.xlabel('Epoch')\n",
        "plt.ylabel('Accuracy')\n",
        "plt.legend(loc='best')\n",
        "plt.show()\n",
        "\n",
        "plt.plot(history.history['loss'])\n",
        "plt.plot(history.history['val_loss'])\n",
        "plt.title('model loss plot')\n",
        "plt.ylabel('loss')\n",
        "plt.xlabel('epoch')\n",
        "plt.legend(['train', 'val'], loc='best')\n",
        "plt.show()"
      ],
      "metadata": {
        "colab": {
          "base_uri": "https://localhost:8080/",
          "height": 573
        },
        "id": "kPHxMTjn8byV",
        "outputId": "334d9421-b707-44ef-c5eb-844626f5134c"
      },
      "execution_count": 6,
      "outputs": [
        {
          "output_type": "display_data",
          "data": {
            "text/plain": [
              "<Figure size 432x288 with 1 Axes>"
            ],
            "image/png": "[encoded data removed]"
          },
          "metadata": {
            "needs_background": "light"
          }
        },
        {
          "output_type": "display_data",
          "data": {
            "text/plain": [
              "<Figure size 432x288 with 1 Axes>"
            ],
            "image/png": "[encoded data removed]"
          },
          "metadata": {
            "needs_background": "light"
          }
        }
      ]
    },
    {
      "cell_type": "code",
      "source": [],
      "metadata": {
        "id": "Lc9thO3I1sQn"
      },
      "execution_count": null,
      "outputs": []
    }
  ]
}