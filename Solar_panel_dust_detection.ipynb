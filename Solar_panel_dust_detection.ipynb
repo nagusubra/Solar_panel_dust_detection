{
  "nbformat": 4,
  "nbformat_minor": 0,
  "metadata": {
    "colab": {
      "provenance": [],
      "toc_visible": true,
      "include_colab_link": true
    },
    "kernelspec": {
      "name": "python3",
      "display_name": "Python 3"
    },
    "language_info": {
      "name": "python"
    },
    "accelerator": "GPU",
    "gpuClass": "standard"
  },
  "cells": [
    {
      "cell_type": "markdown",
      "metadata": {
        "id": "view-in-github",
        "colab_type": "text"
      },
      "source": [
        "<a href=\"https://colab.research.google.com/github/nagusubra/Solar_panel_dust_detection/blob/main/Solar_panel_dust_detection.ipynb\" target=\"_parent\"><img src=\"https://colab.research.google.com/assets/colab-badge.svg\" alt=\"Open In Colab\"/></a>"
      ]
    },
    {
      "cell_type": "markdown",
      "source": [
        "#Install libraries and modules"
      ],
      "metadata": {
        "id": "SQAMdUOp9lRn"
      }
    },
    {
      "cell_type": "code",
      "execution_count": 1,
      "metadata": {
        "id": "PLxJiY6u9Zh0",
        "colab": {
          "base_uri": "https://localhost:8080/"
        },
        "outputId": "08e4877f-b8d9-483e-d934-fceeddda5886"
      },
      "outputs": [
        {
          "output_type": "stream",
          "name": "stdout",
          "text": [
            "\u001b[2K     \u001b[90m━━━━━━━━━━━━━━━━━━━━━━━━━━━━━━━━━━━━━━━\u001b[0m \u001b[32m240.6/240.6 KB\u001b[0m \u001b[31m4.6 MB/s\u001b[0m eta \u001b[36m0:00:00\u001b[0m\n",
            "\u001b[2K     \u001b[90m━━━━━━━━━━━━━━━━━━━━━━━━━━━━━━━━━━━━━━━━\u001b[0m \u001b[32m17.3/17.3 MB\u001b[0m \u001b[31m35.1 MB/s\u001b[0m eta \u001b[36m0:00:00\u001b[0m\n",
            "\u001b[?25h\u001b[31mERROR: pip's dependency resolver does not currently take into account all the packages that are installed. This behaviour is the source of the following dependency conflicts.\n",
            "tensorflow 2.12.0 requires numpy<1.24,>=1.22, but you have numpy 1.24.2 which is incompatible.\n",
            "numba 0.56.4 requires numpy<1.24,>=1.18, but you have numpy 1.24.2 which is incompatible.\u001b[0m\u001b[31m\n",
            "\u001b[0mLooking in indexes: https://pypi.org/simple, https://us-python.pkg.dev/colab-wheels/public/simple/\n",
            "Requirement already satisfied: openpyxl in /usr/local/lib/python3.9/dist-packages (3.0.10)\n",
            "Requirement already satisfied: et-xmlfile in /usr/local/lib/python3.9/dist-packages (from openpyxl) (1.1.0)\n",
            "Looking in indexes: https://pypi.org/simple, https://us-python.pkg.dev/colab-wheels/public/simple/\n",
            "Collecting xlsxwriter\n",
            "  Downloading XlsxWriter-3.0.9-py3-none-any.whl (152 kB)\n",
            "\u001b[2K     \u001b[90m━━━━━━━━━━━━━━━━━━━━━━━━━━━━━━━━━━━━━━━\u001b[0m \u001b[32m152.8/152.8 KB\u001b[0m \u001b[31m4.4 MB/s\u001b[0m eta \u001b[36m0:00:00\u001b[0m\n",
            "\u001b[?25hInstalling collected packages: xlsxwriter\n",
            "Successfully installed xlsxwriter-3.0.9\n"
          ]
        }
      ],
      "source": [
        "!pip install -q tensorflow-model-optimization\n",
        "!pip install openpyxl\n",
        "!pip install xlsxwriter\n",
        "\n",
        "import xlsxwriter\n",
        "import openpyxl\n",
        "from openpyxl import Workbook\n",
        "from openpyxl.drawing.image import Image\n",
        "\n",
        "import tempfile\n",
        "from tensorflow import keras\n",
        "import tensorflow_model_optimization as tfmot\n",
        "\n",
        "from tqdm import tqdm_notebook as tqdm\n",
        "import os\n",
        "import time\n",
        "import pickle\n",
        "from matplotlib import pyplot as plt\n",
        "import numpy as np\n",
        "import pandas as pd\n",
        "import tensorflow as tf\n",
        "from tensorflow.keras import datasets, layers, models\n",
        "import matplotlib.pyplot as plt"
      ]
    },
    {
      "cell_type": "code",
      "source": [
        "import tensorflow as tf\n",
        "from tensorflow.keras.models import Model, load_model\n",
        "from tensorflow.keras.layers import Input, Conv2D, MaxPooling2D, Dense, Flatten, BatchNormalization, Dropout\n",
        "from tensorflow.keras.preprocessing import image_dataset_from_directory\n",
        "from tensorflow.keras.optimizers import Adam, SGD\n",
        "from tensorflow.keras.utils import plot_model\n",
        "from tensorflow.keras.losses import binary_crossentropy\n",
        "\n",
        "import seaborn as sn\n",
        "import pandas as pd\n",
        "import matplotlib.pyplot as plt\n",
        "import tensorflow as tf\n",
        "import datetime\n",
        "\n",
        "import os\n",
        "import zipfile"
      ],
      "metadata": {
        "id": "qeqtoyTCppFF",
        "outputId": "b84372df-346d-4f61-8c12-fcb739b1815b",
        "colab": {
          "base_uri": "https://localhost:8080/",
          "height": 279
        }
      },
      "execution_count": 2,
      "outputs": [
        {
          "output_type": "error",
          "ename": "RuntimeError",
          "evalue": "ignored",
          "traceback": [
            "\u001b[0;31m---------------------------------------------------------------------------\u001b[0m",
            "\u001b[0;31mRuntimeError\u001b[0m                              Traceback (most recent call last)",
            "\u001b[0;31mRuntimeError\u001b[0m: module compiled against API version 0x10 but this version of numpy is 0xf . Check the section C-API incompatibility at the Troubleshooting ImportError section at https://numpy.org/devdocs/user/troubleshooting-importerror.html#c-api-incompatibility for indications on how to solve this problem ."
          ]
        },
        {
          "output_type": "error",
          "ename": "RuntimeError",
          "evalue": "ignored",
          "traceback": [
            "\u001b[0;31m---------------------------------------------------------------------------\u001b[0m",
            "\u001b[0;31mRuntimeError\u001b[0m                              Traceback (most recent call last)",
            "\u001b[0;31mRuntimeError\u001b[0m: module compiled against API version 0x10 but this version of numpy is 0xf . Check the section C-API incompatibility at the Troubleshooting ImportError section at https://numpy.org/devdocs/user/troubleshooting-importerror.html#c-api-incompatibility for indications on how to solve this problem ."
          ]
        }
      ]
    },
    {
      "cell_type": "code",
      "source": [
        "# mounting google drive (if you are using Colab)\n",
        "from google.colab import drive\n",
        "drive.mount('/content/drive')"
      ],
      "metadata": {
        "colab": {
          "base_uri": "https://localhost:8080/"
        },
        "id": "-WVnbwh-9x2l",
        "outputId": "a9fe8067-18a9-4366-f47b-4f3f70142fcc"
      },
      "execution_count": 3,
      "outputs": [
        {
          "output_type": "stream",
          "name": "stdout",
          "text": [
            "Mounted at /content/drive\n"
          ]
        }
      ]
    },
    {
      "cell_type": "code",
      "source": [
        "# from os import listdir\n",
        "# from os.path import isfile, join\n",
        "\n",
        "# mypath = '/content/drive/MyDrive/Solar_panel_dust_detection/dataset_2/dirty'\n",
        "\n",
        "# onlyfiles = [ f  for f in listdir(mypath) if isfile(join(mypath, f))]\n",
        "\n",
        "# onlyfiles"
      ],
      "metadata": {
        "id": "z1LwhLkSBQ3u"
      },
      "execution_count": 4,
      "outputs": []
    },
    {
      "cell_type": "code",
      "source": [
        "# from os import listdir\n",
        "# from os.path import isfile, join\n",
        "\n",
        "# mypath = '/content/drive/MyDrive/Solar_panel_dust_detection/dataset_2/dirty'\n",
        "\n",
        "# onlyfiles = [ os.rename(join(mypath, f), join(mypath, f.split(\".\")[0] + \"_dirty\" + \".jpg\"))  for f in listdir(mypath) if isfile(join(mypath, f))]\n",
        "\n",
        "# onlyfiles"
      ],
      "metadata": {
        "id": "bwArxFhKADwi"
      },
      "execution_count": 5,
      "outputs": []
    },
    {
      "cell_type": "markdown",
      "source": [
        "# Evaluation function"
      ],
      "metadata": {
        "id": "YjpFrB77S6QU"
      }
    },
    {
      "cell_type": "code",
      "source": [
        "# Evaluate Model Size\n",
        "def get_gzipped_model_size(file):\n",
        "  # Returns size of gzipped model, in bytes.\n",
        "\n",
        "  _, zipped_file = tempfile.mkstemp('.zip')\n",
        "  with zipfile.ZipFile(zipped_file, 'w', compression=zipfile.ZIP_DEFLATED) as f:\n",
        "    f.write(file)\n",
        "  return os.path.getsize(zipped_file)\n",
        "\n",
        "def evaluate_model(model_path, model_info, val_dataset):\n",
        "\n",
        "  # Evaluate test accuracy and test loss\n",
        "  model = tf.keras.models.load_model(model_path)\n",
        "  test_loss, test_acc = model.evaluate(val_dataset, verbose=0)\n",
        "\n",
        "  # Evaluate Model Size\n",
        "  model_size = get_gzipped_model_size(model_path)\n",
        "\n",
        "  # Evaluate Inference Time\n",
        "  startTime = time.time()\n",
        "  prediction = model.predict(val_dataset)\n",
        "  executionTime = (time.time() - startTime)/len(val_dataset)\n",
        "\n",
        "  # Print\n",
        "  print('\\nModel Accuracy:', test_acc*100, '%')\n",
        "  print(\"Model Size: %.2f bytes\" % (model_size))\n",
        "  print(\"Inference Time is: \", executionTime, \"s\")\n",
        "\n",
        "  # Build Evalution dataframe\n",
        "  evulation_dict = {\n",
        "                      \"Evaluation type\": \"Evualation\",\n",
        "                      \"Model Information\": model_info,\n",
        "                      \"Accuracy\": str(test_acc*100) + \" %\",\n",
        "                      \"Loss\": str(test_loss*100) + \" %\",\n",
        "                      \"Model Size\": str(model_size) + \" bytes\",\n",
        "                      \"Inference Time\": str(executionTime) + \" sec\"\n",
        "                    }\n",
        "  \n",
        "  evulation_df = pd.DataFrame.from_dict(evulation_dict, orient='index').reset_index()\n",
        "\n",
        "\n",
        "  return test_acc, model_size, executionTime, evulation_df"
      ],
      "metadata": {
        "id": "oB55zL05S_Oe"
      },
      "execution_count": 6,
      "outputs": []
    },
    {
      "cell_type": "markdown",
      "source": [
        "# Build base model"
      ],
      "metadata": {
        "id": "vfkTB4_DiYTF"
      }
    },
    {
      "cell_type": "code",
      "source": [
        "def SolNet(in_size):\n",
        "  i = Input(in_size)\n",
        "  r = Conv2D(filters=96, kernel_size=(11,11), strides=(4,4), activation='relu', input_shape=(227,227,3))(i)\n",
        "  r = BatchNormalization()(r)\n",
        "  r = MaxPooling2D(pool_size=(3,3), strides=(2,2))(r)\n",
        "  r = Conv2D(filters=256, kernel_size=(5,5), strides=(1,1), activation='relu', padding=\"same\")(r)\n",
        "  r = BatchNormalization()(r)\n",
        "  r = MaxPooling2D(pool_size=(3,3), strides=(2,2))(r)\n",
        "  r = Conv2D(filters=384, kernel_size=(3,3), strides=(1,1), activation='relu', padding=\"same\")(r)\n",
        "  r = BatchNormalization()(r)\n",
        "  r = Conv2D(filters=384, kernel_size=(3,3), strides=(1,1), activation='relu', padding=\"same\")(r)\n",
        "  r = BatchNormalization()(r)\n",
        "  r = Conv2D(filters=256, kernel_size=(3,3), strides=(1,1), activation='relu', padding=\"same\")(r)\n",
        "  r = BatchNormalization()(r)\n",
        "  r = MaxPooling2D(pool_size=(3,3), strides=(2,2))(r)\n",
        "  r = Flatten()(r)\n",
        "  r = Dense(4096, activation='relu')(r)\n",
        "  r = Dropout(0.5)(r)\n",
        "  r = Dense(4096, activation='relu')(r)\n",
        "  r = Dropout(0.5)(r)\n",
        "  o = Dense(1, activation='sigmoid')(r)\n",
        "  SolNet = Model(i, o)\n",
        "  SolNet.save('models/solnet.hdf5')\n",
        "  SolNet.save('models/solnet.h5')\n",
        "\n",
        "  SolNet.compile(optimizer=Adam(.0001, .8, .9), loss=binary_crossentropy, metrics=['acc'])\n",
        "  SolNet.summary()\n",
        "  return SolNet"
      ],
      "metadata": {
        "id": "4gVkkz__icfY"
      },
      "execution_count": 7,
      "outputs": []
    },
    {
      "cell_type": "markdown",
      "source": [
        "#Base Model"
      ],
      "metadata": {
        "id": "4ZeT32zWUEnd"
      }
    },
    {
      "cell_type": "code",
      "source": [
        "def SolNet(in_size):\n",
        "  i = Input(in_size)\n",
        "  r = Conv2D(filters=96, kernel_size=(11,11), strides=(4,4), activation='relu', input_shape=(227,227,3))(i)\n",
        "  r = BatchNormalization()(r)\n",
        "  r = MaxPooling2D(pool_size=(3,3), strides=(2,2))(r)\n",
        "  r = Conv2D(filters=256, kernel_size=(5,5), strides=(1,1), activation='relu', padding=\"same\")(r)\n",
        "  r = BatchNormalization()(r)\n",
        "  r = MaxPooling2D(pool_size=(3,3), strides=(2,2))(r)\n",
        "  r = Conv2D(filters=384, kernel_size=(3,3), strides=(1,1), activation='relu', padding=\"same\")(r)\n",
        "  r = BatchNormalization()(r)\n",
        "  r = Conv2D(filters=384, kernel_size=(3,3), strides=(1,1), activation='relu', padding=\"same\")(r)\n",
        "  r = BatchNormalization()(r)\n",
        "  r = Conv2D(filters=256, kernel_size=(3,3), strides=(1,1), activation='relu', padding=\"same\")(r)\n",
        "  r = BatchNormalization()(r)\n",
        "  r = MaxPooling2D(pool_size=(3,3), strides=(2,2))(r)\n",
        "  r = Flatten()(r)\n",
        "  r = Dense(4096, activation='relu')(r)\n",
        "  r = Dropout(0.5)(r)\n",
        "  r = Dense(4096, activation='relu')(r)\n",
        "  r = Dropout(0.5)(r)\n",
        "  o = Dense(1, activation='sigmoid')(r)\n",
        "  SolNet = Model(i, o)\n",
        "  # SolNet.save('models/solnet.hdf5')\n",
        "  # SolNet.save('/content/drive/MyDrive/Solar_panel_dust_detection/models/solnet'+str(datetime.datetime.today().date())+'.hdf5')\n",
        "  SolNet.save('/content/drive/MyDrive/Solar_panel_dust_detection/models/solnet'+str(datetime.datetime.today().date())+'.h5')\n",
        "  SolNet.compile(optimizer=Adam(.0001, .8, .9), loss=binary_crossentropy, metrics=['acc'])\n",
        "  SolNet.summary()\n",
        "  return SolNet"
      ],
      "metadata": {
        "id": "8nc6lZnKUixz"
      },
      "execution_count": 8,
      "outputs": []
    },
    {
      "cell_type": "code",
      "source": [
        "def evaluate():\n",
        "  path = \"/content/models/solnet.hdf5\"\n",
        "  solnet = load_model(path, compile=False)\n",
        "  # history = solnet.history()\n",
        "  plt.plot(history.history['loss'])\n",
        "  plt.plot(history.history['acc'])\n",
        "  plt.title('acc loss vs epoch')\n",
        "  plt.xlabel('epoch')\n",
        "  plt.legend(['loss', 'acc'], loc='upper left')\n",
        "  plt.show()"
      ],
      "metadata": {
        "id": "dnGGfkkgUo63"
      },
      "execution_count": null,
      "outputs": []
    },
    {
      "cell_type": "code",
      "source": [
        "# Evaluate Model Size\n",
        "def get_gzipped_model_size(file):\n",
        "  # Returns size of gzipped model, in bytes.\n",
        "  import os\n",
        "  import zipfile\n",
        "\n",
        "  _, zipped_file = tempfile.mkstemp('.zip')\n",
        "  with zipfile.ZipFile(zipped_file, 'w', compression=zipfile.ZIP_DEFLATED) as f:\n",
        "    f.write(file)\n",
        "\n",
        "  return os.path.getsize(zipped_file)"
      ],
      "metadata": {
        "id": "QA55ZOpsaMiR"
      },
      "execution_count": null,
      "outputs": []
    },
    {
      "cell_type": "code",
      "source": [
        "# # base model\n",
        "\n",
        "# batch_size = 32\n",
        "# #location = 'dataset/'\n",
        "# location = \"/content/drive/MyDrive/Solar_panel_dust_detection/dataset_1\"\n",
        "# label_mode = 'binary'\n",
        "# seed = 10 #changed for each fold made manually\n",
        "# epochs=30\n",
        "# #epochs=5\n",
        "\n",
        "\n",
        "# class_names = ['clean', 'dirty']\n",
        "# in_size = [227, 227, 3]\n",
        "\n",
        "# tr_dataset = image_dataset_from_directory(directory=location, label_mode= label_mode, class_names=class_names,\n",
        "#                                           seed=seed, labels='inferred', image_size=in_size[:-1], \n",
        "#                                           subset = 'training', batch_size=batch_size, validation_split=.2)\n",
        "\n",
        "# val_dataset = image_dataset_from_directory(directory=location, label_mode= label_mode, class_names=class_names,\n",
        "#                                           seed=seed, labels='inferred', image_size=in_size[:-1],\n",
        "#                                           subset = 'validation', batch_size=batch_size, validation_split=.2)\n",
        "\n",
        "# in_size = [227, 227, 3]\n",
        "# SolNet = SolNet(in_size)\n",
        "\n",
        "\n",
        "\n",
        "# startTime = time.time()\n",
        "# history = SolNet.fit(tr_dataset, validation_data=val_dataset, epochs=epochs, batch_size=batch_size)\n",
        "# executionTime = (time.time() - startTime)"
      ],
      "metadata": {
        "id": "fNHot2r1TJdo"
      },
      "execution_count": null,
      "outputs": []
    },
    {
      "cell_type": "code",
      "source": [
        "# print(history.history)"
      ],
      "metadata": {
        "id": "d4C6_Bb-Yi7w"
      },
      "execution_count": null,
      "outputs": []
    },
    {
      "cell_type": "code",
      "source": [
        "# evaluate()"
      ],
      "metadata": {
        "id": "IJOz2CyMbpef"
      },
      "execution_count": null,
      "outputs": []
    },
    {
      "cell_type": "code",
      "source": [
        "# plt.plot(history.history['acc'], label='accuracy')\n",
        "# plt.plot(history.history['val_acc'], label = 'val_accuracy')\n",
        "# plt.title('model accuracy plot')\n",
        "# plt.xlabel('Epoch')\n",
        "# plt.ylabel('Accuracy')\n",
        "# plt.legend(loc='best')\n",
        "# plt.show()\n",
        "\n",
        "# plt.plot(history.history['loss'])\n",
        "# plt.plot(history.history['val_loss'])\n",
        "# plt.title('model loss plot')\n",
        "# plt.ylabel('loss')\n",
        "# plt.xlabel('epoch')\n",
        "# plt.legend(['train', 'val'], loc='best')\n",
        "# plt.show()"
      ],
      "metadata": {
        "id": "ei6SYOpNYk0n"
      },
      "execution_count": null,
      "outputs": []
    },
    {
      "cell_type": "code",
      "source": [
        "# print(\"Inference Time is\", executionTime/60, \"mins\")"
      ],
      "metadata": {
        "id": "4lFSom8Hg-ut"
      },
      "execution_count": null,
      "outputs": []
    },
    {
      "cell_type": "markdown",
      "source": [
        "# Updated Solnet model"
      ],
      "metadata": {
        "id": "khzhvYrY2KLt"
      }
    },
    {
      "cell_type": "code",
      "source": [
        "def SolNet_updated(in_size, learning_rate, model_path):\n",
        "  i = Input(in_size)\n",
        "  r = Conv2D(filters=96, kernel_size=(11,11), strides=(4,4), activation='relu', input_shape=(227,227,3))(i)\n",
        "  r = BatchNormalization()(r)\n",
        "  r = MaxPooling2D(pool_size=(3,3), strides=(2,2))(r)\n",
        "  r = Conv2D(filters=256, kernel_size=(5,5), strides=(1,1), activation='relu', padding=\"same\")(r)\n",
        "  r = BatchNormalization()(r)\n",
        "  r = MaxPooling2D(pool_size=(3,3), strides=(2,2))(r)\n",
        "  r = Conv2D(filters=384, kernel_size=(3,3), strides=(1,1), activation='relu', padding=\"same\")(r)\n",
        "  r = BatchNormalization()(r)\n",
        "  r = Conv2D(filters=384, kernel_size=(3,3), strides=(1,1), activation='relu', padding=\"same\")(r)\n",
        "  r = BatchNormalization()(r)\n",
        "  r = Conv2D(filters=256, kernel_size=(3,3), strides=(1,1), activation='relu', padding=\"same\")(r)\n",
        "  r = BatchNormalization()(r)\n",
        "  r = MaxPooling2D(pool_size=(3,3), strides=(2,2))(r)\n",
        "  r = Flatten()(r)\n",
        "  r = Dense(4096, activation='relu')(r)\n",
        "  r = Dropout(0.5)(r)\n",
        "  r = Dense(4096, activation='relu')(r)\n",
        "  r = Dropout(0.5)(r)\n",
        "  o = Dense(1, activation='sigmoid')(r)\n",
        "\n",
        "\n",
        "  SolNet = Model(inputs = i, outputs = o)\n",
        "\n",
        "\n",
        "\n",
        "  # SolNet.save('models/solnet.hdf5')\n",
        "  # SolNet.save('/content/drive/MyDrive/Solar_panel_dust_detection/models/solnet_updated_'+str(datetime.datetime.today().date())+'.hdf5')\n",
        "  SolNet.compile(optimizer=Adam(learning_rate), loss=binary_crossentropy, metrics=['acc'])\n",
        "  SolNet.save(model_path)\n",
        "  SolNet.summary()\n",
        "  return SolNet"
      ],
      "metadata": {
        "id": "ZeVlShut2Rsc"
      },
      "execution_count": null,
      "outputs": []
    },
    {
      "cell_type": "code",
      "source": [
        "# model_path = '/content/drive/MyDrive/Solar_panel_dust_detection/models/solnet_updated_'+ str(datetime.datetime.today().date()) + '.h5'\n",
        "# model_plot_path = '/content/drive/MyDrive/Solar_panel_dust_detection/plots/'+ str(datetime.datetime.today().date())\n",
        "# model_excel_file_path = '/content/drive/MyDrive/Solar_panel_dust_detection/evaluation/'+ str(datetime.datetime.today().date())\n",
        "# location = \"/content/drive/MyDrive/Solar_panel_dust_detection/dataset_1\"\n",
        "\n",
        "# batch_size = 32\n",
        "# label_mode = 'binary'\n",
        "# seed = 10 #changed for each fold made manually\n",
        "# epochs= 2\n",
        "# in_size = [227, 227, 3]\n",
        "\n",
        "# class_names = ['clean', 'dirty']\n",
        "# test_labels = class_names\n",
        "\n",
        "# tr_dataset = image_dataset_from_directory(directory=location, label_mode= label_mode, class_names=class_names,\n",
        "#                                           seed=seed, labels='inferred', image_size=in_size[:-1], \n",
        "#                                           subset = 'training', batch_size=batch_size, validation_split=.2)\n",
        "\n",
        "# val_dataset = image_dataset_from_directory(directory=location, label_mode= label_mode, class_names=class_names,\n",
        "#                                           seed=seed, labels='inferred', image_size=in_size[:-1],\n",
        "#                                           subset = 'validation', batch_size=batch_size, validation_split=.2)\n",
        "\n",
        "# # in_size = [227, 227, 3]\n",
        "# SolNet_model = SolNet_updated(in_size, 0.00001, model_path)\n",
        "\n",
        "\n",
        "\n",
        "# startTime = time.time()\n",
        "# history = SolNet_model.fit(tr_dataset, validation_data=val_dataset, epochs=epochs, batch_size=batch_size)\n",
        "# executionTime = (time.time() - startTime)"
      ],
      "metadata": {
        "id": "WChxOJSP8OYD"
      },
      "execution_count": null,
      "outputs": []
    },
    {
      "cell_type": "code",
      "source": [
        "# model_info = \"batch_size: \" + str(batch_size) + \" and epochs: \" + str(epochs) + \" and in_size: \" + str(in_size)\n",
        "# print(model_info)\n",
        "# print(\"Inference Time is\", executionTime/60, \"mins\")"
      ],
      "metadata": {
        "id": "AMm00dJYTyZb"
      },
      "execution_count": null,
      "outputs": []
    },
    {
      "cell_type": "code",
      "source": [
        "# plt.plot(history.history['acc'], label='accuracy')\n",
        "# plt.plot(history.history['val_acc'], label = 'val_accuracy')\n",
        "# plt.title('model accuracy plot')\n",
        "# plt.xlabel('Epoch')\n",
        "# plt.ylabel('Accuracy')\n",
        "# plt.legend(loc='best')\n",
        "# plt.savefig(model_plot_path + '_model_accuracy_plot.png')\n",
        "# plt.show()\n",
        "\n",
        "# plt.plot(history.history['loss'])\n",
        "# plt.plot(history.history['val_loss'])\n",
        "# plt.title('model loss plot')\n",
        "# plt.ylabel('loss')\n",
        "# plt.xlabel('epoch')\n",
        "# plt.legend(['train', 'val'], loc='best')\n",
        "# plt.savefig(model_plot_path + '_model_loss_plot.png')\n",
        "# plt.show()"
      ],
      "metadata": {
        "id": "kPHxMTjn8byV"
      },
      "execution_count": null,
      "outputs": []
    },
    {
      "cell_type": "code",
      "source": [
        "# # Evaluate Inference Time\n",
        "# startTime = time.time()\n",
        "# model = tf.keras.models.load_model(model_path)\n",
        "# test_loss, test_acc = model.evaluate(val_dataset, verbose=0)\n",
        "# prediction = model.predict(val_dataset)\n",
        "# executionTime = (time.time() - startTime)/len(val_dataset)\n",
        "# print(executionTime)\n",
        "# print(test_acc)"
      ],
      "metadata": {
        "id": "-ImC5vO8jfyh"
      },
      "execution_count": null,
      "outputs": []
    },
    {
      "cell_type": "code",
      "source": [
        "# test_acc, model_size, executionTime, evulation_df = evaluate_model(model_path, model_info, val_dataset)"
      ],
      "metadata": {
        "id": "Lc9thO3I1sQn"
      },
      "execution_count": null,
      "outputs": []
    },
    {
      "cell_type": "code",
      "source": [
        "# evulation_df"
      ],
      "metadata": {
        "id": "qmzX6SNIsDwy"
      },
      "execution_count": null,
      "outputs": []
    },
    {
      "cell_type": "code",
      "source": [
        "# path = model_excel_file_path + '_model_evaluation.xlsx'\n",
        "\n",
        "# with pd.ExcelWriter(path) as writer:\n",
        "#   # writer.book = openpyxl.load_workbook(path)\n",
        "#   evulation_df.to_excel(writer, sheet_name='Model_evaluation')\n",
        "#   pd.DataFrame().to_excel(writer, sheet_name='Plots')\n",
        "  \n",
        "\n",
        "#   worksheet = writer.sheets['Plots']\n",
        "#   worksheet.insert_image('A1', model_plot_path + '_model_accuracy_plot.png')\n",
        "#   worksheet.insert_image('K1', model_plot_path + '_model_loss_plot.png')\n",
        "#   writer.save()"
      ],
      "metadata": {
        "id": "tQ0Lf3_2b7Fu"
      },
      "execution_count": null,
      "outputs": []
    },
    {
      "cell_type": "markdown",
      "source": [
        "#Loop based hyperparameter optimization"
      ],
      "metadata": {
        "id": "6RZntO1mdEGr"
      }
    },
    {
      "cell_type": "code",
      "source": [
        "def SolNet_updated_for_loop(in_size, learning_rate, model_path):\n",
        "  i = Input(in_size)\n",
        "  r = Conv2D(filters=96, kernel_size=(11,11), strides=(4,4), activation='relu', input_shape=(227,227,3))(i)\n",
        "  r = BatchNormalization()(r)\n",
        "  r = MaxPooling2D(pool_size=(3,3), strides=(2,2))(r)\n",
        "  r = Conv2D(filters=256, kernel_size=(5,5), strides=(1,1), activation='relu', padding=\"same\")(r)\n",
        "  r = BatchNormalization()(r)\n",
        "  r = MaxPooling2D(pool_size=(3,3), strides=(2,2))(r)\n",
        "  r = Conv2D(filters=384, kernel_size=(3,3), strides=(1,1), activation='relu', padding=\"same\")(r)\n",
        "  r = BatchNormalization()(r)\n",
        "  r = Conv2D(filters=384, kernel_size=(3,3), strides=(1,1), activation='relu', padding=\"same\")(r)\n",
        "  r = BatchNormalization()(r)\n",
        "  r = Conv2D(filters=256, kernel_size=(3,3), strides=(1,1), activation='relu', padding=\"same\")(r)\n",
        "  r = BatchNormalization()(r)\n",
        "  r = MaxPooling2D(pool_size=(3,3), strides=(2,2))(r)\n",
        "  r = Flatten()(r)\n",
        "  r = Dense(4096, activation='relu')(r)\n",
        "  r = Dropout(0.5)(r)\n",
        "  r = Dense(4096, activation='relu')(r)\n",
        "  r = Dropout(0.5)(r)\n",
        "  o = Dense(1, activation='sigmoid')(r)\n",
        "\n",
        "\n",
        "  SolNet = Model(inputs = i, outputs = o)\n",
        "\n",
        "\n",
        "\n",
        "  # SolNet.save('models/solnet.hdf5')\n",
        "  # SolNet.save('/content/drive/MyDrive/Solar_panel_dust_detection/models/solnet_updated_'+str(datetime.datetime.today().date())+'.hdf5')\n",
        "  SolNet.compile(optimizer=Adam(learning_rate), loss=binary_crossentropy, metrics=['acc'])\n",
        "  SolNet.save(model_path)\n",
        "  SolNet.summary()\n",
        "  return SolNet"
      ],
      "metadata": {
        "id": "5ILEZZhbDSCe"
      },
      "execution_count": null,
      "outputs": []
    },
    {
      "cell_type": "code",
      "source": [
        "def plot_history(history, model_plot_path, iteration_number):\n",
        "  \n",
        "  model_accuracy_plot_modified = model_plot_path + \"_model_iteration_\" + str(iteration_number) + \"_model_accuracy_plot.png\"\n",
        "  model_loss_plot_modified = model_plot_path + \"_model_iteration_\" + str(iteration_number) + \"_model_loss_plot.png\"\n",
        "  \n",
        "  plt.plot(history.history['acc'], label='accuracy')\n",
        "  plt.plot(history.history['val_acc'], label = 'val_accuracy')\n",
        "  plt.title('model accuracy plot')\n",
        "  plt.xlabel('Epoch')\n",
        "  plt.ylabel('Accuracy')\n",
        "  plt.legend(loc='best')\n",
        "  \n",
        "  plt.savefig(model_accuracy_plot_modified)\n",
        "  plt.show()\n",
        "\n",
        "  plt.plot(history.history['loss'])\n",
        "  plt.plot(history.history['val_loss'])\n",
        "  plt.title('model loss plot')\n",
        "  plt.ylabel('loss')\n",
        "  plt.xlabel('epoch')\n",
        "  plt.legend(['train', 'val'], loc='best')\n",
        "  plt.savefig(model_loss_plot_modified)\n",
        "  plt.show()\n",
        "\n",
        "  return model_accuracy_plot_modified, model_loss_plot_modified"
      ],
      "metadata": {
        "id": "QX-m2bZe9HQX"
      },
      "execution_count": null,
      "outputs": []
    },
    {
      "cell_type": "code",
      "source": [
        "def save_execution_trial(evluation_df, model_excel_file_path, model_accuracy_plot_modified, model_loss_plot_modified, iteration_number):\n",
        "  path = model_excel_file_path + \"_model_iteration_\" + str(iteration_number) + '_model_evaluation.xlsx'\n",
        "\n",
        "  with pd.ExcelWriter(path) as writer:\n",
        "    # writer.book = openpyxl.load_workbook(path)\n",
        "    evluation_df.to_excel(writer, sheet_name='Model_evaluation')\n",
        "    pd.DataFrame().to_excel(writer, sheet_name='Plots')\n",
        "    \n",
        "\n",
        "    worksheet = writer.sheets['Plots']\n",
        "    worksheet.insert_image('A1', model_accuracy_plot_modified)\n",
        "    worksheet.insert_image('K1', model_loss_plot_modified)\n",
        "    writer.save()"
      ],
      "metadata": {
        "id": "z-IHWYoWAOYF"
      },
      "execution_count": null,
      "outputs": []
    },
    {
      "cell_type": "code",
      "source": [
        "model_path = '/content/drive/MyDrive/Solar_panel_dust_detection/models/solnet_updated_'+ str(datetime.datetime.today().date())\n",
        "model_plot_path = '/content/drive/MyDrive/Solar_panel_dust_detection/plots/'+ str(datetime.datetime.today().date())\n",
        "model_excel_file_path = '/content/drive/MyDrive/Solar_panel_dust_detection/evaluation/'+ str(datetime.datetime.today().date())\n",
        "location = \"/content/drive/MyDrive/Solar_panel_dust_detection/dataset_1\"\n",
        "\n",
        "\n",
        "\n",
        "# loop_dict = {\n",
        "#               # index: [ bs, epoch, lr]\n",
        "#               1:       [ 32, 10,    0.0001  ],\n",
        "#               2:       [ 32, 10,    0.00001 ],\n",
        "#               3:       [ 32, 20,    0.0001  ],\n",
        "#               4:       [ 32, 20,    0.00001 ],\n",
        "#               5:       [ 64, 10,    0.0001  ],\n",
        "#               6:       [ 64, 10,    0.00001 ],\n",
        "#               7:       [ 64, 20,    0.0001  ],\n",
        "#               8:       [ 64, 20,    0.00001 ],\n",
        "# }\n",
        "\n",
        "\n",
        "# loop_dict = {\n",
        "#               # index: [ bs, epoch, lr]\n",
        "#               # 11:       [ 32, 10,    0.0001  ],\n",
        "#               12:       [ 32, 10,    0.00001 ],\n",
        "#               # 13:       [ 32, 20,    0.0001  ],\n",
        "#               14:       [ 32, 20,    0.00001 ],\n",
        "#               # 15:       [ 64, 10,    0.0001  ],\n",
        "#               16:       [ 64, 10,    0.00001 ],\n",
        "#               # 17:       [ 64, 20,    0.0001  ],\n",
        "#               18:       [ 64, 20,    0.00001 ],\n",
        "# }\n",
        "\n",
        "loop_dict = {\n",
        "              # index: [ bs, epoch, lr]\n",
        "              # 21:       [ 32, 10,    0.0001  ],\n",
        "              22:       [ 32, 10,    0.000001 ],\n",
        "              # 23:       [ 32, 20,    0.0001  ],\n",
        "              24:       [ 32, 30,    0.000001 ],\n",
        "              # 25:       [ 64, 10,    0.0001  ],\n",
        "              26:       [ 64, 30,    0.000001 ],\n",
        "              # 27:       [ 64, 20,    0.0001  ],\n",
        "              28:       [ 64, 30,    0.000001 ],\n",
        "}\n",
        "\n",
        "\n",
        "\n",
        "\n",
        "# # batch_sizes = [16,32,64,128]\n",
        "# batch_sizes = [32,64]\n",
        "\n",
        "# # epoch_list = [10, 15, 20, 30]\n",
        "# epoch_list = [10, 20]\n",
        "\n",
        "# # learning_rates = [0.001, 0.0001 , 0.00001, 0.000001]\n",
        "# learning_rates = [0.0001 , 0.00001]\n",
        "\n",
        "# # in_sizes =  [\n",
        "# #                 [100, 100, 3],\n",
        "# #                 [136, 136, 3],\n",
        "# #                 [204, 204, 3],\n",
        "# #                 [227, 227, 3],\n",
        "# #             ]\n",
        "\n",
        "# in_sizes =  [\n",
        "#                 [136, 136, 3], #insize_1\n",
        "#                 [227, 227, 3], #insize_2\n",
        "#             ]\n",
        "\n",
        "in_sizes_dict =  {\n",
        "                      # 1: [136, 136, 3], #insize_1\n",
        "                      2: [227, 227, 3], #insize_2\n",
        "          \n",
        "}\n",
        "               \n",
        "            \n",
        "\n",
        "label_mode = 'binary'\n",
        "seed = 10 #changed for each fold made manually\n",
        "class_names = ['clean', 'dirty']\n",
        "\n",
        "# cnt = 0\n",
        "# for batch_size in batch_sizes:\n",
        "#   for epoch in epoch_list:\n",
        "#     for learning_rate in learning_rates:\n",
        "#       for in_size in in_sizes:\n",
        "\n",
        "#         tr_dataset = image_dataset_from_directory(directory=location, label_mode= label_mode, class_names=class_names,\n",
        "#                                           seed=seed, labels='inferred', image_size=in_size[:-1], \n",
        "#                                           subset = 'training', batch_size=batch_size, validation_split=.2)\n",
        "\n",
        "#         val_dataset = image_dataset_from_directory(directory=location, label_mode= label_mode, class_names=class_names,\n",
        "#                                                   seed=seed, labels='inferred', image_size=in_size[:-1],\n",
        "#                                                   subset = 'validation', batch_size=batch_size, validation_split=.2)\n",
        "        \n",
        "#         model_path_modified = model_path + \"_model_iteration_\" + str(cnt) + \".h5\"\n",
        "#         model_info = \"batch_size: \" + str(batch_size) + \" and epochs: \" + str(epoch) + \" and in_size: \" + str(in_size) + \" and lr: \" + str(learning_rate)\n",
        "#         print(\"The model info: \", model_info)\n",
        "\n",
        "#         SolNet_model = SolNet_updated_for_loop(in_size, learning_rate, model_path_modified)\n",
        "        \n",
        "#         history = SolNet_model.fit(tr_dataset, validation_data=val_dataset, epochs=epoch, batch_size=batch_size)\n",
        "#         model_accuracy_plot_modified, model_loss_plot_modified = plot_history(history, model_plot_path, cnt)\n",
        "\n",
        "#         test_acc, model_size, executionTime, evluation_df = evaluate_model(model_path_modified, model_info, val_dataset)\n",
        "#         print(\"The evaluation df: \\n\", evluation_df, \"\\n\")\n",
        "\n",
        "#         save_execution_trial(evluation_df, model_excel_file_path, model_accuracy_plot_modified, model_loss_plot_modified, cnt)\n",
        "\n",
        "#         cnt += 1\n",
        "\n",
        "\n",
        "\n",
        "\n",
        "# cnt = 0\n",
        "\n",
        "\n",
        "\n",
        "for key_1, value_1 in in_sizes_dict.items():\n",
        "\n",
        "  cnt_1 = key_1\n",
        "  in_size = value_1\n",
        "\n",
        "  for key, value in loop_dict.items():\n",
        "\n",
        "    cnt = key\n",
        "    batch_size, epoch, learning_rate = value\n",
        "\n",
        "    tr_dataset = image_dataset_from_directory(directory=location, label_mode= label_mode, class_names=class_names,\n",
        "                                      seed=seed, labels='inferred', image_size=in_size[:-1], \n",
        "                                      subset = 'training', batch_size=batch_size, validation_split=.2)\n",
        "\n",
        "    val_dataset = image_dataset_from_directory(directory=location, label_mode= label_mode, class_names=class_names,\n",
        "                                              seed=seed, labels='inferred', image_size=in_size[:-1],\n",
        "                                              subset = 'validation', batch_size=batch_size, validation_split=.2)\n",
        "    \n",
        "    model_path_modified = model_path + \"_model_iteration_\" + str(cnt) + \"__size_iteration_\" + str(cnt_1) + \".h5\"\n",
        "    model_info = \"batch_size: \" + str(batch_size) + \" and epochs: \" + str(epoch) + \" and in_size: \" + str(in_size) + \" and lr: \" + str(learning_rate)\n",
        "    print(\"The model info: \", model_info)\n",
        "\n",
        "    SolNet_model = SolNet_updated_for_loop(in_size, learning_rate, model_path_modified)\n",
        "    \n",
        "    history = SolNet_model.fit(tr_dataset, validation_data=val_dataset, epochs=epoch, batch_size=batch_size)\n",
        "    model_accuracy_plot_modified, model_loss_plot_modified = plot_history(history, model_plot_path, cnt)\n",
        "\n",
        "    test_acc, model_size, executionTime, evluation_df = evaluate_model(model_path_modified, model_info, val_dataset)\n",
        "    print(\"The evaluation df: \\n\", evluation_df, \"\\n\")\n",
        "\n",
        "    save_execution_trial(evluation_df, model_excel_file_path, model_accuracy_plot_modified, model_loss_plot_modified, str(cnt) + \"__size_iteration_\" + str(cnt_1) )\n",
        "\n",
        "    # cnt += 1"
      ],
      "metadata": {
        "id": "Rbkgdo7SdF5S",
        "colab": {
          "base_uri": "https://localhost:8080/",
          "height": 1000
        },
        "outputId": "fefb7797-6d3c-423c-b354-ea19849278df"
      },
      "execution_count": null,
      "outputs": [
        {
          "output_type": "stream",
          "name": "stdout",
          "text": [
            "Found 1440 files belonging to 2 classes.\n",
            "Using 1152 files for training.\n",
            "Found 1440 files belonging to 2 classes.\n",
            "Using 288 files for validation.\n",
            "The model info:  batch_size: 32 and epochs: 10 and in_size: [227, 227, 3] and lr: 1e-06\n",
            "Model: \"model\"\n",
            "_________________________________________________________________\n",
            " Layer (type)                Output Shape              Param #   \n",
            "=================================================================\n",
            " input_1 (InputLayer)        [(None, 227, 227, 3)]     0         \n",
            "                                                                 \n",
            " conv2d (Conv2D)             (None, 55, 55, 96)        34944     \n",
            "                                                                 \n",
            " batch_normalization (BatchN  (None, 55, 55, 96)       384       \n",
            " ormalization)                                                   \n",
            "                                                                 \n",
            " max_pooling2d (MaxPooling2D  (None, 27, 27, 96)       0         \n",
            " )                                                               \n",
            "                                                                 \n",
            " conv2d_1 (Conv2D)           (None, 27, 27, 256)       614656    \n",
            "                                                                 \n",
            " batch_normalization_1 (Batc  (None, 27, 27, 256)      1024      \n",
            " hNormalization)                                                 \n",
            "                                                                 \n",
            " max_pooling2d_1 (MaxPooling  (None, 13, 13, 256)      0         \n",
            " 2D)                                                             \n",
            "                                                                 \n",
            " conv2d_2 (Conv2D)           (None, 13, 13, 384)       885120    \n",
            "                                                                 \n",
            " batch_normalization_2 (Batc  (None, 13, 13, 384)      1536      \n",
            " hNormalization)                                                 \n",
            "                                                                 \n",
            " conv2d_3 (Conv2D)           (None, 13, 13, 384)       1327488   \n",
            "                                                                 \n",
            " batch_normalization_3 (Batc  (None, 13, 13, 384)      1536      \n",
            " hNormalization)                                                 \n",
            "                                                                 \n",
            " conv2d_4 (Conv2D)           (None, 13, 13, 256)       884992    \n",
            "                                                                 \n",
            " batch_normalization_4 (Batc  (None, 13, 13, 256)      1024      \n",
            " hNormalization)                                                 \n",
            "                                                                 \n",
            " max_pooling2d_2 (MaxPooling  (None, 6, 6, 256)        0         \n",
            " 2D)                                                             \n",
            "                                                                 \n",
            " flatten (Flatten)           (None, 9216)              0         \n",
            "                                                                 \n",
            " dense (Dense)               (None, 4096)              37752832  \n",
            "                                                                 \n",
            " dropout (Dropout)           (None, 4096)              0         \n",
            "                                                                 \n",
            " dense_1 (Dense)             (None, 4096)              16781312  \n",
            "                                                                 \n",
            " dropout_1 (Dropout)         (None, 4096)              0         \n",
            "                                                                 \n",
            " dense_2 (Dense)             (None, 1)                 4097      \n",
            "                                                                 \n",
            "=================================================================\n",
            "Total params: 58,290,945\n",
            "Trainable params: 58,288,193\n",
            "Non-trainable params: 2,752\n",
            "_________________________________________________________________\n",
            "Epoch 1/10\n",
            "36/36 [==============================] - 236s 5s/step - loss: 1.1209 - acc: 0.5503 - val_loss: 0.8687 - val_acc: 0.5278\n",
            "Epoch 2/10\n",
            "36/36 [==============================] - 114s 3s/step - loss: 0.9946 - acc: 0.5773 - val_loss: 0.8041 - val_acc: 0.5278\n",
            "Epoch 3/10\n",
            "36/36 [==============================] - 116s 3s/step - loss: 0.9463 - acc: 0.6302 - val_loss: 0.7285 - val_acc: 0.5451\n",
            "Epoch 4/10\n",
            "36/36 [==============================] - 122s 3s/step - loss: 0.8738 - acc: 0.6380 - val_loss: 0.5973 - val_acc: 0.6424\n",
            "Epoch 5/10\n",
            "36/36 [==============================] - 118s 3s/step - loss: 0.8042 - acc: 0.6849 - val_loss: 0.4994 - val_acc: 0.7500\n",
            "Epoch 6/10\n",
            "36/36 [==============================] - 116s 3s/step - loss: 0.7218 - acc: 0.7005 - val_loss: 0.4464 - val_acc: 0.7986\n",
            "Epoch 7/10\n",
            "36/36 [==============================] - 116s 3s/step - loss: 0.7072 - acc: 0.7101 - val_loss: 0.4310 - val_acc: 0.8264\n",
            "Epoch 8/10\n",
            "36/36 [==============================] - 116s 3s/step - loss: 0.6512 - acc: 0.7240 - val_loss: 0.3932 - val_acc: 0.8368\n",
            "Epoch 9/10\n",
            "36/36 [==============================] - 116s 3s/step - loss: 0.6517 - acc: 0.7578 - val_loss: 0.3908 - val_acc: 0.8646\n",
            "Epoch 10/10\n",
            "36/36 [==============================] - 116s 3s/step - loss: 0.5884 - acc: 0.7517 - val_loss: 0.3736 - val_acc: 0.8438\n"
          ]
        },
        {
          "output_type": "display_data",
          "data": {
            "text/plain": [
              "<Figure size 432x288 with 1 Axes>"
            ],
            "image/png": "[encoded data removed]"
          },
          "metadata": {
            "needs_background": "light"
          }
        },
        {
          "output_type": "display_data",
          "data": {
            "text/plain": [
              "<Figure size 432x288 with 1 Axes>"
            ],
            "image/png": "[encoded data removed]"
          },
          "metadata": {
            "needs_background": "light"
          }
        },
        {
          "output_type": "stream",
          "name": "stdout",
          "text": [
            "9/9 [==============================] - 23s 34ms/step\n",
            "\n",
            "Model Accuracy: 52.77777910232544 %\n",
            "Model Size: 212499452.00 bytes\n",
            "Inference Time is:  2.5659365124172635 s\n",
            "The evaluation df: \n",
            "                index                                                  0\n",
            "0    Evaluation type                                         Evualation\n",
            "1  Model Information  batch_size: 32 and epochs: 10 and in_size: [22...\n",
            "2           Accuracy                                52.77777910232544 %\n",
            "3               Loss                               118.23338270187378 %\n",
            "4         Model Size                                    212499452 bytes\n",
            "5     Inference Time                             2.5659365124172635 sec \n",
            "\n"
          ]
        },
        {
          "output_type": "stream",
          "name": "stderr",
          "text": [
            "/usr/local/lib/python3.9/dist-packages/xlsxwriter/workbook.py:339: UserWarning: Calling close() on already closed file.\n",
            "  warn(\"Calling close() on already closed file.\")\n"
          ]
        },
        {
          "output_type": "stream",
          "name": "stdout",
          "text": [
            "Found 1440 files belonging to 2 classes.\n",
            "Using 1152 files for training.\n",
            "Found 1440 files belonging to 2 classes.\n",
            "Using 288 files for validation.\n",
            "The model info:  batch_size: 32 and epochs: 30 and in_size: [227, 227, 3] and lr: 1e-06\n",
            "Model: \"model_1\"\n",
            "_________________________________________________________________\n",
            " Layer (type)                Output Shape              Param #   \n",
            "=================================================================\n",
            " input_2 (InputLayer)        [(None, 227, 227, 3)]     0         \n",
            "                                                                 \n",
            " conv2d_5 (Conv2D)           (None, 55, 55, 96)        34944     \n",
            "                                                                 \n",
            " batch_normalization_5 (Batc  (None, 55, 55, 96)       384       \n",
            " hNormalization)                                                 \n",
            "                                                                 \n",
            " max_pooling2d_3 (MaxPooling  (None, 27, 27, 96)       0         \n",
            " 2D)                                                             \n",
            "                                                                 \n",
            " conv2d_6 (Conv2D)           (None, 27, 27, 256)       614656    \n",
            "                                                                 \n",
            " batch_normalization_6 (Batc  (None, 27, 27, 256)      1024      \n",
            " hNormalization)                                                 \n",
            "                                                                 \n",
            " max_pooling2d_4 (MaxPooling  (None, 13, 13, 256)      0         \n",
            " 2D)                                                             \n",
            "                                                                 \n",
            " conv2d_7 (Conv2D)           (None, 13, 13, 384)       885120    \n",
            "                                                                 \n",
            " batch_normalization_7 (Batc  (None, 13, 13, 384)      1536      \n",
            " hNormalization)                                                 \n",
            "                                                                 \n",
            " conv2d_8 (Conv2D)           (None, 13, 13, 384)       1327488   \n",
            "                                                                 \n",
            " batch_normalization_8 (Batc  (None, 13, 13, 384)      1536      \n",
            " hNormalization)                                                 \n",
            "                                                                 \n",
            " conv2d_9 (Conv2D)           (None, 13, 13, 256)       884992    \n",
            "                                                                 \n",
            " batch_normalization_9 (Batc  (None, 13, 13, 256)      1024      \n",
            " hNormalization)                                                 \n",
            "                                                                 \n",
            " max_pooling2d_5 (MaxPooling  (None, 6, 6, 256)        0         \n",
            " 2D)                                                             \n",
            "                                                                 \n",
            " flatten_1 (Flatten)         (None, 9216)              0         \n",
            "                                                                 \n",
            " dense_3 (Dense)             (None, 4096)              37752832  \n",
            "                                                                 \n",
            " dropout_2 (Dropout)         (None, 4096)              0         \n",
            "                                                                 \n",
            " dense_4 (Dense)             (None, 4096)              16781312  \n",
            "                                                                 \n",
            " dropout_3 (Dropout)         (None, 4096)              0         \n",
            "                                                                 \n",
            " dense_5 (Dense)             (None, 1)                 4097      \n",
            "                                                                 \n",
            "=================================================================\n",
            "Total params: 58,290,945\n",
            "Trainable params: 58,288,193\n",
            "Non-trainable params: 2,752\n",
            "_________________________________________________________________\n",
            "Epoch 1/30\n",
            "36/36 [==============================] - 122s 3s/step - loss: 1.1381 - acc: 0.5286 - val_loss: 0.8088 - val_acc: 0.5278\n",
            "Epoch 2/30\n",
            "36/36 [==============================] - 114s 3s/step - loss: 1.0429 - acc: 0.5582 - val_loss: 0.7004 - val_acc: 0.5278\n",
            "Epoch 3/30\n",
            "36/36 [==============================] - 115s 3s/step - loss: 0.8619 - acc: 0.6528 - val_loss: 0.6273 - val_acc: 0.5903\n",
            "Epoch 4/30\n",
            "36/36 [==============================] - 135s 3s/step - loss: 0.8882 - acc: 0.6667 - val_loss: 0.5557 - val_acc: 0.7049\n",
            "Epoch 5/30\n",
            "36/36 [==============================] - 115s 3s/step - loss: 0.7735 - acc: 0.7049 - val_loss: 0.5008 - val_acc: 0.7847\n",
            "Epoch 6/30\n",
            "36/36 [==============================] - 118s 3s/step - loss: 0.7393 - acc: 0.7066 - val_loss: 0.4618 - val_acc: 0.8090\n",
            "Epoch 7/30\n",
            "36/36 [==============================] - 116s 3s/step - loss: 0.7183 - acc: 0.7266 - val_loss: 0.4416 - val_acc: 0.8229\n",
            "Epoch 8/30\n",
            "36/36 [==============================] - 115s 3s/step - loss: 0.6490 - acc: 0.7370 - val_loss: 0.4221 - val_acc: 0.8438\n",
            "Epoch 9/30\n",
            "15/36 [===========>..................] - ETA: 54s - loss: 0.6328 - acc: 0.7458"
          ]
        }
      ]
    },
    {
      "cell_type": "markdown",
      "source": [
        "# Final base model"
      ],
      "metadata": {
        "id": "C5EBx2kkAK67"
      }
    },
    {
      "cell_type": "code",
      "source": [
        "def evaluate_model_without_saving_stats(model, model_path, model_info, val_dataset):\n",
        "\n",
        "  # Evaluate test accuracy and test loss\n",
        "  # model = tf.keras.models.load_model(model_path)\n",
        "  test_loss, test_acc = model.evaluate(val_dataset, verbose=0)\n",
        "\n",
        "  # Evaluate Model Size\n",
        "  model_size = get_gzipped_model_size(model_path)\n",
        "\n",
        "  # Evaluate Inference Time\n",
        "  startTime = time.time()\n",
        "  prediction = model.predict(val_dataset)\n",
        "  executionTime = (time.time() - startTime)/len(val_dataset)\n",
        "\n",
        "  # Print\n",
        "  print('\\nModel Accuracy:', test_acc*100, '%')\n",
        "  print(\"Model Size: %.2f bytes\" % (model_size))\n",
        "  print(\"Inference Time is: \", executionTime, \"s\")\n",
        "\n",
        "  # Build Evalution dataframe\n",
        "  evulation_dict = {\n",
        "                      \"Evaluation type\": \"Evualation\",\n",
        "                      \"Model Information\": model_info,\n",
        "                      \"Accuracy\": str(test_acc*100) + \" %\",\n",
        "                      \"Loss\": str(test_loss*100) + \" %\",\n",
        "                      \"Model Size\": str(model_size) + \" bytes\",\n",
        "                      \"Inference Time\": str(executionTime) + \" sec\"\n",
        "                    }\n",
        "  \n",
        "  evulation_df = pd.DataFrame.from_dict(evulation_dict, orient='index').reset_index()\n",
        "\n",
        "\n",
        "  return test_acc, model_size, executionTime, evulation_df"
      ],
      "metadata": {
        "id": "7GYNXYjcCVBH"
      },
      "execution_count": 9,
      "outputs": []
    },
    {
      "cell_type": "code",
      "source": [
        "def SolNet_final_base_model(in_size):\n",
        "\n",
        "  i = Input(in_size)\n",
        "  r = Conv2D(filters=96, kernel_size=(11,11), strides=(4,4), activation='relu', input_shape=(227,227,3))(i)\n",
        "  r = BatchNormalization()(r)\n",
        "  r = MaxPooling2D(pool_size=(3,3), strides=(2,2))(r)\n",
        "  r = Conv2D(filters=256, kernel_size=(5,5), strides=(1,1), activation='relu', padding=\"same\")(r)\n",
        "  r = BatchNormalization()(r)\n",
        "  r = MaxPooling2D(pool_size=(3,3), strides=(2,2))(r)\n",
        "  r = Conv2D(filters=384, kernel_size=(3,3), strides=(1,1), activation='relu', padding=\"same\")(r)\n",
        "  r = BatchNormalization()(r)\n",
        "  r = Conv2D(filters=384, kernel_size=(3,3), strides=(1,1), activation='relu', padding=\"same\")(r)\n",
        "  r = BatchNormalization()(r)\n",
        "  r = Conv2D(filters=256, kernel_size=(3,3), strides=(1,1), activation='relu', padding=\"same\")(r)\n",
        "  r = BatchNormalization()(r)\n",
        "  r = MaxPooling2D(pool_size=(3,3), strides=(2,2))(r)\n",
        "  r = Flatten()(r)\n",
        "  r = Dense(4096, activation='relu')(r)\n",
        "  r = Dropout(0.5)(r)\n",
        "  r = Dense(4096, activation='relu')(r)\n",
        "  r = Dropout(0.5)(r)\n",
        "  o = Dense(1, activation='sigmoid')(r)\n",
        "  SolNet = Model(i, o)\n",
        "\n",
        "  # SolNet.save('models/solnet.hdf5') # don't have to sabe the model before training\n",
        "  # SolNet.save('models/solnet.h5')   # don't have to sabe the model before training\n",
        "\n",
        "  #  SolNet.compile(optimizer=Adam(.0001, .8, .9), loss=binary_crossentropy, metrics=['acc'])\n",
        "  SolNet.compile(optimizer=Adam(.00001), loss=binary_crossentropy, metrics=['acc']) # no beta parameters and with 10^-5 as lr\n",
        "  # SolNet.compile(optimizer=Adam(.000001), loss=binary_crossentropy, metrics=['acc']) # no beta parameters and with 10^-6 as lr\n",
        "\n",
        "  SolNet.summary()\n",
        "\n",
        "  return SolNet"
      ],
      "metadata": {
        "id": "ZYxPyeQPAKpq"
      },
      "execution_count": 12,
      "outputs": []
    },
    {
      "cell_type": "code",
      "source": [
        "batch_size = 32\n",
        "location = \"/content/drive/MyDrive/Solar_panel_dust_detection/dataset_1\"\n",
        "label_mode = 'binary'\n",
        "seed = 10 #changed for each fold made manually\n",
        "epochs = 60\n",
        "class_names = ['clean', 'dirty']\n",
        "in_size = [227, 227, 3]\n",
        "\n",
        "tr_dataset = image_dataset_from_directory(directory=location, label_mode= label_mode, class_names=class_names,\n",
        "                                          seed=seed, labels='inferred', image_size=in_size[:-1], \n",
        "                                          subset = 'training', batch_size=batch_size, validation_split=.2)\n",
        "\n",
        "val_dataset = image_dataset_from_directory(directory=location, label_mode= label_mode, class_names=class_names,\n",
        "                                          seed=seed, labels='inferred', image_size=in_size[:-1],\n",
        "                                          subset = 'validation', batch_size=batch_size, validation_split=.2)\n",
        "\n",
        "final_base_model = SolNet_final_base_model(in_size = [227, 227, 3])\n",
        "history = final_base_model.fit(tr_dataset, validation_data=val_dataset, epochs=epochs, batch_size=batch_size)"
      ],
      "metadata": {
        "colab": {
          "base_uri": "https://localhost:8080/"
        },
        "id": "UGeMOnl_BJ-m",
        "outputId": "c7df156e-7a0e-4dbf-8fae-b814e22cf952"
      },
      "execution_count": 13,
      "outputs": [
        {
          "output_type": "stream",
          "name": "stdout",
          "text": [
            "Found 1440 files belonging to 2 classes.\n",
            "Using 1152 files for training.\n",
            "Found 1440 files belonging to 2 classes.\n",
            "Using 288 files for validation.\n",
            "Model: \"model\"\n",
            "_________________________________________________________________\n",
            " Layer (type)                Output Shape              Param #   \n",
            "=================================================================\n",
            " input_1 (InputLayer)        [(None, 227, 227, 3)]     0         \n",
            "                                                                 \n",
            " conv2d (Conv2D)             (None, 55, 55, 96)        34944     \n",
            "                                                                 \n",
            " batch_normalization (BatchN  (None, 55, 55, 96)       384       \n",
            " ormalization)                                                   \n",
            "                                                                 \n",
            " max_pooling2d (MaxPooling2D  (None, 27, 27, 96)       0         \n",
            " )                                                               \n",
            "                                                                 \n",
            " conv2d_1 (Conv2D)           (None, 27, 27, 256)       614656    \n",
            "                                                                 \n",
            " batch_normalization_1 (Batc  (None, 27, 27, 256)      1024      \n",
            " hNormalization)                                                 \n",
            "                                                                 \n",
            " max_pooling2d_1 (MaxPooling  (None, 13, 13, 256)      0         \n",
            " 2D)                                                             \n",
            "                                                                 \n",
            " conv2d_2 (Conv2D)           (None, 13, 13, 384)       885120    \n",
            "                                                                 \n",
            " batch_normalization_2 (Batc  (None, 13, 13, 384)      1536      \n",
            " hNormalization)                                                 \n",
            "                                                                 \n",
            " conv2d_3 (Conv2D)           (None, 13, 13, 384)       1327488   \n",
            "                                                                 \n",
            " batch_normalization_3 (Batc  (None, 13, 13, 384)      1536      \n",
            " hNormalization)                                                 \n",
            "                                                                 \n",
            " conv2d_4 (Conv2D)           (None, 13, 13, 256)       884992    \n",
            "                                                                 \n",
            " batch_normalization_4 (Batc  (None, 13, 13, 256)      1024      \n",
            " hNormalization)                                                 \n",
            "                                                                 \n",
            " max_pooling2d_2 (MaxPooling  (None, 6, 6, 256)        0         \n",
            " 2D)                                                             \n",
            "                                                                 \n",
            " flatten (Flatten)           (None, 9216)              0         \n",
            "                                                                 \n",
            " dense (Dense)               (None, 4096)              37752832  \n",
            "                                                                 \n",
            " dropout (Dropout)           (None, 4096)              0         \n",
            "                                                                 \n",
            " dense_1 (Dense)             (None, 4096)              16781312  \n",
            "                                                                 \n",
            " dropout_1 (Dropout)         (None, 4096)              0         \n",
            "                                                                 \n",
            " dense_2 (Dense)             (None, 1)                 4097      \n",
            "                                                                 \n",
            "=================================================================\n",
            "Total params: 58,290,945\n",
            "Trainable params: 58,288,193\n",
            "Non-trainable params: 2,752\n",
            "_________________________________________________________________\n",
            "Epoch 1/60\n",
            "36/36 [==============================] - 236s 5s/step - loss: 0.8835 - acc: 0.6701 - val_loss: 1.3160 - val_acc: 0.5278\n",
            "Epoch 2/60\n",
            "36/36 [==============================] - 118s 3s/step - loss: 0.6210 - acc: 0.7786 - val_loss: 0.9516 - val_acc: 0.5278\n",
            "Epoch 3/60\n",
            "36/36 [==============================] - 115s 3s/step - loss: 0.4840 - acc: 0.8255 - val_loss: 0.6510 - val_acc: 0.5868\n",
            "Epoch 4/60\n",
            "36/36 [==============================] - 121s 3s/step - loss: 0.4162 - acc: 0.8481 - val_loss: 0.6198 - val_acc: 0.6771\n",
            "Epoch 5/60\n",
            "36/36 [==============================] - 119s 3s/step - loss: 0.2949 - acc: 0.9019 - val_loss: 0.3720 - val_acc: 0.8438\n",
            "Epoch 6/60\n",
            "36/36 [==============================] - 135s 3s/step - loss: 0.2569 - acc: 0.9010 - val_loss: 0.2732 - val_acc: 0.8819\n",
            "Epoch 7/60\n",
            "36/36 [==============================] - 119s 3s/step - loss: 0.2103 - acc: 0.9253 - val_loss: 0.2728 - val_acc: 0.8889\n",
            "Epoch 8/60\n",
            "36/36 [==============================] - 119s 3s/step - loss: 0.1855 - acc: 0.9332 - val_loss: 0.2143 - val_acc: 0.9340\n",
            "Epoch 9/60\n",
            "36/36 [==============================] - 137s 3s/step - loss: 0.1718 - acc: 0.9392 - val_loss: 0.1705 - val_acc: 0.9340\n",
            "Epoch 10/60\n",
            "36/36 [==============================] - 118s 3s/step - loss: 0.1030 - acc: 0.9601 - val_loss: 0.1808 - val_acc: 0.9410\n",
            "Epoch 11/60\n",
            "36/36 [==============================] - 119s 3s/step - loss: 0.1823 - acc: 0.9366 - val_loss: 0.1778 - val_acc: 0.9479\n",
            "Epoch 12/60\n",
            "36/36 [==============================] - 119s 3s/step - loss: 0.0994 - acc: 0.9670 - val_loss: 0.1605 - val_acc: 0.9479\n",
            "Epoch 13/60\n",
            "36/36 [==============================] - 119s 3s/step - loss: 0.0570 - acc: 0.9809 - val_loss: 0.1676 - val_acc: 0.9583\n",
            "Epoch 14/60\n",
            "36/36 [==============================] - 120s 3s/step - loss: 0.0693 - acc: 0.9800 - val_loss: 0.1574 - val_acc: 0.9479\n",
            "Epoch 15/60\n",
            "36/36 [==============================] - 119s 3s/step - loss: 0.0636 - acc: 0.9826 - val_loss: 0.1506 - val_acc: 0.9479\n",
            "Epoch 16/60\n",
            "36/36 [==============================] - 138s 3s/step - loss: 0.0439 - acc: 0.9835 - val_loss: 0.1598 - val_acc: 0.9479\n",
            "Epoch 17/60\n",
            "36/36 [==============================] - 119s 3s/step - loss: 0.0392 - acc: 0.9870 - val_loss: 0.1245 - val_acc: 0.9653\n",
            "Epoch 18/60\n",
            "36/36 [==============================] - 120s 3s/step - loss: 0.0423 - acc: 0.9844 - val_loss: 0.1431 - val_acc: 0.9583\n",
            "Epoch 19/60\n",
            "36/36 [==============================] - 120s 3s/step - loss: 0.0324 - acc: 0.9931 - val_loss: 0.1362 - val_acc: 0.9583\n",
            "Epoch 20/60\n",
            "36/36 [==============================] - 119s 3s/step - loss: 0.0242 - acc: 0.9931 - val_loss: 0.1534 - val_acc: 0.9549\n",
            "Epoch 21/60\n",
            "36/36 [==============================] - 121s 3s/step - loss: 0.0227 - acc: 0.9939 - val_loss: 0.1527 - val_acc: 0.9583\n",
            "Epoch 22/60\n",
            "36/36 [==============================] - 121s 3s/step - loss: 0.0214 - acc: 0.9931 - val_loss: 0.1620 - val_acc: 0.9514\n",
            "Epoch 23/60\n",
            "36/36 [==============================] - 121s 3s/step - loss: 0.0186 - acc: 0.9957 - val_loss: 0.1574 - val_acc: 0.9514\n",
            "Epoch 24/60\n",
            "36/36 [==============================] - 121s 3s/step - loss: 0.0236 - acc: 0.9948 - val_loss: 0.1648 - val_acc: 0.9549\n",
            "Epoch 25/60\n",
            "36/36 [==============================] - 120s 3s/step - loss: 0.0119 - acc: 0.9965 - val_loss: 0.1585 - val_acc: 0.9549\n",
            "Epoch 26/60\n",
            "36/36 [==============================] - 120s 3s/step - loss: 0.0478 - acc: 0.9861 - val_loss: 0.1895 - val_acc: 0.9618\n",
            "Epoch 27/60\n",
            "36/36 [==============================] - 120s 3s/step - loss: 0.0129 - acc: 0.9991 - val_loss: 0.1653 - val_acc: 0.9618\n",
            "Epoch 28/60\n",
            "36/36 [==============================] - 120s 3s/step - loss: 0.0118 - acc: 0.9965 - val_loss: 0.1734 - val_acc: 0.9583\n",
            "Epoch 29/60\n",
            "36/36 [==============================] - 137s 3s/step - loss: 0.0120 - acc: 0.9974 - val_loss: 0.1740 - val_acc: 0.9444\n",
            "Epoch 30/60\n",
            "36/36 [==============================] - 120s 3s/step - loss: 0.0151 - acc: 0.9965 - val_loss: 0.1730 - val_acc: 0.9583\n",
            "Epoch 31/60\n",
            "36/36 [==============================] - 120s 3s/step - loss: 0.0110 - acc: 0.9974 - val_loss: 0.2406 - val_acc: 0.9306\n",
            "Epoch 32/60\n",
            "36/36 [==============================] - 120s 3s/step - loss: 0.0103 - acc: 0.9965 - val_loss: 0.1592 - val_acc: 0.9583\n",
            "Epoch 33/60\n",
            "36/36 [==============================] - 136s 3s/step - loss: 0.0202 - acc: 0.9939 - val_loss: 0.2330 - val_acc: 0.9340\n",
            "Epoch 34/60\n",
            "36/36 [==============================] - 120s 3s/step - loss: 0.0101 - acc: 0.9974 - val_loss: 0.1977 - val_acc: 0.9479\n",
            "Epoch 35/60\n",
            "36/36 [==============================] - 120s 3s/step - loss: 0.0108 - acc: 0.9965 - val_loss: 0.1568 - val_acc: 0.9688\n",
            "Epoch 36/60\n",
            "36/36 [==============================] - 120s 3s/step - loss: 0.0174 - acc: 0.9939 - val_loss: 0.1766 - val_acc: 0.9549\n",
            "Epoch 37/60\n",
            "36/36 [==============================] - 120s 3s/step - loss: 0.0053 - acc: 1.0000 - val_loss: 0.1694 - val_acc: 0.9583\n",
            "Epoch 38/60\n",
            "36/36 [==============================] - 120s 3s/step - loss: 0.0063 - acc: 0.9991 - val_loss: 0.1902 - val_acc: 0.9549\n",
            "Epoch 39/60\n",
            "36/36 [==============================] - 121s 3s/step - loss: 0.0077 - acc: 0.9974 - val_loss: 0.1747 - val_acc: 0.9653\n",
            "Epoch 40/60\n",
            "36/36 [==============================] - 119s 3s/step - loss: 0.0074 - acc: 0.9983 - val_loss: 0.2468 - val_acc: 0.9410\n",
            "Epoch 41/60\n",
            "36/36 [==============================] - 120s 3s/step - loss: 0.0088 - acc: 0.9983 - val_loss: 0.1935 - val_acc: 0.9688\n",
            "Epoch 42/60\n",
            "36/36 [==============================] - 138s 3s/step - loss: 0.0095 - acc: 0.9965 - val_loss: 0.1880 - val_acc: 0.9583\n",
            "Epoch 43/60\n",
            "36/36 [==============================] - 119s 3s/step - loss: 0.0094 - acc: 0.9974 - val_loss: 0.1509 - val_acc: 0.9583\n",
            "Epoch 44/60\n",
            "36/36 [==============================] - 121s 3s/step - loss: 0.0027 - acc: 1.0000 - val_loss: 0.2114 - val_acc: 0.9549\n",
            "Epoch 45/60\n",
            "36/36 [==============================] - 120s 3s/step - loss: 0.0041 - acc: 0.9983 - val_loss: 0.1859 - val_acc: 0.9549\n",
            "Epoch 46/60\n",
            "36/36 [==============================] - 121s 3s/step - loss: 0.0026 - acc: 1.0000 - val_loss: 0.1587 - val_acc: 0.9549\n",
            "Epoch 47/60\n",
            "36/36 [==============================] - 120s 3s/step - loss: 0.0024 - acc: 1.0000 - val_loss: 0.1623 - val_acc: 0.9653\n",
            "Epoch 48/60\n",
            "36/36 [==============================] - 120s 3s/step - loss: 0.0030 - acc: 1.0000 - val_loss: 0.1980 - val_acc: 0.9514\n",
            "Epoch 49/60\n",
            "36/36 [==============================] - 120s 3s/step - loss: 0.0045 - acc: 1.0000 - val_loss: 0.1385 - val_acc: 0.9653\n",
            "Epoch 50/60\n",
            "36/36 [==============================] - 120s 3s/step - loss: 0.0093 - acc: 0.9974 - val_loss: 0.2541 - val_acc: 0.9479\n",
            "Epoch 51/60\n",
            "36/36 [==============================] - 121s 3s/step - loss: 0.0060 - acc: 0.9991 - val_loss: 0.1883 - val_acc: 0.9549\n",
            "Epoch 52/60\n",
            "36/36 [==============================] - 122s 3s/step - loss: 0.0035 - acc: 0.9983 - val_loss: 0.1444 - val_acc: 0.9653\n",
            "Epoch 53/60\n",
            "36/36 [==============================] - 123s 3s/step - loss: 0.0037 - acc: 0.9991 - val_loss: 0.1686 - val_acc: 0.9583\n",
            "Epoch 54/60\n",
            "36/36 [==============================] - 120s 3s/step - loss: 0.0120 - acc: 0.9965 - val_loss: 0.1635 - val_acc: 0.9653\n",
            "Epoch 55/60\n",
            "36/36 [==============================] - 120s 3s/step - loss: 0.0140 - acc: 0.9974 - val_loss: 0.1651 - val_acc: 0.9583\n",
            "Epoch 56/60\n",
            "36/36 [==============================] - 119s 3s/step - loss: 0.0222 - acc: 0.9957 - val_loss: 0.2036 - val_acc: 0.9444\n",
            "Epoch 57/60\n",
            "36/36 [==============================] - 120s 3s/step - loss: 0.0050 - acc: 0.9991 - val_loss: 0.1883 - val_acc: 0.9618\n",
            "Epoch 58/60\n",
            "36/36 [==============================] - 119s 3s/step - loss: 0.0045 - acc: 0.9983 - val_loss: 0.2101 - val_acc: 0.9479\n",
            "Epoch 59/60\n",
            "36/36 [==============================] - 137s 3s/step - loss: 0.0013 - acc: 1.0000 - val_loss: 0.1738 - val_acc: 0.9618\n",
            "Epoch 60/60\n",
            "36/36 [==============================] - 119s 3s/step - loss: 0.0012 - acc: 1.0000 - val_loss: 0.1775 - val_acc: 0.9653\n"
          ]
        }
      ]
    },
    {
      "cell_type": "code",
      "source": [
        "final_base_model.save('final_base_model_2.h5')"
      ],
      "metadata": {
        "id": "36y3QWYVCgZp"
      },
      "execution_count": 14,
      "outputs": []
    },
    {
      "cell_type": "code",
      "source": [
        "test_acc, model_size, executionTime, evulation_df = evaluate_model_without_saving_stats(final_base_model, 'final_base_model_2.h5', \"#1\", val_dataset)\n",
        "display(evulation_df)"
      ],
      "metadata": {
        "id": "95kjQrRyCJjo",
        "outputId": "2c5d65af-d07a-4dfb-f430-4ec3d51113eb",
        "colab": {
          "base_uri": "https://localhost:8080/",
          "height": 324
        }
      },
      "execution_count": 15,
      "outputs": [
        {
          "output_type": "stream",
          "name": "stdout",
          "text": [
            "9/9 [==============================] - 24s 34ms/step\n",
            "\n",
            "Model Accuracy: 96.52777910232544 %\n",
            "Model Size: 647985662.00 bytes\n",
            "Inference Time is:  2.634510358174642 s\n"
          ]
        },
        {
          "output_type": "display_data",
          "data": {
            "text/plain": [
              "               index                      0\n",
              "0    Evaluation type             Evualation\n",
              "1  Model Information                     #1\n",
              "2           Accuracy    96.52777910232544 %\n",
              "3               Loss    17.75314062833786 %\n",
              "4         Model Size        647985662 bytes\n",
              "5     Inference Time  2.634510358174642 sec"
            ],
            "text/html": [
              "\n",
              "  <div id=\"df-75ff32f1-dda4-4cc7-a15f-a4b62b667c6b\">\n",
              "    <div class=\"colab-df-container\">\n",
              "      <div>\n",
              "<style scoped>\n",
              "    .dataframe tbody tr th:only-of-type {\n",
              "        vertical-align: middle;\n",
              "    }\n",
              "\n",
              "    .dataframe tbody tr th {\n",
              "        vertical-align: top;\n",
              "    }\n",
              "\n",
              "    .dataframe thead th {\n",
              "        text-align: right;\n",
              "    }\n",
              "</style>\n",
              "<table border=\"1\" class=\"dataframe\">\n",
              "  <thead>\n",
              "    <tr style=\"text-align: right;\">\n",
              "      <th></th>\n",
              "      <th>index</th>\n",
              "      <th>0</th>\n",
              "    </tr>\n",
              "  </thead>\n",
              "  <tbody>\n",
              "    <tr>\n",
              "      <th>0</th>\n",
              "      <td>Evaluation type</td>\n",
              "      <td>Evualation</td>\n",
              "    </tr>\n",
              "    <tr>\n",
              "      <th>1</th>\n",
              "      <td>Model Information</td>\n",
              "      <td>#1</td>\n",
              "    </tr>\n",
              "    <tr>\n",
              "      <th>2</th>\n",
              "      <td>Accuracy</td>\n",
              "      <td>96.52777910232544 %</td>\n",
              "    </tr>\n",
              "    <tr>\n",
              "      <th>3</th>\n",
              "      <td>Loss</td>\n",
              "      <td>17.75314062833786 %</td>\n",
              "    </tr>\n",
              "    <tr>\n",
              "      <th>4</th>\n",
              "      <td>Model Size</td>\n",
              "      <td>647985662 bytes</td>\n",
              "    </tr>\n",
              "    <tr>\n",
              "      <th>5</th>\n",
              "      <td>Inference Time</td>\n",
              "      <td>2.634510358174642 sec</td>\n",
              "    </tr>\n",
              "  </tbody>\n",
              "</table>\n",
              "</div>\n",
              "      <button class=\"colab-df-convert\" onclick=\"convertToInteractive('df-75ff32f1-dda4-4cc7-a15f-a4b62b667c6b')\"\n",
              "              title=\"Convert this dataframe to an interactive table.\"\n",
              "              style=\"display:none;\">\n",
              "        \n",
              "  <svg xmlns=\"http://www.w3.org/2000/svg\" height=\"24px\"viewBox=\"0 0 24 24\"\n",
              "       width=\"24px\">\n",
              "    <path d=\"M0 0h24v24H0V0z\" fill=\"none\"/>\n",
              "    <path d=\"M18.56 5.44l.94 2.06.94-2.06 2.06-.94-2.06-.94-.94-2.06-.94 2.06-2.06.94zm-11 1L8.5 8.5l.94-2.06 2.06-.94-2.06-.94L8.5 2.5l-.94 2.06-2.06.94zm10 10l.94 2.06.94-2.06 2.06-.94-2.06-.94-.94-2.06-.94 2.06-2.06.94z\"/><path d=\"M17.41 7.96l-1.37-1.37c-.4-.4-.92-.59-1.43-.59-.52 0-1.04.2-1.43.59L10.3 9.45l-7.72 7.72c-.78.78-.78 2.05 0 2.83L4 21.41c.39.39.9.59 1.41.59.51 0 1.02-.2 1.41-.59l7.78-7.78 2.81-2.81c.8-.78.8-2.07 0-2.86zM5.41 20L4 18.59l7.72-7.72 1.47 1.35L5.41 20z\"/>\n",
              "  </svg>\n",
              "      </button>\n",
              "      \n",
              "  <style>\n",
              "    .colab-df-container {\n",
              "      display:flex;\n",
              "      flex-wrap:wrap;\n",
              "      gap: 12px;\n",
              "    }\n",
              "\n",
              "    .colab-df-convert {\n",
              "      background-color: #E8F0FE;\n",
              "      border: none;\n",
              "      border-radius: 50%;\n",
              "      cursor: pointer;\n",
              "      display: none;\n",
              "      fill: #1967D2;\n",
              "      height: 32px;\n",
              "      padding: 0 0 0 0;\n",
              "      width: 32px;\n",
              "    }\n",
              "\n",
              "    .colab-df-convert:hover {\n",
              "      background-color: #E2EBFA;\n",
              "      box-shadow: 0px 1px 2px rgba(60, 64, 67, 0.3), 0px 1px 3px 1px rgba(60, 64, 67, 0.15);\n",
              "      fill: #174EA6;\n",
              "    }\n",
              "\n",
              "    [theme=dark] .colab-df-convert {\n",
              "      background-color: #3B4455;\n",
              "      fill: #D2E3FC;\n",
              "    }\n",
              "\n",
              "    [theme=dark] .colab-df-convert:hover {\n",
              "      background-color: #434B5C;\n",
              "      box-shadow: 0px 1px 3px 1px rgba(0, 0, 0, 0.15);\n",
              "      filter: drop-shadow(0px 1px 2px rgba(0, 0, 0, 0.3));\n",
              "      fill: #FFFFFF;\n",
              "    }\n",
              "  </style>\n",
              "\n",
              "      <script>\n",
              "        const buttonEl =\n",
              "          document.querySelector('#df-75ff32f1-dda4-4cc7-a15f-a4b62b667c6b button.colab-df-convert');\n",
              "        buttonEl.style.display =\n",
              "          google.colab.kernel.accessAllowed ? 'block' : 'none';\n",
              "\n",
              "        async function convertToInteractive(key) {\n",
              "          const element = document.querySelector('#df-75ff32f1-dda4-4cc7-a15f-a4b62b667c6b');\n",
              "          const dataTable =\n",
              "            await google.colab.kernel.invokeFunction('convertToInteractive',\n",
              "                                                     [key], {});\n",
              "          if (!dataTable) return;\n",
              "\n",
              "          const docLinkHtml = 'Like what you see? Visit the ' +\n",
              "            '<a target=\"_blank\" href=https://colab.research.google.com/notebooks/data_table.ipynb>data table notebook</a>'\n",
              "            + ' to learn more about interactive tables.';\n",
              "          element.innerHTML = '';\n",
              "          dataTable['output_type'] = 'display_data';\n",
              "          await google.colab.output.renderOutput(dataTable, element);\n",
              "          const docLink = document.createElement('div');\n",
              "          docLink.innerHTML = docLinkHtml;\n",
              "          element.appendChild(docLink);\n",
              "        }\n",
              "      </script>\n",
              "    </div>\n",
              "  </div>\n",
              "  "
            ]
          },
          "metadata": {}
        }
      ]
    },
    {
      "cell_type": "code",
      "source": [
        "final_base_model.save('/content/drive/MyDrive/Solar_panel_dust_detection/final_base_model/final_base_model.h5')"
      ],
      "metadata": {
        "id": "_ZCMaJNTDIL8"
      },
      "execution_count": 16,
      "outputs": []
    },
    {
      "cell_type": "code",
      "source": [
        "plt.plot(history.history['acc'], label='accuracy')\n",
        "plt.plot(history.history['val_acc'], label = 'val_accuracy')\n",
        "plt.title('model accuracy plot')\n",
        "plt.xlabel('Epoch')\n",
        "plt.ylabel('Accuracy')\n",
        "plt.legend(loc='best')\n",
        "plt.show()\n",
        "\n",
        "plt.plot(history.history['loss'])\n",
        "plt.plot(history.history['val_loss'])\n",
        "plt.title('model loss plot')\n",
        "plt.ylabel('loss')\n",
        "plt.xlabel('epoch')\n",
        "plt.legend(['train', 'val'], loc='best')\n",
        "plt.show()"
      ],
      "metadata": {
        "id": "03bOxTj8Trwy",
        "outputId": "f2f51dec-f879-4d17-c180-1a603e215d0f",
        "colab": {
          "base_uri": "https://localhost:8080/",
          "height": 927
        }
      },
      "execution_count": 17,
      "outputs": [
        {
          "output_type": "display_data",
          "data": {
            "text/plain": [
              "<Figure size 640x480 with 1 Axes>"
            ],
            "image/png": "[encoded data removed]"
          },
          "metadata": {}
        },
        {
          "output_type": "display_data",
          "data": {
            "text/plain": [
              "<Figure size 640x480 with 1 Axes>"
            ],
            "image/png": "[encoded data removed]"
          },
          "metadata": {}
        }
      ]
    },
    {
      "cell_type": "code",
      "source": [],
      "metadata": {
        "id": "UqX2L6C2xYPq"
      },
      "execution_count": null,
      "outputs": []
    }
  ]
}