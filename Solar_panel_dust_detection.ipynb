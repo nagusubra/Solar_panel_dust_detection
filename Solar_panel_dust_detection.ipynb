{
  "nbformat": 4,
  "nbformat_minor": 0,
  "metadata": {
    "colab": {
      "provenance": [],
      "authorship_tag": "ABX9TyPnrWQFkEp/xhO/V3DwNaZS",
      "include_colab_link": true
    },
    "kernelspec": {
      "name": "python3",
      "display_name": "Python 3"
    },
    "language_info": {
      "name": "python"
    },
    "accelerator": "GPU",
    "gpuClass": "standard"
  },
  "cells": [
    {
      "cell_type": "markdown",
      "metadata": {
        "id": "view-in-github",
        "colab_type": "text"
      },
      "source": [
        "<a href=\"https://colab.research.google.com/github/nagusubra/Solar_panel_dust_detection/blob/main/Solar_panel_dust_detection.ipynb\" target=\"_parent\"><img src=\"https://colab.research.google.com/assets/colab-badge.svg\" alt=\"Open In Colab\"/></a>"
      ]
    },
    {
      "cell_type": "markdown",
      "source": [
        "#Install libraries and modules"
      ],
      "metadata": {
        "id": "SQAMdUOp9lRn"
      }
    },
    {
      "cell_type": "code",
      "execution_count": 11,
      "metadata": {
        "id": "PLxJiY6u9Zh0",
        "colab": {
          "base_uri": "https://localhost:8080/"
        },
        "outputId": "7670c31a-2c5e-44ba-9785-0523fa91139a"
      },
      "outputs": [
        {
          "output_type": "stream",
          "name": "stdout",
          "text": [
            "Looking in indexes: https://pypi.org/simple, https://us-python.pkg.dev/colab-wheels/public/simple/\n",
            "Requirement already satisfied: openpyxl in /usr/local/lib/python3.8/dist-packages (3.0.10)\n",
            "Requirement already satisfied: et-xmlfile in /usr/local/lib/python3.8/dist-packages (from openpyxl) (1.1.0)\n",
            "Looking in indexes: https://pypi.org/simple, https://us-python.pkg.dev/colab-wheels/public/simple/\n",
            "Requirement already satisfied: xlsxwriter in /usr/local/lib/python3.8/dist-packages (3.0.8)\n"
          ]
        }
      ],
      "source": [
        "!pip install -q tensorflow-model-optimization\n",
        "!pip install openpyxl\n",
        "!pip install xlsxwriter\n",
        "\n",
        "import xlsxwriter\n",
        "import openpyxl\n",
        "from openpyxl import Workbook\n",
        "from openpyxl.drawing.image import Image\n",
        "\n",
        "import tempfile\n",
        "from tensorflow import keras\n",
        "import tensorflow_model_optimization as tfmot\n",
        "\n",
        "from tqdm import tqdm_notebook as tqdm\n",
        "import os\n",
        "import time\n",
        "import pickle\n",
        "from matplotlib import pyplot as plt\n",
        "import numpy as np\n",
        "import pandas as pd\n",
        "import tensorflow as tf\n",
        "from tensorflow.keras import datasets, layers, models\n",
        "import matplotlib.pyplot as plt"
      ]
    },
    {
      "cell_type": "code",
      "source": [
        "import tensorflow as tf\n",
        "from tensorflow.keras.models import Model, load_model\n",
        "from tensorflow.keras.layers import Input, Conv2D, MaxPooling2D, Dense, Flatten, BatchNormalization, Dropout\n",
        "from tensorflow.keras.preprocessing import image_dataset_from_directory\n",
        "from tensorflow.keras.optimizers import Adam, SGD\n",
        "from tensorflow.keras.utils import plot_model\n",
        "from tensorflow.keras.losses import binary_crossentropy\n",
        "from sklearn.model_selection import cross_val_score\n",
        "\n",
        "import seaborn as sn\n",
        "import pandas as pd\n",
        "import matplotlib.pyplot as plt\n",
        "import tensorflow as tf\n",
        "import datetime\n",
        "\n",
        "import os\n",
        "import zipfile"
      ],
      "metadata": {
        "id": "qeqtoyTCppFF"
      },
      "execution_count": 12,
      "outputs": []
    },
    {
      "cell_type": "code",
      "source": [
        "# mounting google drive (if you are using Colab)\n",
        "from google.colab import drive\n",
        "drive.mount('/content/drive')"
      ],
      "metadata": {
        "colab": {
          "base_uri": "https://localhost:8080/"
        },
        "id": "-WVnbwh-9x2l",
        "outputId": "bde3ae22-854a-4262-8b66-64fce4c78195"
      },
      "execution_count": 13,
      "outputs": [
        {
          "output_type": "stream",
          "name": "stdout",
          "text": [
            "Drive already mounted at /content/drive; to attempt to forcibly remount, call drive.mount(\"/content/drive\", force_remount=True).\n"
          ]
        }
      ]
    },
    {
      "cell_type": "code",
      "source": [
        "# from os import listdir\n",
        "# from os.path import isfile, join\n",
        "\n",
        "# mypath = '/content/drive/MyDrive/Solar_panel_dust_detection/dataset_2/dirty'\n",
        "\n",
        "# onlyfiles = [ f  for f in listdir(mypath) if isfile(join(mypath, f))]\n",
        "\n",
        "# onlyfiles"
      ],
      "metadata": {
        "id": "z1LwhLkSBQ3u"
      },
      "execution_count": 4,
      "outputs": []
    },
    {
      "cell_type": "code",
      "source": [
        "# from os import listdir\n",
        "# from os.path import isfile, join\n",
        "\n",
        "# mypath = '/content/drive/MyDrive/Solar_panel_dust_detection/dataset_2/dirty'\n",
        "\n",
        "# onlyfiles = [ os.rename(join(mypath, f), join(mypath, f.split(\".\")[0] + \"_dirty\" + \".jpg\"))  for f in listdir(mypath) if isfile(join(mypath, f))]\n",
        "\n",
        "# onlyfiles"
      ],
      "metadata": {
        "id": "bwArxFhKADwi"
      },
      "execution_count": 5,
      "outputs": []
    },
    {
      "cell_type": "markdown",
      "source": [
        "# Evaluation function"
      ],
      "metadata": {
        "id": "YjpFrB77S6QU"
      }
    },
    {
      "cell_type": "code",
      "source": [
        "# Evaluate Model Size\n",
        "def get_gzipped_model_size(file):\n",
        "  # Returns size of gzipped model, in bytes.\n",
        "\n",
        "  _, zipped_file = tempfile.mkstemp('.zip')\n",
        "  with zipfile.ZipFile(zipped_file, 'w', compression=zipfile.ZIP_DEFLATED) as f:\n",
        "    f.write(file)\n",
        "  return os.path.getsize(zipped_file)\n",
        "\n",
        "def evaluate_model(model_path, model_info, val_dataset):\n",
        "\n",
        "  # Evaluate test accuracy and test loss\n",
        "  model = tf.keras.models.load_model(model_path)\n",
        "  test_loss, test_acc = model.evaluate(val_dataset, verbose=0)\n",
        "\n",
        "  # Evaluate Model Size\n",
        "  model_size = get_gzipped_model_size(model_path)\n",
        "\n",
        "  # Evaluate Inference Time\n",
        "  startTime = time.time()\n",
        "  prediction = model.predict(val_dataset)\n",
        "  executionTime = (time.time() - startTime)/len(val_dataset)\n",
        "\n",
        "  # Print\n",
        "  print('\\nModel Accuracy:', test_acc*100, '%')\n",
        "  print(\"Model Size: %.2f bytes\" % (model_size))\n",
        "  print(\"Inference Time is: \", executionTime, \"s\")\n",
        "\n",
        "  # Build Evalution dataframe\n",
        "  evulation_dict = {\n",
        "                      \"Evaluation type\": \"Evualation\",\n",
        "                      \"Model Information\": model_info,\n",
        "                      \"Accuracy\": str(test_acc*100) + \" %\",\n",
        "                      \"Loss\": str(test_loss*100) + \" %\",\n",
        "                      \"Model Size\": str(model_size) + \" bytes\",\n",
        "                      \"Inference Time\": str(executionTime) + \" sec\"\n",
        "                    }\n",
        "  \n",
        "  evulation_df = pd.DataFrame.from_dict(evulation_dict, orient='index').reset_index()\n",
        "\n",
        "\n",
        "  return test_acc, model_size, executionTime, evulation_df"
      ],
      "metadata": {
        "id": "oB55zL05S_Oe"
      },
      "execution_count": 76,
      "outputs": []
    },
    {
      "cell_type": "markdown",
      "source": [
        "# Build base model"
      ],
      "metadata": {
        "id": "vfkTB4_DiYTF"
      }
    },
    {
      "cell_type": "code",
      "source": [
        "def SolNet(in_size):\n",
        "  i = Input(in_size)\n",
        "  r = Conv2D(filters=96, kernel_size=(11,11), strides=(4,4), activation='relu', input_shape=(227,227,3))(i)\n",
        "  r = BatchNormalization()(r)\n",
        "  r = MaxPooling2D(pool_size=(3,3), strides=(2,2))(r)\n",
        "  r = Conv2D(filters=256, kernel_size=(5,5), strides=(1,1), activation='relu', padding=\"same\")(r)\n",
        "  r = BatchNormalization()(r)\n",
        "  r = MaxPooling2D(pool_size=(3,3), strides=(2,2))(r)\n",
        "  r = Conv2D(filters=384, kernel_size=(3,3), strides=(1,1), activation='relu', padding=\"same\")(r)\n",
        "  r = BatchNormalization()(r)\n",
        "  r = Conv2D(filters=384, kernel_size=(3,3), strides=(1,1), activation='relu', padding=\"same\")(r)\n",
        "  r = BatchNormalization()(r)\n",
        "  r = Conv2D(filters=256, kernel_size=(3,3), strides=(1,1), activation='relu', padding=\"same\")(r)\n",
        "  r = BatchNormalization()(r)\n",
        "  r = MaxPooling2D(pool_size=(3,3), strides=(2,2))(r)\n",
        "  r = Flatten()(r)\n",
        "  r = Dense(4096, activation='relu')(r)\n",
        "  r = Dropout(0.5)(r)\n",
        "  r = Dense(4096, activation='relu')(r)\n",
        "  r = Dropout(0.5)(r)\n",
        "  o = Dense(1, activation='sigmoid')(r)\n",
        "  SolNet = Model(i, o)\n",
        "  SolNet.save('models/solnet.hdf5')\n",
        "  SolNet.compile(optimizer=Adam(.0001, .8, .9), loss=binary_crossentropy, metrics=['acc'])\n",
        "  SolNet.summary()\n",
        "  return SolNet"
      ],
      "metadata": {
        "id": "4gVkkz__icfY"
      },
      "execution_count": null,
      "outputs": []
    },
    {
      "cell_type": "markdown",
      "source": [
        "#Base Model"
      ],
      "metadata": {
        "id": "4ZeT32zWUEnd"
      }
    },
    {
      "cell_type": "code",
      "source": [
        "def SolNet(in_size):\n",
        "  i = Input(in_size)\n",
        "  r = Conv2D(filters=96, kernel_size=(11,11), strides=(4,4), activation='relu', input_shape=(227,227,3))(i)\n",
        "  r = BatchNormalization()(r)\n",
        "  r = MaxPooling2D(pool_size=(3,3), strides=(2,2))(r)\n",
        "  r = Conv2D(filters=256, kernel_size=(5,5), strides=(1,1), activation='relu', padding=\"same\")(r)\n",
        "  r = BatchNormalization()(r)\n",
        "  r = MaxPooling2D(pool_size=(3,3), strides=(2,2))(r)\n",
        "  r = Conv2D(filters=384, kernel_size=(3,3), strides=(1,1), activation='relu', padding=\"same\")(r)\n",
        "  r = BatchNormalization()(r)\n",
        "  r = Conv2D(filters=384, kernel_size=(3,3), strides=(1,1), activation='relu', padding=\"same\")(r)\n",
        "  r = BatchNormalization()(r)\n",
        "  r = Conv2D(filters=256, kernel_size=(3,3), strides=(1,1), activation='relu', padding=\"same\")(r)\n",
        "  r = BatchNormalization()(r)\n",
        "  r = MaxPooling2D(pool_size=(3,3), strides=(2,2))(r)\n",
        "  r = Flatten()(r)\n",
        "  r = Dense(4096, activation='relu')(r)\n",
        "  r = Dropout(0.5)(r)\n",
        "  r = Dense(4096, activation='relu')(r)\n",
        "  r = Dropout(0.5)(r)\n",
        "  o = Dense(1, activation='sigmoid')(r)\n",
        "  SolNet = Model(i, o)\n",
        "  SolNet.save('models/solnet.hdf5')\n",
        "  SolNet.save('/content/drive/MyDrive/Solar_panel_dust_detection/models/solnet'+str(datetime.datetime.today().date())+'.hdf5')\n",
        "  SolNet.save('/content/drive/MyDrive/Solar_panel_dust_detection/models/solnet'+str(datetime.datetime.today().date())+'.h5')\n",
        "  SolNet.compile(optimizer=Adam(.0001, .8, .9), loss=binary_crossentropy, metrics=['acc'])\n",
        "  SolNet.summary()\n",
        "  return SolNet"
      ],
      "metadata": {
        "id": "8nc6lZnKUixz"
      },
      "execution_count": null,
      "outputs": []
    },
    {
      "cell_type": "code",
      "source": [
        "def evaluate():\n",
        "  path = \"/content/models/solnet.hdf5\"\n",
        "  solnet = load_model(path, compile=False)\n",
        "  # history = solnet.history()\n",
        "  plt.plot(history.history['loss'])\n",
        "  plt.plot(history.history['acc'])\n",
        "  plt.title('acc loss vs epoch')\n",
        "  plt.xlabel('epoch')\n",
        "  plt.legend(['loss', 'acc'], loc='upper left')\n",
        "  plt.show()"
      ],
      "metadata": {
        "id": "dnGGfkkgUo63"
      },
      "execution_count": null,
      "outputs": []
    },
    {
      "cell_type": "code",
      "source": [
        "# Evaluate Model Size\n",
        "def get_gzipped_model_size(file):\n",
        "  # Returns size of gzipped model, in bytes.\n",
        "  import os\n",
        "  import zipfile\n",
        "\n",
        "  _, zipped_file = tempfile.mkstemp('.zip')\n",
        "  with zipfile.ZipFile(zipped_file, 'w', compression=zipfile.ZIP_DEFLATED) as f:\n",
        "    f.write(file)\n",
        "\n",
        "  return os.path.getsize(zipped_file)"
      ],
      "metadata": {
        "id": "QA55ZOpsaMiR"
      },
      "execution_count": null,
      "outputs": []
    },
    {
      "cell_type": "code",
      "source": [
        "batch_size = 32\n",
        "#location = 'dataset/'\n",
        "location = \"/content/drive/MyDrive/Solar_panel_dust_detection/dataset_1\"\n",
        "label_mode = 'binary'\n",
        "seed = 10 #changed for each fold made manually\n",
        "epochs=30\n",
        "#epochs=5\n",
        "\n",
        "\n",
        "class_names = ['clean', 'dirty']\n",
        "in_size = [227, 227, 3]\n",
        "\n",
        "tr_dataset = image_dataset_from_directory(directory=location, label_mode= label_mode, class_names=class_names,\n",
        "                                          seed=seed, labels='inferred', image_size=in_size[:-1], \n",
        "                                          subset = 'training', batch_size=batch_size, validation_split=.2)\n",
        "\n",
        "val_dataset = image_dataset_from_directory(directory=location, label_mode= label_mode, class_names=class_names,\n",
        "                                          seed=seed, labels='inferred', image_size=in_size[:-1],\n",
        "                                          subset = 'validation', batch_size=batch_size, validation_split=.2)\n",
        "\n",
        "in_size = [227, 227, 3]\n",
        "SolNet = SolNet(in_size)\n",
        "\n",
        "\n",
        "\n",
        "startTime = time.time()\n",
        "history = SolNet.fit(tr_dataset, validation_data=val_dataset, epochs=epochs, batch_size=batch_size)\n",
        "executionTime = (time.time() - startTime)"
      ],
      "metadata": {
        "colab": {
          "base_uri": "https://localhost:8080/"
        },
        "id": "fNHot2r1TJdo",
        "outputId": "f92614a9-136b-4e8e-9553-99119cd8b259"
      },
      "execution_count": null,
      "outputs": [
        {
          "output_type": "stream",
          "name": "stdout",
          "text": [
            "Found 1440 files belonging to 2 classes.\n",
            "Using 1152 files for training.\n",
            "Found 1440 files belonging to 2 classes.\n",
            "Using 288 files for validation.\n"
          ]
        },
        {
          "output_type": "stream",
          "name": "stderr",
          "text": [
            "WARNING:tensorflow:Compiled the loaded model, but the compiled metrics have yet to be built. `model.compile_metrics` will be empty until you train or evaluate the model.\n",
            "WARNING:tensorflow:Compiled the loaded model, but the compiled metrics have yet to be built. `model.compile_metrics` will be empty until you train or evaluate the model.\n",
            "WARNING:tensorflow:Compiled the loaded model, but the compiled metrics have yet to be built. `model.compile_metrics` will be empty until you train or evaluate the model.\n"
          ]
        },
        {
          "output_type": "stream",
          "name": "stdout",
          "text": [
            "Model: \"model_2\"\n",
            "_________________________________________________________________\n",
            " Layer (type)                Output Shape              Param #   \n",
            "=================================================================\n",
            " input_3 (InputLayer)        [(None, 227, 227, 3)]     0         \n",
            "                                                                 \n",
            " conv2d_10 (Conv2D)          (None, 55, 55, 96)        34944     \n",
            "                                                                 \n",
            " batch_normalization_10 (Bat  (None, 55, 55, 96)       384       \n",
            " chNormalization)                                                \n",
            "                                                                 \n",
            " max_pooling2d_6 (MaxPooling  (None, 27, 27, 96)       0         \n",
            " 2D)                                                             \n",
            "                                                                 \n",
            " conv2d_11 (Conv2D)          (None, 27, 27, 256)       614656    \n",
            "                                                                 \n",
            " batch_normalization_11 (Bat  (None, 27, 27, 256)      1024      \n",
            " chNormalization)                                                \n",
            "                                                                 \n",
            " max_pooling2d_7 (MaxPooling  (None, 13, 13, 256)      0         \n",
            " 2D)                                                             \n",
            "                                                                 \n",
            " conv2d_12 (Conv2D)          (None, 13, 13, 384)       885120    \n",
            "                                                                 \n",
            " batch_normalization_12 (Bat  (None, 13, 13, 384)      1536      \n",
            " chNormalization)                                                \n",
            "                                                                 \n",
            " conv2d_13 (Conv2D)          (None, 13, 13, 384)       1327488   \n",
            "                                                                 \n",
            " batch_normalization_13 (Bat  (None, 13, 13, 384)      1536      \n",
            " chNormalization)                                                \n",
            "                                                                 \n",
            " conv2d_14 (Conv2D)          (None, 13, 13, 256)       884992    \n",
            "                                                                 \n",
            " batch_normalization_14 (Bat  (None, 13, 13, 256)      1024      \n",
            " chNormalization)                                                \n",
            "                                                                 \n",
            " max_pooling2d_8 (MaxPooling  (None, 6, 6, 256)        0         \n",
            " 2D)                                                             \n",
            "                                                                 \n",
            " flatten_2 (Flatten)         (None, 9216)              0         \n",
            "                                                                 \n",
            " dense_6 (Dense)             (None, 4096)              37752832  \n",
            "                                                                 \n",
            " dropout_4 (Dropout)         (None, 4096)              0         \n",
            "                                                                 \n",
            " dense_7 (Dense)             (None, 4096)              16781312  \n",
            "                                                                 \n",
            " dropout_5 (Dropout)         (None, 4096)              0         \n",
            "                                                                 \n",
            " dense_8 (Dense)             (None, 1)                 4097      \n",
            "                                                                 \n",
            "=================================================================\n",
            "Total params: 58,290,945\n",
            "Trainable params: 58,288,193\n",
            "Non-trainable params: 2,752\n",
            "_________________________________________________________________\n",
            "Epoch 1/30\n",
            "36/36 [==============================] - 136s 3s/step - loss: 1.3287 - acc: 0.7509 - val_loss: 8.5201 - val_acc: 0.5278\n",
            "Epoch 2/30\n",
            "36/36 [==============================] - 123s 3s/step - loss: 0.5634 - acc: 0.8681 - val_loss: 7.3613 - val_acc: 0.5278\n",
            "Epoch 3/30\n",
            "36/36 [==============================] - 123s 3s/step - loss: 0.5111 - acc: 0.8872 - val_loss: 7.3834 - val_acc: 0.5347\n",
            "Epoch 4/30\n",
            "36/36 [==============================] - 124s 3s/step - loss: 0.4732 - acc: 0.8932 - val_loss: 2.7895 - val_acc: 0.5764\n",
            "Epoch 5/30\n",
            "36/36 [==============================] - 125s 3s/step - loss: 0.4033 - acc: 0.9167 - val_loss: 10.7058 - val_acc: 0.5694\n",
            "Epoch 6/30\n",
            "36/36 [==============================] - 140s 3s/step - loss: 0.3882 - acc: 0.9297 - val_loss: 4.1673 - val_acc: 0.5868\n",
            "Epoch 7/30\n",
            "36/36 [==============================] - 123s 3s/step - loss: 0.3192 - acc: 0.9349 - val_loss: 3.8223 - val_acc: 0.5972\n",
            "Epoch 8/30\n",
            "36/36 [==============================] - 125s 3s/step - loss: 0.1705 - acc: 0.9618 - val_loss: 6.1910 - val_acc: 0.5868\n",
            "Epoch 9/30\n",
            "36/36 [==============================] - 124s 3s/step - loss: 0.1363 - acc: 0.9714 - val_loss: 1.5333 - val_acc: 0.8576\n",
            "Epoch 10/30\n",
            "36/36 [==============================] - 125s 3s/step - loss: 0.1833 - acc: 0.9670 - val_loss: 0.5103 - val_acc: 0.9167\n",
            "Epoch 11/30\n",
            "36/36 [==============================] - 124s 3s/step - loss: 0.1321 - acc: 0.9705 - val_loss: 0.8718 - val_acc: 0.8819\n",
            "Epoch 12/30\n",
            "36/36 [==============================] - 125s 3s/step - loss: 0.2389 - acc: 0.9609 - val_loss: 0.4121 - val_acc: 0.9340\n",
            "Epoch 13/30\n",
            "36/36 [==============================] - 140s 3s/step - loss: 0.1387 - acc: 0.9826 - val_loss: 0.6678 - val_acc: 0.9583\n",
            "Epoch 14/30\n",
            "36/36 [==============================] - 139s 3s/step - loss: 0.1340 - acc: 0.9705 - val_loss: 7.4928 - val_acc: 0.6319\n",
            "Epoch 15/30\n",
            "36/36 [==============================] - 122s 3s/step - loss: 0.2673 - acc: 0.9722 - val_loss: 0.3442 - val_acc: 0.9549\n",
            "Epoch 16/30\n",
            "36/36 [==============================] - 124s 3s/step - loss: 0.1086 - acc: 0.9809 - val_loss: 0.3892 - val_acc: 0.9583\n",
            "Epoch 17/30\n",
            "36/36 [==============================] - 139s 3s/step - loss: 0.1046 - acc: 0.9809 - val_loss: 0.9088 - val_acc: 0.9132\n",
            "Epoch 18/30\n",
            "36/36 [==============================] - 122s 3s/step - loss: 0.2180 - acc: 0.9661 - val_loss: 1.0480 - val_acc: 0.8854\n",
            "Epoch 19/30\n",
            "36/36 [==============================] - 124s 3s/step - loss: 0.1899 - acc: 0.9800 - val_loss: 1.2210 - val_acc: 0.8229\n",
            "Epoch 20/30\n",
            "36/36 [==============================] - 122s 3s/step - loss: 0.1377 - acc: 0.9792 - val_loss: 1.9532 - val_acc: 0.7604\n",
            "Epoch 21/30\n",
            "36/36 [==============================] - 139s 3s/step - loss: 0.0598 - acc: 0.9852 - val_loss: 0.9626 - val_acc: 0.9271\n",
            "Epoch 22/30\n",
            "36/36 [==============================] - 124s 3s/step - loss: 0.1309 - acc: 0.9731 - val_loss: 3.9112 - val_acc: 0.6389\n",
            "Epoch 23/30\n",
            "36/36 [==============================] - 122s 3s/step - loss: 0.0810 - acc: 0.9878 - val_loss: 1.4010 - val_acc: 0.8854\n",
            "Epoch 24/30\n",
            "36/36 [==============================] - 120s 3s/step - loss: 0.1481 - acc: 0.9792 - val_loss: 3.0901 - val_acc: 0.7326\n",
            "Epoch 25/30\n",
            "36/36 [==============================] - 124s 3s/step - loss: 0.1644 - acc: 0.9835 - val_loss: 0.5830 - val_acc: 0.9444\n",
            "Epoch 26/30\n",
            "36/36 [==============================] - 121s 3s/step - loss: 0.0762 - acc: 0.9861 - val_loss: 4.4218 - val_acc: 0.6389\n",
            "Epoch 27/30\n",
            "36/36 [==============================] - 123s 3s/step - loss: 0.0837 - acc: 0.9792 - val_loss: 2.0026 - val_acc: 0.7917\n",
            "Epoch 28/30\n",
            "36/36 [==============================] - 124s 3s/step - loss: 0.0452 - acc: 0.9913 - val_loss: 1.2121 - val_acc: 0.8993\n",
            "Epoch 29/30\n",
            "36/36 [==============================] - 123s 3s/step - loss: 0.0694 - acc: 0.9818 - val_loss: 8.5187 - val_acc: 0.6319\n",
            "Epoch 30/30\n",
            "36/36 [==============================] - 125s 3s/step - loss: 0.0666 - acc: 0.9870 - val_loss: 1.8293 - val_acc: 0.8264\n"
          ]
        }
      ]
    },
    {
      "cell_type": "code",
      "source": [
        "print(history.history)"
      ],
      "metadata": {
        "colab": {
          "base_uri": "https://localhost:8080/"
        },
        "id": "d4C6_Bb-Yi7w",
        "outputId": "30c81687-c373-49e2-8ebb-6e9411113b92"
      },
      "execution_count": null,
      "outputs": [
        {
          "output_type": "stream",
          "name": "stdout",
          "text": [
            "{'loss': [1.3287363052368164, 0.5634193420410156, 0.5111455321311951, 0.4731604754924774, 0.4032560884952545, 0.3881598711013794, 0.31916534900665283, 0.17050495743751526, 0.13634862005710602, 0.18331176042556763, 0.13211464881896973, 0.2388705164194107, 0.13867801427841187, 0.13399434089660645, 0.26728636026382446, 0.10856659710407257, 0.1045788899064064, 0.21800419688224792, 0.18994426727294922, 0.13771790266036987, 0.05984649434685707, 0.13090425729751587, 0.08103565126657486, 0.14808224141597748, 0.16438354551792145, 0.07622100412845612, 0.0836929902434349, 0.04517742618918419, 0.0693543553352356, 0.06658089905977249], 'acc': [0.7508680820465088, 0.8680555820465088, 0.8871527910232544, 0.8932291865348816, 0.9166666865348816, 0.9296875, 0.9348958134651184, 0.9618055820465088, 0.9713541865348816, 0.9670138955116272, 0.9704861044883728, 0.9609375, 0.9826388955116272, 0.9704861044883728, 0.9722222089767456, 0.9809027910232544, 0.9809027910232544, 0.9661458134651184, 0.9800347089767456, 0.9791666865348816, 0.9852430820465088, 0.9730902910232544, 0.9878472089767456, 0.9791666865348816, 0.9835069179534912, 0.9861111044883728, 0.9791666865348816, 0.9913194179534912, 0.9817708134651184, 0.9869791865348816], 'val_loss': [8.52010440826416, 7.361338138580322, 7.383418560028076, 2.789459466934204, 10.705753326416016, 4.16728401184082, 3.822296619415283, 6.191023826599121, 1.5332815647125244, 0.5103074312210083, 0.8718014359474182, 0.41206830739974976, 0.6678481698036194, 7.492780685424805, 0.3441919982433319, 0.38924723863601685, 0.9088354110717773, 1.048040509223938, 1.220988154411316, 1.9532119035720825, 0.9626182913780212, 3.9111812114715576, 1.4010354280471802, 3.0900540351867676, 0.5830243825912476, 4.421757221221924, 2.002596616744995, 1.2120826244354248, 8.51870346069336, 1.8292909860610962], 'val_acc': [0.5277777910232544, 0.5277777910232544, 0.5347222089767456, 0.5763888955116272, 0.5694444179534912, 0.5868055820465088, 0.5972222089767456, 0.5868055820465088, 0.8576388955116272, 0.9166666865348816, 0.8819444179534912, 0.9340277910232544, 0.9583333134651184, 0.6319444179534912, 0.9548611044883728, 0.9583333134651184, 0.9131944179534912, 0.8854166865348816, 0.8229166865348816, 0.7604166865348816, 0.9270833134651184, 0.6388888955116272, 0.8854166865348816, 0.7326388955116272, 0.9444444179534912, 0.6388888955116272, 0.7916666865348816, 0.8993055820465088, 0.6319444179534912, 0.8263888955116272]}\n"
          ]
        }
      ]
    },
    {
      "cell_type": "code",
      "source": [
        "evaluate()"
      ],
      "metadata": {
        "colab": {
          "base_uri": "https://localhost:8080/",
          "height": 295
        },
        "id": "IJOz2CyMbpef",
        "outputId": "02c34663-95f2-4396-cfb0-3b2c32d5fa36"
      },
      "execution_count": null,
      "outputs": [
        {
          "output_type": "display_data",
          "data": {
            "text/plain": [
              "<Figure size 432x288 with 1 Axes>"
            ],
            "image/png": "[encoded data removed]"
          },
          "metadata": {
            "needs_background": "light"
          }
        }
      ]
    },
    {
      "cell_type": "code",
      "source": [
        "plt.plot(history.history['acc'], label='accuracy')\n",
        "plt.plot(history.history['val_acc'], label = 'val_accuracy')\n",
        "plt.title('model accuracy plot')\n",
        "plt.xlabel('Epoch')\n",
        "plt.ylabel('Accuracy')\n",
        "plt.legend(loc='best')\n",
        "plt.show()\n",
        "\n",
        "plt.plot(history.history['loss'])\n",
        "plt.plot(history.history['val_loss'])\n",
        "plt.title('model loss plot')\n",
        "plt.ylabel('loss')\n",
        "plt.xlabel('epoch')\n",
        "plt.legend(['train', 'val'], loc='best')\n",
        "plt.show()"
      ],
      "metadata": {
        "colab": {
          "base_uri": "https://localhost:8080/",
          "height": 573
        },
        "id": "ei6SYOpNYk0n",
        "outputId": "2a5d456b-7924-4a71-a491-e4ed9033544a"
      },
      "execution_count": null,
      "outputs": [
        {
          "output_type": "display_data",
          "data": {
            "text/plain": [
              "<Figure size 432x288 with 1 Axes>"
            ],
            "image/png": "[encoded data removed]"
          },
          "metadata": {
            "needs_background": "light"
          }
        },
        {
          "output_type": "display_data",
          "data": {
            "text/plain": [
              "<Figure size 432x288 with 1 Axes>"
            ],
            "image/png": "[encoded data removed]"
          },
          "metadata": {
            "needs_background": "light"
          }
        }
      ]
    },
    {
      "cell_type": "code",
      "source": [
        "print(\"Inference Time is\", executionTime/60, \"mins\")"
      ],
      "metadata": {
        "colab": {
          "base_uri": "https://localhost:8080/"
        },
        "id": "4lFSom8Hg-ut",
        "outputId": "bbaa891d-6624-4f28-e738-70ec5b781aa2"
      },
      "execution_count": null,
      "outputs": [
        {
          "output_type": "stream",
          "name": "stdout",
          "text": [
            "Inference Time is 65.25891411304474 mins\n"
          ]
        }
      ]
    },
    {
      "cell_type": "markdown",
      "source": [
        "# Updated Solnet model"
      ],
      "metadata": {
        "id": "khzhvYrY2KLt"
      }
    },
    {
      "cell_type": "code",
      "source": [
        "def SolNet_updated(in_size, learning_rate, model_path):\n",
        "  i = Input(in_size)\n",
        "  r = Conv2D(filters=96, kernel_size=(11,11), strides=(4,4), activation='relu', input_shape=(227,227,3))(i)\n",
        "  r = BatchNormalization()(r)\n",
        "  r = MaxPooling2D(pool_size=(3,3), strides=(2,2))(r)\n",
        "  r = Conv2D(filters=256, kernel_size=(5,5), strides=(1,1), activation='relu', padding=\"same\")(r)\n",
        "  r = BatchNormalization()(r)\n",
        "  r = MaxPooling2D(pool_size=(3,3), strides=(2,2))(r)\n",
        "  r = Conv2D(filters=384, kernel_size=(3,3), strides=(1,1), activation='relu', padding=\"same\")(r)\n",
        "  r = BatchNormalization()(r)\n",
        "  r = Conv2D(filters=384, kernel_size=(3,3), strides=(1,1), activation='relu', padding=\"same\")(r)\n",
        "  r = BatchNormalization()(r)\n",
        "  r = Conv2D(filters=256, kernel_size=(3,3), strides=(1,1), activation='relu', padding=\"same\")(r)\n",
        "  r = BatchNormalization()(r)\n",
        "  r = MaxPooling2D(pool_size=(3,3), strides=(2,2))(r)\n",
        "  r = Flatten()(r)\n",
        "  r = Dense(4096, activation='relu')(r)\n",
        "  r = Dropout(0.5)(r)\n",
        "  r = Dense(4096, activation='relu')(r)\n",
        "  r = Dropout(0.5)(r)\n",
        "  o = Dense(1, activation='sigmoid')(r)\n",
        "\n",
        "\n",
        "  SolNet = Model(inputs = i, outputs = o)\n",
        "\n",
        "\n",
        "\n",
        "  # SolNet.save('models/solnet.hdf5')\n",
        "  # SolNet.save('/content/drive/MyDrive/Solar_panel_dust_detection/models/solnet_updated_'+str(datetime.datetime.today().date())+'.hdf5')\n",
        "  SolNet.compile(optimizer=Adam(learning_rate), loss=binary_crossentropy, metrics=['acc'])\n",
        "  SolNet.save(model_path)\n",
        "  SolNet.summary()\n",
        "  return SolNet"
      ],
      "metadata": {
        "id": "ZeVlShut2Rsc"
      },
      "execution_count": 20,
      "outputs": []
    },
    {
      "cell_type": "code",
      "source": [
        "model_path = '/content/drive/MyDrive/Solar_panel_dust_detection/models/solnet_updated_'+ str(datetime.datetime.today().date()) + '.h5'\n",
        "model_plot_path = '/content/drive/MyDrive/Solar_panel_dust_detection/plots/'+ str(datetime.datetime.today().date())\n",
        "model_excel_file_path = '/content/drive/MyDrive/Solar_panel_dust_detection/evaluation/'+ str(datetime.datetime.today().date())\n",
        "location = \"/content/drive/MyDrive/Solar_panel_dust_detection/dataset_1\"\n",
        "\n",
        "batch_size = 32\n",
        "label_mode = 'binary'\n",
        "seed = 10 #changed for each fold made manually\n",
        "epochs= 2\n",
        "in_size = [227, 227, 3]\n",
        "\n",
        "class_names = ['clean', 'dirty']\n",
        "test_labels = class_names\n",
        "\n",
        "tr_dataset = image_dataset_from_directory(directory=location, label_mode= label_mode, class_names=class_names,\n",
        "                                          seed=seed, labels='inferred', image_size=in_size[:-1], \n",
        "                                          subset = 'training', batch_size=batch_size, validation_split=.2)\n",
        "\n",
        "val_dataset = image_dataset_from_directory(directory=location, label_mode= label_mode, class_names=class_names,\n",
        "                                          seed=seed, labels='inferred', image_size=in_size[:-1],\n",
        "                                          subset = 'validation', batch_size=batch_size, validation_split=.2)\n",
        "\n",
        "# in_size = [227, 227, 3]\n",
        "SolNet_model = SolNet_updated(in_size, 0.00001, model_path)\n",
        "\n",
        "\n",
        "\n",
        "startTime = time.time()\n",
        "history = SolNet_model.fit(tr_dataset, validation_data=val_dataset, epochs=epochs, batch_size=batch_size)\n",
        "executionTime = (time.time() - startTime)"
      ],
      "metadata": {
        "colab": {
          "base_uri": "https://localhost:8080/"
        },
        "id": "WChxOJSP8OYD",
        "outputId": "ee000521-b318-4356-a199-39733afdfcf0"
      },
      "execution_count": 42,
      "outputs": [
        {
          "output_type": "stream",
          "name": "stdout",
          "text": [
            "Found 1440 files belonging to 2 classes.\n",
            "Using 1152 files for training.\n",
            "Found 1440 files belonging to 2 classes.\n",
            "Using 288 files for validation.\n",
            "Model: \"model_4\"\n",
            "_________________________________________________________________\n",
            " Layer (type)                Output Shape              Param #   \n",
            "=================================================================\n",
            " input_5 (InputLayer)        [(None, 227, 227, 3)]     0         \n",
            "                                                                 \n",
            " conv2d_20 (Conv2D)          (None, 55, 55, 96)        34944     \n",
            "                                                                 \n",
            " batch_normalization_20 (Bat  (None, 55, 55, 96)       384       \n",
            " chNormalization)                                                \n",
            "                                                                 \n",
            " max_pooling2d_12 (MaxPoolin  (None, 27, 27, 96)       0         \n",
            " g2D)                                                            \n",
            "                                                                 \n",
            " conv2d_21 (Conv2D)          (None, 27, 27, 256)       614656    \n",
            "                                                                 \n",
            " batch_normalization_21 (Bat  (None, 27, 27, 256)      1024      \n",
            " chNormalization)                                                \n",
            "                                                                 \n",
            " max_pooling2d_13 (MaxPoolin  (None, 13, 13, 256)      0         \n",
            " g2D)                                                            \n",
            "                                                                 \n",
            " conv2d_22 (Conv2D)          (None, 13, 13, 384)       885120    \n",
            "                                                                 \n",
            " batch_normalization_22 (Bat  (None, 13, 13, 384)      1536      \n",
            " chNormalization)                                                \n",
            "                                                                 \n",
            " conv2d_23 (Conv2D)          (None, 13, 13, 384)       1327488   \n",
            "                                                                 \n",
            " batch_normalization_23 (Bat  (None, 13, 13, 384)      1536      \n",
            " chNormalization)                                                \n",
            "                                                                 \n",
            " conv2d_24 (Conv2D)          (None, 13, 13, 256)       884992    \n",
            "                                                                 \n",
            " batch_normalization_24 (Bat  (None, 13, 13, 256)      1024      \n",
            " chNormalization)                                                \n",
            "                                                                 \n",
            " max_pooling2d_14 (MaxPoolin  (None, 6, 6, 256)        0         \n",
            " g2D)                                                            \n",
            "                                                                 \n",
            " flatten_4 (Flatten)         (None, 9216)              0         \n",
            "                                                                 \n",
            " dense_12 (Dense)            (None, 4096)              37752832  \n",
            "                                                                 \n",
            " dropout_8 (Dropout)         (None, 4096)              0         \n",
            "                                                                 \n",
            " dense_13 (Dense)            (None, 4096)              16781312  \n",
            "                                                                 \n",
            " dropout_9 (Dropout)         (None, 4096)              0         \n",
            "                                                                 \n",
            " dense_14 (Dense)            (None, 1)                 4097      \n",
            "                                                                 \n",
            "=================================================================\n",
            "Total params: 58,290,945\n",
            "Trainable params: 58,288,193\n",
            "Non-trainable params: 2,752\n",
            "_________________________________________________________________\n",
            "Epoch 1/2\n",
            "36/36 [==============================] - 122s 3s/step - loss: 0.9521 - acc: 0.6484 - val_loss: 2.1167 - val_acc: 0.5278\n",
            "Epoch 2/2\n",
            "36/36 [==============================] - 120s 3s/step - loss: 0.6044 - acc: 0.7795 - val_loss: 1.5117 - val_acc: 0.5278\n"
          ]
        }
      ]
    },
    {
      "cell_type": "code",
      "source": [
        "model_info = \"batch_size: \" + str(batch_size) + \" and epochs: \" + str(epochs) + \" and in_size: \" + str(in_size)\n",
        "print(model_info)\n",
        "print(\"Inference Time is\", executionTime/60, \"mins\")"
      ],
      "metadata": {
        "colab": {
          "base_uri": "https://localhost:8080/"
        },
        "id": "AMm00dJYTyZb",
        "outputId": "08bfcada-24d9-418f-b5fc-cec98cf4d416"
      },
      "execution_count": 22,
      "outputs": [
        {
          "output_type": "stream",
          "name": "stdout",
          "text": [
            "batch_size: 32 and epochs: 2 and in_size: [227, 227, 3]\n",
            "Inference Time is 3.895073183377584 mins\n"
          ]
        }
      ]
    },
    {
      "cell_type": "code",
      "source": [
        "plt.plot(history.history['acc'], label='accuracy')\n",
        "plt.plot(history.history['val_acc'], label = 'val_accuracy')\n",
        "plt.title('model accuracy plot')\n",
        "plt.xlabel('Epoch')\n",
        "plt.ylabel('Accuracy')\n",
        "plt.legend(loc='best')\n",
        "plt.savefig(model_plot_path + '_model_accuracy_plot.png')\n",
        "plt.show()\n",
        "\n",
        "plt.plot(history.history['loss'])\n",
        "plt.plot(history.history['val_loss'])\n",
        "plt.title('model loss plot')\n",
        "plt.ylabel('loss')\n",
        "plt.xlabel('epoch')\n",
        "plt.legend(['train', 'val'], loc='best')\n",
        "plt.savefig(model_plot_path + '_model_loss_plot.png')\n",
        "plt.show()"
      ],
      "metadata": {
        "colab": {
          "base_uri": "https://localhost:8080/",
          "height": 573
        },
        "id": "kPHxMTjn8byV",
        "outputId": "11f9837f-a8be-4253-9e9f-f8110d77167c"
      },
      "execution_count": 23,
      "outputs": [
        {
          "output_type": "display_data",
          "data": {
            "text/plain": [
              "<Figure size 432x288 with 1 Axes>"
            ],
            "image/png": "[encoded data removed]"
          },
          "metadata": {
            "needs_background": "light"
          }
        },
        {
          "output_type": "display_data",
          "data": {
            "text/plain": [
              "<Figure size 432x288 with 1 Axes>"
            ],
            "image/png": "[encoded data removed]"
          },
          "metadata": {
            "needs_background": "light"
          }
        }
      ]
    },
    {
      "cell_type": "code",
      "source": [
        "# Evaluate Inference Time\n",
        "startTime = time.time()\n",
        "model = tf.keras.models.load_model(model_path)\n",
        "test_loss, test_acc = model.evaluate(val_dataset, verbose=0)\n",
        "prediction = model.predict(val_dataset)\n",
        "executionTime = (time.time() - startTime)/len(val_dataset)\n",
        "print(executionTime)\n",
        "print(test_acc)"
      ],
      "metadata": {
        "id": "-ImC5vO8jfyh",
        "outputId": "d109d062-bc1b-479b-9377-f0e0ec912bd7",
        "colab": {
          "base_uri": "https://localhost:8080/"
        }
      },
      "execution_count": 25,
      "outputs": [
        {
          "output_type": "stream",
          "name": "stdout",
          "text": [
            "9/9 [==============================] - 22s 34ms/step\n",
            "5.197857062021892\n",
            "0.4722222089767456\n"
          ]
        }
      ]
    },
    {
      "cell_type": "code",
      "source": [
        "test_acc, model_size, executionTime, evulation_df = evaluate_model(model_path, model_info, val_dataset)"
      ],
      "metadata": {
        "id": "Lc9thO3I1sQn",
        "outputId": "1c69a9f3-c7ad-40e3-86fd-ae1b428fb484",
        "colab": {
          "base_uri": "https://localhost:8080/"
        }
      },
      "execution_count": 80,
      "outputs": [
        {
          "output_type": "stream",
          "name": "stdout",
          "text": [
            "9/9 [==============================] - 24s 36ms/step\n",
            "\n",
            "Model Accuracy: 52.77777910232544 %\n",
            "Model Size: 212499172.00 bytes\n",
            "Inference Time is:  2.6470077302720814 s\n"
          ]
        }
      ]
    },
    {
      "cell_type": "code",
      "source": [
        "evulation_df"
      ],
      "metadata": {
        "id": "qmzX6SNIsDwy",
        "outputId": "bf8dba90-c886-4e9c-8280-5530e9610eb5",
        "colab": {
          "base_uri": "https://localhost:8080/",
          "height": 238
        }
      },
      "execution_count": 81,
      "outputs": [
        {
          "output_type": "execute_result",
          "data": {
            "text/plain": [
              "               index                                                  0\n",
              "0    Evaluation type                                         Evualation\n",
              "1  Model Information  batch_size: 32 and epochs: 2 and in_size: [227...\n",
              "2           Accuracy                                52.77777910232544 %\n",
              "3               Loss                               333.86545181274414 %\n",
              "4         Model Size                                    212499172 bytes\n",
              "5     Inference Time                             2.6470077302720814 sec"
            ],
            "text/html": [
              "\n",
              "  <div id=\"df-e8fe7217-1d5b-418f-99af-6fd1583d663c\">\n",
              "    <div class=\"colab-df-container\">\n",
              "      <div>\n",
              "<style scoped>\n",
              "    .dataframe tbody tr th:only-of-type {\n",
              "        vertical-align: middle;\n",
              "    }\n",
              "\n",
              "    .dataframe tbody tr th {\n",
              "        vertical-align: top;\n",
              "    }\n",
              "\n",
              "    .dataframe thead th {\n",
              "        text-align: right;\n",
              "    }\n",
              "</style>\n",
              "<table border=\"1\" class=\"dataframe\">\n",
              "  <thead>\n",
              "    <tr style=\"text-align: right;\">\n",
              "      <th></th>\n",
              "      <th>index</th>\n",
              "      <th>0</th>\n",
              "    </tr>\n",
              "  </thead>\n",
              "  <tbody>\n",
              "    <tr>\n",
              "      <th>0</th>\n",
              "      <td>Evaluation type</td>\n",
              "      <td>Evualation</td>\n",
              "    </tr>\n",
              "    <tr>\n",
              "      <th>1</th>\n",
              "      <td>Model Information</td>\n",
              "      <td>batch_size: 32 and epochs: 2 and in_size: [227...</td>\n",
              "    </tr>\n",
              "    <tr>\n",
              "      <th>2</th>\n",
              "      <td>Accuracy</td>\n",
              "      <td>52.77777910232544 %</td>\n",
              "    </tr>\n",
              "    <tr>\n",
              "      <th>3</th>\n",
              "      <td>Loss</td>\n",
              "      <td>333.86545181274414 %</td>\n",
              "    </tr>\n",
              "    <tr>\n",
              "      <th>4</th>\n",
              "      <td>Model Size</td>\n",
              "      <td>212499172 bytes</td>\n",
              "    </tr>\n",
              "    <tr>\n",
              "      <th>5</th>\n",
              "      <td>Inference Time</td>\n",
              "      <td>2.6470077302720814 sec</td>\n",
              "    </tr>\n",
              "  </tbody>\n",
              "</table>\n",
              "</div>\n",
              "      <button class=\"colab-df-convert\" onclick=\"convertToInteractive('df-e8fe7217-1d5b-418f-99af-6fd1583d663c')\"\n",
              "              title=\"Convert this dataframe to an interactive table.\"\n",
              "              style=\"display:none;\">\n",
              "        \n",
              "  <svg xmlns=\"http://www.w3.org/2000/svg\" height=\"24px\"viewBox=\"0 0 24 24\"\n",
              "       width=\"24px\">\n",
              "    <path d=\"M0 0h24v24H0V0z\" fill=\"none\"/>\n",
              "    <path d=\"M18.56 5.44l.94 2.06.94-2.06 2.06-.94-2.06-.94-.94-2.06-.94 2.06-2.06.94zm-11 1L8.5 8.5l.94-2.06 2.06-.94-2.06-.94L8.5 2.5l-.94 2.06-2.06.94zm10 10l.94 2.06.94-2.06 2.06-.94-2.06-.94-.94-2.06-.94 2.06-2.06.94z\"/><path d=\"M17.41 7.96l-1.37-1.37c-.4-.4-.92-.59-1.43-.59-.52 0-1.04.2-1.43.59L10.3 9.45l-7.72 7.72c-.78.78-.78 2.05 0 2.83L4 21.41c.39.39.9.59 1.41.59.51 0 1.02-.2 1.41-.59l7.78-7.78 2.81-2.81c.8-.78.8-2.07 0-2.86zM5.41 20L4 18.59l7.72-7.72 1.47 1.35L5.41 20z\"/>\n",
              "  </svg>\n",
              "      </button>\n",
              "      \n",
              "  <style>\n",
              "    .colab-df-container {\n",
              "      display:flex;\n",
              "      flex-wrap:wrap;\n",
              "      gap: 12px;\n",
              "    }\n",
              "\n",
              "    .colab-df-convert {\n",
              "      background-color: #E8F0FE;\n",
              "      border: none;\n",
              "      border-radius: 50%;\n",
              "      cursor: pointer;\n",
              "      display: none;\n",
              "      fill: #1967D2;\n",
              "      height: 32px;\n",
              "      padding: 0 0 0 0;\n",
              "      width: 32px;\n",
              "    }\n",
              "\n",
              "    .colab-df-convert:hover {\n",
              "      background-color: #E2EBFA;\n",
              "      box-shadow: 0px 1px 2px rgba(60, 64, 67, 0.3), 0px 1px 3px 1px rgba(60, 64, 67, 0.15);\n",
              "      fill: #174EA6;\n",
              "    }\n",
              "\n",
              "    [theme=dark] .colab-df-convert {\n",
              "      background-color: #3B4455;\n",
              "      fill: #D2E3FC;\n",
              "    }\n",
              "\n",
              "    [theme=dark] .colab-df-convert:hover {\n",
              "      background-color: #434B5C;\n",
              "      box-shadow: 0px 1px 3px 1px rgba(0, 0, 0, 0.15);\n",
              "      filter: drop-shadow(0px 1px 2px rgba(0, 0, 0, 0.3));\n",
              "      fill: #FFFFFF;\n",
              "    }\n",
              "  </style>\n",
              "\n",
              "      <script>\n",
              "        const buttonEl =\n",
              "          document.querySelector('#df-e8fe7217-1d5b-418f-99af-6fd1583d663c button.colab-df-convert');\n",
              "        buttonEl.style.display =\n",
              "          google.colab.kernel.accessAllowed ? 'block' : 'none';\n",
              "\n",
              "        async function convertToInteractive(key) {\n",
              "          const element = document.querySelector('#df-e8fe7217-1d5b-418f-99af-6fd1583d663c');\n",
              "          const dataTable =\n",
              "            await google.colab.kernel.invokeFunction('convertToInteractive',\n",
              "                                                     [key], {});\n",
              "          if (!dataTable) return;\n",
              "\n",
              "          const docLinkHtml = 'Like what you see? Visit the ' +\n",
              "            '<a target=\"_blank\" href=https://colab.research.google.com/notebooks/data_table.ipynb>data table notebook</a>'\n",
              "            + ' to learn more about interactive tables.';\n",
              "          element.innerHTML = '';\n",
              "          dataTable['output_type'] = 'display_data';\n",
              "          await google.colab.output.renderOutput(dataTable, element);\n",
              "          const docLink = document.createElement('div');\n",
              "          docLink.innerHTML = docLinkHtml;\n",
              "          element.appendChild(docLink);\n",
              "        }\n",
              "      </script>\n",
              "    </div>\n",
              "  </div>\n",
              "  "
            ]
          },
          "metadata": {},
          "execution_count": 81
        }
      ]
    },
    {
      "cell_type": "code",
      "source": [
        "path = model_excel_file_path + '_model_evaluation.xlsx'\n",
        "\n",
        "with pd.ExcelWriter(path) as writer:\n",
        "  # writer.book = openpyxl.load_workbook(path)\n",
        "  evulation_df.to_excel(writer, sheet_name='Model_evaluation')\n",
        "  pd.DataFrame().to_excel(writer, sheet_name='Plots')\n",
        "  \n",
        "\n",
        "  worksheet = writer.sheets['Plots']\n",
        "  worksheet.insert_image('A1', model_plot_path + '_model_accuracy_plot.png')\n",
        "  worksheet.insert_image('K1', model_plot_path + '_model_loss_plot.png')\n",
        "  writer.save()"
      ],
      "metadata": {
        "id": "tQ0Lf3_2b7Fu"
      },
      "execution_count": 74,
      "outputs": []
    },
    {
      "cell_type": "markdown",
      "source": [
        "#Loop based hyperparameter optimization"
      ],
      "metadata": {
        "id": "6RZntO1mdEGr"
      }
    },
    {
      "cell_type": "code",
      "source": [
        "def SolNet_updated_for_loop(in_size, learning_rate, model_path):\n",
        "  i = Input(in_size)\n",
        "  r = Conv2D(filters=96, kernel_size=(11,11), strides=(4,4), activation='relu', input_shape=(227,227,3))(i)\n",
        "  r = BatchNormalization()(r)\n",
        "  r = MaxPooling2D(pool_size=(3,3), strides=(2,2))(r)\n",
        "  r = Conv2D(filters=256, kernel_size=(5,5), strides=(1,1), activation='relu', padding=\"same\")(r)\n",
        "  r = BatchNormalization()(r)\n",
        "  r = MaxPooling2D(pool_size=(3,3), strides=(2,2))(r)\n",
        "  r = Conv2D(filters=384, kernel_size=(3,3), strides=(1,1), activation='relu', padding=\"same\")(r)\n",
        "  r = BatchNormalization()(r)\n",
        "  r = Conv2D(filters=384, kernel_size=(3,3), strides=(1,1), activation='relu', padding=\"same\")(r)\n",
        "  r = BatchNormalization()(r)\n",
        "  r = Conv2D(filters=256, kernel_size=(3,3), strides=(1,1), activation='relu', padding=\"same\")(r)\n",
        "  r = BatchNormalization()(r)\n",
        "  r = MaxPooling2D(pool_size=(3,3), strides=(2,2))(r)\n",
        "  r = Flatten()(r)\n",
        "  r = Dense(4096, activation='relu')(r)\n",
        "  r = Dropout(0.5)(r)\n",
        "  r = Dense(4096, activation='relu')(r)\n",
        "  r = Dropout(0.5)(r)\n",
        "  o = Dense(1, activation='sigmoid')(r)\n",
        "\n",
        "\n",
        "  SolNet = Model(inputs = i, outputs = o)\n",
        "\n",
        "\n",
        "\n",
        "  # SolNet.save('models/solnet.hdf5')\n",
        "  # SolNet.save('/content/drive/MyDrive/Solar_panel_dust_detection/models/solnet_updated_'+str(datetime.datetime.today().date())+'.hdf5')\n",
        "  SolNet.compile(optimizer=Adam(learning_rate), loss=binary_crossentropy, metrics=['acc'])\n",
        "  SolNet.save(model_path)\n",
        "  SolNet.summary()\n",
        "  return SolNet"
      ],
      "metadata": {
        "id": "5ILEZZhbDSCe"
      },
      "execution_count": 14,
      "outputs": []
    },
    {
      "cell_type": "code",
      "source": [
        "def plot_history(history, model_plot_path, iteration_number):\n",
        "  \n",
        "  model_accuracy_plot_modified = model_plot_path + \"_model_iteration_\" + str(iteration_number) + \"_model_accuracy_plot.png\"\n",
        "  model_loss_plot_modified = model_plot_path + \"_model_iteration_\" + str(iteration_number) + \"_model_loss_plot.png\"\n",
        "  \n",
        "  plt.plot(history.history['acc'], label='accuracy')\n",
        "  plt.plot(history.history['val_acc'], label = 'val_accuracy')\n",
        "  plt.title('model accuracy plot')\n",
        "  plt.xlabel('Epoch')\n",
        "  plt.ylabel('Accuracy')\n",
        "  plt.legend(loc='best')\n",
        "  \n",
        "  plt.savefig(model_accuracy_plot_modified)\n",
        "  plt.show()\n",
        "\n",
        "  plt.plot(history.history['loss'])\n",
        "  plt.plot(history.history['val_loss'])\n",
        "  plt.title('model loss plot')\n",
        "  plt.ylabel('loss')\n",
        "  plt.xlabel('epoch')\n",
        "  plt.legend(['train', 'val'], loc='best')\n",
        "  plt.savefig(model_loss_plot_modified)\n",
        "  plt.show()\n",
        "\n",
        "  return model_accuracy_plot_modified, model_loss_plot_modified"
      ],
      "metadata": {
        "id": "QX-m2bZe9HQX"
      },
      "execution_count": 15,
      "outputs": []
    },
    {
      "cell_type": "code",
      "source": [
        "def save_execution_trial(evluation_df, model_excel_file_path, model_accuracy_plot_modified, model_loss_plot_modified, iteration_number):\n",
        "  path = model_excel_file_path + \"_model_iteration_\" + str(iteration_number) + '_model_evaluation.xlsx'\n",
        "\n",
        "  with pd.ExcelWriter(path) as writer:\n",
        "    # writer.book = openpyxl.load_workbook(path)\n",
        "    evluation_df.to_excel(writer, sheet_name='Model_evaluation')\n",
        "    pd.DataFrame().to_excel(writer, sheet_name='Plots')\n",
        "    \n",
        "\n",
        "    worksheet = writer.sheets['Plots']\n",
        "    worksheet.insert_image('A1', model_accuracy_plot_modified)\n",
        "    worksheet.insert_image('K1', model_loss_plot_modified)\n",
        "    writer.save()"
      ],
      "metadata": {
        "id": "z-IHWYoWAOYF"
      },
      "execution_count": 16,
      "outputs": []
    },
    {
      "cell_type": "code",
      "source": [
        "model_path = '/content/drive/MyDrive/Solar_panel_dust_detection/models/solnet_updated_'+ str(datetime.datetime.today().date())\n",
        "model_plot_path = '/content/drive/MyDrive/Solar_panel_dust_detection/plots/'+ str(datetime.datetime.today().date())\n",
        "model_excel_file_path = '/content/drive/MyDrive/Solar_panel_dust_detection/evaluation/'+ str(datetime.datetime.today().date())\n",
        "location = \"/content/drive/MyDrive/Solar_panel_dust_detection/dataset_1\"\n",
        "\n",
        "\n",
        "\n",
        "batch_sizes = [16,32,64,128]\n",
        "epoch_list = [10, 15, 20, 30]\n",
        "learning_rates = [0.001, 0.0001 , 0.00001, 0.000001]\n",
        "in_sizes =  [\n",
        "                [100, 100, 3],\n",
        "                [136, 136, 3],\n",
        "                [204, 204, 3],\n",
        "                [227, 227, 3],\n",
        "            ]\n",
        "\n",
        "label_mode = 'binary'\n",
        "seed = 10 #changed for each fold made manually\n",
        "class_names = ['clean', 'dirty']\n",
        "\n",
        "cnt = 0\n",
        "for batch_size in batch_sizes:\n",
        "  for epoch in epoch_list:\n",
        "    for learning_rate in learning_rates:\n",
        "      for in_size in in_sizes:\n",
        "\n",
        "        tr_dataset = image_dataset_from_directory(directory=location, label_mode= label_mode, class_names=class_names,\n",
        "                                          seed=seed, labels='inferred', image_size=in_size[:-1], \n",
        "                                          subset = 'training', batch_size=batch_size, validation_split=.2)\n",
        "\n",
        "        val_dataset = image_dataset_from_directory(directory=location, label_mode= label_mode, class_names=class_names,\n",
        "                                                  seed=seed, labels='inferred', image_size=in_size[:-1],\n",
        "                                                  subset = 'validation', batch_size=batch_size, validation_split=.2)\n",
        "        \n",
        "        model_path_modified = model_path + \"_model_iteration_\" + str(cnt) + \".h5\"\n",
        "        model_info = \"batch_size: \" + str(batch_size) + \" and epochs: \" + str(epoch) + \" and in_size: \" + str(in_size)\n",
        "        print(\"The model info: \", model_info)\n",
        "\n",
        "        SolNet_model = SolNet_updated_for_loop(in_size, learning_rate, model_path_modified)\n",
        "        \n",
        "        history = SolNet_model.fit(tr_dataset, validation_data=val_dataset, epochs=epoch, batch_size=batch_size)\n",
        "        model_accuracy_plot_modified, model_loss_plot_modified = plot_history(history, model_plot_path, cnt)\n",
        "\n",
        "        test_acc, model_size, executionTime, evluation_df = evaluate_model(model_path_modified, model_info, val_dataset)\n",
        "        print(\"The evaluation df: \\n\", evluation_df, \"\\n\")\n",
        "\n",
        "        save_execution_trial(evluation_df, model_excel_file_path, model_accuracy_plot_modified, model_loss_plot_modified, cnt)\n",
        "\n",
        "        cnt += 1"
      ],
      "metadata": {
        "id": "Rbkgdo7SdF5S",
        "outputId": "6142c343-6561-43a1-ddf4-9ed153838ac8",
        "colab": {
          "base_uri": "https://localhost:8080/"
        }
      },
      "execution_count": null,
      "outputs": [
        {
          "output_type": "stream",
          "name": "stdout",
          "text": [
            "Found 1440 files belonging to 2 classes.\n",
            "Using 1152 files for training.\n",
            "Found 1440 files belonging to 2 classes.\n",
            "Using 288 files for validation.\n",
            "The model info:  batch_size: 16 and epochs: 10 and in_size: [100, 100, 3]\n",
            "Model: \"model_1\"\n",
            "_________________________________________________________________\n",
            " Layer (type)                Output Shape              Param #   \n",
            "=================================================================\n",
            " input_2 (InputLayer)        [(None, 100, 100, 3)]     0         \n",
            "                                                                 \n",
            " conv2d_5 (Conv2D)           (None, 23, 23, 96)        34944     \n",
            "                                                                 \n",
            " batch_normalization_5 (Batc  (None, 23, 23, 96)       384       \n",
            " hNormalization)                                                 \n",
            "                                                                 \n",
            " max_pooling2d_3 (MaxPooling  (None, 11, 11, 96)       0         \n",
            " 2D)                                                             \n",
            "                                                                 \n",
            " conv2d_6 (Conv2D)           (None, 11, 11, 256)       614656    \n",
            "                                                                 \n",
            " batch_normalization_6 (Batc  (None, 11, 11, 256)      1024      \n",
            " hNormalization)                                                 \n",
            "                                                                 \n",
            " max_pooling2d_4 (MaxPooling  (None, 5, 5, 256)        0         \n",
            " 2D)                                                             \n",
            "                                                                 \n",
            " conv2d_7 (Conv2D)           (None, 5, 5, 384)         885120    \n",
            "                                                                 \n",
            " batch_normalization_7 (Batc  (None, 5, 5, 384)        1536      \n",
            " hNormalization)                                                 \n",
            "                                                                 \n",
            " conv2d_8 (Conv2D)           (None, 5, 5, 384)         1327488   \n",
            "                                                                 \n",
            " batch_normalization_8 (Batc  (None, 5, 5, 384)        1536      \n",
            " hNormalization)                                                 \n",
            "                                                                 \n",
            " conv2d_9 (Conv2D)           (None, 5, 5, 256)         884992    \n",
            "                                                                 \n",
            " batch_normalization_9 (Batc  (None, 5, 5, 256)        1024      \n",
            " hNormalization)                                                 \n",
            "                                                                 \n",
            " max_pooling2d_5 (MaxPooling  (None, 2, 2, 256)        0         \n",
            " 2D)                                                             \n",
            "                                                                 \n",
            " flatten_1 (Flatten)         (None, 1024)              0         \n",
            "                                                                 \n",
            " dense_3 (Dense)             (None, 4096)              4198400   \n",
            "                                                                 \n",
            " dropout_2 (Dropout)         (None, 4096)              0         \n",
            "                                                                 \n",
            " dense_4 (Dense)             (None, 4096)              16781312  \n",
            "                                                                 \n",
            " dropout_3 (Dropout)         (None, 4096)              0         \n",
            "                                                                 \n",
            " dense_5 (Dense)             (None, 1)                 4097      \n",
            "                                                                 \n",
            "=================================================================\n",
            "Total params: 24,736,513\n",
            "Trainable params: 24,733,761\n",
            "Non-trainable params: 2,752\n",
            "_________________________________________________________________\n",
            "Epoch 1/10\n",
            "72/72 [==============================] - 123s 1s/step - loss: 2.6727 - acc: 0.6771 - val_loss: 4.3355 - val_acc: 0.6215\n",
            "Epoch 2/10\n",
            "72/72 [==============================] - 116s 1s/step - loss: 0.7199 - acc: 0.7517 - val_loss: 2.0475 - val_acc: 0.5694\n",
            "Epoch 3/10\n",
            " 7/72 [=>............................] - ETA: 1:20 - loss: 0.4319 - acc: 0.8125"
          ]
        }
      ]
    },
    {
      "cell_type": "code",
      "source": [],
      "metadata": {
        "id": "4afO8t4XDJr9"
      },
      "execution_count": null,
      "outputs": []
    }
  ]
}